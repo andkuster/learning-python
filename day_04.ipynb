{
 "cells": [
  {
   "cell_type": "markdown",
   "id": "d40bd453",
   "metadata": {},
   "source": [
    "<div style=\"background-color: lightgray; padding: 18px;\">\n",
    "    <h1> Learning Python | Day 4\n",
    "</div>"
   ]
  },
  {
   "cell_type": "markdown",
   "id": "38ce92e4",
   "metadata": {},
   "source": [
    "### Features:\n",
    "\n",
    "- For Loops\n",
    "- Lists\n",
    "- Index\n",
    "- For each (lists)\n",
    "- List methods"
   ]
  },
  {
   "cell_type": "markdown",
   "id": "7c943d1a",
   "metadata": {},
   "source": [
    "<div style=\"background-color: lightgreen; padding: 10px;\">\n",
    "    <h2> For Loops\n",
    "</div>"
   ]
  },
  {
   "cell_type": "code",
   "execution_count": 1,
   "id": "ea47286e",
   "metadata": {},
   "outputs": [],
   "source": [
    "# A for loop is used for iterating over a sequence (that is either a list, a tuple, a dictionary, a set, or a string).\n",
    "\n",
    "# This is less like the for keyword in other programming languages, \n",
    "## and works more like an iterator method as found in other object-orientated programming languages."
   ]
  },
  {
   "cell_type": "code",
   "execution_count": 1,
   "id": "69c4a831",
   "metadata": {},
   "outputs": [
    {
     "name": "stdout",
     "output_type": "stream",
     "text": [
      "apple\n",
      "banana\n",
      "cherry\n"
     ]
    }
   ],
   "source": [
    "fruits = [\"apple\", \"banana\", \"cherry\"]\n",
    "for i in fruits:\n",
    "    print(i)"
   ]
  },
  {
   "cell_type": "code",
   "execution_count": 9,
   "id": "b673c75b",
   "metadata": {},
   "outputs": [
    {
     "data": {
      "text/plain": [
       "[0, 1, 2, 3]"
      ]
     },
     "execution_count": 9,
     "metadata": {},
     "output_type": "execute_result"
    }
   ],
   "source": [
    "list(range(4))"
   ]
  },
  {
   "cell_type": "code",
   "execution_count": 5,
   "id": "d3c947bf",
   "metadata": {},
   "outputs": [
    {
     "name": "stdout",
     "output_type": "stream",
     "text": [
      "0\n",
      "1\n",
      "2\n",
      "3\n"
     ]
    }
   ],
   "source": [
    "for anything in range(4):\n",
    "    print(anything)"
   ]
  },
  {
   "cell_type": "code",
   "execution_count": 8,
   "id": "0b537525",
   "metadata": {
    "scrolled": true
   },
   "outputs": [
    {
     "name": "stdout",
     "output_type": "stream",
     "text": [
      "l\n",
      "e\n",
      "t\n",
      "t\n",
      "e\n",
      "r\n"
     ]
    }
   ],
   "source": [
    "# Looping Through a String\n",
    "\n",
    "for i in 'letter':\n",
    "    print(i)"
   ]
  },
  {
   "cell_type": "markdown",
   "id": "fa7cccb2",
   "metadata": {},
   "source": [
    "<div style=\"background-color: lightgreen; padding: 10px;\">\n",
    "    <h2> Lists\n",
    "</div>"
   ]
  },
  {
   "cell_type": "code",
   "execution_count": 10,
   "id": "18aa4eff",
   "metadata": {},
   "outputs": [
    {
     "data": {
      "text/plain": [
       "[0, 1, 2, 3, 4, 5, 6]"
      ]
     },
     "execution_count": 10,
     "metadata": {},
     "output_type": "execute_result"
    }
   ],
   "source": [
    "# The range() function defaults to 0 as a starting value with a 'stop' condition\n",
    "list(range(7))"
   ]
  },
  {
   "cell_type": "code",
   "execution_count": 11,
   "id": "f65818e0",
   "metadata": {},
   "outputs": [
    {
     "data": {
      "text/plain": [
       "[-3, -2, -1, 0, 1, 2, 3, 4, 5, 6]"
      ]
     },
     "execution_count": 11,
     "metadata": {},
     "output_type": "execute_result"
    }
   ],
   "source": [
    "# Initial value (start) e stop condition (stop)\n",
    "list(range(-3, 7))"
   ]
  },
  {
   "cell_type": "code",
   "execution_count": 12,
   "id": "0c7fe327",
   "metadata": {},
   "outputs": [
    {
     "data": {
      "text/plain": [
       "[-3, -1, 1, 3, 5]"
      ]
     },
     "execution_count": 12,
     "metadata": {},
     "output_type": "execute_result"
    }
   ],
   "source": [
    "# Initial value (start), stop condition (stop), and step condition (step)\n",
    "list(range(-3, 7, 2))"
   ]
  },
  {
   "cell_type": "code",
   "execution_count": 23,
   "id": "02770bb8",
   "metadata": {},
   "outputs": [
    {
     "data": {
      "text/plain": [
       "[10, 8, 6, 4, 2]"
      ]
     },
     "execution_count": 23,
     "metadata": {},
     "output_type": "execute_result"
    }
   ],
   "source": [
    "# Negative step\n",
    "list(range(10,0,-2))"
   ]
  },
  {
   "cell_type": "code",
   "execution_count": 34,
   "id": "7b6aac2f",
   "metadata": {},
   "outputs": [
    {
     "data": {
      "text/plain": [
       "[]"
      ]
     },
     "execution_count": 34,
     "metadata": {},
     "output_type": "execute_result"
    }
   ],
   "source": [
    "# Empty intervals\n",
    "list(range(12, 0))"
   ]
  },
  {
   "cell_type": "code",
   "execution_count": null,
   "id": "edf94202",
   "metadata": {},
   "outputs": [],
   "source": [
    "while start + step < stop:\n",
    "    continue"
   ]
  },
  {
   "cell_type": "code",
   "execution_count": 12,
   "id": "a3e57faf",
   "metadata": {},
   "outputs": [
    {
     "name": "stdout",
     "output_type": "stream",
     "text": [
      "     \n",
      "    X\n",
      "   XXX\n",
      "  XXXXX\n",
      " XXXXXXX\n",
      "    X\n",
      "    X\n"
     ]
    }
   ],
   "source": [
    "# Drawing a Christmas tree using for, range() and strings\n",
    "\n",
    "for var in range(5):\n",
    "    print(' '*(5-var) + 'X' * var +'X'*(var-1))\n",
    "\n",
    "for i in range(2):\n",
    "    print('    X')"
   ]
  },
  {
   "cell_type": "code",
   "execution_count": 14,
   "id": "3ac12318",
   "metadata": {
    "scrolled": true
   },
   "outputs": [
    {
     "name": "stdout",
     "output_type": "stream",
     "text": [
      "Enter an integer number: 5\n",
      "5 x  1 =  5\n",
      "5 x  2 = 10\n",
      "5 x  3 = 15\n",
      "5 x  4 = 20\n",
      "5 x  5 = 25\n",
      "5 x  6 = 30\n",
      "5 x  7 = 35\n",
      "5 x  8 = 40\n",
      "5 x  9 = 45\n",
      "5 x 10 = 50\n"
     ]
    }
   ],
   "source": [
    "# Create a program that asks for a number and displays its multiplication table\n",
    "\n",
    "number = int(input('Enter an integer number: '))\n",
    "\n",
    "for i in range(1, 11):\n",
    "    print(f'{number} x {i:2d} = {number * i:2d}')"
   ]
  },
  {
   "cell_type": "code",
   "execution_count": 16,
   "id": "af82f657",
   "metadata": {},
   "outputs": [
    {
     "name": "stdout",
     "output_type": "stream",
     "text": [
      "Enter the number of grades evaluated: 3\n",
      "Enter the 1 grade: 8\n",
      "Enter the 2 grade: 7\n",
      "Enter the 3 grade: 9\n",
      "The average is: 8.00\n"
     ]
    }
   ],
   "source": [
    "# Create a program that asks for a number 'n' and 'n' grades, then calculates the average of these 'n' grades.\n",
    "n = int(input('Enter the number of grades evaluated: '))\n",
    "\n",
    "total = 0\n",
    "for i in range(n):\n",
    "    total += float(input(f'Enter the {i + 1} grade: '))\n",
    "\n",
    "average = total / n\n",
    "print(f'The average is: {average:.2f}')"
   ]
  },
  {
   "cell_type": "code",
   "execution_count": 71,
   "id": "14a71d25",
   "metadata": {
    "scrolled": true
   },
   "outputs": [
    {
     "data": {
      "text/plain": [
       "8.0"
      ]
     },
     "execution_count": 71,
     "metadata": {},
     "output_type": "execute_result"
    }
   ],
   "source": [
    "# Extra:\n",
    "round(7.999, 2) "
   ]
  },
  {
   "cell_type": "code",
   "execution_count": null,
   "id": "37f7d39b",
   "metadata": {},
   "outputs": [],
   "source": [
    "cont = 0\n",
    "cont = cont + 1  --> 1\n",
    "cont = cont + 1  --> 2\n",
    "cont = cont + 1  --> 3"
   ]
  },
  {
   "cell_type": "code",
   "execution_count": null,
   "id": "b7b5ed43",
   "metadata": {},
   "outputs": [],
   "source": [
    "cont = 0\n",
    "cont += 1 --> 1\n",
    "cont += 1 --> 2\n",
    "cont += 1 --> 3\n"
   ]
  },
  {
   "cell_type": "markdown",
   "id": "b9a3aebd",
   "metadata": {},
   "source": [
    "<div style=\"background-color: lightgreen; padding: 10px;\">\n",
    "    <h2> Index\n",
    "</div>"
   ]
  },
  {
   "cell_type": "code",
   "execution_count": 17,
   "id": "77afca5f",
   "metadata": {},
   "outputs": [
    {
     "data": {
      "text/plain": [
       "('20', 'tatoos')"
      ]
     },
     "execution_count": 17,
     "metadata": {},
     "output_type": "execute_result"
    }
   ],
   "source": [
    "#Lists\n",
    "\n",
    "list = ['20', 'tatoos']\n",
    "\n",
    "list[0], list[1], "
   ]
  },
  {
   "cell_type": "code",
   "execution_count": 19,
   "id": "d78ad374",
   "metadata": {},
   "outputs": [
    {
     "ename": "IndexError",
     "evalue": "list index out of range",
     "output_type": "error",
     "traceback": [
      "\u001b[1;31m---------------------------------------------------------------------------\u001b[0m",
      "\u001b[1;31mIndexError\u001b[0m                                Traceback (most recent call last)",
      "Cell \u001b[1;32mIn[19], line 2\u001b[0m\n\u001b[0;32m      1\u001b[0m \u001b[38;5;66;03m# Trying to acces an element out of the list\u001b[39;00m\n\u001b[1;32m----> 2\u001b[0m \u001b[38;5;28mlist\u001b[39m[\u001b[38;5;241m2\u001b[39m]\n",
      "\u001b[1;31mIndexError\u001b[0m: list index out of range"
     ]
    }
   ],
   "source": [
    "# Trying to acces an element out of the list range:\n",
    "list[2]"
   ]
  },
  {
   "cell_type": "code",
   "execution_count": 33,
   "id": "2399a008",
   "metadata": {},
   "outputs": [
    {
     "data": {
      "text/plain": [
       "[7.3, 9]"
      ]
     },
     "execution_count": 33,
     "metadata": {},
     "output_type": "execute_result"
    }
   ],
   "source": [
    "# Inserting elements into a list: append()\n",
    "grades = []\n",
    "\n",
    "grades.append(7.3)\n",
    "grades.append(9)\n",
    "\n",
    "grades"
   ]
  },
  {
   "cell_type": "code",
   "execution_count": 27,
   "id": "334646fe",
   "metadata": {},
   "outputs": [
    {
     "data": {
      "text/plain": [
       "2"
      ]
     },
     "execution_count": 27,
     "metadata": {},
     "output_type": "execute_result"
    }
   ],
   "source": [
    "len(grades)"
   ]
  },
  {
   "cell_type": "markdown",
   "id": "65364b1c",
   "metadata": {},
   "source": [
    "<div style=\"background-color: lightgreen; padding: 10px;\">\n",
    "    <h2> Slicing\n",
    "</div>"
   ]
  },
  {
   "cell_type": "code",
   "execution_count": 10,
   "id": "f0d8b7e4",
   "metadata": {},
   "outputs": [],
   "source": [
    "# Important to create subsets\n",
    "\n",
    "names = [\"Name\", \"Surname\", \"Age\", \"Gender\", \"Salary\", \"Date of Birth\"]"
   ]
  },
  {
   "cell_type": "code",
   "execution_count": 21,
   "id": "d920f1d1",
   "metadata": {
    "scrolled": true
   },
   "outputs": [
    {
     "name": "stdout",
     "output_type": "stream",
     "text": [
      "['Name', 'Surname']\n",
      "['Name', 'Surname']\n",
      "['Age', 'Gender', 'Salary', 'Date of Birth']\n",
      "['Age', 'Gender', 'Salary', 'Date of Birth']\n"
     ]
    }
   ],
   "source": [
    "# names[i,j] ~it means that the slice starts at position 'i' and ends at 'j' but don't get the item at position 'j'\n",
    "\n",
    "print(names[0:2])\n",
    "print(names[:2]) # it means the same\n",
    "\n",
    "print(names[2:6])\n",
    "print(names[2:]) # it means the same"
   ]
  },
  {
   "cell_type": "code",
   "execution_count": 28,
   "id": "87f3ad66",
   "metadata": {},
   "outputs": [
    {
     "data": {
      "text/plain": [
       "['Surname', 'Age', 'Gender', 'Salary']"
      ]
     },
     "execution_count": 28,
     "metadata": {},
     "output_type": "execute_result"
    }
   ],
   "source": [
    "# And, at negatives index, names[-i,-j], includes '-i' but don't get the item at position 'j'\n",
    "\n",
    "names[-5:-1]"
   ]
  },
  {
   "cell_type": "code",
   "execution_count": 3,
   "id": "f4c14769-3285-4a45-9245-bae50a674941",
   "metadata": {},
   "outputs": [
    {
     "name": "stdout",
     "output_type": "stream",
     "text": [
      "['apple', 'banana', 'cherry', 'heisteria', 'heisteria']\n"
     ]
    }
   ],
   "source": [
    "# Copying a list:\n",
    "# \"You should remember that assigning one list to another does not copy the list. See the example below:\n",
    "\n",
    "copied_fruits = fruits\n",
    "copied_fruits.append('heisteria')\n",
    "print(fruits)  # Output: ['apple', 'banana', 'cherry', 'heisteria']"
   ]
  },
  {
   "cell_type": "code",
   "execution_count": 4,
   "id": "327f02a9-4e91-4040-ac3d-f39047a0944f",
   "metadata": {},
   "outputs": [
    {
     "name": "stdout",
     "output_type": "stream",
     "text": [
      "['apple', 'banana', 'cherry', 'heisteria', 'heisteria', 'heisteria']\n"
     ]
    }
   ],
   "source": [
    "# An easy way to truly copy one list to another is to use a slice going from the beginning to the end of the original list:\n",
    "\n",
    "copied_fruits = fruits[:]\n",
    "copied_fruits.append('heisteria')\n",
    "print(copied_fruits)"
   ]
  },
  {
   "cell_type": "markdown",
   "id": "4a4945d8",
   "metadata": {},
   "source": [
    "<div style=\"background-color: lightgreen; padding: 10px;\">\n",
    "    <h2> For each\n",
    "</div>"
   ]
  },
  {
   "cell_type": "code",
   "execution_count": 29,
   "id": "27842dcf",
   "metadata": {},
   "outputs": [
    {
     "name": "stdout",
     "output_type": "stream",
     "text": [
      "16.3\n"
     ]
    }
   ],
   "source": [
    "# Normal way: index\n",
    "sum = 0\n",
    "for i in range(len(grades)):\n",
    "    sum += grades[i]\n",
    "print(sum)"
   ]
  },
  {
   "cell_type": "code",
   "execution_count": 28,
   "id": "5554eb45",
   "metadata": {},
   "outputs": [
    {
     "name": "stdout",
     "output_type": "stream",
     "text": [
      "16.3\n"
     ]
    }
   ],
   "source": [
    "# Another way: for each\n",
    "sum = 0\n",
    "for grade in grades:\n",
    "    sum += grade\n",
    "print(sum)"
   ]
  },
  {
   "cell_type": "code",
   "execution_count": 38,
   "id": "d22d2f47",
   "metadata": {},
   "outputs": [
    {
     "name": "stdout",
     "output_type": "stream",
     "text": [
      "Enter the number of grades: 3\n",
      "Enter the 1 grade: 7\n",
      "Enter the 2 grade: 9\n",
      "Enter the 3 grade: 2\n",
      "6.0 8.666666666666666\n"
     ]
    }
   ],
   "source": [
    "# Create a program that asks for a number 'n' and 'n' grades, then calculates the average and variance of these 'n' grades.\n",
    "n = int(input('Enter the number of grades: '))\n",
    "\n",
    "total = 0\n",
    "grades = []\n",
    "\n",
    "# Input 'n' grades and calculate the total sum\n",
    "for i in range(n):\n",
    "    grades.append(float(input(f'Enter the {i + 1} grade: ')))\n",
    "    total += grades[i]\n",
    "\n",
    "# Calculate the mean (average) of the grades\n",
    "mean = total / n    \n",
    "\n",
    "# Calculate the variance of the grades\n",
    "variance = 0\n",
    "for grade in grades:\n",
    "    variance += (grade - mean) ** 2\n",
    "\n",
    "variance /= n\n",
    "\n",
    "print(mean, variance)"
   ]
  },
  {
   "cell_type": "markdown",
   "id": "9b253f0d",
   "metadata": {},
   "source": [
    "<div style=\"background-color: lightgreen; padding: 10px;\">\n",
    "    <h2> List methods\n",
    "</div>"
   ]
  },
  {
   "cell_type": "markdown",
   "id": "4a252f96",
   "metadata": {},
   "source": [
    "| Method   | Description                                                  |\n",
    "|----------|--------------------------------------------------------------|\n",
    "| append() | Adds an element at the end of the list                        |\n",
    "| clear()  | Removes all the elements from the list                        |\n",
    "| copy()   | Returns a copy of the list                                    |\n",
    "| count()  | Returns the number of elements with the specified value       |\n",
    "| extend() | Add the elements of a list (or any iterable) to the end       |\n",
    "| index()  | Returns the index of the first element with the specified value|\n",
    "| insert() | Adds an element at the specified position                     |\n",
    "| pop()    | Removes the element at the specified position                  |\n",
    "| remove() | Removes the item with the specified value                     |\n",
    "| reverse()| Reverses the order of the list                                |\n",
    "| sort()   | Sorts the list                                               |\n"
   ]
  },
  {
   "cell_type": "code",
   "execution_count": 47,
   "id": "b8d22a0d",
   "metadata": {},
   "outputs": [
    {
     "name": "stdout",
     "output_type": "stream",
     "text": [
      "5\n",
      "6\n",
      "['Leticia', 'Luciane', 'Mariana', 'Suzielli', 'Vivian', [21, 34, 7, 78, 15]]\n"
     ]
    }
   ],
   "source": [
    "# list.append()\n",
    "\n",
    "names = ['Leticia', 'Luciane', 'Mariana', 'Suzielli', 'Vivian']\n",
    "ages = [21, 34, 7, 78, 15]\n",
    "\n",
    "print(len(names))  # Output the length of the 'names' list\n",
    "\n",
    "names.append(ages)  # Append the 'ages' list as an element to the 'names' list\n",
    "print(len(names))  # Output the new length of the 'names' list\n",
    "print(names)  # Output the modified 'names' list"
   ]
  },
  {
   "cell_type": "code",
   "execution_count": 48,
   "id": "c918506c",
   "metadata": {},
   "outputs": [
    {
     "name": "stdout",
     "output_type": "stream",
     "text": [
      "5\n",
      "10\n"
     ]
    },
    {
     "data": {
      "text/plain": [
       "['Leticia', 'Luciane', 'Mariana', 'Suzielli', 'Vivian', 21, 34, 7, 78, 15]"
      ]
     },
     "execution_count": 48,
     "metadata": {},
     "output_type": "execute_result"
    }
   ],
   "source": [
    "# list.extend()\n",
    "\n",
    "names = ['Leticia', 'Luciane', 'Mariana', 'Suzielli', 'Vivian']\n",
    "ages = [21, 34, 7, 78, 15]\n",
    "\n",
    "print(len(names))\n",
    "names.extend(ages)\n",
    "print(len(names))\n",
    "names"
   ]
  },
  {
   "cell_type": "code",
   "execution_count": 49,
   "id": "dab68504",
   "metadata": {
    "scrolled": true
   },
   "outputs": [
    {
     "data": {
      "text/plain": [
       "[('Leticia', 21),\n",
       " ('Luciane', 34),\n",
       " ('Mariana', 7),\n",
       " ('Suzielli', 78),\n",
       " ('Vivian', 15)]"
      ]
     },
     "execution_count": 49,
     "metadata": {},
     "output_type": "execute_result"
    }
   ],
   "source": [
    "names = ['Leticia', 'Luciane', 'Mariana', 'Suzielli', 'Vivian']\n",
    "ages = [21, 34, 7, 78, 15]\n",
    "\n",
    "data = []\n",
    "\n",
    "# Using an element from each list: zip()\n",
    "for name, age in zip(names, ages):\n",
    "    data.append((name, age))\n",
    "\n",
    "data"
   ]
  },
  {
   "cell_type": "code",
   "execution_count": 51,
   "id": "5668eb52",
   "metadata": {},
   "outputs": [
    {
     "data": {
      "text/plain": [
       "1"
      ]
     },
     "execution_count": 51,
     "metadata": {},
     "output_type": "execute_result"
    }
   ],
   "source": [
    "# list.count()\n",
    "names.count('Suzielli')"
   ]
  },
  {
   "cell_type": "code",
   "execution_count": 138,
   "id": "d8757ab6",
   "metadata": {},
   "outputs": [
    {
     "data": {
      "text/plain": [
       "6"
      ]
     },
     "execution_count": 138,
     "metadata": {},
     "output_type": "execute_result"
    }
   ],
   "source": [
    "# list.index()\n",
    "names.index('Suzielli')"
   ]
  },
  {
   "cell_type": "code",
   "execution_count": 2,
   "id": "dea26c89",
   "metadata": {},
   "outputs": [
    {
     "data": {
      "text/plain": [
       "[2, 3, 4, 2, 5]"
      ]
     },
     "execution_count": 2,
     "metadata": {},
     "output_type": "execute_result"
    }
   ],
   "source": [
    "# list.remove()\n",
    "temp = [2,3,4,5,2,5]\n",
    "\n",
    "temp.remove(5)\n",
    "\n",
    "temp"
   ]
  },
  {
   "cell_type": "code",
   "execution_count": 3,
   "id": "590d2c4e",
   "metadata": {
    "scrolled": true
   },
   "outputs": [
    {
     "data": {
      "text/plain": [
       "5"
      ]
     },
     "execution_count": 3,
     "metadata": {},
     "output_type": "execute_result"
    }
   ],
   "source": [
    "# list.pop()\n",
    "temp.pop()"
   ]
  },
  {
   "cell_type": "code",
   "execution_count": 4,
   "id": "00fba84b",
   "metadata": {},
   "outputs": [
    {
     "data": {
      "text/plain": [
       "2"
      ]
     },
     "execution_count": 4,
     "metadata": {},
     "output_type": "execute_result"
    }
   ],
   "source": [
    "temp.pop()"
   ]
  },
  {
   "cell_type": "code",
   "execution_count": 5,
   "id": "cd9a71cb",
   "metadata": {},
   "outputs": [
    {
     "data": {
      "text/plain": [
       "[2, 3, 4]"
      ]
     },
     "execution_count": 5,
     "metadata": {},
     "output_type": "execute_result"
    }
   ],
   "source": [
    "temp"
   ]
  },
  {
   "cell_type": "code",
   "execution_count": 9,
   "id": "1347e53b",
   "metadata": {},
   "outputs": [
    {
     "data": {
      "text/plain": [
       "[2, 3, 0, 0, 0, 0, 4]"
      ]
     },
     "execution_count": 9,
     "metadata": {},
     "output_type": "execute_result"
    }
   ],
   "source": [
    "# list.insert() ~ to insert an item at a certain position\n",
    "temp.insert(2, 0)\n",
    "\n",
    "# It means that the number \"0\" will appear at the 2 position, pushing the other elements\n",
    "temp"
   ]
  },
  {
   "cell_type": "code",
   "execution_count": 184,
   "id": "09d3bf28",
   "metadata": {},
   "outputs": [
    {
     "data": {
      "text/plain": [
       "True"
      ]
     },
     "execution_count": 184,
     "metadata": {},
     "output_type": "execute_result"
    }
   ],
   "source": [
    "isinstance(varios,list)"
   ]
  },
  {
   "cell_type": "markdown",
   "id": "5a9edbf7",
   "metadata": {},
   "source": [
    "<div style=\"background-color: lightgreen; padding: 10px;\">\n",
    "    <h2> Exercices\n",
    "</div>"
   ]
  },
  {
   "cell_type": "markdown",
   "id": "d3a54409",
   "metadata": {},
   "source": [
    "---\n",
    "\n",
    "**<font color=\"blue\">Exercice 1 </font>**\n",
    "\n",
    "Create a program that asks for two numbers and displays their multiplication tables side by side.\n",
    "\n",
    "Example: 3 and 7\n",
    "\n",
    "3 x 1 = 2   |    7 x 1 =  7  \n",
    "3 x 2 = 6   |    7 x 2 = 14  \n",
    "3 x 3 = 9   |    7 x 3 = 21  \n",
    "...\n"
   ]
  },
  {
   "cell_type": "code",
   "execution_count": 57,
   "id": "bcc227d1",
   "metadata": {},
   "outputs": [
    {
     "name": "stdout",
     "output_type": "stream",
     "text": [
      "Enter the first number to calculate its multiplication table: 5\n",
      "Enter the second number to calculate its multiplication table: 3\n",
      "5 x 1 = 5 | 3 x 1 = 3\n",
      "5 x 2 = 10 | 3 x 2 = 6\n",
      "5 x 3 = 15 | 3 x 3 = 9\n",
      "5 x 4 = 20 | 3 x 4 = 12\n",
      "5 x 5 = 25 | 3 x 5 = 15\n",
      "5 x 6 = 30 | 3 x 6 = 18\n",
      "5 x 7 = 35 | 3 x 7 = 21\n",
      "5 x 8 = 40 | 3 x 8 = 24\n",
      "5 x 9 = 45 | 3 x 9 = 27\n",
      "5 x 10 = 50 | 3 x 10 = 30\n"
     ]
    }
   ],
   "source": [
    "n1 = int(input(\"Enter the first number to calculate its multiplication table: \"))\n",
    "n2 = int(input(\"Enter the second number to calculate its multiplication table: \"))\n",
    "\n",
    "for i, j in zip(range(1, 11), range(1, 11)):\n",
    "    print(f'{n1} x {i} = {n1 * i} | {n2} x {j} = {n2 * j}')"
   ]
  },
  {
   "cell_type": "markdown",
   "id": "d5b23280",
   "metadata": {},
   "source": [
    "---\n",
    "**<font color=\"blue\">Exercice 2 </font>**\n",
    "\n",
    "Create a program that receives two lists (A and B) of different sizes and displays on the screen:\n",
    "- Elements from A that are present in B.\n",
    "- Elements from B that are present in A.\n",
    "- Common elements in both sets."
   ]
  },
  {
   "cell_type": "code",
   "execution_count": 58,
   "id": "75c180ec",
   "metadata": {},
   "outputs": [
    {
     "name": "stdout",
     "output_type": "stream",
     "text": [
      "This program compares lists of different sizes. To start:\n",
      "Enter elements of list A separated by spaces: 1 5 9 7\n",
      "Enter elements of list B separated by spaces: 1 5 7 7 7 4\n",
      "Elements from A present in B are: ['1', '5', '7']\n",
      "Elements from B present in A are: ['1', '5', '7', '7', '7']\n",
      "Common elements are: ['1', '5', '7']\n"
     ]
    }
   ],
   "source": [
    "a_intersec_b = []\n",
    "b_intersec_a = []\n",
    "comuns = []\n",
    "\n",
    "print(\"This program compares lists of different sizes. To start:\")\n",
    "\n",
    "list_a = input(\"Enter elements of list A separated by spaces: \").split()\n",
    "list_b = input(\"Enter elements of list B separated by spaces: \").split()\n",
    "\n",
    "for elem in list_a:\n",
    "    if list_b.count(elem) >= 1:\n",
    "        a_intersec_b.append(elem)\n",
    "print(f'Elements from A present in B are: {a_intersec_b}')\n",
    "\n",
    "for elem in list_b:\n",
    "    if list_a.count(elem) >= 1:\n",
    "        b_intersec_a.append(elem)\n",
    "print(f'Elements from B present in A are: {b_intersec_a}')\n",
    "\n",
    "for elem in list_a:\n",
    "    if list_b.count(elem) >= 1 and comuns.count(elem) < 1:\n",
    "        comuns.append(elem)\n",
    "print(f'Common elements are: {comuns}')"
   ]
  },
  {
   "cell_type": "markdown",
   "id": "87cf9a3e-e447-4c29-9961-6334d9002b6b",
   "metadata": {},
   "source": [
    "---\n",
    "**<font color=\"blue\">Exercice 3 </font>**\n",
    "\n",
    "Consider the set of values stored in the values list described below. Using a \"for\" loop, iterate through the list and calculate:\r\n",
    "\r\n",
    "The average of the values\r\n",
    "The maximum value\r\n",
    "The minimum value\r\n",
    "Store the results in the variables mean, maximum, and minimum. Print the obtained values."
   ]
  },
  {
   "cell_type": "code",
   "execution_count": 3,
   "id": "6d8fdf65-321b-49fc-843e-dda3af0ab46a",
   "metadata": {},
   "outputs": [
    {
     "name": "stdout",
     "output_type": "stream",
     "text": [
      "Media =  0.11705882352941177\n",
      "Maximo =  0.99\n",
      "Minimo =  -0.97\n"
     ]
    }
   ],
   "source": [
    "vals = [-0.85,-0.64,0.93,0.73,0.34,0.90,0.39,\n",
    "           0.04,0.32,0.99,-0.71,-0.97,0.04,0.30,0.47,0.46,-0.75]\n",
    "\n",
    "maxim = 0\n",
    "minim = 0\n",
    "sum = 0\n",
    "\n",
    "for i in vals:\n",
    "    if i < minim:\n",
    "        minim = i\n",
    "    if i > maxim:\n",
    "        maxim = i\n",
    "    sum = sum + i\n",
    "    \n",
    "avg = sum / len(vals)\n",
    "\n",
    "print('Media = ',avg)\n",
    "print('Maximo = ',maxim)\n",
    "print('Minimo = ',minim)"
   ]
  }
 ],
 "metadata": {
  "kernelspec": {
   "display_name": "Python 3 (ipykernel)",
   "language": "python",
   "name": "python3"
  },
  "language_info": {
   "codemirror_mode": {
    "name": "ipython",
    "version": 3
   },
   "file_extension": ".py",
   "mimetype": "text/x-python",
   "name": "python",
   "nbconvert_exporter": "python",
   "pygments_lexer": "ipython3",
   "version": "3.11.5"
  }
 },
 "nbformat": 4,
 "nbformat_minor": 5
}
