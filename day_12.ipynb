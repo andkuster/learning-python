{
 "cells": [
  {
   "cell_type": "markdown",
   "id": "f5f9cb93-72f3-419f-a827-d12b4562a5e7",
   "metadata": {},
   "source": [
    "<div style=\"background-color: lightgray; padding: 18px;\">\n",
    "    <h1> Learning Python | Day 12\n",
    "    \n",
    "</div>"
   ]
  },
  {
   "cell_type": "markdown",
   "id": "38ed6c50-5fbb-44df-a3df-2f5feeb7c1eb",
   "metadata": {},
   "source": [
    "### Features:\n",
    "\n",
    "- Exceptions\n",
    "- Closures -> (Functional Programming)\n",
    "- Recursive Functions -> (Functional Programming)\n",
    "- Generators\n",
    "\n"
   ]
  },
  {
   "cell_type": "markdown",
   "id": "601a5fd8-5779-43c2-976c-76a847ff4b66",
   "metadata": {},
   "source": [
    "<div style=\"background-color: lightgreen; padding: 10px;\">\n",
    "    <h2> Exceptions\n",
    "</div>"
   ]
  },
  {
   "cell_type": "markdown",
   "id": "5f24d38e-afc2-4bdc-aa07-2d9f47c8a54c",
   "metadata": {},
   "source": [
    "**Error** in Python can be of two types i.e. ``Syntax errors`` and ``Exceptions`` (logical errors). \n",
    "\n",
    "- ``Errors`` are problems in a program due to which the program will stop the execution.\n",
    "- On the other hand, ``exceptions`` are raised when some internal events occur which change the normal flow of the program. \n",
    "\n",
    "Sources:\n",
    "- https://www.geeksforgeeks.org/python-exception-handling/\n",
    "- https://www.geeksforgeeks.org/errors-and-exceptions-in-python/\n",
    "- https://www.w3schools.com/python/python_try_except.asp\n",
    "- https://docs.python.org/3/library/exceptions.html\n",
    "- https://www.w3schools.com/python/python_ref_exceptions.asp"
   ]
  },
  {
   "cell_type": "code",
   "execution_count": 43,
   "id": "b9bfe74b-acdb-42f5-80db-e72518f1c829",
   "metadata": {},
   "outputs": [
    {
     "ename": "ValueError",
     "evalue": "invalid literal for int() with base 10: 'ola'",
     "output_type": "error",
     "traceback": [
      "\u001b[1;31m---------------------------------------------------------------------------\u001b[0m",
      "\u001b[1;31mValueError\u001b[0m                                Traceback (most recent call last)",
      "Cell \u001b[1;32mIn[43], line 4\u001b[0m\n\u001b[0;32m      1\u001b[0m \u001b[38;5;66;03m# Example:\u001b[39;00m\n\u001b[0;32m      3\u001b[0m entry \u001b[38;5;241m=\u001b[39m \u001b[38;5;124m'\u001b[39m\u001b[38;5;124mola\u001b[39m\u001b[38;5;124m'\u001b[39m\n\u001b[1;32m----> 4\u001b[0m integer \u001b[38;5;241m=\u001b[39m \u001b[38;5;28;43mint\u001b[39;49m\u001b[43m(\u001b[49m\u001b[43mentry\u001b[49m\u001b[43m)\u001b[49m\n",
      "\u001b[1;31mValueError\u001b[0m: invalid literal for int() with base 10: 'ola'"
     ]
    }
   ],
   "source": [
    "# Example:\n",
    "\n",
    "entry = 'ola'\n",
    "integer = int(entry)"
   ]
  },
  {
   "cell_type": "markdown",
   "id": "33d2b08f-1e97-4e01-9406-95529d161598",
   "metadata": {},
   "source": [
    "In Python, there are several built-in Python exceptions that can be raised when an error occurs during the execution of a program. Here are some of the most common types of exceptions in Python:\n",
    "\n",
    "| Exception           | Description                                                                                                             |\r\n",
    "|----------------------|-------------------------------------------------------------------------------------------------------------------------|\r\n",
    "| SyntaxError          | Raised when the interpreter encounters a syntax error in the code, such as a misspelled keyword or unbalanced parenthesis. |\r\n",
    "| TypeError            | Raised when an operation or function is applied to an object of the wrong type, such as adding a string to an integer.  |\r\n",
    "| NameError           | Raised when a variable or function name is not found in the current scope.                                                |\r\n",
    "| IndexError            | Raised when an index is out of range for a list, tuple, or other sequence types.                                         |\r\n",
    "| KeyError              | Raised when a key is not found in a dictionary.                                                                         |\r\n",
    "| ValueError           | Raised when a function or method is called with an invalid argument or input.                                           |\r\n",
    "| AttributeError       | Raised when an attribute or method is not found on an object.                                                            |\r\n",
    "| IOError               | Raised when an I/O operation, such as reading or writing a file, fails due to an input/output error.                    |\r\n",
    "| ZeroDivisionError | Raised when an attempt is made to divide a number by zero.                                                              |\r\n",
    "| ImportError         | Raised when an import statement fails to find or load a module.                                                         |\r\n",
    "\n",
    "\n",
    "Sources:\n",
    "- https://www.geeksforgeeks.org/built-except\n",
    "- https://www.w3schools.com/python/python_ref_exceptions.aspions-python/"
   ]
  },
  {
   "cell_type": "markdown",
   "id": "823fa61b-85d7-4be0-8a92-41e69f0733f1",
   "metadata": {},
   "source": [
    "---\n",
    "``try`` and ``except`` statement:\n",
    "\n",
    "Try and except statements are used to catch and handle exceptions in Python:\n",
    "- Statements that can ``raise`` exceptions are kept inside the ``try`` clause;\n",
    "- And the statements that handle the exception are written inside ``except`` clause."
   ]
  },
  {
   "cell_type": "code",
   "execution_count": 53,
   "id": "de13cbe2-9786-4b1b-9592-ae884b979634",
   "metadata": {},
   "outputs": [
    {
     "name": "stdin",
     "output_type": "stream",
     "text": [
      "Enter a number:  andre\n"
     ]
    },
    {
     "name": "stdout",
     "output_type": "stream",
     "text": [
      "Enter just a number, please\n"
     ]
    }
   ],
   "source": [
    "# Example 1:\n",
    "try:\n",
    "    num = int(input(\"Enter a number: \"))\n",
    "except:\n",
    "    print(\"Enter just a number, please\")"
   ]
  },
  {
   "cell_type": "code",
   "execution_count": 52,
   "id": "0b196ff6-bd4d-4e53-a053-c46f0a3c28f0",
   "metadata": {},
   "outputs": [
    {
     "name": "stdin",
     "output_type": "stream",
     "text": [
      "Enter a number:  10\n"
     ]
    },
    {
     "name": "stdout",
     "output_type": "stream",
     "text": [
      "Something happenned\n"
     ]
    }
   ],
   "source": [
    "# Example 2:\n",
    "try:\n",
    "    num = int(input(\"Enter a number: \"))\n",
    "    num/0\n",
    "except ValueError:\n",
    "    print(\"Enter just a number, please\")\n",
    "except:\n",
    "    print(\"Something happenned\")"
   ]
  },
  {
   "cell_type": "code",
   "execution_count": 56,
   "id": "84b9fe4b-4a04-4ee2-9046-3b10d05f5eb8",
   "metadata": {},
   "outputs": [
    {
     "name": "stdin",
     "output_type": "stream",
     "text": [
      "Enter a number:  10\n"
     ]
    },
    {
     "name": "stdout",
     "output_type": "stream",
     "text": [
      "division by zero\n",
      "<class 'ZeroDivisionError'>\n"
     ]
    }
   ],
   "source": [
    "# Catching Specific Exceptions:\n",
    "try:\n",
    "    num = int(input(\"Enter a number: \"))\n",
    "    num/0\n",
    "except ValueError:\n",
    "    print(\"Enter just a number, please\")\n",
    "except Exception as e:\n",
    "    print(e)\n",
    "    print(type(e))"
   ]
  },
  {
   "cell_type": "code",
   "execution_count": 57,
   "id": "645a83e0-cdb9-4922-abce-8dc093970fee",
   "metadata": {},
   "outputs": [
    {
     "name": "stdout",
     "output_type": "stream",
     "text": [
      "Exception: ZeroDivisionError\n"
     ]
    }
   ],
   "source": [
    "# Look how to catch the exception by using type()__name__:\n",
    "try:\n",
    "    result = 10 / 0 \n",
    "except Exception as e:\n",
    "    print(f\"Exception: {type(e).__name__}\")"
   ]
  },
  {
   "cell_type": "markdown",
   "id": "2b53fe59-31c9-4186-9d91-fb5a31d3a93a",
   "metadata": {},
   "source": [
    "---\n",
    "``else`` and ``finally`` keyword:\n",
    "\n",
    "- The code enters the ``else`` block **only** if the try clause does not raise an exception;\n",
    "- Python provides a keyword ``finally``, which is **always** executed after the try and except blocks."
   ]
  },
  {
   "cell_type": "code",
   "execution_count": 63,
   "id": "1e542c4c-81e8-4fda-9e7c-7129e24ca83e",
   "metadata": {},
   "outputs": [
    {
     "name": "stdout",
     "output_type": "stream",
     "text": [
      "Hello\n",
      "Nothing went wrong\n"
     ]
    }
   ],
   "source": [
    "# You can use the \"else\" keyword to define a block of code to be executed if no errors were raised:\n",
    "try:\n",
    "  print(\"Hello\")\n",
    "except:\n",
    "  print(\"Something went wrong\")\n",
    "else:\n",
    "  print(\"Nothing went wrong\")"
   ]
  },
  {
   "cell_type": "code",
   "execution_count": 62,
   "id": "e30cc288-d1ec-4fa5-85a1-0b6688d6a32a",
   "metadata": {},
   "outputs": [
    {
     "name": "stdout",
     "output_type": "stream",
     "text": [
      "-5.0\n",
      "a/b result in 0\n"
     ]
    }
   ],
   "source": [
    "# Example:\n",
    "def division(a , b):\n",
    "    try:\n",
    "        c = ((a+b) / (a-b))\n",
    "    except ZeroDivisionError:\n",
    "        print (\"a/b result in 0\")\n",
    "    else:\n",
    "        print (c)\n",
    "division(2.0, 3.0)\n",
    "division(3.0, 3.0)"
   ]
  },
  {
   "cell_type": "code",
   "execution_count": 70,
   "id": "aed0f469-1a4a-45e0-b38c-29b511fbb494",
   "metadata": {},
   "outputs": [
    {
     "name": "stdout",
     "output_type": "stream",
     "text": [
      "Can't divide by zero\n",
      "This is always executed\n"
     ]
    }
   ],
   "source": [
    "# Using \"finally\" keyword:\n",
    "# Always do something at the end.\n",
    "\n",
    "try:\n",
    "    k = 5/0\n",
    "    print(k)\n",
    "except ZeroDivisionError:\n",
    "    print(\"Can't divide by zero\")\n",
    "finally:\n",
    "    print('This is always executed')"
   ]
  },
  {
   "cell_type": "code",
   "execution_count": 7,
   "id": "7bbf4504-7941-4188-83d0-2fb6e71b4e96",
   "metadata": {},
   "outputs": [
    {
     "name": "stdout",
     "output_type": "stream",
     "text": [
      "division by zero\n"
     ]
    }
   ],
   "source": [
    "# Review:\n",
    "try:\n",
    "    result = 10/0\n",
    "except Exception as e:\n",
    "    print(e)"
   ]
  },
  {
   "cell_type": "markdown",
   "id": "38024147-ec91-42a2-8d77-57b5d91bbbab",
   "metadata": {},
   "source": [
    "---\n",
    "``raise``  keyword:\n",
    "\n",
    "As a Python developer you can choose to throw an exception ``if`` a condition occurs.\n",
    "\n",
    "https://www.geeksforgeeks.org/python-raising-an-exception-to-another-exception/"
   ]
  },
  {
   "cell_type": "code",
   "execution_count": 71,
   "id": "343a2a2c-8b65-4fad-baf3-d254412b6d13",
   "metadata": {},
   "outputs": [
    {
     "name": "stdout",
     "output_type": "stream",
     "text": [
      "division by zero\n"
     ]
    },
    {
     "ename": "UnboundLocalError",
     "evalue": "cannot access local variable 'result' where it is not associated with a value",
     "output_type": "error",
     "traceback": [
      "\u001b[1;31m---------------------------------------------------------------------------\u001b[0m",
      "\u001b[1;31mUnboundLocalError\u001b[0m                         Traceback (most recent call last)",
      "Cell \u001b[1;32mIn[71], line 15\u001b[0m\n\u001b[0;32m     12\u001b[0m         \u001b[38;5;28mprint\u001b[39m(e)\n\u001b[0;32m     13\u001b[0m     \u001b[38;5;28;01mreturn\u001b[39;00m result\n\u001b[1;32m---> 15\u001b[0m x \u001b[38;5;241m=\u001b[39m \u001b[43merror\u001b[49m\u001b[43m(\u001b[49m\u001b[38;5;241;43m10\u001b[39;49m\u001b[43m,\u001b[49m\u001b[38;5;241;43m0\u001b[39;49m\u001b[43m)\u001b[49m\n",
      "Cell \u001b[1;32mIn[71], line 13\u001b[0m, in \u001b[0;36merror\u001b[1;34m(n1, n2)\u001b[0m\n\u001b[0;32m     11\u001b[0m \u001b[38;5;28;01mexcept\u001b[39;00m \u001b[38;5;167;01mException\u001b[39;00m \u001b[38;5;28;01mas\u001b[39;00m e:\n\u001b[0;32m     12\u001b[0m     \u001b[38;5;28mprint\u001b[39m(e)\n\u001b[1;32m---> 13\u001b[0m \u001b[38;5;28;01mreturn\u001b[39;00m \u001b[43mresult\u001b[49m\n",
      "\u001b[1;31mUnboundLocalError\u001b[0m: cannot access local variable 'result' where it is not associated with a value"
     ]
    }
   ],
   "source": [
    "# Using raise: \n",
    "## https://www.w3schools.com/python/gloss_python_raise.asp\n",
    "## https://www.w3schools.com/python/ref_keyword_raise.asp\n",
    "\n",
    "# If we declare a function that returns something 'impossible' we get this:\n",
    "\n",
    "def error(n1, n2):\n",
    "    try:\n",
    "        result = n1/n2\n",
    "        print(result)\n",
    "    except Exception as e:\n",
    "        print(e)\n",
    "    return result\n",
    "\n",
    "x = error(10,0)"
   ]
  },
  {
   "cell_type": "code",
   "execution_count": 113,
   "id": "36256992-aaea-4136-b087-df25f2cc544d",
   "metadata": {},
   "outputs": [
    {
     "name": "stdout",
     "output_type": "stream",
     "text": [
      "Error message: Division by zero is not allowed in this function\n",
      "Error name: ZeroDivisionError\n",
      "----------------------------------------------------------------\n",
      "Error message: unsupported operand type(s) for /: 'int' and 'str'\n",
      "Error name: TypeError\n"
     ]
    }
   ],
   "source": [
    "# Using raise:\n",
    "\n",
    "def error(n1, n2):\n",
    "    try:\n",
    "        if n2 == 0:\n",
    "            raise ZeroDivisionError(\"Division by zero is not allowed in this function\")\n",
    "        result = n1 / n2\n",
    "        print(result)\n",
    "    except Exception as e:\n",
    "        print('Error message:', e)\n",
    "        print('Error name:', type(e).__name__)\n",
    "        result = None  # Assign None to result when an exception occurs\n",
    "    return result\n",
    "\n",
    "x = error(10, 0)\n",
    "print(\"-\"*64)\n",
    "x = error(10, \"string\")"
   ]
  },
  {
   "cell_type": "markdown",
   "id": "5ec68320-f114-41c4-8e6a-34a087dca65c",
   "metadata": {},
   "source": [
    "---\n",
    "*Advantages of Exception Handling:*\n",
    "\n",
    "- Improved program reliability: By handling exceptions properly, you can prevent your program from crashing or producing incorrect results due to unexpected errors or input.\n",
    "- Simplified error handling: Exception handling allows you to separate error handling code from the main program logic, making it easier to read and maintain your code.\n",
    "- Cleaner code: With exception handling, you can avoid using complex conditional statements to check for errors, leading to cleaner and more readable code.\n",
    "- Easier debugging: When an exception is raised, the Python interpreter prints a traceback that shows the exact location where the exception occurred, making it easier to debug your code.\n",
    "\n",
    "*Disadvantages of Exception Handling:*\n",
    "\n",
    "- Performance overhead: Exception handling can be slower than using conditional statements to check for errors, as the interpreter has to perform additional work to catch and handle the exception.\n",
    "- Increased code complexity: Exception handling can make your code more complex, especially if you have to handle multiple types of exceptions or implement complex error handling logic.\n",
    "- Possible security risks: Improperly handled exceptions can potentially reveal sensitive information or create security vulnerabilities in your code, so it’s important to handle exceptions carefully and avoid exposing too much information about your program."
   ]
  },
  {
   "cell_type": "code",
   "execution_count": 111,
   "id": "a5a50bec-4557-4d95-b8c0-abf7a859bd48",
   "metadata": {},
   "outputs": [
    {
     "name": "stdin",
     "output_type": "stream",
     "text": [
      "Enter the employee salary:  5800\n",
      "Enter the employee salary:  4200\n",
      "Enter the employee salary:  -3200\n"
     ]
    },
    {
     "name": "stdout",
     "output_type": "stream",
     "text": [
      "We got a problem! Invalid salary! Salaries must be positive!\n",
      "[5800.0, 4200.0]\n"
     ]
    }
   ],
   "source": [
    "# Final Example:\n",
    "\n",
    "salaries = []\n",
    "\n",
    "def register_salary(salary):\n",
    "    if salary <= 0:\n",
    "        raise Exception('Invalid salary! Salaries must be positive!')  \n",
    "    salaries.append(salary)\n",
    "    \n",
    "for i in range(3):\n",
    "    salary = float(input('Enter the employee salary: '))   \n",
    "    try:\n",
    "        register_salary(salary)\n",
    "    except Exception as e:\n",
    "        print(f'We got a problem! {e}')\n",
    "        \n",
    "print(salaries)"
   ]
  },
  {
   "cell_type": "markdown",
   "id": "a00d4d00-f2b3-4f10-9040-8721879bd8b7",
   "metadata": {},
   "source": [
    "<div style=\"background-color: lightgreen; padding: 10px;\">\n",
    "    <h2> Closures\n",
    "</div>"
   ]
  },
  {
   "cell_type": "markdown",
   "id": "c1a54ca6-17cb-41e6-847b-69cdee4cd98d",
   "metadata": {},
   "source": [
    "Sources:\n",
    "- https://www.geeksforgeeks.org/python-closures/\n",
    "- https://www.programiz.com/python-programming/closure\n",
    "\n",
    "Languages:\n",
    "- Clojure\n",
    "- Scala\n",
    "- Go Lang\n",
    "- Julia"
   ]
  },
  {
   "cell_type": "code",
   "execution_count": 25,
   "id": "d8ac39bd-923f-4d06-89ba-05bfdee5164c",
   "metadata": {},
   "outputs": [
    {
     "name": "stdout",
     "output_type": "stream",
     "text": [
      "6\n",
      "4\n"
     ]
    }
   ],
   "source": [
    "def create_sum(x):\n",
    "    def sum_this(y):\n",
    "        return x+ y\n",
    "    return sum_this\n",
    "\n",
    "incremental = create_sum(1)\n",
    "decremental = create_sum(-1)\n",
    "\n",
    "print(incremental(5))\n",
    "print(decremental(5))"
   ]
  },
  {
   "cell_type": "code",
   "execution_count": null,
   "id": "4c69c93d-5f15-4444-9d7f-3f6286c7bd86",
   "metadata": {},
   "outputs": [],
   "source": []
  },
  {
   "cell_type": "markdown",
   "id": "eb14cb8f-cc81-45da-aa26-9ea74283ace2",
   "metadata": {},
   "source": [
    "<div style=\"background-color: lightgreen; padding: 10px;\">\n",
    "    <h2> Recursive Functions\n",
    "</div>"
   ]
  },
  {
   "cell_type": "markdown",
   "id": "40073e86-59a2-4ffe-a7f3-27d152f7317c",
   "metadata": {},
   "source": [
    "Conceito:\n",
    "\n",
    "Exemplo com pratos empilhados (pilha em linguagem) <br>\n",
    "O último adicionado é o primeiro a ser retirado <br>\n",
    "Last in - First out\n",
    "\n",
    "Sources:\n",
    "- https://www.w3schools.com/python/gloss_python_function_recursion.asp\n",
    "- https://www.geeksforgeeks.org/recursion-in-python/\n",
    "- https://realpython.com/python-recursion/"
   ]
  },
  {
   "cell_type": "code",
   "execution_count": 40,
   "id": "2f3ce1d5-df60-4240-a87b-4a41949f6663",
   "metadata": {},
   "outputs": [
    {
     "name": "stdout",
     "output_type": "stream",
     "text": [
      "13\n",
      "13\n"
     ]
    }
   ],
   "source": [
    "# Example Fibonacci sequence\n",
    "\n",
    "# Iterrative != Recursive\n",
    "\n",
    "# Correct the function below:\n",
    "\n",
    "def fib_iterative(n):\n",
    "    n1 = 0\n",
    "    n2 = 1\n",
    "    count = 0\n",
    "    while count < n:\n",
    "        n1, n2 = n2, n1+n2\n",
    "        count += 1\n",
    "    return n2\n",
    "\n",
    "print(fib_iterative(6))\n",
    "\n",
    "# Fibonacci recursive:\n",
    "\n",
    "def fib_recursive(n):\n",
    "    if n == 0 or n == 1:\n",
    "        return 1\n",
    "    else:\n",
    "        return fib_recursive(n-1) + fib_recursive(n-2)\n",
    "\n",
    "print(fib_recursive(6))\n",
    "\n",
    "# lassos cost time computing, so using recursive we spend less time and less cost"
   ]
  },
  {
   "cell_type": "code",
   "execution_count": 28,
   "id": "f0d096bc-2a44-4973-a774-0fbe6c19d821",
   "metadata": {},
   "outputs": [],
   "source": [
    "# Example Tower of Hanoi:\n",
    "\n"
   ]
  },
  {
   "cell_type": "code",
   "execution_count": 34,
   "id": "8d84076a-fe2b-418e-b122-c848396e0293",
   "metadata": {},
   "outputs": [],
   "source": [
    "# Example with Factorial:\n",
    "\n"
   ]
  },
  {
   "cell_type": "markdown",
   "id": "c93e5471-b773-44bc-a134-86fbbbc42b5d",
   "metadata": {},
   "source": [
    "<div style=\"background-color: lightgreen; padding: 10px;\">\n",
    "    <h2> Generators\n",
    "</div>"
   ]
  },
  {
   "cell_type": "markdown",
   "id": "436865a6-0c42-4ab5-b1ba-0923083ef2a1",
   "metadata": {},
   "source": [
    "*def.:* A ``generator`` function in Python is defined like a normal function, but whenever it needs to generate a value, it does so with the ``yield`` keyword rather than return. \n",
    "\n",
    "Generator functions allow you to declare a function that behaves like an iterator, i.e. it can be used in a for loop.\n",
    "\n",
    "If the body of a def contains ``yield``, the function automatically becomes a Python generator function. "
   ]
  },
  {
   "cell_type": "markdown",
   "id": "2822da87-2a98-4122-b3f6-8cbedce28f0e",
   "metadata": {},
   "source": [
    "Sources:\n",
    "- https://www.geeksforgeeks.org/generators-in-python/\n",
    "- https://wiki.python.org/moin/Generators\n",
    "- https://djangostars.com/blog/list-comprehensions-and-generator-expressions/\n",
    "- https://towardsdatascience.com/comprehensions-and-generator-expression-in-python-2ae01c48fc50\n",
    "- https://docs.python.org/3/howto/functional.html#generator-expressions-and-list-comprehensions"
   ]
  },
  {
   "cell_type": "code",
   "execution_count": 25,
   "id": "76f5162a-aa65-4f13-8a63-c6e495560179",
   "metadata": {},
   "outputs": [
    {
     "name": "stdout",
     "output_type": "stream",
     "text": [
      "CPU times: total: 1.55 s\n",
      "Wall time: 1.57 s\n",
      "49999995000000\n"
     ]
    }
   ],
   "source": [
    "# Imagine this function:\n",
    "\n",
    "def first_n(n):\n",
    "    '''Build and return a list'''\n",
    "    num, nums = 0, []\n",
    "    while num < n:\n",
    "        nums.append(num)\n",
    "        num += 1\n",
    "    return nums\n",
    "\n",
    "%time sum_of_first_n = sum(first_n(10_000_000))\n",
    "print(sum_of_first_n)"
   ]
  },
  {
   "cell_type": "markdown",
   "id": "61eae070-6a43-499b-8e08-2fddc3de1bc6",
   "metadata": {},
   "source": [
    "---\n",
    "The code above is quite simple and straightforward, but it builds the **full list in memory**. \n",
    "\n",
    "This is clearly not acceptable in our case, because we cannot afford to keep all n \"10 megabyte\" integers in memory.\n",
    "\n",
    "Python provides **generator functions** as a convenient shortcut to building iterators. Lets us rewrite the above as a ``generator function``:"
   ]
  },
  {
   "cell_type": "code",
   "execution_count": 32,
   "id": "549bc4e0-2087-4ea9-ac2e-f1edc66ad012",
   "metadata": {},
   "outputs": [
    {
     "name": "stdout",
     "output_type": "stream",
     "text": [
      "CPU times: total: 797 ms\n",
      "Wall time: 803 ms\n",
      "49999995000000\n"
     ]
    }
   ],
   "source": [
    "# A generator that yields items instead of returning a list:\n",
    "\n",
    "def firstn(n):\n",
    "    num = 0\n",
    "    while num < n:\n",
    "        yield num\n",
    "        num += 1\n",
    "\n",
    "%time sum_of_first_n = sum(firstn(10_000_000))\n",
    "print(sum_of_first_n)"
   ]
  },
  {
   "cell_type": "markdown",
   "id": "6f98fc8d-f732-4804-bdf8-6b2fd3565202",
   "metadata": {},
   "source": [
    "---\n",
    "The main feature of ``generator expression`` is evaluating the elements on demand. \n",
    "\n",
    "- When you call a normal function with a ``return`` statement the function is **terminated** whenever it encounters a return statement. \n",
    "- In a function with a ``yield`` statement the state of the function is “**saved**” from the last call and can be picked up the next time you call a generator function."
   ]
  },
  {
   "cell_type": "code",
   "execution_count": 26,
   "id": "7e715b57-3450-46c5-ba49-33abad1fe2c6",
   "metadata": {},
   "outputs": [
    {
     "name": "stdout",
     "output_type": "stream",
     "text": [
      "1\n",
      "2\n",
      "3\n"
     ]
    }
   ],
   "source": [
    "# A generator function that yields 1 for first time, \n",
    "# 2 second time and 3 third time \n",
    "def simpleGeneratorFun(): \n",
    "    yield 1            \n",
    "    yield 2            \n",
    "    yield 3            \n",
    "   \n",
    "# Driver code to check above generator function \n",
    "for value in simpleGeneratorFun():  \n",
    "    print(value)"
   ]
  },
  {
   "cell_type": "code",
   "execution_count": 33,
   "id": "8946d117-1c0a-436f-88c0-f3d6fbc627f3",
   "metadata": {},
   "outputs": [
    {
     "name": "stdout",
     "output_type": "stream",
     "text": [
      "1\n",
      "2\n",
      "3\n"
     ]
    }
   ],
   "source": [
    "# A Python program to demonstrate use of  \n",
    "# generator object with next()  \n",
    "  \n",
    "# A generator function \n",
    "def simpleGeneratorFun(): \n",
    "    yield 1\n",
    "    yield 2\n",
    "    yield 3\n",
    "   \n",
    "# x is a generator object \n",
    "x = simpleGeneratorFun() \n",
    "  \n",
    "# Iterating over the generator object using next \n",
    "  \n",
    "# In Python 3, __next__() \n",
    "print(next(x)) \n",
    "print(next(x)) \n",
    "print(next(x))"
   ]
  },
  {
   "cell_type": "markdown",
   "id": "28c94c77-0aba-487a-8ea7-ccae77b0bed6",
   "metadata": {},
   "source": [
    "---\n",
    "The **generator expression** in Python has the following Syntax:\n",
    "<br>\n",
    "<br>\n",
    "``(expression for item in iterable)``"
   ]
  },
  {
   "cell_type": "markdown",
   "id": "5b4d81bd-9adc-4fbf-b5da-45c154d645d2",
   "metadata": {},
   "source": [
    "``Generator expressions`` provide an additional shortcut to build generators out of expressions similar to that of ``list comprehensions``.\n",
    "\n",
    "In fact, we can turn a list comprehension into a generator expression by replacing the square brackets (\"[ ]\") with ``parentheses``. Alternately, we can think of list comprehensions as generator expressions wrapped in a list constructor.\n",
    "\n",
    "Consider the following example:"
   ]
  },
  {
   "cell_type": "code",
   "execution_count": 40,
   "id": "c7d2b17e-92f7-4f50-be2a-0e127773faee",
   "metadata": {},
   "outputs": [
    {
     "name": "stdout",
     "output_type": "stream",
     "text": [
      "[0, 2, 4, 6, 8, 10, 12, 14, 16, 18, 20, 22, 24, 26, 28, 30, 32, 34, 36, 38]\n",
      "[0, 2, 4, 6, 8, 10, 12, 14, 16, 18, 20, 22, 24, 26, 28, 30, 32, 34, 36, 38]\n"
     ]
    }
   ],
   "source": [
    "# list comprehension\n",
    "doubles = [2 * n for n in range(20)]\n",
    "print(doubles)\n",
    "\n",
    "# same as the list comprehension above\n",
    "doubles_gen = list(2 * n for n in range(20))\n",
    "print(doubles_gen)"
   ]
  },
  {
   "cell_type": "markdown",
   "id": "098c7825-1803-4e76-adac-5d9f5c3249ae",
   "metadata": {},
   "source": [
    "---\n",
    "__Conclusion__: We can use ``generator expressions`` when:\n",
    "\n",
    "- We are working with a dataset so large that generating the ``list`` may be excessively slow or consume too much memory.\n",
    "- We want to obtain infinite data (an endless numerical sequence or a data stream that may be coming from a sensor or the internet, for example).\n",
    "- We are certain that we will only need to iterate once for each element, and we won't need them later.\n",
    "\n",
    "If you need the data more than once, the ``generator`` expression becomes less attractive, and it is more advantageous to use ``list comprehension``."
   ]
  }
 ],
 "metadata": {
  "kernelspec": {
   "display_name": "Python 3 (ipykernel)",
   "language": "python",
   "name": "python3"
  },
  "language_info": {
   "codemirror_mode": {
    "name": "ipython",
    "version": 3
   },
   "file_extension": ".py",
   "mimetype": "text/x-python",
   "name": "python",
   "nbconvert_exporter": "python",
   "pygments_lexer": "ipython3",
   "version": "3.11.5"
  }
 },
 "nbformat": 4,
 "nbformat_minor": 5
}
