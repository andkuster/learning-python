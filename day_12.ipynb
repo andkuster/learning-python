{
 "cells": [
  {
   "cell_type": "markdown",
   "id": "f5f9cb93-72f3-419f-a827-d12b4562a5e7",
   "metadata": {},
   "source": [
    "<div style=\"background-color: lightgray; padding: 18px;\">\n",
    "    <h1> Learning Python | Day 12\n",
    "    \n",
    "</div>"
   ]
  },
  {
   "cell_type": "markdown",
   "id": "38ed6c50-5fbb-44df-a3df-2f5feeb7c1eb",
   "metadata": {},
   "source": [
    "### Features:\n",
    "\n",
    "- Exceptions\n",
    "- Closure\n",
    "- Recursive Functions\n",
    "- Generators\n",
    "\n"
   ]
  },
  {
   "cell_type": "markdown",
   "id": "601a5fd8-5779-43c2-976c-76a847ff4b66",
   "metadata": {},
   "source": [
    "<div style=\"background-color: lightgreen; padding: 10px;\">\n",
    "    <h2> Exceptions\n",
    "</div>"
   ]
  },
  {
   "cell_type": "markdown",
   "id": "5f24d38e-afc2-4bdc-aa07-2d9f47c8a54c",
   "metadata": {},
   "source": [
    "Sources:\n",
    "- https://www.w3schools.com/python/python_try_except.asp\n",
    "- https://www.geeksforgeeks.org/python-exception-handling/\n",
    "- https://docs.python.org/3/library/exceptions.html\n",
    "- https://www.w3schools.com/python/python_ref_exceptions.asp"
   ]
  },
  {
   "cell_type": "code",
   "execution_count": 2,
   "id": "66967e6b-ea0d-4191-820f-6e8cf0448452",
   "metadata": {},
   "outputs": [
    {
     "name": "stdin",
     "output_type": "stream",
     "text": [
      "Enter a number:  10\n"
     ]
    }
   ],
   "source": [
    "# Ferramental para manter o programa em execução\n",
    "# Tratamento de exceção\n",
    "\n",
    "num = int(input(\"Enter a number: \"))"
   ]
  },
  {
   "cell_type": "code",
   "execution_count": 3,
   "id": "74515770-33cd-4503-9356-e43ce9aef388",
   "metadata": {},
   "outputs": [
    {
     "name": "stdout",
     "output_type": "stream",
     "text": [
      "10\n"
     ]
    }
   ],
   "source": [
    "print(num)"
   ]
  },
  {
   "cell_type": "code",
   "execution_count": 5,
   "id": "b2ce088b-64e9-4a29-81aa-9061e226c575",
   "metadata": {},
   "outputs": [
    {
     "name": "stdin",
     "output_type": "stream",
     "text": [
      "Enter a number:  Andre\n"
     ]
    },
    {
     "ename": "ValueError",
     "evalue": "invalid literal for int() with base 10: 'Andre'",
     "output_type": "error",
     "traceback": [
      "\u001b[1;31m---------------------------------------------------------------------------\u001b[0m",
      "\u001b[1;31mValueError\u001b[0m                                Traceback (most recent call last)",
      "Cell \u001b[1;32mIn[5], line 1\u001b[0m\n\u001b[1;32m----> 1\u001b[0m num2 \u001b[38;5;241m=\u001b[39m \u001b[38;5;28;43mint\u001b[39;49m\u001b[43m(\u001b[49m\u001b[38;5;28;43minput\u001b[39;49m\u001b[43m(\u001b[49m\u001b[38;5;124;43m\"\u001b[39;49m\u001b[38;5;124;43mEnter a number: \u001b[39;49m\u001b[38;5;124;43m\"\u001b[39;49m\u001b[43m)\u001b[49m\u001b[43m)\u001b[49m\n\u001b[0;32m      3\u001b[0m \u001b[38;5;66;03m# error invalid for int()\u001b[39;00m\n",
      "\u001b[1;31mValueError\u001b[0m: invalid literal for int() with base 10: 'Andre'"
     ]
    }
   ],
   "source": [
    "num2 = int(input(\"Enter a number: \"))\n",
    "\n",
    "# error invalid for int()"
   ]
  },
  {
   "cell_type": "code",
   "execution_count": 10,
   "id": "de13cbe2-9786-4b1b-9592-ae884b979634",
   "metadata": {},
   "outputs": [
    {
     "name": "stdin",
     "output_type": "stream",
     "text": [
      "Enter a number:  Andre\n"
     ]
    },
    {
     "name": "stdout",
     "output_type": "stream",
     "text": [
      "Enter just a number, please\n"
     ]
    }
   ],
   "source": [
    "try:\n",
    "    num = int(input(\"Enter a number: \"))\n",
    "    num/0\n",
    "except:\n",
    "    print(\"Enter just a number, please\")"
   ]
  },
  {
   "cell_type": "code",
   "execution_count": 16,
   "id": "0b196ff6-bd4d-4e53-a053-c46f0a3c28f0",
   "metadata": {},
   "outputs": [
    {
     "name": "stdin",
     "output_type": "stream",
     "text": [
      "Enter a number:  50\n"
     ]
    },
    {
     "name": "stdout",
     "output_type": "stream",
     "text": [
      "Something happenned\n"
     ]
    }
   ],
   "source": [
    "# Levantamento de exceções:\n",
    "\n",
    "try:\n",
    "    num = int(input(\"Enter a number: \"))\n",
    "    num/0\n",
    "except ValueError:\n",
    "    print(\"Enter just a number, please\")\n",
    "except:\n",
    "    print(\"Something happenned\")"
   ]
  },
  {
   "cell_type": "code",
   "execution_count": 18,
   "id": "84b9fe4b-4a04-4ee2-9046-3b10d05f5eb8",
   "metadata": {},
   "outputs": [
    {
     "name": "stdin",
     "output_type": "stream",
     "text": [
      "Enter a number:  10\n"
     ]
    },
    {
     "name": "stdout",
     "output_type": "stream",
     "text": [
      "division by zero\n",
      "<class 'ZeroDivisionError'>\n"
     ]
    }
   ],
   "source": [
    "# Levantamento de exceções:\n",
    "\n",
    "try:\n",
    "    num = int(input(\"Enter a number: \"))\n",
    "    num/0\n",
    "except ValueError:\n",
    "    print(\"Enter just a number, please\")\n",
    "except Exception as e:\n",
    "    print(e)\n",
    "    print(type(e))"
   ]
  },
  {
   "cell_type": "code",
   "execution_count": 20,
   "id": "645a83e0-cdb9-4922-abce-8dc093970fee",
   "metadata": {},
   "outputs": [
    {
     "name": "stdout",
     "output_type": "stream",
     "text": [
      "Exception: ZeroDivisionError\n"
     ]
    }
   ],
   "source": [
    "try:\n",
    "    result = 10 / 0 \n",
    "except Exception as e:\n",
    "    print(f\"Exception: {type(e).__name__}\")"
   ]
  },
  {
   "cell_type": "code",
   "execution_count": 22,
   "id": "1e542c4c-81e8-4fda-9e7c-7129e24ca83e",
   "metadata": {},
   "outputs": [
    {
     "name": "stdout",
     "output_type": "stream",
     "text": [
      "Hello\n",
      "Nothing went wrong\n"
     ]
    }
   ],
   "source": [
    "# You can use the else keyword to define a block of code to be executed if no errors were raised:\n",
    "\n",
    "try:\n",
    "  print(\"Hello\")\n",
    "except:\n",
    "  print(\"Something went wrong\")\n",
    "else:\n",
    "  print(\"Nothing went wrong\")"
   ]
  },
  {
   "cell_type": "code",
   "execution_count": 23,
   "id": "aed0f469-1a4a-45e0-b38c-29b511fbb494",
   "metadata": {},
   "outputs": [],
   "source": [
    "# Using finally:\n",
    "# Always do something at the end.\n",
    "# The finally block, if specified, will be executed regardless if the try block raises an error or not.\n",
    "\n"
   ]
  },
  {
   "cell_type": "code",
   "execution_count": null,
   "id": "7bbf4504-7941-4188-83d0-2fb6e71b4e96",
   "metadata": {},
   "outputs": [],
   "source": []
  },
  {
   "cell_type": "code",
   "execution_count": 42,
   "id": "343a2a2c-8b65-4fad-baf3-d254412b6d13",
   "metadata": {},
   "outputs": [],
   "source": [
    "# Using raise: https://www.w3schools.com/python/gloss_python_raise.asp\n",
    "\n"
   ]
  },
  {
   "cell_type": "markdown",
   "id": "a00d4d00-f2b3-4f10-9040-8721879bd8b7",
   "metadata": {},
   "source": [
    "<div style=\"background-color: lightgreen; padding: 10px;\">\n",
    "    <h2> Closures\n",
    "</div>"
   ]
  },
  {
   "cell_type": "markdown",
   "id": "c1a54ca6-17cb-41e6-847b-69cdee4cd98d",
   "metadata": {},
   "source": [
    "Sources:\n",
    "- https://www.geeksforgeeks.org/python-closures/\n",
    "- https://www.programiz.com/python-programming/closure\n",
    "\n",
    "Languages:\n",
    "- Clojure\n",
    "- Scala\n",
    "- Go Lang\n",
    "- Julia"
   ]
  },
  {
   "cell_type": "code",
   "execution_count": 25,
   "id": "d8ac39bd-923f-4d06-89ba-05bfdee5164c",
   "metadata": {},
   "outputs": [
    {
     "name": "stdout",
     "output_type": "stream",
     "text": [
      "6\n",
      "4\n"
     ]
    }
   ],
   "source": [
    "def create_sum(x):\n",
    "    def sum_this(y):\n",
    "        return x+ y\n",
    "    return sum_this\n",
    "\n",
    "incremental = create_sum(1)\n",
    "decremental = create_sum(-1)\n",
    "\n",
    "print(incremental(5))\n",
    "print(decremental(5))"
   ]
  },
  {
   "cell_type": "code",
   "execution_count": null,
   "id": "4c69c93d-5f15-4444-9d7f-3f6286c7bd86",
   "metadata": {},
   "outputs": [],
   "source": []
  },
  {
   "cell_type": "markdown",
   "id": "eb14cb8f-cc81-45da-aa26-9ea74283ace2",
   "metadata": {},
   "source": [
    "<div style=\"background-color: lightgreen; padding: 10px;\">\n",
    "    <h2> Recursive Functions\n",
    "</div>"
   ]
  },
  {
   "cell_type": "markdown",
   "id": "40073e86-59a2-4ffe-a7f3-27d152f7317c",
   "metadata": {},
   "source": [
    "Conceito:\n",
    "\n",
    "Exemplo com pratos empilhados (pilha em linguagem) <br>\n",
    "O último adicionado é o primeiro a ser retirado <br>\n",
    "Last in - First out\n",
    "\n",
    "Sources:\n",
    "- https://www.w3schools.com/python/gloss_python_function_recursion.asp\n",
    "- https://www.geeksforgeeks.org/recursion-in-python/\n",
    "- https://realpython.com/python-recursion/"
   ]
  },
  {
   "cell_type": "code",
   "execution_count": 40,
   "id": "2f3ce1d5-df60-4240-a87b-4a41949f6663",
   "metadata": {},
   "outputs": [
    {
     "name": "stdout",
     "output_type": "stream",
     "text": [
      "13\n",
      "13\n"
     ]
    }
   ],
   "source": [
    "# Example Fibonacci sequence\n",
    "\n",
    "# Iterrative != Recursive\n",
    "\n",
    "# Correct the function below:\n",
    "\n",
    "def fib_iterative(n):\n",
    "    n1 = 0\n",
    "    n2 = 1\n",
    "    count = 0\n",
    "    while count < n:\n",
    "        n1, n2 = n2, n1+n2\n",
    "        count += 1\n",
    "    return n2\n",
    "\n",
    "print(fib_iterative(6))\n",
    "\n",
    "# Fibonacci recursive:\n",
    "\n",
    "def fib_recursive(n):\n",
    "    if n == 0 or n == 1:\n",
    "        return 1\n",
    "    else:\n",
    "        return fib_recursive(n-1) + fib_recursive(n-2)\n",
    "\n",
    "print(fib_recursive(6))\n",
    "\n",
    "# lassos cost time computing, so using recursive we spend less time and less cost"
   ]
  },
  {
   "cell_type": "code",
   "execution_count": 28,
   "id": "f0d096bc-2a44-4973-a774-0fbe6c19d821",
   "metadata": {},
   "outputs": [],
   "source": [
    "# Example Tower of Hanoi:\n",
    "\n"
   ]
  },
  {
   "cell_type": "code",
   "execution_count": 34,
   "id": "8d84076a-fe2b-418e-b122-c848396e0293",
   "metadata": {},
   "outputs": [],
   "source": [
    "# Example with Factorial:\n",
    "\n"
   ]
  },
  {
   "cell_type": "markdown",
   "id": "c93e5471-b773-44bc-a134-86fbbbc42b5d",
   "metadata": {},
   "source": [
    "<div style=\"background-color: lightgreen; padding: 10px;\">\n",
    "    <h2> Generators\n",
    "</div>"
   ]
  },
  {
   "cell_type": "markdown",
   "id": "1316f6e1-ee43-4ee9-9ba6-82cd7514c57a",
   "metadata": {},
   "source": [
    "Sources:\n",
    "- https://www.geeksforgeeks.org/generators-in-python/\n",
    "- https://wiki.python.org/moin/Generators"
   ]
  },
  {
   "cell_type": "code",
   "execution_count": 43,
   "id": "76f5162a-aa65-4f13-8a63-c6e495560179",
   "metadata": {},
   "outputs": [],
   "source": [
    "# insert this content in list comprehensions"
   ]
  },
  {
   "cell_type": "code",
   "execution_count": null,
   "id": "8946d117-1c0a-436f-88c0-f3d6fbc627f3",
   "metadata": {},
   "outputs": [],
   "source": []
  },
  {
   "cell_type": "code",
   "execution_count": null,
   "id": "a5ea33e3-d247-4d2d-92d5-26b813d23095",
   "metadata": {},
   "outputs": [],
   "source": []
  },
  {
   "cell_type": "markdown",
   "id": "c4aa72a9-8c99-4433-af42-7921231446a4",
   "metadata": {},
   "source": [
    "### Next class:\n",
    "\n",
    "#### 1 hora - aula especial de revisão\n",
    "\n",
    "#### tratamento de exceções\n",
    "\t- rise (aula prática - hands-on) - extremamente rápido\n",
    "\n",
    "#### Comprehention\n",
    "\t- Funções Geradoras - normal\n",
    "\n",
    "####  Parâmetros opcionais\n",
    "\t- Criando **kwargs - extremamente rápido\n",
    "\n",
    "#### OO\n",
    "\t- sobrecarga - rápido\n",
    "\t- Níveis de acesso em OO - rápido\n",
    "\n",
    "#### intervalo\n",
    "\n",
    "#### apresentação de trabalho"
   ]
  }
 ],
 "metadata": {
  "kernelspec": {
   "display_name": "Python 3 (ipykernel)",
   "language": "python",
   "name": "python3"
  },
  "language_info": {
   "codemirror_mode": {
    "name": "ipython",
    "version": 3
   },
   "file_extension": ".py",
   "mimetype": "text/x-python",
   "name": "python",
   "nbconvert_exporter": "python",
   "pygments_lexer": "ipython3",
   "version": "3.11.5"
  }
 },
 "nbformat": 4,
 "nbformat_minor": 5
}
