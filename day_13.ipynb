{
 "cells": [
  {
   "cell_type": "markdown",
   "id": "f5f9cb93-72f3-419f-a827-d12b4562a5e7",
   "metadata": {},
   "source": [
    "<div style=\"background-color: lightgray; padding: 18px;\">\n",
    "    <h1> Learning Python | Day 13\n",
    "    \n",
    "</div>"
   ]
  },
  {
   "cell_type": "markdown",
   "id": "38ed6c50-5fbb-44df-a3df-2f5feeb7c1eb",
   "metadata": {},
   "source": [
    "### Features:\n",
    "\n",
    "- Intro to NumPy\n",
    "- Installation\n",
    "- Creating arrays\n",
    "- Data Types\n",
    "- Random"
   ]
  },
  {
   "cell_type": "markdown",
   "id": "601a5fd8-5779-43c2-976c-76a847ff4b66",
   "metadata": {},
   "source": [
    "<div style=\"background-color: lightgreen; padding: 10px;\">\n",
    "    <h2> Intro to NumPy\n",
    "</div>"
   ]
  },
  {
   "cell_type": "markdown",
   "id": "5643eb8c-725e-46bd-abf7-1b2ddf08769d",
   "metadata": {},
   "source": [
    "***What is numpy?***\n",
    "\n",
    "NumPy is a Python library used for working with ``arrays``.\n",
    "\n",
    "It also has functions for working in domain of linear algebra, fourier transform, and matrices.\n",
    "\n",
    "NumPy was created in 2005 by Travis Oliphant. It is an open source project and you can use it freely.\n",
    "\n",
    "NumPy stands for Numerical Python.\n",
    "\n",
    "***Why is NumPy Faster Than Lists?***\n",
    "\r\n",
    "NumPy arrays are stored at one continuous place in memory unlike lists, so processes can access and manipulate them very efficiently.\r\n",
    "\r\n",
    "This behavior is called locality of reference in computer science.\r\n",
    "\r\n",
    "This is the main reason why NumPy is faster than lists. Also it is optimized to work with latest CPU architectur***es.\r\n",
    "\r\n",
    "Which Language is NumPy writ***\n",
    "ten in?\r\n",
    "NumPy is a Python library and is written partially in Python, but most of the parts that require fast computation are written in C or C++.\n",
    "\n",
    "Sources:\n",
    "- https://www.w3schools.com/python/numpy/numpy_i\n",
    "- https://www.geeksforgeeks.org/introduction-to-numpy/?ref=lbpntro.asp\n",
    "- https://github.com/numpy/numpy?tab=readme-ov-file\n",
    "- https://numpy.org/\n",
    "- https://numpy.org/doc\n",
    "- https://numpy.org/doc/stable/user/absolute_beginners.html/stable/"
   ]
  },
  {
   "cell_type": "markdown",
   "id": "90d85955-261f-4fb4-81e4-970a7a86991b",
   "metadata": {},
   "source": [
    "<div style=\"background-color: lightgreen; padding: 10px;\">\n",
    "    <h2> Installation of NumPy\n",
    "</div>"
   ]
  },
  {
   "cell_type": "markdown",
   "id": "ecd7a5f5-3fdb-43ce-b3e7-0c6e03ac1257",
   "metadata": {},
   "source": [
    "***Installing on cmd:***\n",
    "\n",
    "``C:\\Users\\Your Name>pip install numpy``"
   ]
  },
  {
   "cell_type": "code",
   "execution_count": 3,
   "id": "6aa3f3c3-a461-4c15-a047-8991f79f8abf",
   "metadata": {},
   "outputs": [],
   "source": [
    "# Importing in my application:\n",
    "import numpy"
   ]
  },
  {
   "cell_type": "code",
   "execution_count": 4,
   "id": "37eaff28-7425-4d14-b1e6-12add41fee91",
   "metadata": {},
   "outputs": [
    {
     "name": "stdout",
     "output_type": "stream",
     "text": [
      "[1 2 3 4 5]\n"
     ]
    }
   ],
   "source": [
    "# Example:\n",
    "\n",
    "arr = numpy.array([1, 2, 3, 4, 5])\n",
    "\n",
    "print(arr)"
   ]
  },
  {
   "cell_type": "markdown",
   "id": "87d1e6c8-539a-4270-9e56-f47a869a8d2b",
   "metadata": {},
   "source": [
    "***NumPy is usually imported under the np alias:***\n",
    "\n",
    "``import numpy as np``"
   ]
  },
  {
   "cell_type": "code",
   "execution_count": 5,
   "id": "3bbcbc49-f1fa-4131-883b-db2e0679a967",
   "metadata": {},
   "outputs": [
    {
     "name": "stdout",
     "output_type": "stream",
     "text": [
      "[1 2 3 4 5]\n"
     ]
    }
   ],
   "source": [
    "import numpy as np\n",
    "\n",
    "arr = np.array([1, 2, 3, 4, 5])\n",
    "\n",
    "print(arr)"
   ]
  },
  {
   "cell_type": "code",
   "execution_count": 6,
   "id": "c1e5ed31-2c32-437a-b5c2-ffc614f5e540",
   "metadata": {},
   "outputs": [
    {
     "name": "stdout",
     "output_type": "stream",
     "text": [
      "1.24.3\n"
     ]
    }
   ],
   "source": [
    "# Checking version:\n",
    "\n",
    "print(np.__version__)"
   ]
  },
  {
   "cell_type": "markdown",
   "id": "40aea0b3-e51a-4881-aa2d-1162fe2c8b1d",
   "metadata": {},
   "source": [
    "<div style=\"background-color: lightgreen; padding: 10px;\">\n",
    "    <h2> Arrays\n",
    "</div>"
   ]
  },
  {
   "cell_type": "markdown",
   "id": "e02f4dab-6bd0-4cf1-9c14-2b9efa6004f4",
   "metadata": {},
   "source": [
    "***Arrays in NumPy:***\n",
    "\n",
    "``NumPy&#x2019s`` main object is the homogeneous multidimensional array.\n",
    "\n",
    "- It is a table of elements (usually numbers), all of the same type, indexed by a tuple of positive integers.\n",
    "- In *NumPy*, dimensions are called axes. The number of axes is rank.\n",
    "- ``NumPy&#x2019s`` array class is called ``ndarray``. It is also known by the alias array.\n",
    "\n",
    "Sources:\n",
    "- https://www.w3schools.com/python/numpy/numpy_creating_arrays.asp"
   ]
  },
  {
   "cell_type": "code",
   "execution_count": 8,
   "id": "99904b74-ae84-4523-9816-df01c251041d",
   "metadata": {},
   "outputs": [
    {
     "name": "stdout",
     "output_type": "stream",
     "text": [
      "Array is of type:  <class 'numpy.ndarray'>\n",
      "No. of dimensions:  2\n",
      "Shape of array:  (2, 3)\n",
      "Size of array:  6\n",
      "Array stores elements of type:  int32\n"
     ]
    }
   ],
   "source": [
    "# Example ~ two-dimensional array that has the rank of 2 as it has 2 axes:\n",
    "\n",
    "import numpy as np \n",
    "  \n",
    "# Creating array object \n",
    "arr = np.array( [[ 1, 2, 3], \n",
    "                 [ 4, 2, 5]] ) \n",
    "  \n",
    "# Printing type of arr object \n",
    "print(\"Array is of type: \", type(arr)) \n",
    "  \n",
    "# Printing array dimensions (axes) \n",
    "print(\"No. of dimensions: \", arr.ndim) \n",
    "  \n",
    "# Printing shape of array \n",
    "print(\"Shape of array: \", arr.shape) \n",
    "  \n",
    "# Printing size (total number of elements) of array \n",
    "print(\"Size of array: \", arr.size) \n",
    "  \n",
    "# Printing type of elements in array \n",
    "print(\"Array stores elements of type: \", arr.dtype)"
   ]
  },
  {
   "cell_type": "code",
   "execution_count": null,
   "id": "efac0440-b186-49b8-920a-d710d589e965",
   "metadata": {},
   "outputs": [],
   "source": []
  }
 ],
 "metadata": {
  "kernelspec": {
   "display_name": "Python 3 (ipykernel)",
   "language": "python",
   "name": "python3"
  },
  "language_info": {
   "codemirror_mode": {
    "name": "ipython",
    "version": 3
   },
   "file_extension": ".py",
   "mimetype": "text/x-python",
   "name": "python",
   "nbconvert_exporter": "python",
   "pygments_lexer": "ipython3",
   "version": "3.11.5"
  }
 },
 "nbformat": 4,
 "nbformat_minor": 5
}
