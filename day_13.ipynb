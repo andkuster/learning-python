{
 "cells": [
  {
   "cell_type": "markdown",
   "id": "f5f9cb93-72f3-419f-a827-d12b4562a5e7",
   "metadata": {},
   "source": [
    "<div style=\"background-color: lightgray; padding: 18px;\">\n",
    "    <h1> Learning Python | Day 13\n",
    "    \n",
    "</div>"
   ]
  },
  {
   "cell_type": "markdown",
   "id": "38ed6c50-5fbb-44df-a3df-2f5feeb7c1eb",
   "metadata": {},
   "source": [
    "### Features:\n",
    "\n",
    "- Intro to NumPy\n",
    "- Installation\n",
    "- Creating arrays\n",
    "- Basic Properties"
   ]
  },
  {
   "cell_type": "markdown",
   "id": "601a5fd8-5779-43c2-976c-76a847ff4b66",
   "metadata": {},
   "source": [
    "<div style=\"background-color: lightgreen; padding: 10px;\">\n",
    "    <h2> Intro to NumPy\n",
    "</div>"
   ]
  },
  {
   "cell_type": "markdown",
   "id": "9244cb15-f73f-4b6b-82d2-6458ee2b593c",
   "metadata": {},
   "source": [
    "***What is numpy?***\n",
    "\n",
    "NumPy stands for *Numerical Python*.\n",
    "\n",
    "It is a powerful math library used for working with ``arrays``.\n",
    "\n",
    "It also has functions for working in domain of linear algebra, fourier transform, and matrices.\n",
    "\n",
    "NumPy was created in 2005 by Travis Oliphant. It is an open source project and you can use it freely.\n",
    "\n",
    "\n",
    "\n",
    "***Why is NumPy Faster Than Lists?***\n",
    "\n",
    "NumPy N-dimensional arrays (``ndarray``) are stored at one continuous place in memory unlike lists, so processes can access and manipulate them very efficiently.\n",
    "\n",
    "When we organize our code to take advantage of NumPy's operations, we commonly say that we \"vectorize\" our code. This means that we avoid explicit loops in Python code and rewrite everything using NumPy arrays. \n",
    "\n",
    "Thus, we can leverage the speed of \"vectorized\" operations, significantly speeding up our code.\n",
    "\n",
    "***Which Language is NumPy written in?***\n",
    "\n",
    "NumPy is a Python library and is written partially in Python, but most of the parts that require fast computation are written in C or C++.\n",
    "\n",
    "Sources:\n",
    "- https://www.w3schools.com/python/numpy/numpy_intro.asp\n",
    "- https://www.geeksforgeeks.org/introduction-to-numpy/?ref=lbp\n",
    "- https://github.com/numpy/numpy?tab=readme-ov-file\n",
    "- https://numpy.org/\n",
    "- https://numpy.org/doc/stable/\n",
    "- https://numpy.org/doc/stable/user/absolute_beginners.html\n",
    "- https://numpy.org/doc/stable/reference/arrays.ndarray.html"
   ]
  },
  {
   "cell_type": "markdown",
   "id": "90d85955-261f-4fb4-81e4-970a7a86991b",
   "metadata": {},
   "source": [
    "<div style=\"background-color: lightgreen; padding: 10px;\">\n",
    "    <h2> Installation of NumPy\n",
    "</div>"
   ]
  },
  {
   "cell_type": "markdown",
   "id": "ecd7a5f5-3fdb-43ce-b3e7-0c6e03ac1257",
   "metadata": {},
   "source": [
    "***Installing on cmd:***\n",
    "\n",
    "``C:\\Users\\Your Name>pip install numpy``"
   ]
  },
  {
   "cell_type": "code",
   "execution_count": 3,
   "id": "6aa3f3c3-a461-4c15-a047-8991f79f8abf",
   "metadata": {},
   "outputs": [],
   "source": [
    "# Importing in my application:\n",
    "import numpy"
   ]
  },
  {
   "cell_type": "code",
   "execution_count": 4,
   "id": "37eaff28-7425-4d14-b1e6-12add41fee91",
   "metadata": {},
   "outputs": [
    {
     "name": "stdout",
     "output_type": "stream",
     "text": [
      "[1 2 3 4 5]\n"
     ]
    }
   ],
   "source": [
    "# Example:\n",
    "\n",
    "arr = numpy.array([1, 2, 3, 4, 5])\n",
    "\n",
    "print(arr)"
   ]
  },
  {
   "cell_type": "markdown",
   "id": "87d1e6c8-539a-4270-9e56-f47a869a8d2b",
   "metadata": {},
   "source": [
    "***NumPy is usually imported under the np alias:***\n",
    "\n",
    "``import numpy as np``"
   ]
  },
  {
   "cell_type": "code",
   "execution_count": 5,
   "id": "3bbcbc49-f1fa-4131-883b-db2e0679a967",
   "metadata": {},
   "outputs": [
    {
     "name": "stdout",
     "output_type": "stream",
     "text": [
      "[1 2 3 4 5]\n"
     ]
    }
   ],
   "source": [
    "import numpy as np\n",
    "\n",
    "arr = np.array([1, 2, 3, 4, 5])\n",
    "\n",
    "print(arr)"
   ]
  },
  {
   "cell_type": "code",
   "execution_count": 6,
   "id": "c1e5ed31-2c32-437a-b5c2-ffc614f5e540",
   "metadata": {},
   "outputs": [
    {
     "name": "stdout",
     "output_type": "stream",
     "text": [
      "1.24.3\n"
     ]
    }
   ],
   "source": [
    "# Checking version:\n",
    "\n",
    "print(np.__version__)"
   ]
  },
  {
   "cell_type": "markdown",
   "id": "40aea0b3-e51a-4881-aa2d-1162fe2c8b1d",
   "metadata": {},
   "source": [
    "<div style=\"background-color: lightgreen; padding: 10px;\">\n",
    "    <h2> Arrays\n",
    "</div>"
   ]
  },
  {
   "cell_type": "markdown",
   "id": "528bb388-7108-4ea9-b5cf-444985961240",
   "metadata": {},
   "source": [
    "***Arrays in NumPy:***\n",
    "\n",
    "``NumPy`` main object is the homogeneous multidimensional array.\n",
    "\n",
    "- It is a table of elements (usually numbers), all of the same type, indexed by a tuple of positive integers.\n",
    "- In *NumPy*, dimensions are called axes. The number of axes is rank.\n",
    "- ``NumPy`` array class is called ``ndarray`` (n-dimensional array). It is also known by the alias array.\n",
    "\n",
    "It can be a list of values, a table, or a table of tables. The important thing is that all values are of the same \"type.\" If one of them is an ``integer``, all will be. If one of them is a ``float``, all will be. This type is called ``dtype``.\n",
    "\n",
    "The most common usage is to use ndarrays as lists or tables of values.\n",
    "\n",
    "Sources:\n",
    "- https://www.w3schools.com/python/numpy/numpy_creating_arrays.asp\n",
    "- https://www.geeksforgeeks.org/numpy-array-in-python/?ref=lbp\n",
    "\n",
    "---"
   ]
  },
  {
   "cell_type": "markdown",
   "id": "8298eff3-b94e-4d75-82d4-265a931d5505",
   "metadata": {},
   "source": [
    "In the case of a list, we have a one-dimensional ``ndarray``. Mathematically, this object is **equivalent** to a vector.\n",
    "\n",
    "The most common method to create an ``ndarray`` is by using the ``np.array`` function. Thus, to create our \"vector,\" we use the following command."
   ]
  },
  {
   "cell_type": "code",
   "execution_count": 24,
   "id": "d65e355a-05a2-4c78-8afb-355e24dbcfeb",
   "metadata": {},
   "outputs": [
    {
     "name": "stdout",
     "output_type": "stream",
     "text": [
      "[1 2 3]\n",
      "<class 'numpy.ndarray'>\n"
     ]
    }
   ],
   "source": [
    "import numpy as np\n",
    "\n",
    "vector = np.array([1, 2, 3])\n",
    "print(vector)\n",
    "\n",
    "# If we look at the type of the variable \"vetor,\" we will see that it is of the NumPy.ndarray type.\n",
    "print(type(vector))"
   ]
  },
  {
   "cell_type": "code",
   "execution_count": 8,
   "id": "99904b74-ae84-4523-9816-df01c251041d",
   "metadata": {},
   "outputs": [
    {
     "name": "stdout",
     "output_type": "stream",
     "text": [
      "Array is of type:  <class 'numpy.ndarray'>\n",
      "No. of dimensions:  2\n",
      "Shape of array:  (2, 3)\n",
      "Size of array:  6\n",
      "Array stores elements of type:  int32\n"
     ]
    }
   ],
   "source": [
    "# Example ~ two-dimensional array that has the rank of 2 as it has 2 axes:\n",
    "\n",
    "import numpy as np \n",
    "  \n",
    "# Creating array object \n",
    "arr = np.array( [[ 1, 2, 3], \n",
    "                 [ 4, 2, 5]] ) \n",
    "  \n",
    "# Printing type of arr object \n",
    "print(\"Array is of type: \", type(arr)) \n",
    "  \n",
    "# Printing array dimensions (axes) \n",
    "print(\"No. of dimensions: \", arr.ndim) \n",
    "  \n",
    "# Printing shape of array \n",
    "print(\"Shape of array: \", arr.shape) \n",
    "  \n",
    "# Printing size (total number of elements) of array \n",
    "print(\"Size of array: \", arr.size) \n",
    "  \n",
    "# Printing type of elements in array \n",
    "print(\"Array stores elements of type: \", arr.dtype)"
   ]
  },
  {
   "cell_type": "markdown",
   "id": "c27253a1-b091-4867-b22f-95b74d8def34",
   "metadata": {},
   "source": [
    "---\n",
    "\r\n",
    "It is also possible to increase the number of dimensions.\n",
    "\n",
    "-  In this case, if we have 3 dimensions, for example, we would have a list of tables.\n",
    "-  If there are 4 dimensions, then we have a table whose elements are tables\n",
    "\n",
    " Thus, the more dimensions, we stack objects with fewer dimensions into a list.\n",
    "\n",
    " If there are 5 dimensions, we have a list of ndarrays with 4 dimensions (or a list of tables of tables).\r\n",
    "\r\n",
    "Mathematically, when we have 3 dimensions or more, we call this object`` a ten``sor."
   ]
  },
  {
   "cell_type": "code",
   "execution_count": 16,
   "id": "26a1d3bd-8afa-452a-bb41-66021bddf699",
   "metadata": {},
   "outputs": [
    {
     "name": "stdout",
     "output_type": "stream",
     "text": [
      "[[[1 2]\n",
      "  [3 4]]\n",
      "\n",
      " [[1 0]\n",
      "  [0 1]]]\n"
     ]
    }
   ],
   "source": [
    "tensor = np.array([[[1, 2], [3, 4]], [[1, 0],[0, 1]]])\n",
    "print(tensor)"
   ]
  },
  {
   "cell_type": "markdown",
   "id": "289f79db-0674-44cf-8196-1fc9ac666617",
   "metadata": {},
   "source": [
    "---\n",
    "Note that the variable **\"tensor\"** is nothing more than two tables.\n",
    "\n",
    "A visual representation of ``ndarrays`` can help to better understand what is happening.\n",
    "\n",
    "<img src=https://s3-sa-east-1.amazonaws.com/lcpi/b50bd331-732b-48a4-9d46-01f20c15ab29.png width=500>"
   ]
  },
  {
   "cell_type": "markdown",
   "id": "3120d360-cea1-407f-bd24-592e3c814405",
   "metadata": {},
   "source": [
    "---\n",
    "Furthermore, it is common to refer to each dimension of an ``ndarray`` as an \"axis\". Thus, if an ndarray has 3 dimensions, we can speak of the \"1st dimension of the array\" (axis 0 of the array), the \"2nd dimension of the array\" (axis 1 of the array), and the \"3rd dimension of the array\" (axis 2 of the array). \n",
    "\n",
    "Bringing some abstraction to our way of viewing the structure, an ``ndarray`` with shape (3, 3, 2) could be understood as a list along its first axis (axis 0), for example. This list would be composed of 3 matrices of size 3 x 2. Equivalently, we could think of it as a list with 2 matrices 3 x 3 along its third axis (axis 2).\n",
    "\n",
    "<img src=https://s3-sa-east-1.amazonaws.com/lcpi/1e527c6a-ea64-46e3-bd31-ffba06749000.png width=600>\n",
    "\n",
    "The ``ndarray`` is the basic data structure of **NumPy**, and it is the structure we will always use. All the power of NumPy comes from the implementation of this data structure and the related operations, which are much more efficient than the native operations that could apply to common Python lists.\n",
    "\n",
    "These objects are also very common in mathematics because they basically represent **vectors and matrices**. Thus, it is straightforward to \"vectorize\" our code by writing it in a way that is very similar to what we would do in mathematical notation.\n",
    "\n",
    "__Note:__ We also mentioned tensors before. It is not important to understand what they are to use NumPy. Only very specific calculations use tensor mathematics. For most cases, it is enough to have the view we provided earlier, about how they are basically \"matrices with 3 or more dimensions\". This means they can be a list of tables, a table of tables, a list of tables of tables, a table of tables of tables, and so on."
   ]
  },
  {
   "cell_type": "markdown",
   "id": "c5f48fec-8d19-4797-9998-5ad024d8b1e6",
   "metadata": {},
   "source": [
    "---\n",
    "At this point, the most striking difference between ``ndarrays`` and native Python ``lists`` is **static typing**. \n",
    "\n",
    "In the context of ``ndarrays``, all elements of an array need to have the **same data type**.\r\n",
    "\r\n",
    "In other words, NumPy will perform automatic coercion to ensure that all elements have the same type. In this case, all elements will be converted to strings, resulting in an ndarray of string type. You can see the general type of the data that is part of an array as follows:"
   ]
  },
  {
   "cell_type": "code",
   "execution_count": 28,
   "id": "6b5507c4-a814-4f1d-a20d-eca5f6acfb86",
   "metadata": {},
   "outputs": [],
   "source": [
    "# Example:\n",
    "vector2 = np.array([3.14, 10, \"Matheus\", True])"
   ]
  },
  {
   "cell_type": "code",
   "execution_count": 27,
   "id": "ab94bac3-288b-4cfe-a578-37ff8ada7703",
   "metadata": {},
   "outputs": [
    {
     "name": "stdout",
     "output_type": "stream",
     "text": [
      "['3.14' '10' 'Matheus' 'True']\n",
      "<class 'numpy.str_'>\n",
      "<class 'numpy.str_'>\n",
      "<class 'numpy.str_'>\n",
      "<class 'numpy.str_'>\n"
     ]
    }
   ],
   "source": [
    "print(vector2)\n",
    "print(type(vector2[0]))\n",
    "print(type(vector2[1]))\n",
    "print(type(vector2[2]))\n",
    "print(type(vector2[3]))"
   ]
  },
  {
   "cell_type": "code",
   "execution_count": 34,
   "id": "d6a28c93-82ac-403c-896e-20047a850978",
   "metadata": {},
   "outputs": [],
   "source": [
    "# Another Example:\n",
    "test = np.array([1, 5, 'AAA', 10])"
   ]
  },
  {
   "cell_type": "code",
   "execution_count": 42,
   "id": "3d3f4e88-0829-4ee1-95cd-fc8746429fc1",
   "metadata": {},
   "outputs": [
    {
     "data": {
      "text/plain": [
       "dtype('<U11')"
      ]
     },
     "execution_count": 42,
     "metadata": {},
     "output_type": "execute_result"
    }
   ],
   "source": [
    "test.dtype"
   ]
  },
  {
   "cell_type": "code",
   "execution_count": 31,
   "id": "e4793d11-c64c-4600-b37d-9810c5e629d1",
   "metadata": {},
   "outputs": [
    {
     "data": {
      "text/plain": [
       "numpy.str_"
      ]
     },
     "execution_count": 31,
     "metadata": {},
     "output_type": "execute_result"
    }
   ],
   "source": [
    "type(test[0])"
   ]
  },
  {
   "cell_type": "code",
   "execution_count": 44,
   "id": "53b66f9a-3d2f-498f-8917-6eb0e38f1df6",
   "metadata": {},
   "outputs": [],
   "source": [
    "# Last example:\n",
    "test2 = np.array([10,15,20])"
   ]
  },
  {
   "cell_type": "code",
   "execution_count": 41,
   "id": "cd50c4c9-534b-4cbb-9877-95ad1decd072",
   "metadata": {},
   "outputs": [
    {
     "name": "stdout",
     "output_type": "stream",
     "text": [
      "<class 'numpy.int32'>\n",
      "int32\n"
     ]
    }
   ],
   "source": [
    "print(type(test2[0]))\n",
    "print(test2.dtype)"
   ]
  },
  {
   "cell_type": "markdown",
   "id": "ba69fd7b-75ea-4b7b-a5e9-a2f8e34050bd",
   "metadata": {},
   "source": [
    "---\n",
    "**Careful**: Copying and modifying ``ndarrays``\n",
    "\n",
    "Before we begin to explore the basic properties of an ndarray, it is important to keep a very important concept in mind. Just like native Python arrays, due to how ``NumPy`` works with ndarrays in the computer's memory, they behave as shown below:\n",
    "\n",
    "Resource:\n",
    "- https://pythontutor.com/render.html#mode=display\n",
    "- https://www.dataquest.io/blog/python-copy-list/"
   ]
  },
  {
   "cell_type": "code",
   "execution_count": 1,
   "id": "6d655427-427b-49dd-9bdf-271529467da4",
   "metadata": {},
   "outputs": [
    {
     "name": "stdout",
     "output_type": "stream",
     "text": [
      "[['A', 'X', 'C'], ['1', '2', '3']]\n"
     ]
    }
   ],
   "source": [
    "a = [['A', 'B', 'C'],['1', '2', '3']]\n",
    "b = a.copy()\n",
    "b[0][1] = 'X'\n",
    "print(a)"
   ]
  },
  {
   "cell_type": "code",
   "execution_count": 2,
   "id": "b75f2dfd-3885-41f8-b069-2bf5cfe55388",
   "metadata": {},
   "outputs": [
    {
     "name": "stdout",
     "output_type": "stream",
     "text": [
      "[['A', 'B', 'C'], ['1', '2', '3']]\n"
     ]
    }
   ],
   "source": [
    "import copy\n",
    "a = [['A', 'B', 'C'],['1', '2', '3']]\n",
    "b = copy.deepcopy(a)\n",
    "b[0][1] = 'X'\n",
    "print(a)"
   ]
  },
  {
   "cell_type": "code",
   "execution_count": 4,
   "id": "4bd24c38-6ebb-4ec6-946a-143fcf83c523",
   "metadata": {},
   "outputs": [
    {
     "name": "stdout",
     "output_type": "stream",
     "text": [
      "[[1, 2, 3, 4, 5], [10, 20, 30, 40, 'X']]\n"
     ]
    }
   ],
   "source": [
    "a = [[1,2,3,4,5], [10,20,30,40,5]]\n",
    "b = a.copy()\n",
    "\n",
    "def teste(lista):\n",
    "    lista[1][4] = 'X'\n",
    "\n",
    "teste(b)\n",
    "print(a)"
   ]
  },
  {
   "cell_type": "code",
   "execution_count": 5,
   "id": "6f2b80b7-09c6-421a-b387-0da901a236d1",
   "metadata": {},
   "outputs": [
    {
     "name": "stdout",
     "output_type": "stream",
     "text": [
      "[[1, 2, 3, 4, 5], [10, 20, 30, 'Y', 'X']] [[1, 2, 3, 4, 5], [10, 20, 30, 'Y', 'X']]\n"
     ]
    }
   ],
   "source": [
    "def teste2(lista):\n",
    "    x = lista.copy()\n",
    "    x[1][3] = 'Y'\n",
    "    return x\n",
    "\n",
    "m = teste2(b)\n",
    "print(a, m)"
   ]
  },
  {
   "cell_type": "markdown",
   "id": "38eb30e1-0bac-41e7-8034-203c4512d73d",
   "metadata": {},
   "source": [
    "<div style=\"background-color: lightgreen; padding: 10px;\">\n",
    "    <h2> Basic Properties\n",
    "</div>"
   ]
  },
  {
   "cell_type": "markdown",
   "id": "eba95b12-210d-4509-aa93-8e1be9779c8d",
   "metadata": {},
   "source": [
    "Basic properties of ``ndarrays``\n",
    "\n",
    "*Dimension and Shape*\n",
    "\n",
    "As we saw before, it is possible to create an ndarray with different ``dimensions`` and ``shapes``. Each ndarray has the ``ndim`` and ``shape`` attributes that store this information. Therefore, to find out the structure of our array, we just need to access these attributes.\n",
    "\n",
    "- https://numpy.org/doc/stable/reference/generated/numpy.ndarray.html"
   ]
  },
  {
   "cell_type": "code",
   "execution_count": 5,
   "id": "8ab6c6e5-0c13-475f-b3cb-37626cb155f3",
   "metadata": {},
   "outputs": [
    {
     "name": "stdout",
     "output_type": "stream",
     "text": [
      "1\n",
      "(5,)\n",
      "--------------------------------\n",
      "2\n",
      "(2, 5)\n",
      "--------------------------------\n",
      "3\n",
      "(2, 2, 2)\n"
     ]
    }
   ],
   "source": [
    "import numpy as np\n",
    "\n",
    "arr = np.array([1, 2, 3, 4, 5])\n",
    "print(arr.ndim)\n",
    "print(arr.shape)\n",
    "\n",
    "print('-'*32)\n",
    "\n",
    "mat = np.array([[1, 2, 3, 4, 5],[1, 2, 3, 4, 5]])\n",
    "print(mat.ndim)\n",
    "print(mat.shape)\n",
    "\n",
    "print('-'*32)\n",
    "\n",
    "tensor = np.array([[[1, 2], [3, 4]], [[1, 0],[0, 1]]])\n",
    "print(tensor.ndim)\n",
    "print(tensor.shape)"
   ]
  },
  {
   "cell_type": "markdown",
   "id": "d7d6e1e6-2b7f-4912-8e7d-27573a2b0af6",
   "metadata": {},
   "source": [
    "---\n",
    "This is extremely important to help us when we have a very large ``ndarray`` and need to recall how large it is. Additionally, these attributes also assist us when we want to create generic functions that operate on ndarrays.\n",
    "\n",
    "From the array's shape, we can also obtain the **number of elements**. However, ndarray objects already have the ``size`` attribute to make this easier."
   ]
  },
  {
   "cell_type": "code",
   "execution_count": 6,
   "id": "bac17bb8-9295-4f07-9bc7-1c8adebb5a3e",
   "metadata": {},
   "outputs": [
    {
     "name": "stdout",
     "output_type": "stream",
     "text": [
      "5\n",
      "--------------------------------\n",
      "10\n",
      "--------------------------------\n",
      "8\n"
     ]
    }
   ],
   "source": [
    "print(arr.size)\n",
    "print('-'*32)\n",
    "\n",
    "print(mat.size)\n",
    "print('-'*32)\n",
    "\n",
    "print(tensor.size)"
   ]
  },
  {
   "cell_type": "markdown",
   "id": "5850f7a9-c5a3-46e3-a280-3ab739c15a6a",
   "metadata": {},
   "source": [
    "---\n",
    "Next classes:\n",
    "- Data Types\n",
    "- Indexing and Slicing\n",
    "- Advanced Indexing | Boolean Mask\n",
    "- Arithmetic Operations"
   ]
  }
 ],
 "metadata": {
  "kernelspec": {
   "display_name": "Python 3 (ipykernel)",
   "language": "python",
   "name": "python3"
  },
  "language_info": {
   "codemirror_mode": {
    "name": "ipython",
    "version": 3
   },
   "file_extension": ".py",
   "mimetype": "text/x-python",
   "name": "python",
   "nbconvert_exporter": "python",
   "pygments_lexer": "ipython3",
   "version": "3.11.5"
  }
 },
 "nbformat": 4,
 "nbformat_minor": 5
}
