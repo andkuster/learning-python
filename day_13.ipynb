{
 "cells": [
  {
   "cell_type": "markdown",
   "id": "f5f9cb93-72f3-419f-a827-d12b4562a5e7",
   "metadata": {},
   "source": [
    "<div style=\"background-color: lightgray; padding: 18px;\">\n",
    "    <h1> Learning Python | Day 13\n",
    "    \n",
    "</div>"
   ]
  },
  {
   "cell_type": "markdown",
   "id": "38ed6c50-5fbb-44df-a3df-2f5feeb7c1eb",
   "metadata": {},
   "source": [
    "### Features:\n",
    "\n",
    "- Intro to NumPy\n",
    "- Installation\n",
    "- Creating arrays\n",
    "- Data Types\n",
    "- Indexing and Slicing"
   ]
  },
  {
   "cell_type": "markdown",
   "id": "601a5fd8-5779-43c2-976c-76a847ff4b66",
   "metadata": {},
   "source": [
    "<div style=\"background-color: lightgreen; padding: 10px;\">\n",
    "    <h2> Intro to NumPy\n",
    "</div>"
   ]
  },
  {
   "cell_type": "markdown",
   "id": "9244cb15-f73f-4b6b-82d2-6458ee2b593c",
   "metadata": {},
   "source": [
    "***What is numpy?***\n",
    "\n",
    "NumPy stands for *Numerical Python*.\n",
    "\n",
    "It is a powerful math library used for working with ``arrays``.\n",
    "\n",
    "It also has functions for working in domain of linear algebra, fourier transform, and matrices.\n",
    "\n",
    "NumPy was created in 2005 by Travis Oliphant. It is an open source project and you can use it freely.\n",
    "\n",
    "\n",
    "\n",
    "***Why is NumPy Faster Than Lists?***\n",
    "\n",
    "NumPy N-dimensional arrays (``ndarray``) are stored at one continuous place in memory unlike lists, so processes can access and manipulate them very efficiently.\n",
    "\n",
    "When we organize our code to take advantage of NumPy's operations, we commonly say that we \"vectorize\" our code. This means that we avoid explicit loops in Python code and rewrite everything using NumPy arrays. \n",
    "\n",
    "Thus, we can leverage the speed of \"vectorized\" operations, significantly speeding up our code.\n",
    "\n",
    "***Which Language is NumPy written in?***\n",
    "\n",
    "NumPy is a Python library and is written partially in Python, but most of the parts that require fast computation are written in C or C++.\n",
    "\n",
    "Sources:\n",
    "- https://www.w3schools.com/python/numpy/numpy_intro.asp\n",
    "- https://www.geeksforgeeks.org/introduction-to-numpy/?ref=lbp\n",
    "- https://github.com/numpy/numpy?tab=readme-ov-file\n",
    "- https://numpy.org/\n",
    "- https://numpy.org/doc/stable/\n",
    "- https://numpy.org/doc/stable/user/absolute_beginners.html\n",
    "- https://numpy.org/doc/stable/reference/arrays.ndarray.html"
   ]
  },
  {
   "cell_type": "markdown",
   "id": "90d85955-261f-4fb4-81e4-970a7a86991b",
   "metadata": {},
   "source": [
    "<div style=\"background-color: lightgreen; padding: 10px;\">\n",
    "    <h2> Installation of NumPy\n",
    "</div>"
   ]
  },
  {
   "cell_type": "markdown",
   "id": "ecd7a5f5-3fdb-43ce-b3e7-0c6e03ac1257",
   "metadata": {},
   "source": [
    "***Installing on cmd:***\n",
    "\n",
    "``C:\\Users\\Your Name>pip install numpy``"
   ]
  },
  {
   "cell_type": "code",
   "execution_count": 3,
   "id": "6aa3f3c3-a461-4c15-a047-8991f79f8abf",
   "metadata": {},
   "outputs": [],
   "source": [
    "# Importing in my application:\n",
    "import numpy"
   ]
  },
  {
   "cell_type": "code",
   "execution_count": 4,
   "id": "37eaff28-7425-4d14-b1e6-12add41fee91",
   "metadata": {},
   "outputs": [
    {
     "name": "stdout",
     "output_type": "stream",
     "text": [
      "[1 2 3 4 5]\n"
     ]
    }
   ],
   "source": [
    "# Example:\n",
    "\n",
    "arr = numpy.array([1, 2, 3, 4, 5])\n",
    "\n",
    "print(arr)"
   ]
  },
  {
   "cell_type": "markdown",
   "id": "87d1e6c8-539a-4270-9e56-f47a869a8d2b",
   "metadata": {},
   "source": [
    "***NumPy is usually imported under the np alias:***\n",
    "\n",
    "``import numpy as np``"
   ]
  },
  {
   "cell_type": "code",
   "execution_count": 5,
   "id": "3bbcbc49-f1fa-4131-883b-db2e0679a967",
   "metadata": {},
   "outputs": [
    {
     "name": "stdout",
     "output_type": "stream",
     "text": [
      "[1 2 3 4 5]\n"
     ]
    }
   ],
   "source": [
    "import numpy as np\n",
    "\n",
    "arr = np.array([1, 2, 3, 4, 5])\n",
    "\n",
    "print(arr)"
   ]
  },
  {
   "cell_type": "code",
   "execution_count": 6,
   "id": "c1e5ed31-2c32-437a-b5c2-ffc614f5e540",
   "metadata": {},
   "outputs": [
    {
     "name": "stdout",
     "output_type": "stream",
     "text": [
      "1.24.3\n"
     ]
    }
   ],
   "source": [
    "# Checking version:\n",
    "\n",
    "print(np.__version__)"
   ]
  },
  {
   "cell_type": "markdown",
   "id": "40aea0b3-e51a-4881-aa2d-1162fe2c8b1d",
   "metadata": {},
   "source": [
    "<div style=\"background-color: lightgreen; padding: 10px;\">\n",
    "    <h2> Arrays\n",
    "</div>"
   ]
  },
  {
   "cell_type": "markdown",
   "id": "528bb388-7108-4ea9-b5cf-444985961240",
   "metadata": {},
   "source": [
    "***Arrays in NumPy:***\n",
    "\n",
    "``NumPy&#x2019s`` main object is the homogeneous multidimensional array.\n",
    "\n",
    "- It is a table of elements (usually numbers), all of the same type, indexed by a tuple of positive integers.\n",
    "- In *NumPy*, dimensions are called axes. The number of axes is rank.\n",
    "- ``NumPy&#x2019s`` array class is called ``ndarray`` (n-dimensional array). It is also known by the alias array.\n",
    "\n",
    "It can be a list of values, a table, or a table of tables. The important thing is that all values are of the same \"type.\" If one of them is an ``integer``, all will be. If one of them is a ``float``, all will be. This type is called ``dtype``.\n",
    "\n",
    "The most common usage is to use ndarrays as lists or tables of values.\n",
    "\n",
    "Sources:\n",
    "- https://www.w3schools.com/python/numpy/numpy_creating_arrays.asp\n",
    "- https://www.geeksforgeeks.org/numpy-array-in-python/?ref=lbp\n",
    "\n",
    "---"
   ]
  },
  {
   "cell_type": "markdown",
   "id": "8298eff3-b94e-4d75-82d4-265a931d5505",
   "metadata": {},
   "source": [
    "In the case of a list, we have a one-dimensional ``ndarray``. Mathematically, this object is equivalent to a vector.\n",
    "\n",
    "The most common method to create an ``ndarray`` is by using the ``np.array`` function. Thus, to create our \"vector,\" we use the following command."
   ]
  },
  {
   "cell_type": "code",
   "execution_count": 24,
   "id": "d65e355a-05a2-4c78-8afb-355e24dbcfeb",
   "metadata": {},
   "outputs": [
    {
     "name": "stdout",
     "output_type": "stream",
     "text": [
      "[1 2 3]\n",
      "<class 'numpy.ndarray'>\n"
     ]
    }
   ],
   "source": [
    "import numpy as np\n",
    "\n",
    "vector = np.array([1, 2, 3])\n",
    "print(vector)\n",
    "\n",
    "# If we look at the type of the variable \"vetor,\" we will see that it is of the NumPy.ndarray type.\n",
    "print(type(vector))"
   ]
  },
  {
   "cell_type": "code",
   "execution_count": 8,
   "id": "99904b74-ae84-4523-9816-df01c251041d",
   "metadata": {},
   "outputs": [
    {
     "name": "stdout",
     "output_type": "stream",
     "text": [
      "Array is of type:  <class 'numpy.ndarray'>\n",
      "No. of dimensions:  2\n",
      "Shape of array:  (2, 3)\n",
      "Size of array:  6\n",
      "Array stores elements of type:  int32\n"
     ]
    }
   ],
   "source": [
    "# Example ~ two-dimensional array that has the rank of 2 as it has 2 axes:\n",
    "\n",
    "import numpy as np \n",
    "  \n",
    "# Creating array object \n",
    "arr = np.array( [[ 1, 2, 3], \n",
    "                 [ 4, 2, 5]] ) \n",
    "  \n",
    "# Printing type of arr object \n",
    "print(\"Array is of type: \", type(arr)) \n",
    "  \n",
    "# Printing array dimensions (axes) \n",
    "print(\"No. of dimensions: \", arr.ndim) \n",
    "  \n",
    "# Printing shape of array \n",
    "print(\"Shape of array: \", arr.shape) \n",
    "  \n",
    "# Printing size (total number of elements) of array \n",
    "print(\"Size of array: \", arr.size) \n",
    "  \n",
    "# Printing type of elements in array \n",
    "print(\"Array stores elements of type: \", arr.dtype)"
   ]
  },
  {
   "cell_type": "markdown",
   "id": "c27253a1-b091-4867-b22f-95b74d8def34",
   "metadata": {},
   "source": [
    "---\n",
    "\r\n",
    "It is also possible to increase the number of dimensions.\n",
    "\n",
    "-  In this case, if we have 3 dimensions, for example, we would have a list of tables.\n",
    "-  If there are 4 dimensions, then we have a table whose elements are tables\n",
    "\n",
    " Thus, the more dimensions, we stack objects with fewer dimensions into a list.\n",
    "\n",
    " If there are 5 dimensions, we have a list of ndarrays with 4 dimensions (or a list of tables of tables).\r\n",
    "\r\n",
    "Mathematically, when we have 3 dimensions or more, we call this object`` a ten``sor."
   ]
  },
  {
   "cell_type": "code",
   "execution_count": 16,
   "id": "26a1d3bd-8afa-452a-bb41-66021bddf699",
   "metadata": {},
   "outputs": [
    {
     "name": "stdout",
     "output_type": "stream",
     "text": [
      "[[[1 2]\n",
      "  [3 4]]\n",
      "\n",
      " [[1 0]\n",
      "  [0 1]]]\n"
     ]
    }
   ],
   "source": [
    "tensor = np.array([[[1, 2], [3, 4]], [[1, 0],[0, 1]]])\n",
    "print(tensor)"
   ]
  },
  {
   "cell_type": "markdown",
   "id": "289f79db-0674-44cf-8196-1fc9ac666617",
   "metadata": {},
   "source": [
    "---\n",
    "Note that the variable **\"tensor\"** is nothing more than two tables.\n",
    "\n",
    "A visual representation of ``ndarrays`` can help to better understand what is happening.\n",
    "\n",
    "<img src=https://s3-sa-east-1.amazonaws.com/lcpi/b50bd331-732b-48a4-9d46-01f20c15ab29.png width=500>"
   ]
  },
  {
   "cell_type": "markdown",
   "id": "3120d360-cea1-407f-bd24-592e3c814405",
   "metadata": {},
   "source": [
    "---\n",
    "Furthermore, it is common to refer to each dimension of an ``ndarray`` as an \"axis\". Thus, if an ndarray has 3 dimensions, we can speak of the \"1st dimension of the array\" (axis 0 of the array), the \"2nd dimension of the array\" (axis 1 of the array), and the \"3rd dimension of the array\" (axis 2 of the array). \n",
    "\n",
    "Bringing some abstraction to our way of viewing the structure, an ``ndarray`` with shape (3, 3, 2) could be understood as a list along its first axis (axis 0), for example. This list would be composed of 3 matrices of size 3 x 2. Equivalently, we could think of it as a list with 2 matrices 3 x 3 along its third axis (axis 2).\n",
    "\n",
    "<img src=https://s3-sa-east-1.amazonaws.com/lcpi/1e527c6a-ea64-46e3-bd31-ffba06749000.png width=600>\n",
    "\n",
    "The ``ndarray`` is the basic data structure of **NumPy**, and it is the structure we will always use. All the power of NumPy comes from the implementation of this data structure and the related operations, which are much more efficient than the native operations that could apply to common Python lists.\n",
    "\n",
    "These objects are also very common in mathematics because they basically represent **vectors and matrices**. Thus, it is straightforward to \"vectorize\" our code by writing it in a way that is very similar to what we would do in mathematical notation.\n",
    "\n",
    "__Note:__ We also mentioned tensors before. It is not important to understand what they are to use NumPy. Only very specific calculations use tensor mathematics. For most cases, it is enough to have the view we provided earlier, about how they are basically \"matrices with 3 or more dimensions\". This means they can be a list of tables, a table of tables, a list of tables of tables, a table of tables of tables, and so on."
   ]
  },
  {
   "cell_type": "markdown",
   "id": "c5f48fec-8d19-4797-9998-5ad024d8b1e6",
   "metadata": {},
   "source": [
    "---\n",
    "At this point, the most striking difference between ``ndarrays`` and native Python ``lists`` is **static typing**. \n",
    "\n",
    "In the context of ``ndarrays``, all elements of an array need to have the **same data type**.\r\n",
    "\r\n",
    "In other words, NumPy will perform automatic coercion to ensure that all elements have the same type. In this case, all elements will be converted to strings, resulting in an ndarray of string type. You can see the general type of the data that is part of an array as follows:"
   ]
  },
  {
   "cell_type": "code",
   "execution_count": 28,
   "id": "6b5507c4-a814-4f1d-a20d-eca5f6acfb86",
   "metadata": {},
   "outputs": [],
   "source": [
    "# Example:\n",
    "vector2 = np.array([3.14, 10, \"Matheus\", True])"
   ]
  },
  {
   "cell_type": "code",
   "execution_count": 27,
   "id": "ab94bac3-288b-4cfe-a578-37ff8ada7703",
   "metadata": {},
   "outputs": [
    {
     "name": "stdout",
     "output_type": "stream",
     "text": [
      "['3.14' '10' 'Matheus' 'True']\n",
      "<class 'numpy.str_'>\n",
      "<class 'numpy.str_'>\n",
      "<class 'numpy.str_'>\n",
      "<class 'numpy.str_'>\n"
     ]
    }
   ],
   "source": [
    "print(vector2)\n",
    "print(type(vector2[0]))\n",
    "print(type(vector2[1]))\n",
    "print(type(vector2[2]))\n",
    "print(type(vector2[3]))"
   ]
  },
  {
   "cell_type": "code",
   "execution_count": 34,
   "id": "d6a28c93-82ac-403c-896e-20047a850978",
   "metadata": {},
   "outputs": [],
   "source": [
    "# Another Example:\n",
    "test = np.array([1, 5, 'AAA', 10])"
   ]
  },
  {
   "cell_type": "code",
   "execution_count": 42,
   "id": "3d3f4e88-0829-4ee1-95cd-fc8746429fc1",
   "metadata": {},
   "outputs": [
    {
     "data": {
      "text/plain": [
       "dtype('<U11')"
      ]
     },
     "execution_count": 42,
     "metadata": {},
     "output_type": "execute_result"
    }
   ],
   "source": [
    "test.dtype"
   ]
  },
  {
   "cell_type": "code",
   "execution_count": 31,
   "id": "e4793d11-c64c-4600-b37d-9810c5e629d1",
   "metadata": {},
   "outputs": [
    {
     "data": {
      "text/plain": [
       "numpy.str_"
      ]
     },
     "execution_count": 31,
     "metadata": {},
     "output_type": "execute_result"
    }
   ],
   "source": [
    "type(test[0])"
   ]
  },
  {
   "cell_type": "code",
   "execution_count": 44,
   "id": "53b66f9a-3d2f-498f-8917-6eb0e38f1df6",
   "metadata": {},
   "outputs": [],
   "source": [
    "# Last example:\n",
    "test2 = np.array([10,15,20])"
   ]
  },
  {
   "cell_type": "code",
   "execution_count": 41,
   "id": "cd50c4c9-534b-4cbb-9877-95ad1decd072",
   "metadata": {},
   "outputs": [
    {
     "name": "stdout",
     "output_type": "stream",
     "text": [
      "<class 'numpy.int32'>\n",
      "int32\n"
     ]
    }
   ],
   "source": [
    "print(type(test2[0]))\n",
    "print(test2.dtype)"
   ]
  },
  {
   "cell_type": "markdown",
   "id": "ba69fd7b-75ea-4b7b-a5e9-a2f8e34050bd",
   "metadata": {},
   "source": [
    "---\n",
    "**Careful**: Copying and modifying ``ndarrays``\n",
    "\n",
    "Before we begin to explore the basic properties of an ndarray, it is important to keep a very important concept in mind. Just like native Python arrays, due to how ``NumPy`` works with ndarrays in the computer's memory, they behave as shown below:\n",
    "\n",
    "Resource:\n",
    "- https://pythontutor.com/render.html#mode=display\n",
    "- https://www.dataquest.io/blog/python-copy-list/"
   ]
  },
  {
   "cell_type": "code",
   "execution_count": 1,
   "id": "6d655427-427b-49dd-9bdf-271529467da4",
   "metadata": {},
   "outputs": [
    {
     "name": "stdout",
     "output_type": "stream",
     "text": [
      "[['A', 'X', 'C'], ['1', '2', '3']]\n"
     ]
    }
   ],
   "source": [
    "a = [['A', 'B', 'C'],['1', '2', '3']]\n",
    "b = a.copy()\n",
    "b[0][1] = 'X'\n",
    "print(a)"
   ]
  },
  {
   "cell_type": "code",
   "execution_count": 2,
   "id": "b75f2dfd-3885-41f8-b069-2bf5cfe55388",
   "metadata": {},
   "outputs": [
    {
     "name": "stdout",
     "output_type": "stream",
     "text": [
      "[['A', 'B', 'C'], ['1', '2', '3']]\n"
     ]
    }
   ],
   "source": [
    "import copy\n",
    "a = [['A', 'B', 'C'],['1', '2', '3']]\n",
    "b = copy.deepcopy(a)\n",
    "b[0][1] = 'X'\n",
    "print(a)"
   ]
  },
  {
   "cell_type": "code",
   "execution_count": 4,
   "id": "4bd24c38-6ebb-4ec6-946a-143fcf83c523",
   "metadata": {},
   "outputs": [
    {
     "name": "stdout",
     "output_type": "stream",
     "text": [
      "[[1, 2, 3, 4, 5], [10, 20, 30, 40, 'X']]\n"
     ]
    }
   ],
   "source": [
    "a = [[1,2,3,4,5], [10,20,30,40,5]]\n",
    "b = a.copy()\n",
    "\n",
    "def teste(lista):\n",
    "    lista[1][4] = 'X'\n",
    "\n",
    "teste(b)\n",
    "print(a)"
   ]
  },
  {
   "cell_type": "code",
   "execution_count": 5,
   "id": "6f2b80b7-09c6-421a-b387-0da901a236d1",
   "metadata": {},
   "outputs": [
    {
     "name": "stdout",
     "output_type": "stream",
     "text": [
      "[[1, 2, 3, 4, 5], [10, 20, 30, 'Y', 'X']] [[1, 2, 3, 4, 5], [10, 20, 30, 'Y', 'X']]\n"
     ]
    }
   ],
   "source": [
    "def teste2(lista):\n",
    "    x = lista.copy()\n",
    "    x[1][3] = 'Y'\n",
    "    return x\n",
    "\n",
    "m = teste2(b)\n",
    "print(a, m)"
   ]
  },
  {
   "cell_type": "markdown",
   "id": "38eb30e1-0bac-41e7-8034-203c4512d73d",
   "metadata": {},
   "source": [
    "<div style=\"background-color: lightgreen; padding: 10px;\">\n",
    "    <h2> Basic Properties\n",
    "</div>"
   ]
  },
  {
   "cell_type": "markdown",
   "id": "eba95b12-210d-4509-aa93-8e1be9779c8d",
   "metadata": {},
   "source": [
    "Basic properties of ``ndarrays``\n",
    "\n",
    "*Dimension and Shape*\n",
    "\n",
    "As we saw before, it is possible to create an ndarray with different ``dimensions`` and ``shapes``. Each ndarray has the ``ndim`` and ``shape`` attributes that store this information. Therefore, to find out the structure of our array, we just need to access these attributes.\n",
    "\n",
    "- https://numpy.org/doc/stable/reference/generated/numpy.ndarray.html"
   ]
  },
  {
   "cell_type": "code",
   "execution_count": 5,
   "id": "8ab6c6e5-0c13-475f-b3cb-37626cb155f3",
   "metadata": {},
   "outputs": [
    {
     "name": "stdout",
     "output_type": "stream",
     "text": [
      "1\n",
      "(5,)\n",
      "--------------------------------\n",
      "2\n",
      "(2, 5)\n",
      "--------------------------------\n",
      "3\n",
      "(2, 2, 2)\n"
     ]
    }
   ],
   "source": [
    "import numpy as np\n",
    "\n",
    "arr = np.array([1, 2, 3, 4, 5])\n",
    "print(arr.ndim)\n",
    "print(arr.shape)\n",
    "\n",
    "print('-'*32)\n",
    "\n",
    "mat = np.array([[1, 2, 3, 4, 5],[1, 2, 3, 4, 5]])\n",
    "print(mat.ndim)\n",
    "print(mat.shape)\n",
    "\n",
    "print('-'*32)\n",
    "\n",
    "tensor = np.array([[[1, 2], [3, 4]], [[1, 0],[0, 1]]])\n",
    "print(tensor.ndim)\n",
    "print(tensor.shape)"
   ]
  },
  {
   "cell_type": "markdown",
   "id": "d7d6e1e6-2b7f-4912-8e7d-27573a2b0af6",
   "metadata": {},
   "source": [
    "---\n",
    "This is extremely important to help us when we have a very large ``ndarray`` and need to recall how large it is. Additionally, these attributes also assist us when we want to create generic functions that operate on ndarrays.\n",
    "\n",
    "From the array's shape, we can also obtain the **number of elements**. However, ndarray objects already have the ``size`` attribute to make this easier."
   ]
  },
  {
   "cell_type": "code",
   "execution_count": 6,
   "id": "bac17bb8-9295-4f07-9bc7-1c8adebb5a3e",
   "metadata": {},
   "outputs": [
    {
     "name": "stdout",
     "output_type": "stream",
     "text": [
      "5\n",
      "--------------------------------\n",
      "10\n",
      "--------------------------------\n",
      "8\n"
     ]
    }
   ],
   "source": [
    "print(arr.size)\n",
    "print('-'*32)\n",
    "\n",
    "print(mat.size)\n",
    "print('-'*32)\n",
    "\n",
    "print(tensor.size)"
   ]
  },
  {
   "cell_type": "markdown",
   "id": "d3d9ab3c-5f20-412e-8d44-9f6b3d848311",
   "metadata": {},
   "source": [
    "<div style=\"background-color: lightgreen; padding: 10px;\">\n",
    "    <h2> Reshape\n",
    "</div>"
   ]
  },
  {
   "cell_type": "markdown",
   "id": "cd4af926-7159-4ca8-aa28-3b0808691d73",
   "metadata": {},
   "source": [
    "Reshaping of ``ndarrays``:\n",
    "\n",
    "Reshaping means changing the shape of an array.\n",
    "\n",
    "The shape of an array is the **number of elements** in **each** dimension.\n",
    "\n",
    "By reshaping we can add or remove dimensions or change number of elements in each dimension.\n",
    "\n",
    "---\n",
    "__Note:__ *Can We Reshape Into any Shape?*\n",
    "\r\n",
    "Yes, as long as the elements required for reshaping are** equa**l in both shapes.\r\n",
    "\r\n",
    "We can reshape an 8 elements 1D array into 4 elements in 2 rows 2D array but we cannot reshape it into a 3 elements 3 rows 2D array as that would require 3x3 = 9 elemen\n",
    "\n",
    "Source: https://www.w3schools.com/python/numpy/numpy_array_reshape.aspts."
   ]
  },
  {
   "cell_type": "code",
   "execution_count": 3,
   "id": "712add1d-d8e7-4092-8d11-4b4f9332d5b9",
   "metadata": {},
   "outputs": [
    {
     "name": "stdout",
     "output_type": "stream",
     "text": [
      "(2, 4)\n"
     ]
    }
   ],
   "source": [
    "import numpy as np\n",
    "before = np.array([[1,2,3,4],[5,6,7,8]])\n",
    "print(before.shape)"
   ]
  },
  {
   "cell_type": "code",
   "execution_count": 4,
   "id": "86091573-0bcd-422c-b523-7b5e4fe40a73",
   "metadata": {},
   "outputs": [
    {
     "name": "stdout",
     "output_type": "stream",
     "text": [
      "[1 2 3 4 5 6 7 8]\n"
     ]
    }
   ],
   "source": [
    "after = before.reshape((8))  # The new array must have the same number of elements\n",
    "print(after)"
   ]
  },
  {
   "cell_type": "code",
   "execution_count": 5,
   "id": "4501808f-a4b4-420e-8f37-ae22e27d0aaf",
   "metadata": {},
   "outputs": [
    {
     "name": "stdout",
     "output_type": "stream",
     "text": [
      "[[1]\n",
      " [2]\n",
      " [3]\n",
      " [4]\n",
      " [5]\n",
      " [6]\n",
      " [7]\n",
      " [8]]\n"
     ]
    }
   ],
   "source": [
    "after = before.reshape((8, 1)) \n",
    "print(after)"
   ]
  },
  {
   "cell_type": "code",
   "execution_count": 6,
   "id": "824f0ff0-c854-43fc-8c5b-5b8ad97351b2",
   "metadata": {},
   "outputs": [
    {
     "name": "stdout",
     "output_type": "stream",
     "text": [
      "[[[1 2]\n",
      "  [3 4]]\n",
      "\n",
      " [[5 6]\n",
      "  [7 8]]]\n"
     ]
    }
   ],
   "source": [
    "after = before.reshape(2, 2, 2)\n",
    "print(after)"
   ]
  },
  {
   "cell_type": "markdown",
   "id": "316229cd-e3cf-44b1-b2a2-cd8e4ca86c0a",
   "metadata": {},
   "source": [
    "<div style=\"background-color: lightgreen; padding: 10px;\">\n",
    "    <h2> Stacking\n",
    "</div>"
   ]
  },
  {
   "cell_type": "markdown",
   "id": "f1959c91-eb9d-4648-9d04-315f8b67eda0",
   "metadata": {},
   "source": [
    "Stacking ``ndarrays``"
   ]
  },
  {
   "cell_type": "code",
   "execution_count": null,
   "id": "3d925e2e-cba5-41de-9f65-21137e4aa763",
   "metadata": {},
   "outputs": [],
   "source": []
  },
  {
   "cell_type": "code",
   "execution_count": null,
   "id": "c1006e73-acf1-4c6f-8720-1254b80151b0",
   "metadata": {},
   "outputs": [],
   "source": []
  },
  {
   "cell_type": "markdown",
   "id": "949b188b-dcd6-4201-8eaa-f97e3ecc4f69",
   "metadata": {},
   "source": [
    "<div style=\"background-color: lightgreen; padding: 10px;\">\n",
    "    <h2> Data Types\n",
    "</div>"
   ]
  },
  {
   "attachments": {
    "87e4ee6b-28b6-4ce9-a0d3-ea351b01c867.png": {
     "image/png": "[encoded data removed]"
    }
   },
   "cell_type": "markdown",
   "id": "5c910e81-37a0-43a3-8f40-36f2e1418a00",
   "metadata": {},
   "source": [
    "NumPy has some extra ``data types``, in comparison with Python, and refer to data types with one character, like ``i`` for integers, ``u`` for unsigned integers etc.\n",
    "\n",
    "![image.png](attachment:87e4ee6b-28b6-4ce9-a0d3-ea351b01c867.png)\n",
    "\n",
    "Below is a list of all data types in NumPy and the characters used to represent them:\r\n",
    "\r\n",
    "- `i` - integer\r\n",
    "- `b` - boolean\r\n",
    "- `u` - unsigned integer\r\n",
    "- `f` - float\r\n",
    "- `c` - complex float\r\n",
    "- `m` - timedelta\r\n",
    "- `M` - datetime\r\n",
    "- `O` - object\r\n",
    "- `S` - string\r\n",
    "- `U` - unicode string\r\n",
    "- `V` - fixed chunk of memory for other type (void)\n",
    "\n",
    "Sources:\n",
    "- https://www.w3schools.com/python/numpy/numpy_data_types.asp\n",
    "- https://www.geeksforgeeks.org/numpy-data-types/\n",
    "- https://numpy.org/doc/stable/user/basics.types.html\n",
    "- https://numpy.org/doc/stable/reference/generated/numpy.ndarray.html"
   ]
  },
  {
   "cell_type": "code",
   "execution_count": 7,
   "id": "5149327c-8d0f-4280-b4f3-0ea18c290426",
   "metadata": {},
   "outputs": [
    {
     "name": "stdout",
     "output_type": "stream",
     "text": [
      "int32\n",
      "<U6\n"
     ]
    }
   ],
   "source": [
    "# Checking the datatype of an array:\n",
    "\n",
    "import numpy as np\n",
    "\n",
    "arr = np.array([1, 2, 3, 4])\n",
    "print(arr.dtype)\n",
    "\n",
    "arr = np.array(['apple', 'banana', 'cherry'])\n",
    "print(arr.dtype)"
   ]
  },
  {
   "cell_type": "code",
   "execution_count": 8,
   "id": "b2913964-c42a-4f79-8ab0-fc11b33932cb",
   "metadata": {},
   "outputs": [
    {
     "ename": "ValueError",
     "evalue": "invalid literal for int() with base 10: 'a'",
     "output_type": "error",
     "traceback": [
      "\u001b[1;31m---------------------------------------------------------------------------\u001b[0m",
      "\u001b[1;31mValueError\u001b[0m                                Traceback (most recent call last)",
      "Cell \u001b[1;32mIn[8], line 3\u001b[0m\n\u001b[0;32m      1\u001b[0m \u001b[38;5;66;03m# A non integer string like 'a' can not be converted to integer (will raise an error):\u001b[39;00m\n\u001b[1;32m----> 3\u001b[0m arr \u001b[38;5;241m=\u001b[39m \u001b[43mnp\u001b[49m\u001b[38;5;241;43m.\u001b[39;49m\u001b[43marray\u001b[49m\u001b[43m(\u001b[49m\u001b[43m[\u001b[49m\u001b[38;5;124;43m'\u001b[39;49m\u001b[38;5;124;43ma\u001b[39;49m\u001b[38;5;124;43m'\u001b[39;49m\u001b[43m,\u001b[49m\u001b[43m \u001b[49m\u001b[38;5;124;43m'\u001b[39;49m\u001b[38;5;124;43m2\u001b[39;49m\u001b[38;5;124;43m'\u001b[39;49m\u001b[43m,\u001b[49m\u001b[43m \u001b[49m\u001b[38;5;124;43m'\u001b[39;49m\u001b[38;5;124;43m3\u001b[39;49m\u001b[38;5;124;43m'\u001b[39;49m\u001b[43m]\u001b[49m\u001b[43m,\u001b[49m\u001b[43m \u001b[49m\u001b[43mdtype\u001b[49m\u001b[38;5;241;43m=\u001b[39;49m\u001b[38;5;124;43m'\u001b[39;49m\u001b[38;5;124;43mi\u001b[39;49m\u001b[38;5;124;43m'\u001b[39;49m\u001b[43m)\u001b[49m\n",
      "\u001b[1;31mValueError\u001b[0m: invalid literal for int() with base 10: 'a'"
     ]
    }
   ],
   "source": [
    "# A non integer string like 'a' can not be converted to integer (will raise an error):\n",
    "\n",
    "arr = np.array(['a', '2', '3'], dtype='i')"
   ]
  },
  {
   "cell_type": "code",
   "execution_count": null,
   "id": "37a5bf3a-2fbd-431b-91f8-7272c737ffe4",
   "metadata": {},
   "outputs": [],
   "source": []
  },
  {
   "cell_type": "code",
   "execution_count": null,
   "id": "76c12e6b-15f9-409d-8d1e-84cb1e96e9af",
   "metadata": {},
   "outputs": [],
   "source": []
  },
  {
   "cell_type": "markdown",
   "id": "1da8d8ba-b899-4eaf-b519-2381e445878f",
   "metadata": {},
   "source": [
    "---\n",
    "Converting data type on existing ``ndarray``:\n",
    "\n",
    "The best way to change the data type of an existing array, is to make a copy of the array with the astype() method.\n",
    "\n",
    "The ``astype()`` function creates a copy of the array, and allows you to specify the ``data type`` as a parameter.\n",
    "\n",
    "The data type can be specified using a string, like '``f``' for float, '``i``' for integer etc. or you can use the data type directly like ``float`` for float and ``int`` for integer."
   ]
  },
  {
   "cell_type": "code",
   "execution_count": null,
   "id": "bc6b4836-6f56-43b5-a51c-419b2a7691b8",
   "metadata": {},
   "outputs": [],
   "source": []
  },
  {
   "cell_type": "code",
   "execution_count": null,
   "id": "d7b059a0-3e1d-4a58-a0d6-b767cc5c9f1e",
   "metadata": {},
   "outputs": [],
   "source": []
  },
  {
   "cell_type": "code",
   "execution_count": null,
   "id": "665e6670-cbe0-4ab0-ae3f-a9b7efae2be5",
   "metadata": {},
   "outputs": [],
   "source": []
  },
  {
   "cell_type": "markdown",
   "id": "f273db8f-ce8c-4e94-8949-488d15e28fcb",
   "metadata": {},
   "source": [
    "<div style=\"background-color: lightgreen; padding: 10px;\">\n",
    "    <h2> Index and Slicing\n",
    "</div>"
   ]
  },
  {
   "cell_type": "markdown",
   "id": "104f769e-8c59-4531-96d3-c2b95fedec19",
   "metadata": {},
   "source": [
    "``Array indexing`` is the same as accessing an array element.\n",
    "\n",
    "You can access an array element by referring to its index number.\n",
    "\n",
    "The indexes in NumPy arrays start with 0, meaning that the first element has index 0, and the second has index 1 etc.\n",
    "\n",
    "Sources:\n",
    "- https://www.w3schools.com/python/numpy/numpy_array_indexing.asp\n",
    "- https://www.w3schools.com/python/numpy/numpy_array_slicing.asp"
   ]
  },
  {
   "cell_type": "code",
   "execution_count": null,
   "id": "51ba260f-fceb-4385-a294-f00c68537a8b",
   "metadata": {},
   "outputs": [],
   "source": []
  },
  {
   "cell_type": "code",
   "execution_count": null,
   "id": "c4bcbeeb-e5d5-4764-9e33-dedb9c483f44",
   "metadata": {},
   "outputs": [],
   "source": []
  },
  {
   "cell_type": "markdown",
   "id": "1b7b83fa-4ddc-47f8-8334-b5bdece8b538",
   "metadata": {},
   "source": [
    "<div style=\"background-color: lightgreen; padding: 10px;\">\n",
    "    <h2> Advanced Indexing\n",
    "</div>"
   ]
  },
  {
   "cell_type": "markdown",
   "id": "b238a178-f6d4-4407-81af-82d0ef97ebf4",
   "metadata": {},
   "source": [
    "- https://www.geeksforgeeks.org/numpy-slicing-and-indexing/"
   ]
  },
  {
   "cell_type": "code",
   "execution_count": null,
   "id": "86db41a7-1708-4121-a6ad-f5cb69bd18b7",
   "metadata": {},
   "outputs": [],
   "source": []
  },
  {
   "cell_type": "code",
   "execution_count": null,
   "id": "3a0f0f20-4e6b-4dec-95d0-cbf636b3b5a3",
   "metadata": {},
   "outputs": [],
   "source": []
  },
  {
   "cell_type": "markdown",
   "id": "90408bcf-55ce-4d51-8fe3-a7e5f6f52f60",
   "metadata": {},
   "source": [
    "<div style=\"background-color: lightgreen; padding: 10px;\">\n",
    "    <h2> Exercices\n",
    "</div>"
   ]
  },
  {
   "cell_type": "code",
   "execution_count": null,
   "id": "1b20a08c-15d8-477c-9bfc-4a388f6596ef",
   "metadata": {},
   "outputs": [],
   "source": []
  },
  {
   "cell_type": "code",
   "execution_count": null,
   "id": "ce59d81a-6736-467b-8dd4-d156e4377831",
   "metadata": {},
   "outputs": [],
   "source": []
  },
  {
   "cell_type": "code",
   "execution_count": null,
   "id": "c07cd8ab-df2f-4f6e-850d-6c0c737f4fe4",
   "metadata": {},
   "outputs": [],
   "source": []
  }
 ],
 "metadata": {
  "kernelspec": {
   "display_name": "Python 3 (ipykernel)",
   "language": "python",
   "name": "python3"
  },
  "language_info": {
   "codemirror_mode": {
    "name": "ipython",
    "version": 3
   },
   "file_extension": ".py",
   "mimetype": "text/x-python",
   "name": "python",
   "nbconvert_exporter": "python",
   "pygments_lexer": "ipython3",
   "version": "3.11.5"
  }
 },
 "nbformat": 4,
 "nbformat_minor": 5
}
