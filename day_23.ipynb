{
 "cells": [
  {
   "cell_type": "markdown",
   "id": "f5f9cb93-72f3-419f-a827-d12b4562a5e7",
   "metadata": {},
   "source": [
    "<div style=\"background-color: lightgray; padding: 18px;\">\n",
    "    <h1> Learning Python | Day 23\n",
    "    \n",
    "</div>"
   ]
  },
  {
   "cell_type": "markdown",
   "id": "98c4437e-63f4-40de-83c9-3df115ca35f6",
   "metadata": {},
   "source": [
    "### Data Visualization with Seaborn:\n",
    "\n",
    "- Barplot;\n",
    "- Countplot;\n",
    "- Boxplot;\n",
    "- Histplot and KDEplot;\n",
    "\n",
    "Next class:\n",
    "- Jointplot;\n",
    "- LMplot and Scatterplot;\n",
    "- Heatmap;\n",
    "- Pairplot;\n",
    "\n",
    "Sources:\n",
    "- https://matplotlib.org/\n",
    "- https://matplotlib.org/stable/users/explain/colors/colormaps.html\n",
    "- https://seaborn.pydata.org/tutorial.html\n",
    "- https://seaborn.pydata.org/examples/index.html\n",
    "- https://python.plainenglish.io/data-visualization-with-matplotlib-and-seaborn-part-4-5-ca2a485fc4e5\n",
    "- https://www.kaggle.com/datasets/ngawangchoeda/car-price-dataset"
   ]
  },
  {
   "cell_type": "markdown",
   "id": "15591ee6-5842-401d-83a1-838660a0d1d3",
   "metadata": {},
   "source": [
    "<div style=\"background-color: lightgreen; padding: 10px;\">\n",
    "    <h2> Introduction\n",
    "</div>"
   ]
  },
  {
   "cell_type": "markdown",
   "id": "dc3fc7e5-72da-4f38-a5cb-27191a2626d5",
   "metadata": {},
   "source": [
    "In the past two notebooks, we've covered the fundamental concepts of ``Matplotlib``, laying the groundwork for creating basic visualizations in python.\n",
    "\n",
    "Now, we're ready to take our data visualization skills to the next level. In this notebook, we'll delve into the ``Seaborn`` library, which offers enhanced aesthetics and additional plotting functions. Leveraging the power of Seaborn along with datasets from Pandas, we'll explore advanced techniques to construct compelling visualizations that extract meaningful insights from our data."
   ]
  },
  {
   "cell_type": "code",
   "execution_count": 27,
   "id": "a2f4ccec-74ab-4252-89e8-8b9b9d8fc3a0",
   "metadata": {},
   "outputs": [],
   "source": [
    "import seaborn as sns\n",
    "import pandas as pd\n",
    "import numpy as np\n",
    "import matplotlib.pyplot as plt"
   ]
  },
  {
   "cell_type": "markdown",
   "id": "10639444-eda9-481f-b741-5bf966b13822",
   "metadata": {},
   "source": [
    "<div style=\"background-color: lightgreen; padding: 10px;\">\n",
    "    <h2> Dataset\n",
    "</div>"
   ]
  },
  {
   "cell_type": "markdown",
   "id": "afe0f995-9deb-4761-88ff-891934768b92",
   "metadata": {},
   "source": [
    "The dataset we are going to use here is stored in ``car_price.csv``, downloaded from kaggle datasets.\n",
    "\n",
    "This dataset is basically a list of cars including its details, such as fuel type, body type, the number of doors, fuel consumption rate, etc. We will load this dataset using ``pd.read_csv()``."
   ]
  },
  {
   "cell_type": "code",
   "execution_count": 2,
   "id": "be70620c-4d08-4edf-b130-db74eb1c0436",
   "metadata": {},
   "outputs": [
    {
     "name": "stdout",
     "output_type": "stream",
     "text": [
      "(205, 26)\n"
     ]
    },
    {
     "data": {
      "text/html": [
       "<div>\n",
       "<style scoped>\n",
       "    .dataframe tbody tr th:only-of-type {\n",
       "        vertical-align: middle;\n",
       "    }\n",
       "\n",
       "    .dataframe tbody tr th {\n",
       "        vertical-align: top;\n",
       "    }\n",
       "\n",
       "    .dataframe thead th {\n",
       "        text-align: right;\n",
       "    }\n",
       "</style>\n",
       "<table border=\"1\" class=\"dataframe\">\n",
       "  <thead>\n",
       "    <tr style=\"text-align: right;\">\n",
       "      <th></th>\n",
       "      <th>car_ID</th>\n",
       "      <th>symboling</th>\n",
       "      <th>CarName</th>\n",
       "      <th>fueltype</th>\n",
       "      <th>aspiration</th>\n",
       "      <th>doornumber</th>\n",
       "      <th>carbody</th>\n",
       "      <th>drivewheel</th>\n",
       "      <th>enginelocation</th>\n",
       "      <th>wheelbase</th>\n",
       "      <th>...</th>\n",
       "      <th>enginesize</th>\n",
       "      <th>fuelsystem</th>\n",
       "      <th>boreratio</th>\n",
       "      <th>stroke</th>\n",
       "      <th>compressionratio</th>\n",
       "      <th>horsepower</th>\n",
       "      <th>peakrpm</th>\n",
       "      <th>citympg</th>\n",
       "      <th>highwaympg</th>\n",
       "      <th>price</th>\n",
       "    </tr>\n",
       "  </thead>\n",
       "  <tbody>\n",
       "    <tr>\n",
       "      <th>0</th>\n",
       "      <td>1</td>\n",
       "      <td>3</td>\n",
       "      <td>alfa-romero giulia</td>\n",
       "      <td>gas</td>\n",
       "      <td>std</td>\n",
       "      <td>two</td>\n",
       "      <td>convertible</td>\n",
       "      <td>rwd</td>\n",
       "      <td>front</td>\n",
       "      <td>88.6</td>\n",
       "      <td>...</td>\n",
       "      <td>130</td>\n",
       "      <td>mpfi</td>\n",
       "      <td>3.47</td>\n",
       "      <td>2.68</td>\n",
       "      <td>9.0</td>\n",
       "      <td>111</td>\n",
       "      <td>5000</td>\n",
       "      <td>21</td>\n",
       "      <td>27</td>\n",
       "      <td>13495.0</td>\n",
       "    </tr>\n",
       "    <tr>\n",
       "      <th>1</th>\n",
       "      <td>2</td>\n",
       "      <td>3</td>\n",
       "      <td>alfa-romero stelvio</td>\n",
       "      <td>gas</td>\n",
       "      <td>std</td>\n",
       "      <td>two</td>\n",
       "      <td>convertible</td>\n",
       "      <td>rwd</td>\n",
       "      <td>front</td>\n",
       "      <td>88.6</td>\n",
       "      <td>...</td>\n",
       "      <td>130</td>\n",
       "      <td>mpfi</td>\n",
       "      <td>3.47</td>\n",
       "      <td>2.68</td>\n",
       "      <td>9.0</td>\n",
       "      <td>111</td>\n",
       "      <td>5000</td>\n",
       "      <td>21</td>\n",
       "      <td>27</td>\n",
       "      <td>16500.0</td>\n",
       "    </tr>\n",
       "    <tr>\n",
       "      <th>2</th>\n",
       "      <td>3</td>\n",
       "      <td>1</td>\n",
       "      <td>alfa-romero Quadrifoglio</td>\n",
       "      <td>gas</td>\n",
       "      <td>std</td>\n",
       "      <td>two</td>\n",
       "      <td>hatchback</td>\n",
       "      <td>rwd</td>\n",
       "      <td>front</td>\n",
       "      <td>94.5</td>\n",
       "      <td>...</td>\n",
       "      <td>152</td>\n",
       "      <td>mpfi</td>\n",
       "      <td>2.68</td>\n",
       "      <td>3.47</td>\n",
       "      <td>9.0</td>\n",
       "      <td>154</td>\n",
       "      <td>5000</td>\n",
       "      <td>19</td>\n",
       "      <td>26</td>\n",
       "      <td>16500.0</td>\n",
       "    </tr>\n",
       "    <tr>\n",
       "      <th>3</th>\n",
       "      <td>4</td>\n",
       "      <td>2</td>\n",
       "      <td>audi 100 ls</td>\n",
       "      <td>gas</td>\n",
       "      <td>std</td>\n",
       "      <td>four</td>\n",
       "      <td>sedan</td>\n",
       "      <td>fwd</td>\n",
       "      <td>front</td>\n",
       "      <td>99.8</td>\n",
       "      <td>...</td>\n",
       "      <td>109</td>\n",
       "      <td>mpfi</td>\n",
       "      <td>3.19</td>\n",
       "      <td>3.40</td>\n",
       "      <td>10.0</td>\n",
       "      <td>102</td>\n",
       "      <td>5500</td>\n",
       "      <td>24</td>\n",
       "      <td>30</td>\n",
       "      <td>13950.0</td>\n",
       "    </tr>\n",
       "    <tr>\n",
       "      <th>4</th>\n",
       "      <td>5</td>\n",
       "      <td>2</td>\n",
       "      <td>audi 100ls</td>\n",
       "      <td>gas</td>\n",
       "      <td>std</td>\n",
       "      <td>four</td>\n",
       "      <td>sedan</td>\n",
       "      <td>4wd</td>\n",
       "      <td>front</td>\n",
       "      <td>99.4</td>\n",
       "      <td>...</td>\n",
       "      <td>136</td>\n",
       "      <td>mpfi</td>\n",
       "      <td>3.19</td>\n",
       "      <td>3.40</td>\n",
       "      <td>8.0</td>\n",
       "      <td>115</td>\n",
       "      <td>5500</td>\n",
       "      <td>18</td>\n",
       "      <td>22</td>\n",
       "      <td>17450.0</td>\n",
       "    </tr>\n",
       "  </tbody>\n",
       "</table>\n",
       "<p>5 rows × 26 columns</p>\n",
       "</div>"
      ],
      "text/plain": [
       "   car_ID  symboling                   CarName fueltype aspiration doornumber  \\\n",
       "0       1          3        alfa-romero giulia      gas        std        two   \n",
       "1       2          3       alfa-romero stelvio      gas        std        two   \n",
       "2       3          1  alfa-romero Quadrifoglio      gas        std        two   \n",
       "3       4          2               audi 100 ls      gas        std       four   \n",
       "4       5          2                audi 100ls      gas        std       four   \n",
       "\n",
       "       carbody drivewheel enginelocation  wheelbase  ...  enginesize  \\\n",
       "0  convertible        rwd          front       88.6  ...         130   \n",
       "1  convertible        rwd          front       88.6  ...         130   \n",
       "2    hatchback        rwd          front       94.5  ...         152   \n",
       "3        sedan        fwd          front       99.8  ...         109   \n",
       "4        sedan        4wd          front       99.4  ...         136   \n",
       "\n",
       "   fuelsystem  boreratio  stroke compressionratio horsepower  peakrpm citympg  \\\n",
       "0        mpfi       3.47    2.68              9.0        111     5000      21   \n",
       "1        mpfi       3.47    2.68              9.0        111     5000      21   \n",
       "2        mpfi       2.68    3.47              9.0        154     5000      19   \n",
       "3        mpfi       3.19    3.40             10.0        102     5500      24   \n",
       "4        mpfi       3.19    3.40              8.0        115     5500      18   \n",
       "\n",
       "   highwaympg    price  \n",
       "0          27  13495.0  \n",
       "1          27  16500.0  \n",
       "2          26  16500.0  \n",
       "3          30  13950.0  \n",
       "4          22  17450.0  \n",
       "\n",
       "[5 rows x 26 columns]"
      ]
     },
     "execution_count": 2,
     "metadata": {},
     "output_type": "execute_result"
    }
   ],
   "source": [
    "df_car = pd.read_csv('car_price.csv')\n",
    "print(df_car.shape)\n",
    "df_car.head()"
   ]
  },
  {
   "cell_type": "code",
   "execution_count": 3,
   "id": "a3b94bf5-70cc-43bc-b1f5-4bbe1f032c51",
   "metadata": {},
   "outputs": [
    {
     "data": {
      "text/plain": [
       "Index(['car_ID', 'symboling', 'CarName', 'fueltype', 'aspiration',\n",
       "       'doornumber', 'carbody', 'drivewheel', 'enginelocation', 'wheelbase',\n",
       "       'carlength', 'carwidth', 'carheight', 'curbweight', 'enginetype',\n",
       "       'cylindernumber', 'enginesize', 'fuelsystem', 'boreratio', 'stroke',\n",
       "       'compressionratio', 'horsepower', 'peakrpm', 'citympg', 'highwaympg',\n",
       "       'price'],\n",
       "      dtype='object')"
      ]
     },
     "execution_count": 3,
     "metadata": {},
     "output_type": "execute_result"
    }
   ],
   "source": [
    "df_car.columns"
   ]
  },
  {
   "cell_type": "markdown",
   "id": "9f8a27c2-258d-43f6-b301-5eb146dcc029",
   "metadata": {},
   "source": [
    "<div style=\"background-color: lightgreen; padding: 10px;\">\n",
    "    <h2> Barplot\n",
    "</div>"
   ]
  },
  {
   "cell_type": "markdown",
   "id": "53f5fe24-f12d-4973-b02a-47c022ae87e0",
   "metadata": {},
   "source": [
    "What we are going to do now is to count the number of cars of each body type. \n",
    "\n",
    "To do so, we can apply ``value_counts()`` function to ``carbody`` column."
   ]
  },
  {
   "cell_type": "code",
   "execution_count": 4,
   "id": "59e60aef-51e0-43a9-934c-58a1a2b4bfa0",
   "metadata": {},
   "outputs": [
    {
     "data": {
      "text/plain": [
       "sedan          96\n",
       "hatchback      70\n",
       "wagon          25\n",
       "hardtop         8\n",
       "convertible     6\n",
       "Name: carbody, dtype: int64"
      ]
     },
     "execution_count": 4,
     "metadata": {},
     "output_type": "execute_result"
    }
   ],
   "source": [
    "df_car['carbody'].value_counts()"
   ]
  },
  {
   "cell_type": "markdown",
   "id": "1e414d3a-7f08-4813-a3c7-a78c2d216d8e",
   "metadata": {},
   "source": [
    "Previously, in Matplotlib we can use ``plt.bar()`` to construct a bar chart from the data in Figure 3. \n",
    "\n",
    "Instead of using that one, here we will employ ``sns.barplot()`` to do the similar task. \n",
    "\n",
    "The arguments required to be passed are similar to ``plt.bar()``, namely ``x=body.index`` and ``y=body.values``, in which ``body.index`` is basically an array of sedan, hatchback, wagon, etc, while ``body.values`` contains the number of 96, 70, 24, etc."
   ]
  },
  {
   "cell_type": "code",
   "execution_count": 5,
   "id": "9bd276ed-0794-4b39-a45b-ad56802efece",
   "metadata": {},
   "outputs": [
    {
     "data": {
      "image/png": "[encoded data removed]",
      "text/plain": [
       "<Figure size 640x480 with 1 Axes>"
      ]
     },
     "metadata": {},
     "output_type": "display_data"
    }
   ],
   "source": [
    "body = df_car['carbody'].value_counts()\n",
    "\n",
    "sns.barplot(x=body.index, y=body.values)\n",
    "\n",
    "plt.title('Number of Cars of Each Type')\n",
    "plt.xlabel('Car Type')\n",
    "plt.ylabel('Car Count')\n",
    "\n",
    "plt.show()"
   ]
  },
  {
   "cell_type": "markdown",
   "id": "c36bd567-8ad6-44f5-9c94-603f3cfc2ee1",
   "metadata": {},
   "source": [
    "If you take a closer look at the code above, you can see that we use both ``sns`` and ``plt``. \n",
    "\n",
    "In this case, the graph itself is created using ``sns.barplot()`` while the other attributes are modified using Matplotlib functions, i.e., ``plt.title()``, ``plt.xlabel()``, and ``plt.ylabel()``. In fact, both modules can actually work together because Seaborn is originally built on top of Matplotlib. I\n",
    "\n",
    "n this first example, you might not see any advantage of using Seaborn just yet. But later you are going to notice that there are a lot of things we can do easily using this module."
   ]
  },
  {
   "cell_type": "markdown",
   "id": "996a16ba-2102-4a05-965d-40a07fb37ded",
   "metadata": {},
   "source": [
    "---\n",
    "Now I would like to demonstrate how to visualize the **average value** of a specific column grouped by a categorical data in the dataset. \n",
    "Well, it might sound a bit complicated at first, but you will get the point very soon. In the following code, I would like to find out the average ``engine size`` (numerical) of each ``car type`` (categorical):"
   ]
  },
  {
   "cell_type": "code",
   "execution_count": 6,
   "id": "ff9d929a-5798-40a9-a3ed-353b1fd5a911",
   "metadata": {},
   "outputs": [
    {
     "data": {
      "image/png": "[encoded data removed]",
      "text/plain": [
       "<Figure size 640x480 with 1 Axes>"
      ]
     },
     "metadata": {},
     "output_type": "display_data"
    }
   ],
   "source": [
    "sns.barplot(x=df_car['carbody'], y=df_car['enginesize'], \n",
    "            errorbar='sd', zorder=2)\n",
    "\n",
    "plt.grid(axis='y', zorder=1)\n",
    "plt.show()"
   ]
  },
  {
   "cell_type": "markdown",
   "id": "7253c5fd-498d-4f78-9c6b-9cbd3d50cf23",
   "metadata": {},
   "source": [
    "In the code above, we set the ``carbody`` column of ``df_car`` for the x param while the ``enginesize`` column for the y. \n",
    "\n",
    "Since we are working with the ``enginesize value`` (rather than the count) we can also display the so-called ``errorbar``. In this case, we want the graph to show an information regarding the data distribution as well. Hence, I set the errorbar to ``sd`` which essentially stands for **standard deviation**. Here, standard deviation is displayed in form of a black vertical line. \n",
    "\n",
    "In the above case, since the line belongs to hardtop cars is longer than that of wagon cars, so is the standard deviation. In other words, we can say that the enginesize distribution of hardtop is **more widespread** than wagon."
   ]
  },
  {
   "cell_type": "markdown",
   "id": "28d91d93-b782-4dea-a8b9-3fe0b8b9fe1f",
   "metadata": {},
   "source": [
    "---\n",
    "``Seaborn`` is also created to be compatible with ``Pandas``. \n",
    "\n",
    "Thanks to this feature, we can simply write the column name which the data is going to be displayed. The data frame name itself goes into the ``data`` parameter."
   ]
  },
  {
   "cell_type": "code",
   "execution_count": 8,
   "id": "187c46e2-9e47-4723-8485-9596cc55c5fc",
   "metadata": {},
   "outputs": [
    {
     "data": {
      "image/png": "[encoded data removed]",
      "text/plain": [
       "<Figure size 640x480 with 1 Axes>"
      ]
     },
     "metadata": {},
     "output_type": "display_data"
    }
   ],
   "source": [
    "sns.barplot(x='drivewheel', y='enginesize', data=df_car, \n",
    "            errorbar='sd', color='lightblue')\n",
    "plt.show()"
   ]
  },
  {
   "cell_type": "markdown",
   "id": "086c6d77-961e-4b4a-b8dd-3ffbe1f25655",
   "metadata": {},
   "source": [
    "**Conclusion:** *In case you’re not familiar with cars, rwd, fwd and 4wd are abbreviations for Rear-Wheel Drive, Front-Wheel Drive and Four-Wheel Drive, respectively. These terms essentially indicate which set of wheels on the car is responsible for propelling it forward.*\n",
    "\n",
    "Based on the above barplot, we can observe that most rwd cars have bigger engine size as compared to the other drivewheel categories. This notion is proven since the average enginesize of rwd cars is the highest among the others. Furthermore, it is also seen that its distribution is the widest one among the others as well."
   ]
  },
  {
   "cell_type": "markdown",
   "id": "44bf20bb-6327-4f88-8451-0c1f4f0b98df",
   "metadata": {},
   "source": [
    "---\n",
    "``Seaborn`` does not have a specific function for horizontal bar charts. So, if you want to make it horizontal you can just swap the value for x and y:"
   ]
  },
  {
   "cell_type": "code",
   "execution_count": 10,
   "id": "df930ffa-6b66-4d1d-bf51-886118307afe",
   "metadata": {},
   "outputs": [
    {
     "data": {
      "image/png": "[encoded data removed]",
      "text/plain": [
       "<Figure size 640x480 with 1 Axes>"
      ]
     },
     "metadata": {},
     "output_type": "display_data"
    }
   ],
   "source": [
    "sns.barplot(x='enginesize', y='drivewheel', data=df_car, \n",
    "            errorbar='sd', color='lightblue')\n",
    "plt.show()"
   ]
  },
  {
   "cell_type": "markdown",
   "id": "c549983c-9c30-463c-b48c-aaf69cdaf5e2",
   "metadata": {},
   "source": [
    "---\n",
    "Another example:"
   ]
  },
  {
   "cell_type": "code",
   "execution_count": 11,
   "id": "ba4b1128-3789-4a82-a703-3b395c4b1c42",
   "metadata": {},
   "outputs": [
    {
     "data": {
      "image/png": "[encoded data removed]",
      "text/plain": [
       "<Figure size 900x500 with 1 Axes>"
      ]
     },
     "metadata": {},
     "output_type": "display_data"
    }
   ],
   "source": [
    "plt.figure(figsize=(9,5))\n",
    "sns.barplot(x='highwaympg', y='price', data=df_car, palette='mako')\n",
    "plt.show()"
   ]
  },
  {
   "cell_type": "markdown",
   "id": "137df532-b46b-4d57-9598-a755b74a26b5",
   "metadata": {},
   "source": [
    "There is an interesting thing we can observe from the above figure:\n",
    "\n",
    "The trend shows that ``price`` and ``highwaympg`` are somewhat correlated, in a sense that cheaper cars have a tendency to have higher MPG, i.e., more fuel-efficient. On the other hand, expensive car owners might be extremely rich since not only they need to purchase the car itself, but they also need to spend a lot of money for fuel. In addition to the above code, here I use a palette named ``mako`` to make the graph look more colorful. In fact, you can actually pass any Matplotlib colormaps to the param which you can see the list in the source link."
   ]
  },
  {
   "cell_type": "markdown",
   "id": "fa4ed57c-0683-4ca9-998b-e7bdbe3ea9bf",
   "metadata": {},
   "source": [
    "*Conclusion: ``sns.barplot()`` takes two main arguments: x and y, in which either x or y needs to be numerical and the other one can be either numerical or categorical. In a case where we use numerical data for both axes, the one put in x will be perceived as categorical.*"
   ]
  },
  {
   "cell_type": "markdown",
   "id": "860d2c42-4238-42e7-a137-9fe2dd15b973",
   "metadata": {},
   "source": [
    "<div style=\"background-color: lightgreen; padding: 10px;\">\n",
    "    <h2> Countplot\n",
    "</div>"
   ]
  },
  {
   "cell_type": "markdown",
   "id": "7ab09806-0347-473a-9c4b-f9ae20b8878b",
   "metadata": {},
   "source": [
    "Before we get into the countplot function, let's load the **Titanic** dataset first.\n",
    "\n",
    "This dataset basically consists of the details of Titanic passengers such as name, gender, age, and the status whether he or she survived the disaster:"
   ]
  },
  {
   "cell_type": "code",
   "execution_count": 12,
   "id": "9925f371-d51a-48f7-b65e-5bcb64a7455c",
   "metadata": {},
   "outputs": [
    {
     "data": {
      "text/html": [
       "<div>\n",
       "<style scoped>\n",
       "    .dataframe tbody tr th:only-of-type {\n",
       "        vertical-align: middle;\n",
       "    }\n",
       "\n",
       "    .dataframe tbody tr th {\n",
       "        vertical-align: top;\n",
       "    }\n",
       "\n",
       "    .dataframe thead th {\n",
       "        text-align: right;\n",
       "    }\n",
       "</style>\n",
       "<table border=\"1\" class=\"dataframe\">\n",
       "  <thead>\n",
       "    <tr style=\"text-align: right;\">\n",
       "      <th></th>\n",
       "      <th>PassengerId</th>\n",
       "      <th>Survived</th>\n",
       "      <th>Pclass</th>\n",
       "      <th>Name</th>\n",
       "      <th>Sex</th>\n",
       "      <th>Age</th>\n",
       "      <th>SibSp</th>\n",
       "      <th>Parch</th>\n",
       "      <th>Ticket</th>\n",
       "      <th>Fare</th>\n",
       "      <th>Cabin</th>\n",
       "      <th>Embarked</th>\n",
       "    </tr>\n",
       "  </thead>\n",
       "  <tbody>\n",
       "    <tr>\n",
       "      <th>0</th>\n",
       "      <td>1</td>\n",
       "      <td>0</td>\n",
       "      <td>3</td>\n",
       "      <td>Braund, Mr. Owen Harris</td>\n",
       "      <td>male</td>\n",
       "      <td>22.0</td>\n",
       "      <td>1</td>\n",
       "      <td>0</td>\n",
       "      <td>A/5 21171</td>\n",
       "      <td>7.2500</td>\n",
       "      <td>NaN</td>\n",
       "      <td>S</td>\n",
       "    </tr>\n",
       "    <tr>\n",
       "      <th>1</th>\n",
       "      <td>2</td>\n",
       "      <td>1</td>\n",
       "      <td>1</td>\n",
       "      <td>Cumings, Mrs. John Bradley (Florence Briggs Th...</td>\n",
       "      <td>female</td>\n",
       "      <td>38.0</td>\n",
       "      <td>1</td>\n",
       "      <td>0</td>\n",
       "      <td>PC 17599</td>\n",
       "      <td>71.2833</td>\n",
       "      <td>C85</td>\n",
       "      <td>C</td>\n",
       "    </tr>\n",
       "    <tr>\n",
       "      <th>2</th>\n",
       "      <td>3</td>\n",
       "      <td>1</td>\n",
       "      <td>3</td>\n",
       "      <td>Heikkinen, Miss. Laina</td>\n",
       "      <td>female</td>\n",
       "      <td>26.0</td>\n",
       "      <td>0</td>\n",
       "      <td>0</td>\n",
       "      <td>STON/O2. 3101282</td>\n",
       "      <td>7.9250</td>\n",
       "      <td>NaN</td>\n",
       "      <td>S</td>\n",
       "    </tr>\n",
       "    <tr>\n",
       "      <th>3</th>\n",
       "      <td>4</td>\n",
       "      <td>1</td>\n",
       "      <td>1</td>\n",
       "      <td>Futrelle, Mrs. Jacques Heath (Lily May Peel)</td>\n",
       "      <td>female</td>\n",
       "      <td>35.0</td>\n",
       "      <td>1</td>\n",
       "      <td>0</td>\n",
       "      <td>113803</td>\n",
       "      <td>53.1000</td>\n",
       "      <td>C123</td>\n",
       "      <td>S</td>\n",
       "    </tr>\n",
       "    <tr>\n",
       "      <th>4</th>\n",
       "      <td>5</td>\n",
       "      <td>0</td>\n",
       "      <td>3</td>\n",
       "      <td>Allen, Mr. William Henry</td>\n",
       "      <td>male</td>\n",
       "      <td>35.0</td>\n",
       "      <td>0</td>\n",
       "      <td>0</td>\n",
       "      <td>373450</td>\n",
       "      <td>8.0500</td>\n",
       "      <td>NaN</td>\n",
       "      <td>S</td>\n",
       "    </tr>\n",
       "  </tbody>\n",
       "</table>\n",
       "</div>"
      ],
      "text/plain": [
       "   PassengerId  Survived  Pclass  \\\n",
       "0            1         0       3   \n",
       "1            2         1       1   \n",
       "2            3         1       3   \n",
       "3            4         1       1   \n",
       "4            5         0       3   \n",
       "\n",
       "                                                Name     Sex   Age  SibSp  \\\n",
       "0                            Braund, Mr. Owen Harris    male  22.0      1   \n",
       "1  Cumings, Mrs. John Bradley (Florence Briggs Th...  female  38.0      1   \n",
       "2                             Heikkinen, Miss. Laina  female  26.0      0   \n",
       "3       Futrelle, Mrs. Jacques Heath (Lily May Peel)  female  35.0      1   \n",
       "4                           Allen, Mr. William Henry    male  35.0      0   \n",
       "\n",
       "   Parch            Ticket     Fare Cabin Embarked  \n",
       "0      0         A/5 21171   7.2500   NaN        S  \n",
       "1      0          PC 17599  71.2833   C85        C  \n",
       "2      0  STON/O2. 3101282   7.9250   NaN        S  \n",
       "3      0            113803  53.1000  C123        S  \n",
       "4      0            373450   8.0500   NaN        S  "
      ]
     },
     "execution_count": 12,
     "metadata": {},
     "output_type": "execute_result"
    }
   ],
   "source": [
    "df_titanic = pd.read_csv('titanic.csv')\n",
    "df_titanic.head()"
   ]
  },
  {
   "cell_type": "markdown",
   "id": "87774de7-a17f-40f2-812f-b7359ad2aa21",
   "metadata": {},
   "source": [
    "In this chapter let's talk about ``sns.countplot()``, a function we can use to visualize the count of a specific category. \n",
    "\n",
    "Since this function is only designed for counting, hence the only main thing we need to pass for the argument is an array containing a bunch of different categories. \n",
    "\n",
    "The first example I want to show you is the graph visualizing the number of males and females on board:"
   ]
  },
  {
   "cell_type": "code",
   "execution_count": 24,
   "id": "11698e4a-d118-4315-90d7-3a02bf3061cb",
   "metadata": {},
   "outputs": [
    {
     "data": {
      "image/png": "[encoded data removed]",
      "text/plain": [
       "<Figure size 640x480 with 1 Axes>"
      ]
     },
     "metadata": {},
     "output_type": "display_data"
    }
   ],
   "source": [
    "sns.countplot(x=df_titanic['Sex'], palette='Blues')\n",
    "plt.title('Number of Titanic Passengers Grouped by Gender')\n",
    "plt.show()"
   ]
  },
  {
   "cell_type": "markdown",
   "id": "f8710f02-e580-4582-9c36-a87401d6bdcb",
   "metadata": {},
   "source": [
    "Converting this chart into horizontal is simple, we can just change ``x=’Sex’`` to ``y=’Sex’``:"
   ]
  },
  {
   "cell_type": "code",
   "execution_count": 16,
   "id": "ea52a30d-fbdb-4268-947a-84418bb60737",
   "metadata": {},
   "outputs": [
    {
     "data": {
      "image/png": "[encoded data removed]",
      "text/plain": [
       "<Figure size 640x480 with 1 Axes>"
      ]
     },
     "metadata": {},
     "output_type": "display_data"
    }
   ],
   "source": [
    "sns.countplot(y='Sex', data=df_titanic, palette='Greens')\n",
    "plt.title('Number of Titanic Passengers Grouped by Gender')\n",
    "plt.show()"
   ]
  },
  {
   "cell_type": "markdown",
   "id": "b4a05981-ac0d-4a98-8e8a-805c5ab52e3e",
   "metadata": {},
   "source": [
    "**Note:** If you feel like the bars look too large, you can resize it through the ``width`` parameter. Keep in mind that the default value is **0.8**, so if you want to make it smaller, ensure you pass a lower value."
   ]
  },
  {
   "cell_type": "code",
   "execution_count": 25,
   "id": "9f74f848-c243-47cc-a041-bfb69cf17dca",
   "metadata": {},
   "outputs": [
    {
     "data": {
      "image/png": "[encoded data removed]",
      "text/plain": [
       "<Figure size 640x480 with 1 Axes>"
      ]
     },
     "metadata": {},
     "output_type": "display_data"
    }
   ],
   "source": [
    "sns.countplot(y='Sex', data=df_titanic, palette='Greens', width=0.4)\n",
    "plt.title('Number of Titanic Passengers Grouped by Gender')\n",
    "plt.show()"
   ]
  },
  {
   "cell_type": "markdown",
   "id": "f2fda5c4-bb05-49ba-a104-d5aafdc315a6",
   "metadata": {},
   "source": [
    "---\n",
    "Next, let's see another parameter which is going to be very useful in many cases:\n",
    "- ``hue`` -> We can actually think of hue as the second variable which breaks down the first one so that we can see the more detailed data distribution."
   ]
  },
  {
   "cell_type": "code",
   "execution_count": 29,
   "id": "8bb5e210-f1ea-4c41-927d-4e6663529ba0",
   "metadata": {},
   "outputs": [
    {
     "data": {
      "image/png": "[encoded data removed]",
      "text/plain": [
       "<Figure size 640x480 with 1 Axes>"
      ]
     },
     "metadata": {},
     "output_type": "display_data"
    }
   ],
   "source": [
    "sns.countplot(x='Sex', hue='Survived', data=df_titanic, palette='Greens', alpha=0.9, width=0.6, zorder=2)\n",
    "plt.title('The number of survived passengers grouped by gender')\n",
    "plt.yticks(np.arange(0, 500, 50))\n",
    "#plt.grid(axis='y', zorder=1)\n",
    "plt.show()"
   ]
  },
  {
   "cell_type": "code",
   "execution_count": null,
   "id": "e28b6a5a-8947-4bb8-921b-7a9807032080",
   "metadata": {},
   "outputs": [],
   "source": []
  },
  {
   "cell_type": "code",
   "execution_count": null,
   "id": "d68a1f56-aaf6-444a-8db2-919e2b53b36f",
   "metadata": {},
   "outputs": [],
   "source": []
  },
  {
   "cell_type": "code",
   "execution_count": null,
   "id": "a2935991-f0cc-4254-ae42-5fc8289c693a",
   "metadata": {},
   "outputs": [],
   "source": []
  },
  {
   "cell_type": "code",
   "execution_count": null,
   "id": "430e5e45-e10c-44cd-88e8-b07cc1386f22",
   "metadata": {},
   "outputs": [],
   "source": []
  },
  {
   "cell_type": "markdown",
   "id": "d102c85d-922b-4a94-a166-f84fc5cfc329",
   "metadata": {},
   "source": [
    "<div style=\"background-color: lightgreen; padding: 10px;\">\n",
    "    <h2> Boxplot\n",
    "</div>"
   ]
  },
  {
   "cell_type": "code",
   "execution_count": null,
   "id": "50f232c0-acca-4687-a555-aa9a338a588d",
   "metadata": {},
   "outputs": [],
   "source": []
  },
  {
   "cell_type": "code",
   "execution_count": null,
   "id": "187025e6-9896-4d1f-89a8-98720b97ebd5",
   "metadata": {},
   "outputs": [],
   "source": []
  },
  {
   "cell_type": "code",
   "execution_count": null,
   "id": "6cc88a51-049f-4e28-aede-9046a8c1b2e7",
   "metadata": {},
   "outputs": [],
   "source": []
  },
  {
   "cell_type": "markdown",
   "id": "99d3f948-19a6-4748-bd05-b8ebcb95b344",
   "metadata": {},
   "source": [
    "<div style=\"background-color: lightgreen; padding: 10px;\">\n",
    "    <h2> Histplot and KDEplot\n",
    "</div>"
   ]
  },
  {
   "cell_type": "code",
   "execution_count": null,
   "id": "1cfc2667-5a08-4ea0-b318-8dd3e70b74c3",
   "metadata": {},
   "outputs": [],
   "source": []
  },
  {
   "cell_type": "code",
   "execution_count": null,
   "id": "9f187120-a964-4d9d-918e-1a8a1d34eaa7",
   "metadata": {},
   "outputs": [],
   "source": []
  },
  {
   "cell_type": "code",
   "execution_count": null,
   "id": "d1dfbb2c-9571-4c13-bac4-a9daa722814b",
   "metadata": {},
   "outputs": [],
   "source": []
  },
  {
   "cell_type": "markdown",
   "id": "e3452733-f475-43b3-9ba3-995ec77f684d",
   "metadata": {},
   "source": [
    "<div style=\"background-color: lightgreen; padding: 10px;\">\n",
    "    <h2> Jointplot\n",
    "</div>"
   ]
  },
  {
   "cell_type": "code",
   "execution_count": null,
   "id": "7a9f60f0-541f-4b96-9b5c-d34135a49b0f",
   "metadata": {},
   "outputs": [],
   "source": []
  },
  {
   "cell_type": "code",
   "execution_count": null,
   "id": "573921d0-5c8a-46c2-8d9f-bed91d21194a",
   "metadata": {},
   "outputs": [],
   "source": []
  },
  {
   "cell_type": "code",
   "execution_count": null,
   "id": "b72f2c52-70f3-4e51-a150-979cda16a7a8",
   "metadata": {},
   "outputs": [],
   "source": []
  },
  {
   "cell_type": "markdown",
   "id": "01e62438-6b09-41c6-8fed-1be338d71e3c",
   "metadata": {},
   "source": [
    "<div style=\"background-color: lightgreen; padding: 10px;\">\n",
    "    <h2> LMplot and Scatterplot\n",
    "</div>"
   ]
  },
  {
   "cell_type": "code",
   "execution_count": null,
   "id": "bb30a754-a865-4e83-a5c7-8bad68ce4ccb",
   "metadata": {},
   "outputs": [],
   "source": []
  },
  {
   "cell_type": "code",
   "execution_count": null,
   "id": "3c82af7e-311d-478d-9815-d4cecd6edbfb",
   "metadata": {},
   "outputs": [],
   "source": []
  },
  {
   "cell_type": "code",
   "execution_count": null,
   "id": "85b86e7a-6d34-4554-9c3e-5a31aa956f26",
   "metadata": {},
   "outputs": [],
   "source": []
  },
  {
   "cell_type": "markdown",
   "id": "67c52d04-8a08-4120-9426-9823b21a64fe",
   "metadata": {},
   "source": [
    "<div style=\"background-color: lightgreen; padding: 10px;\">\n",
    "    <h2> Heatmap\n",
    "</div>"
   ]
  },
  {
   "cell_type": "code",
   "execution_count": null,
   "id": "66ba3aff-aa88-4926-aea8-3cc35581a275",
   "metadata": {},
   "outputs": [],
   "source": []
  },
  {
   "cell_type": "code",
   "execution_count": null,
   "id": "6e3c949a-e13a-4a73-9458-f69239053f5b",
   "metadata": {},
   "outputs": [],
   "source": []
  },
  {
   "cell_type": "code",
   "execution_count": null,
   "id": "85e9e996-0d80-40c5-8b5e-31319d42901d",
   "metadata": {},
   "outputs": [],
   "source": []
  },
  {
   "cell_type": "markdown",
   "id": "4a1a355b-1a5d-4abf-8537-ea102521f9f6",
   "metadata": {},
   "source": [
    "<div style=\"background-color: lightgreen; padding: 10px;\">\n",
    "    <h2> Pairplot\n",
    "</div>"
   ]
  },
  {
   "cell_type": "code",
   "execution_count": null,
   "id": "5d4a31c0-a9cd-48c3-bd72-e54d7ebda97e",
   "metadata": {},
   "outputs": [],
   "source": []
  },
  {
   "cell_type": "code",
   "execution_count": null,
   "id": "8d4388b5-739d-4737-9b75-fb9e3324cd59",
   "metadata": {},
   "outputs": [],
   "source": []
  },
  {
   "cell_type": "code",
   "execution_count": null,
   "id": "5a375b4d-5392-4739-b51f-7c46fa7d0563",
   "metadata": {},
   "outputs": [],
   "source": []
  }
 ],
 "metadata": {
  "kernelspec": {
   "display_name": "Python 3 (ipykernel)",
   "language": "python",
   "name": "python3"
  },
  "language_info": {
   "codemirror_mode": {
    "name": "ipython",
    "version": 3
   },
   "file_extension": ".py",
   "mimetype": "text/x-python",
   "name": "python",
   "nbconvert_exporter": "python",
   "pygments_lexer": "ipython3",
   "version": "3.11.5"
  }
 },
 "nbformat": 4,
 "nbformat_minor": 5
}
