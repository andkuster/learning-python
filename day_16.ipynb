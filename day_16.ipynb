{
 "cells": [
  {
   "cell_type": "markdown",
   "id": "f5f9cb93-72f3-419f-a827-d12b4562a5e7",
   "metadata": {},
   "source": [
    "<div style=\"background-color: lightgray; padding: 18px;\">\n",
    "    <h1> Learning Python | Day 16\n",
    "    \n",
    "</div>"
   ]
  },
  {
   "cell_type": "markdown",
   "id": "38ed6c50-5fbb-44df-a3df-2f5feeb7c1eb",
   "metadata": {},
   "source": [
    "### Features:\n",
    "Pandas\n",
    "- Introduction\n",
    "- Installation and Import\n",
    "- Pandas Series\n",
    "- Operations and Methods\n",
    "- Exercices"
   ]
  },
  {
   "cell_type": "markdown",
   "id": "c68a009e-822c-4493-917f-4833cb125015",
   "metadata": {},
   "source": [
    "<div style=\"background-color: lightgreen; padding: 10px;\">\n",
    "    <h2> Introduction to Python Pandas\n",
    "</div>"
   ]
  },
  {
   "cell_type": "markdown",
   "id": "93faa03b-ed3a-4817-a251-4f29f15e0b56",
   "metadata": {},
   "source": [
    "``Pandas`` is an open-source library that is built on top of ``NumPy`` library. \n",
    "\n",
    "It is a Python package that offers various *data structures* and *operations* for manipulating numerical data and time series. It is mainly popular for importing and analyzing data much easier. Pandas is **fast** and it has high-performance & productivity for users.\n",
    "\n",
    "Here is a list of things that we can do using Pandas:\n",
    "- Data set cleaning, merging, and joining.\n",
    "- Easy handling of missing data (represented as NaN) in floating point as well as non-floating point data.\n",
    "- Columns can be inserted and deleted from DataFrame and higher dimensional objects.\n",
    "-  Powerful group by functionality for performing split-apply-combine operations on data sets.\n",
    "- Data Visulaization\n",
    "\n",
    "Sources:\n",
    "- https://pandas.pydata.org/\n",
    "- https://www.w3schools.com/python/pandas/default.asp\n",
    "- https://www.geeksforgeeks.org/pandas-tutorial/"
   ]
  },
  {
   "cell_type": "markdown",
   "id": "f7916609-ba71-4360-ae9c-6a62167bb026",
   "metadata": {},
   "source": [
    "<div style=\"background-color: lightgreen; padding: 10px;\">\n",
    "    <h2> Installation and Import\n",
    "</div>"
   ]
  },
  {
   "cell_type": "markdown",
   "id": "0a253729-d0f3-4ee9-858f-dd67507e6212",
   "metadata": {},
   "source": [
    "If you have ``Python`` and ``PIP`` already installed on a system, then installation of ``Pandas`` is very easy.\r\n",
    "\r\n",
    "Install it using this command:"
   ]
  },
  {
   "cell_type": "code",
   "execution_count": 4,
   "id": "2c3937f3-516d-42c3-82e7-ad2575439302",
   "metadata": {},
   "outputs": [],
   "source": [
    "# On cmd:\n",
    "# conda install pandas\n",
    "# pip install pandas"
   ]
  },
  {
   "cell_type": "markdown",
   "id": "dcdec7af-331d-4cbc-8e94-2d054274c19f",
   "metadata": {},
   "source": [
    "After the pandas have been installed into the system, you need to import the ``library``. \n",
    "Pandas is usually imported under the ``pd`` alias.\n",
    "\n",
    "This module is generally imported as follows:"
   ]
  },
  {
   "cell_type": "code",
   "execution_count": 3,
   "id": "89885515-f0fd-4ae7-a316-fec31c9b4643",
   "metadata": {},
   "outputs": [],
   "source": [
    "import pandas as pd"
   ]
  },
  {
   "cell_type": "code",
   "execution_count": 9,
   "id": "06da6400-88bf-4f54-b7a1-4c70b45b9075",
   "metadata": {},
   "outputs": [
    {
     "name": "stdout",
     "output_type": "stream",
     "text": [
      "{'cars': ['BMW', 'Volvo', 'Ford'], 'passings': [3, 7, 2]}\n",
      "<class 'dict'>\n",
      "--------------------------------\n",
      "    cars  passings\n",
      "0    BMW         3\n",
      "1  Volvo         7\n",
      "2   Ford         2\n",
      "<class 'pandas.core.frame.DataFrame'>\n"
     ]
    }
   ],
   "source": [
    "mydataset = {\n",
    "  'cars': [\"BMW\", \"Volvo\", \"Ford\"],\n",
    "  'passings': [3, 7, 2]\n",
    "}\n",
    "print(mydataset)\n",
    "print(type(mydataset))\n",
    "\n",
    "print('-'*32)\n",
    "\n",
    "myvar = pd.DataFrame(mydataset)\n",
    "\n",
    "print(myvar)\n",
    "print(type(myvar))"
   ]
  },
  {
   "cell_type": "code",
   "execution_count": 10,
   "id": "397c0609-fa2e-4264-b87e-a9008751b12d",
   "metadata": {},
   "outputs": [
    {
     "name": "stdout",
     "output_type": "stream",
     "text": [
      "1.5.3\n"
     ]
    }
   ],
   "source": [
    "# Checking pandas version:\n",
    "\n",
    "import pandas as pd\n",
    "\n",
    "print(pd.__version__)"
   ]
  },
  {
   "cell_type": "markdown",
   "id": "3c04be58-a86e-4ac4-aa61-cab26230333d",
   "metadata": {},
   "source": [
    "<div style=\"background-color: lightgreen; padding: 10px;\">\n",
    "    <h2>  Intro to Pandas Series\n",
    "</div>"
   ]
  },
  {
   "cell_type": "markdown",
   "id": "d0885b45-8ae3-4641-a9c5-f59671d767a0",
   "metadata": {},
   "source": [
    "Pandas generally provide two data structures for manipulating data, They are: \n",
    "- Series\n",
    "- DataFrame\n",
    "\n",
    "*Pandas Series*\n",
    "\n",
    "A ``Pandas Series`` is a one-dimensional labeled array capable of holding data of any type (integer, string, float, python objects, etc.). The axis labels are collectively called indexes.\n",
    "\n",
    "Pandas Series is nothing but a **column** in an ``Excel sheet``. Labels need not be unique but must be a hashable type. The object supports both integer and label-based indexing and provides a host of methods for performing operations involving the index.\n",
    "\n",
    "Sources\n",
    "- https://www.geeksforgeeks.org/introduction-to-pandas-in-python/\n",
    "- https://www.w3schools.com/python/pandas/pandas_series.asp\n",
    "- https://www.geeksforgeeks.org/python-pandas-series/"
   ]
  },
  {
   "cell_type": "code",
   "execution_count": 11,
   "id": "30a1fc65-2b4e-4770-ba9a-e6dfda17f640",
   "metadata": {},
   "outputs": [
    {
     "name": "stdout",
     "output_type": "stream",
     "text": [
      "0    1\n",
      "1    7\n",
      "2    2\n",
      "dtype: int64\n"
     ]
    }
   ],
   "source": [
    "import pandas as pd\n",
    "\n",
    "a = [1, 7, 2]\n",
    "\n",
    "myvar = pd.Series(a)\n",
    "\n",
    "print(myvar)"
   ]
  },
  {
   "cell_type": "markdown",
   "id": "41253027-f8ca-45f1-8d1d-cdfa782ec4ba",
   "metadata": {},
   "source": [
    "***Note:*** If nothing else is specified, the values are labeled with their ``index`` number. First value has index ``0``, second value has index ``1`` etc.\n",
    "\n",
    "With the index argument, you can name your own labels."
   ]
  },
  {
   "cell_type": "code",
   "execution_count": 12,
   "id": "235cf817-4b0a-4643-9dbd-c20f25540ac4",
   "metadata": {},
   "outputs": [
    {
     "name": "stdout",
     "output_type": "stream",
     "text": [
      "x    1\n",
      "y    7\n",
      "z    2\n",
      "dtype: int64\n"
     ]
    }
   ],
   "source": [
    "import pandas as pd\n",
    "\n",
    "a = [1, 7, 2]\n",
    "\n",
    "myvar = pd.Series(a, index = [\"x\", \"y\", \"z\"])\n",
    "\n",
    "print(myvar)"
   ]
  },
  {
   "cell_type": "code",
   "execution_count": 13,
   "id": "01c69975-49e5-4ebd-ac42-856bdd9a06d6",
   "metadata": {},
   "outputs": [
    {
     "name": "stdout",
     "output_type": "stream",
     "text": [
      "7\n"
     ]
    }
   ],
   "source": [
    "# When you have created labels, you can access an item by referring to the label.\n",
    "\n",
    "print(myvar[\"y\"])"
   ]
  },
  {
   "cell_type": "markdown",
   "id": "b7a65b7c-f755-42cc-a3ae-b9c33bb6bd94",
   "metadata": {},
   "source": [
    "<div style=\"background-color: lightgreen; padding: 10px;\">\n",
    "    <h2>  Pandas Series: Operations and Methods\n",
    "</div>"
   ]
  },
  {
   "cell_type": "markdown",
   "id": "2d94fcfb-f621-4984-aeab-2ff557d7cb89",
   "metadata": {},
   "source": [
    "We will get a brief insight on all these basic operations which can be performed on Pandas Series :\n",
    "- Creating a Series\n",
    "- Accessing element of Series\n",
    "- Indexing and Selecting Data in Series\n",
    "- Binary operation on Series\n",
    "- Methods on Series"
   ]
  },
  {
   "cell_type": "markdown",
   "id": "4884a01e-1e4f-442d-93e9-56e136a3ea60",
   "metadata": {},
   "source": [
    "In the real world, a Pandas Series will be created by loading the datasets from existing storage, storage can be SQL Database, CSV file, and Excel file. \n",
    "\n",
    "``Pandas Series`` can be created from the ``lists``, ``dictionary``, and from a ``scalar value`` etc. Series can be created in different ways, here are some ways by which we create a series:"
   ]
  },
  {
   "cell_type": "code",
   "execution_count": 1,
   "id": "89627e56-a883-4134-a580-cf02403331e0",
   "metadata": {},
   "outputs": [
    {
     "name": "stdout",
     "output_type": "stream",
     "text": [
      "0    g\n",
      "1    e\n",
      "2    e\n",
      "3    k\n",
      "4    s\n",
      "dtype: object\n"
     ]
    }
   ],
   "source": [
    "import pandas as pd\n",
    "import numpy as np\n",
    " \n",
    "# simple array\n",
    "data = np.array(['g','e','e','k','s'])\n",
    " \n",
    "ser = pd.Series(data)\n",
    "print(ser)"
   ]
  },
  {
   "cell_type": "code",
   "execution_count": 2,
   "id": "6d44cb43-18b1-4378-bcf9-ef3e69393ab9",
   "metadata": {},
   "outputs": [
    {
     "name": "stdout",
     "output_type": "stream",
     "text": [
      "0    g\n",
      "1    e\n",
      "2    e\n",
      "3    k\n",
      "4    s\n",
      "dtype: object\n"
     ]
    }
   ],
   "source": [
    "import pandas as pd\n",
    " \n",
    "# a simple list\n",
    "list = ['g', 'e', 'e', 'k', 's']\n",
    "  \n",
    "# create series form a list\n",
    "ser = pd.Series(list)\n",
    "print(ser)"
   ]
  },
  {
   "cell_type": "code",
   "execution_count": 7,
   "id": "c034ff8b-5234-41b8-9a51-4d85d4c3625e",
   "metadata": {},
   "outputs": [
    {
     "name": "stdout",
     "output_type": "stream",
     "text": [
      "0    g\n",
      "1    e\n",
      "2    e\n",
      "3    k\n",
      "4    s\n",
      "5    f\n",
      "6    o\n",
      "dtype: object\n"
     ]
    }
   ],
   "source": [
    "import pandas as pd\n",
    "import numpy as np\n",
    " \n",
    "# creating simple array\n",
    "data = np.array(['g','e','e','k','s','f', 'o','r','g','e','e','k','s'])\n",
    "ser = pd.Series(data)\n",
    "    \n",
    "#retrieve the n-first element\n",
    "print(ser[:7])"
   ]
  },
  {
   "cell_type": "code",
   "execution_count": 8,
   "id": "8e83322f-1c8a-4934-af78-a07a17ad98c7",
   "metadata": {},
   "outputs": [
    {
     "name": "stdout",
     "output_type": "stream",
     "text": [
      "o\n"
     ]
    }
   ],
   "source": [
    "# creating simple array\n",
    "data = np.array(['g','e','e','k','s','f', 'o','r','g','e','e','k','s'])\n",
    "ser = pd.Series(data,index=[10,11,12,13,14,15,16,17,18,19,20,21,22])\n",
    "    \n",
    "# accessing a element using index element\n",
    "print(ser[16])"
   ]
  },
  {
   "cell_type": "markdown",
   "id": "d58ac411-3a9b-4aea-9e0a-d6e35344072f",
   "metadata": {},
   "source": [
    "---\n",
    "\r\n",
    "We can also select the desired elements using the methods:\r\n",
    "\r\n",
    "- `iloc`: locates the element by the numerical position of the index (starting from 0).\r\n",
    "- `loc`: locates the element by the series' own index (which was named at some previous point)."
   ]
  },
  {
   "cell_type": "code",
   "execution_count": 9,
   "id": "4bdbb0fe-802e-4f8e-92fd-7728848834be",
   "metadata": {},
   "outputs": [],
   "source": [
    "import pandas as pd\n",
    "\n",
    "my_list = [10, 20, 30, 40]\n",
    "serie = pd.Series(my_list, index=['a', 'b', 'c', 'd'], dtype=np.float32)"
   ]
  },
  {
   "cell_type": "code",
   "execution_count": 10,
   "id": "b666567e-1f8d-4872-a6e5-c8d25c410df3",
   "metadata": {},
   "outputs": [
    {
     "data": {
      "text/plain": [
       "30.0"
      ]
     },
     "execution_count": 10,
     "metadata": {},
     "output_type": "execute_result"
    }
   ],
   "source": [
    "serie.iloc[2]"
   ]
  },
  {
   "cell_type": "code",
   "execution_count": 11,
   "id": "625fe9fb-3048-4f11-b341-bbdf7dbc0986",
   "metadata": {},
   "outputs": [
    {
     "data": {
      "text/plain": [
       "b    20.0\n",
       "c    30.0\n",
       "dtype: float32"
      ]
     },
     "execution_count": 11,
     "metadata": {},
     "output_type": "execute_result"
    }
   ],
   "source": [
    "serie.iloc[1:3]"
   ]
  },
  {
   "cell_type": "code",
   "execution_count": 12,
   "id": "bc2ed244-473d-4549-8620-e35936a724af",
   "metadata": {},
   "outputs": [
    {
     "data": {
      "text/plain": [
       "30.0"
      ]
     },
     "execution_count": 12,
     "metadata": {},
     "output_type": "execute_result"
    }
   ],
   "source": [
    "serie.loc['c']"
   ]
  },
  {
   "cell_type": "code",
   "execution_count": 13,
   "id": "1ac02d7c-3edb-4f2d-b2ab-3a1316670f60",
   "metadata": {},
   "outputs": [
    {
     "data": {
      "text/plain": [
       "a    10.0\n",
       "b    20.0\n",
       "c    30.0\n",
       "dtype: float32"
      ]
     },
     "execution_count": 13,
     "metadata": {},
     "output_type": "execute_result"
    }
   ],
   "source": [
    "serie.loc['a':'c']"
   ]
  },
  {
   "cell_type": "code",
   "execution_count": 16,
   "id": "896e83d6-3403-4f55-9457-7c1f99f42c72",
   "metadata": {},
   "outputs": [
    {
     "data": {
      "text/plain": [
       "a    False\n",
       "b     True\n",
       "c     True\n",
       "d     True\n",
       "dtype: bool"
      ]
     },
     "execution_count": 16,
     "metadata": {},
     "output_type": "execute_result"
    }
   ],
   "source": [
    "# Its also possible to use a mask like in NumPy to filter:\n",
    "\n",
    "mask = serie > 15\n",
    "mask"
   ]
  },
  {
   "cell_type": "code",
   "execution_count": 15,
   "id": "558998c9-422b-4a7f-80f9-9f3b8e6c6b91",
   "metadata": {},
   "outputs": [
    {
     "data": {
      "text/plain": [
       "b    20.0\n",
       "c    30.0\n",
       "d    40.0\n",
       "dtype: float32"
      ]
     },
     "execution_count": 15,
     "metadata": {},
     "output_type": "execute_result"
    }
   ],
   "source": [
    "serie.loc[mask]"
   ]
  },
  {
   "cell_type": "markdown",
   "id": "9e8a43aa-af9a-42b4-b455-803719c394d9",
   "metadata": {},
   "source": [
    "---\n",
    "Pandas Series Operations:\r\n",
    "\r\n",
    "| FUNCTION | DESCRIPTION |\r\n",
    "|----------|-------------|\r\n",
    "| add() | Method is used to add series or list like objects with the same length to the caller series |\r\n",
    "| sub() | Method is used to subtract series or list like objects with the same length from the caller series |\r\n",
    "| mul() | Method is used to multiply series or list like objects with the same length with the caller series |\r\n",
    "| div() | Method is used to divide series or list like objects with the same length by the caller series |\r\n",
    "| sum() | Returns the sum of the values for the requested axis |\r\n",
    "| prod() | Returns the product of the values for the requested axis |\r\n",
    "| mean() | Returns the mean of the values for the requested axis |\r\n",
    "| pow() | Method is used to put each element of the passed series as an exponential power of the caller series and returned the results |\r\n",
    "| abs() | Method is used to get the absolute numeric value of each element in Series/DataFrame |\r\n",
    "| cov() | Method is used to find the covariance of two series |"
   ]
  },
  {
   "cell_type": "code",
   "execution_count": 17,
   "id": "e28b3cee-7b47-46ec-a236-ebd03ca49861",
   "metadata": {},
   "outputs": [],
   "source": [
    "values = [1, 1, 2, 3, 5, 8, 13]\n",
    "fibonacci = pd.Series(values)"
   ]
  },
  {
   "cell_type": "code",
   "execution_count": 18,
   "id": "fecc1ce7-3aee-4490-bef5-6079bdcdf9f8",
   "metadata": {},
   "outputs": [
    {
     "data": {
      "text/plain": [
       "33"
      ]
     },
     "execution_count": 18,
     "metadata": {},
     "output_type": "execute_result"
    }
   ],
   "source": [
    "fibonacci.sum()"
   ]
  },
  {
   "cell_type": "code",
   "execution_count": 20,
   "id": "f28999cc-5410-4da0-84d0-31ef49176040",
   "metadata": {},
   "outputs": [
    {
     "data": {
      "text/plain": [
       "26"
      ]
     },
     "execution_count": 20,
     "metadata": {},
     "output_type": "execute_result"
    }
   ],
   "source": [
    "fibonacci[fibonacci > 4].sum()"
   ]
  },
  {
   "cell_type": "markdown",
   "id": "92dea8ea-9100-454f-9521-92de087ef147",
   "metadata": {},
   "source": [
    "---\n",
    "Pandas Series Methods:\n",
    "\n",
    "\r\n",
    "| FUNCTION | DESCRIPTION |\r\n",
    "|----------|-------------|\r\n",
    "| Series() | A pandas Series can be created with the Series() constructor method. This constructor method accepts a variety of inputs |\r\n",
    "| combine_first() | Method is used to combine two series into one |\r\n",
    "| count() | Returns the number of non-NA/null observations in the Series |\r\n",
    "| size() | Returns the number of elements in the underlying data |\r\n",
    "| name() | Method allows giving a name to a Series object, i.e., to the column |\r\n",
    "| is_unique() | Method returns boolean if values in the object are unique |\r\n",
    "| idxmax() | Method to extract the index positions of the highest values in a Series |\r\n",
    "| idxmin() | Method to extract the index positions of the lowest values in a Series |\r\n",
    "| sort_values() | Method is called on a Series to sort the values in ascending or descending order |\r\n",
    "| sort_index() | Method is called on a pandas Series to sort it by the index instead of its values |\r\n",
    "| head() | Method is used to return a specified number of rows from the beginning of a Series. The method returns a brand new Series |\r\n",
    "| tail() | Method is used to return a specified number of rows from the end of a Series. The method returns a brand new Series |\r\n",
    "| get() | Method is called on a Series to extract values from a Series. This is alternative syntax to the traditional bracket syntax |\r\n",
    "| unique() | Pandas unique() is used to see the unique values in a particular column |\r\n",
    "| nunique() | Pandas nunique() is used to get a count of unique values |\r\n",
    "| value_counts() | Method to count the number of times each unique value occurs in a Series |\r\n",
    "| factorize() | Method helps to get the numeric representation of an array by identifying distinct values |\r\n",
    "| map() | Method to tie together the values from one object to another |\r\n",
    "| between() | Pandas between() method is used on the series to check which values lie between the first and second argument |\r\n",
    "| apply() | Method is called and fed a Python function as an argument to use the function on every Series value. This method is helpful for executing custom operations that are not included in pandas or numpy |nd new Series |"
   ]
  },
  {
   "cell_type": "code",
   "execution_count": 21,
   "id": "d88ec364-5e26-4b74-bf61-446932114be7",
   "metadata": {},
   "outputs": [
    {
     "data": {
      "text/plain": [
       "10.0    1\n",
       "20.0    1\n",
       "30.0    1\n",
       "40.0    1\n",
       "dtype: int64"
      ]
     },
     "execution_count": 21,
     "metadata": {},
     "output_type": "execute_result"
    }
   ],
   "source": [
    "serie.value_counts()"
   ]
  },
  {
   "cell_type": "code",
   "execution_count": 23,
   "id": "138ea930-f5de-4c5f-ac7b-44cc3236299b",
   "metadata": {},
   "outputs": [
    {
     "data": {
      "text/plain": [
       "10.0    0.25\n",
       "20.0    0.25\n",
       "30.0    0.25\n",
       "40.0    0.25\n",
       "dtype: float64"
      ]
     },
     "execution_count": 23,
     "metadata": {},
     "output_type": "execute_result"
    }
   ],
   "source": [
    "serie.value_counts(True)"
   ]
  },
  {
   "cell_type": "code",
   "execution_count": 22,
   "id": "574f0535-bfa0-4daf-9497-6ddfe150d9c3",
   "metadata": {},
   "outputs": [
    {
     "data": {
      "text/plain": [
       "count     4.000000\n",
       "mean     25.000000\n",
       "std      12.909945\n",
       "min      10.000000\n",
       "25%      17.500000\n",
       "50%      25.000000\n",
       "75%      32.500000\n",
       "max      40.000000\n",
       "dtype: float64"
      ]
     },
     "execution_count": 22,
     "metadata": {},
     "output_type": "execute_result"
    }
   ],
   "source": [
    "serie.describe()"
   ]
  },
  {
   "cell_type": "markdown",
   "id": "c695eb33-51d5-4dfa-b29c-9130210067b0",
   "metadata": {},
   "source": [
    "---\n",
    "When series are composed of elements of the \"string\" type (``str`` in Python), pandas will interpret their ``dtype`` as being an object.\r\n",
    "\r\n",
    "In these cases, the series has a str attribute that allows us to perform string-specific operations across the elements of the series."
   ]
  },
  {
   "cell_type": "code",
   "execution_count": 24,
   "id": "29bbe4f6-cec3-4304-988e-2fcce1bd1250",
   "metadata": {},
   "outputs": [
    {
     "data": {
      "text/plain": [
       "0           eu\n",
       "1           tu\n",
       "2      ele/ela\n",
       "3          nós\n",
       "4          vós\n",
       "5    eles/elas\n",
       "dtype: object"
      ]
     },
     "execution_count": 24,
     "metadata": {},
     "output_type": "execute_result"
    }
   ],
   "source": [
    "pronomes = pd.Series(['eu', 'tu', 'ele/ela', 'nós', 'vós', 'eles/elas'])\n",
    "pronomes"
   ]
  },
  {
   "cell_type": "code",
   "execution_count": 25,
   "id": "32a190c7-c3ea-459c-bd4d-78dbf245d2bb",
   "metadata": {},
   "outputs": [
    {
     "data": {
      "text/plain": [
       "<pandas.core.strings.accessor.StringMethods at 0x1ea72bf3b10>"
      ]
     },
     "execution_count": 25,
     "metadata": {},
     "output_type": "execute_result"
    }
   ],
   "source": [
    "pronomes.str"
   ]
  },
  {
   "cell_type": "code",
   "execution_count": 26,
   "id": "cdd854ee-cbc6-47d5-96fb-2c598c349df2",
   "metadata": {},
   "outputs": [
    {
     "data": {
      "text/plain": [
       "0           EU\n",
       "1           TU\n",
       "2      ELE/ELA\n",
       "3          NÓS\n",
       "4          VÓS\n",
       "5    ELES/ELAS\n",
       "dtype: object"
      ]
     },
     "execution_count": 26,
     "metadata": {},
     "output_type": "execute_result"
    }
   ],
   "source": [
    "pronomes.str.upper()"
   ]
  },
  {
   "cell_type": "markdown",
   "id": "f9efff2d-6eef-46d1-9869-9c2a5e09d80c",
   "metadata": {},
   "source": [
    "<div style=\"background-color: lightgreen; padding: 10px;\">\n",
    "    <h2>  Exercices:\n",
    "</div>"
   ]
  },
  {
   "cell_type": "markdown",
   "id": "00f3284a-b04a-4b25-bf06-d5ac082f817e",
   "metadata": {},
   "source": [
    "---\n",
    "\n",
    "#### <font color=\"blue\">Exercice 1</font>\r\n",
    "- Maria is keeping track of her daily expenses over a month. For this, she has the following series:\r\n",
    "\r\n",
    "```python\r\n",
    "dias_da_semana = ['Seg', 'Ter', 'Qua', 'Qui', 'Sex', 'Sab', 'Dom']\r\n",
    "semana1 = pd.Series([50, 66, 55, 55, 23, np.nan, 92], index=dias_da_semana)\r\n",
    "semana2 = pd.Series([np.nan, 78, 76, 66, 64, 44, 78], index=dias_da_semana)\r\n",
    "semana3 = pd.Series([55, 75, 89, 77, 78, 57, np.nan], index=dias_da_semana)\r\n",
    "semana4 = pd.Series([67, 34, np.nan, 25, 45, np.nan, 95], index=dias_da_semana)\r\n",
    "```\r\n",
    "\r\n",
    "As you can see, for each of these weeks, there is one or more missing values. That said:\r\n",
    "\r\n",
    "- Fill in each missing value with the mean of the same weekday for the set of 4 weeks.\r\n",
    "- For each week, print the total spending, average spending, median spending, maximum spending, minimum spending, and standard deviation.\r\n",
    "- For each week, print the total spending on weekdays and the total spending on weekends."
   ]
  },
  {
   "cell_type": "code",
   "execution_count": 27,
   "id": "70b29cee-f113-4709-95fe-cd08b637e2fb",
   "metadata": {},
   "outputs": [],
   "source": [
    "dias_da_semana = ['Seg', 'Ter', 'Qua', 'Qui', 'Sex', 'Sab', 'Dom']\n",
    "semana1 = pd.Series([50, 66, 55, 55, 23, np.nan, 92], index=dias_da_semana)\n",
    "semana2 = pd.Series([np.nan, 78, 76, 66, 64, 44, 78], index=dias_da_semana)\n",
    "semana3 = pd.Series([55, 75, 89, 77, 78, 57, np.nan], index=dias_da_semana)\n",
    "semana4 = pd.Series([67, 34, np.nan, 25, 45, np.nan, 95], index=dias_da_semana)"
   ]
  },
  {
   "cell_type": "code",
   "execution_count": 50,
   "id": "77f7f19b-5a7f-4eb1-9252-b0b3786c0588",
   "metadata": {},
   "outputs": [
    {
     "data": {
      "text/plain": [
       "Seg    57.333333\n",
       "Ter    63.250000\n",
       "Qua    73.333333\n",
       "Qui    55.750000\n",
       "Sex    52.500000\n",
       "Sab    50.500000\n",
       "Dom    88.333333\n",
       "dtype: float64"
      ]
     },
     "execution_count": 50,
     "metadata": {},
     "output_type": "execute_result"
    }
   ],
   "source": [
    "# 1:\n",
    "df = pd.DataFrame([semana1,semana2,semana3,semana4], columns=dias_da_semana)\n",
    "total_mean = df.mean()\n",
    "total_mean"
   ]
  },
  {
   "cell_type": "code",
   "execution_count": 51,
   "id": "014f9aa3-a362-4d95-99df-487e8f3fee5a",
   "metadata": {},
   "outputs": [
    {
     "data": {
      "text/html": [
       "<div>\n",
       "<style scoped>\n",
       "    .dataframe tbody tr th:only-of-type {\n",
       "        vertical-align: middle;\n",
       "    }\n",
       "\n",
       "    .dataframe tbody tr th {\n",
       "        vertical-align: top;\n",
       "    }\n",
       "\n",
       "    .dataframe thead th {\n",
       "        text-align: right;\n",
       "    }\n",
       "</style>\n",
       "<table border=\"1\" class=\"dataframe\">\n",
       "  <thead>\n",
       "    <tr style=\"text-align: right;\">\n",
       "      <th></th>\n",
       "      <th>Seg</th>\n",
       "      <th>Ter</th>\n",
       "      <th>Qua</th>\n",
       "      <th>Qui</th>\n",
       "      <th>Sex</th>\n",
       "      <th>Sab</th>\n",
       "      <th>Dom</th>\n",
       "    </tr>\n",
       "  </thead>\n",
       "  <tbody>\n",
       "    <tr>\n",
       "      <th>0</th>\n",
       "      <td>50.000000</td>\n",
       "      <td>66.0</td>\n",
       "      <td>55.000000</td>\n",
       "      <td>55.0</td>\n",
       "      <td>23.0</td>\n",
       "      <td>50.5</td>\n",
       "      <td>92.000000</td>\n",
       "    </tr>\n",
       "    <tr>\n",
       "      <th>1</th>\n",
       "      <td>57.333333</td>\n",
       "      <td>78.0</td>\n",
       "      <td>76.000000</td>\n",
       "      <td>66.0</td>\n",
       "      <td>64.0</td>\n",
       "      <td>44.0</td>\n",
       "      <td>78.000000</td>\n",
       "    </tr>\n",
       "    <tr>\n",
       "      <th>2</th>\n",
       "      <td>55.000000</td>\n",
       "      <td>75.0</td>\n",
       "      <td>89.000000</td>\n",
       "      <td>77.0</td>\n",
       "      <td>78.0</td>\n",
       "      <td>57.0</td>\n",
       "      <td>88.333333</td>\n",
       "    </tr>\n",
       "    <tr>\n",
       "      <th>3</th>\n",
       "      <td>67.000000</td>\n",
       "      <td>34.0</td>\n",
       "      <td>73.333333</td>\n",
       "      <td>25.0</td>\n",
       "      <td>45.0</td>\n",
       "      <td>50.5</td>\n",
       "      <td>95.000000</td>\n",
       "    </tr>\n",
       "  </tbody>\n",
       "</table>\n",
       "</div>"
      ],
      "text/plain": [
       "         Seg   Ter        Qua   Qui   Sex   Sab        Dom\n",
       "0  50.000000  66.0  55.000000  55.0  23.0  50.5  92.000000\n",
       "1  57.333333  78.0  76.000000  66.0  64.0  44.0  78.000000\n",
       "2  55.000000  75.0  89.000000  77.0  78.0  57.0  88.333333\n",
       "3  67.000000  34.0  73.333333  25.0  45.0  50.5  95.000000"
      ]
     },
     "execution_count": 51,
     "metadata": {},
     "output_type": "execute_result"
    }
   ],
   "source": [
    "df = df.fillna(total_mean)\n",
    "df"
   ]
  },
  {
   "cell_type": "code",
   "execution_count": 46,
   "id": "f9148ffb-91b1-4932-8e0f-52a2d52663fe",
   "metadata": {},
   "outputs": [
    {
     "name": "stdout",
     "output_type": "stream",
     "text": [
      "\n",
      "341.0\n",
      "56.833333333333336\n",
      "55.0\n",
      "92.0\n",
      "23.0\n",
      "22.44474697265858\n",
      "count     6.000000\n",
      "mean     56.833333\n",
      "std      22.444747\n",
      "min      23.000000\n",
      "25%      51.250000\n",
      "50%      55.000000\n",
      "75%      63.250000\n",
      "max      92.000000\n",
      "dtype: float64\n",
      "\n",
      "406.0\n",
      "67.66666666666667\n",
      "71.0\n",
      "78.0\n",
      "44.0\n",
      "13.109792777411345\n",
      "count     6.000000\n",
      "mean     67.666667\n",
      "std      13.109793\n",
      "min      44.000000\n",
      "25%      64.500000\n",
      "50%      71.000000\n",
      "75%      77.500000\n",
      "max      78.000000\n",
      "dtype: float64\n",
      "\n",
      "431.0\n",
      "71.83333333333333\n",
      "76.0\n",
      "89.0\n",
      "55.0\n",
      "13.212367943206345\n",
      "count     6.000000\n",
      "mean     71.833333\n",
      "std      13.212368\n",
      "min      55.000000\n",
      "25%      61.500000\n",
      "50%      76.000000\n",
      "75%      77.750000\n",
      "max      89.000000\n",
      "dtype: float64\n",
      "\n",
      "266.0\n",
      "53.2\n",
      "45.0\n",
      "95.0\n",
      "25.0\n",
      "28.146047679914137\n",
      "count     5.000000\n",
      "mean     53.200000\n",
      "std      28.146048\n",
      "min      25.000000\n",
      "25%      34.000000\n",
      "50%      45.000000\n",
      "75%      67.000000\n",
      "max      95.000000\n",
      "dtype: float64\n"
     ]
    }
   ],
   "source": [
    "# 2:\n",
    "for semana in [semana1, semana2, semana3, semana4]:\n",
    "  print('')\n",
    "  print(semana.sum())\n",
    "  print(semana.mean())\n",
    "  print(semana.median())\n",
    "  print(semana.max())\n",
    "  print(semana.min())\n",
    "  print(semana.std())\n",
    "  print (semana.describe())"
   ]
  },
  {
   "cell_type": "code",
   "execution_count": 44,
   "id": "61d15466-3417-481b-9b14-6f90939e1147",
   "metadata": {},
   "outputs": [
    {
     "data": {
      "text/plain": [
       "249.0"
      ]
     },
     "execution_count": 44,
     "metadata": {},
     "output_type": "execute_result"
    }
   ],
   "source": [
    "# 3:\n",
    "semana1[0:5].sum()"
   ]
  },
  {
   "cell_type": "code",
   "execution_count": 38,
   "id": "fe1b1910-c5b3-4fe3-86e4-a024586c98c0",
   "metadata": {},
   "outputs": [
    {
     "data": {
      "text/plain": [
       "92.0"
      ]
     },
     "execution_count": 38,
     "metadata": {},
     "output_type": "execute_result"
    }
   ],
   "source": [
    "semana1[5:].sum()"
   ]
  },
  {
   "cell_type": "markdown",
   "id": "890aca5f-bffb-4ab2-a179-4e473f94e16c",
   "metadata": {},
   "source": [
    "---\n",
    "\n",
    "#### <font color=\"blue\">Exercice 2</font>\n",
    "\n",
    "You have a series called 'clientes' with a thousand positions that depict the credit takers from your bank, divided into the categories 'new customer', 'non-defaulter customer', and 'defaulter customer'. Consider the code below as a generator for this list:\n",
    "\n",
    "```python\n",
    "valores_possiveis = ['cliente novo', 'cliente adimplente', 'cliente inadimplente']\n",
    "probabilidades = np.random.dirichlet(np.ones(len(valores_possiveis)), size=1).flatten()\n",
    "clientes = pd.Series(np.random.choice(valores_possiveis, size=1000, p=probabilidades))\n",
    "```\n",
    "\n",
    "Find out how the clients in this series are distributed among the three categories, first in absolute values and then in percentage values."
   ]
  },
  {
   "cell_type": "code",
   "execution_count": 53,
   "id": "b85299c3-c0cd-4989-b0f3-f9efa47286d4",
   "metadata": {},
   "outputs": [
    {
     "data": {
      "text/plain": [
       "0      cliente inadimplente\n",
       "1      cliente inadimplente\n",
       "2      cliente inadimplente\n",
       "3              cliente novo\n",
       "4      cliente inadimplente\n",
       "               ...         \n",
       "995      cliente adimplente\n",
       "996            cliente novo\n",
       "997    cliente inadimplente\n",
       "998            cliente novo\n",
       "999    cliente inadimplente\n",
       "Length: 1000, dtype: object"
      ]
     },
     "execution_count": 53,
     "metadata": {},
     "output_type": "execute_result"
    }
   ],
   "source": [
    "valores_possiveis = ['cliente novo', 'cliente adimplente', 'cliente inadimplente']\n",
    "probabilidades = np.random.dirichlet(np.ones(len(valores_possiveis)), size=1).flatten()\n",
    "clientes = pd.Series(np.random.choice(valores_possiveis, size=1000, p=probabilidades))\n",
    "clientes"
   ]
  },
  {
   "cell_type": "code",
   "execution_count": 54,
   "id": "27eedf33-3b4f-4ffd-8985-ba1e5a950e5b",
   "metadata": {},
   "outputs": [
    {
     "data": {
      "text/plain": [
       "cliente inadimplente    499\n",
       "cliente adimplente      324\n",
       "cliente novo            177\n",
       "dtype: int64"
      ]
     },
     "execution_count": 54,
     "metadata": {},
     "output_type": "execute_result"
    }
   ],
   "source": [
    "clientes.value_counts()"
   ]
  },
  {
   "cell_type": "code",
   "execution_count": 56,
   "id": "c0f9c21a-5b70-43f9-bd53-41f6429f98e5",
   "metadata": {},
   "outputs": [
    {
     "data": {
      "text/plain": [
       "cliente inadimplente    49.9\n",
       "cliente adimplente      32.4\n",
       "cliente novo            17.7\n",
       "dtype: float64"
      ]
     },
     "execution_count": 56,
     "metadata": {},
     "output_type": "execute_result"
    }
   ],
   "source": [
    "clientes.value_counts(True)*100"
   ]
  },
  {
   "cell_type": "markdown",
   "id": "0ed55de3-2ab3-4e4f-b13b-addad9455245",
   "metadata": {},
   "source": [
    "---\n",
    "\n",
    "#### <font color=\"blue\">Exercice 3</font>\n",
    "\n",
    "\r\n",
    "João is a manager of an electronics store and is monitoring the inventory of products in his store. He has two pandas series, as shown in the following code: one series containing the names of the products available in stock and another series containing the quantity in stock for each product.\r\n",
    "\r\n",
    "```python\r\n",
    "produtos = pd.Series(['Celular', 'Tablet', 'Notebook', 'Fone de Ouvido', 'Smartwatch'])\r\n",
    "quantidade_estoque = pd.Series([15, 8, 20, 5, 12])\r\n",
    "```\r\n",
    "\r\n",
    "João wants to filter the products that have low stock, i.e., those with fewer than 10 units available. Help him do this using series filtering, where one series is used as a mask for another series."
   ]
  },
  {
   "cell_type": "code",
   "execution_count": 57,
   "id": "48cd2a50-8f53-413b-b0f3-af4512105ec8",
   "metadata": {},
   "outputs": [],
   "source": [
    "produtos = pd.Series(['Celular', 'Tablet', 'Notebook', 'Fone de Ouvido', 'Smartwatch'])\n",
    "quantidade_estoque = pd.Series([15, 8, 20, 5, 12])"
   ]
  },
  {
   "cell_type": "code",
   "execution_count": 58,
   "id": "07364a71-2fb8-46e0-9a16-5981e613bc6f",
   "metadata": {},
   "outputs": [
    {
     "data": {
      "text/plain": [
       "1            Tablet\n",
       "3    Fone de Ouvido\n",
       "dtype: object"
      ]
     },
     "execution_count": 58,
     "metadata": {},
     "output_type": "execute_result"
    }
   ],
   "source": [
    "produtos[quantidade_estoque<10]"
   ]
  }
 ],
 "metadata": {
  "kernelspec": {
   "display_name": "Python 3 (ipykernel)",
   "language": "python",
   "name": "python3"
  },
  "language_info": {
   "codemirror_mode": {
    "name": "ipython",
    "version": 3
   },
   "file_extension": ".py",
   "mimetype": "text/x-python",
   "name": "python",
   "nbconvert_exporter": "python",
   "pygments_lexer": "ipython3",
   "version": "3.11.5"
  }
 },
 "nbformat": 4,
 "nbformat_minor": 5
}
