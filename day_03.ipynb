{
 "cells": [
  {
   "cell_type": "markdown",
   "id": "d40bd453",
   "metadata": {},
   "source": [
    "<div style=\"background-color: lightgray; padding: 18px;\">\n",
    "    <h1> Learning Python | Day 3\n",
    "</div>"
   ]
  },
  {
   "cell_type": "markdown",
   "id": "38ce92e4",
   "metadata": {},
   "source": [
    "### Features:\n",
    "\n",
    "- String Methods\n",
    "- While Loops"
   ]
  },
  {
   "cell_type": "markdown",
   "id": "7c943d1a",
   "metadata": {},
   "source": [
    "<div style=\"background-color: lightgreen; padding: 10px;\">\n",
    "    <h2> String Methods - Part I\n",
    "</div>"
   ]
  },
  {
   "cell_type": "code",
   "execution_count": 7,
   "id": "815cca20",
   "metadata": {},
   "outputs": [],
   "source": [
    "# Structure: string.name_of_method()\n",
    "text = 'vasco is my favorite soccer team'"
   ]
  },
  {
   "cell_type": "code",
   "execution_count": 8,
   "id": "9413c8ff",
   "metadata": {},
   "outputs": [
    {
     "data": {
      "text/plain": [
       "'Vasco is my favorite soccer team'"
      ]
     },
     "execution_count": 8,
     "metadata": {},
     "output_type": "execute_result"
    }
   ],
   "source": [
    "text.capitalize() #capitalize() --> initcaps"
   ]
  },
  {
   "cell_type": "code",
   "execution_count": 10,
   "id": "cb48166f",
   "metadata": {},
   "outputs": [
    {
     "data": {
      "text/plain": [
       "0"
      ]
     },
     "execution_count": 10,
     "metadata": {},
     "output_type": "execute_result"
    }
   ],
   "source": [
    "text.index('v')"
   ]
  },
  {
   "cell_type": "code",
   "execution_count": 13,
   "id": "2e33cc6b",
   "metadata": {},
   "outputs": [
    {
     "data": {
      "text/plain": [
       "6"
      ]
     },
     "execution_count": 13,
     "metadata": {},
     "output_type": "execute_result"
    }
   ],
   "source": [
    "text.find('is')"
   ]
  },
  {
   "cell_type": "code",
   "execution_count": 11,
   "id": "68a49e0d",
   "metadata": {},
   "outputs": [
    {
     "data": {
      "text/plain": [
       "28"
      ]
     },
     "execution_count": 11,
     "metadata": {},
     "output_type": "execute_result"
    }
   ],
   "source": [
    "text.find('team')"
   ]
  },
  {
   "cell_type": "code",
   "execution_count": 14,
   "id": "9bf2a707",
   "metadata": {},
   "outputs": [
    {
     "data": {
      "text/plain": [
       "(False, True)"
      ]
     },
     "execution_count": 14,
     "metadata": {},
     "output_type": "execute_result"
    }
   ],
   "source": [
    "'23.4'.isnumeric(), '23'.isnumeric()"
   ]
  },
  {
   "cell_type": "markdown",
   "id": "9a3988c3",
   "metadata": {},
   "source": [
    "| Method        | Description                                                          |\n",
    "|---------------|----------------------------------------------------------------------|\n",
    "| capitalize()  | Converts the first character to upper case                           |\n",
    "| casefold()    | Converts string into lower case                                      |\n",
    "| center()      | Returns a centered string                                             |\n",
    "| count()       | Returns the number of times a specified value occurs in a string     |\n",
    "| encode()      | Returns an encoded version of the string                              |\n",
    "| endswith()    | Returns true if the string ends with the specified value              |\n",
    "| expandtabs()  | Sets the tab size of the string                                       |\n",
    "| find()        | Searches the string for a specified value and returns the position   |\n",
    "| format()      | Formats specified values in a string                                  |\n",
    "| format_map()  | Formats specified values in a string                                  |\n",
    "| index()       | Searches the string for a specified value and returns the position   |\n",
    "| isalnum()     | Returns True if all characters in the string are alphanumeric         |\n",
    "| isalpha()     | Returns True if all characters in the string are in the alphabet      |\n",
    "| isascii()     | Returns True if all characters in the string are ascii characters     |\n",
    "| isdecimal()   | Returns True if all characters in the string are decimals             |\n",
    "| isdigit()     | Returns True if all characters in the string are digits               |\n",
    "| isidentifier()| Returns True if the string is an identifier                           |\n",
    "| islower()     | Returns True if all characters in the string are lower case           |\n",
    "| isnumeric()   | Returns True if all characters in the string are numeric             |\n",
    "| isprintable() | Returns True if all characters in the string are printable            |\n",
    "| isspace()     | Returns True if all characters in the string are whitespaces          |\n",
    "| istitle()     | Returns True if the string follows the rules of a title               |\n",
    "| isupper()     | Returns True if all characters in the string are upper case           |\n"
   ]
  },
  {
   "cell_type": "markdown",
   "id": "5a100145",
   "metadata": {},
   "source": [
    "<div style=\"background-color: lightgreen; padding: 10px;\">\n",
    "    <h2> String Methods - Part II\n",
    "</div>"
   ]
  },
  {
   "cell_type": "code",
   "execution_count": 15,
   "id": "3fcb1eb5",
   "metadata": {},
   "outputs": [
    {
     "data": {
      "text/plain": [
       "'vasco is my favorite soccer team'"
      ]
     },
     "execution_count": 15,
     "metadata": {},
     "output_type": "execute_result"
    }
   ],
   "source": [
    "text.lower() #lower() --> low caps"
   ]
  },
  {
   "cell_type": "code",
   "execution_count": 17,
   "id": "1894275b",
   "metadata": {},
   "outputs": [
    {
     "data": {
      "text/plain": [
       "'Vasco Is My Favorite Soccer Team'"
      ]
     },
     "execution_count": 17,
     "metadata": {},
     "output_type": "execute_result"
    }
   ],
   "source": [
    "text.title() #title() --> every initial letter in uppercase"
   ]
  },
  {
   "cell_type": "code",
   "execution_count": 19,
   "id": "d3aaa59a",
   "metadata": {},
   "outputs": [
    {
     "data": {
      "text/plain": [
       "'wtextotextrtextd'"
      ]
     },
     "execution_count": 19,
     "metadata": {},
     "output_type": "execute_result"
    }
   ],
   "source": [
    "\"text\".join(\"word\")"
   ]
  },
  {
   "cell_type": "code",
   "execution_count": 20,
   "id": "0a243343",
   "metadata": {},
   "outputs": [
    {
     "data": {
      "text/plain": [
       "'2-3-4'"
      ]
     },
     "execution_count": 20,
     "metadata": {},
     "output_type": "execute_result"
    }
   ],
   "source": [
    "\"-\".join(\"234\")"
   ]
  },
  {
   "cell_type": "markdown",
   "id": "c1c5c09a",
   "metadata": {},
   "source": [
    "| Method        | Description                                                          |\n",
    "|---------------|----------------------------------------------------------------------|\n",
    "| join()        | Converts the elements of an iterable into a string                    |\n",
    "| ljust()       | Returns a left justified version of the string                        |\n",
    "| lower()       | Converts a string into lower case                                     |\n",
    "| lstrip()      | Returns a left trim version of the string                              |\n",
    "| maketrans()   | Returns a translation table to be used in translations                |\n",
    "| partition()   | Returns a tuple where the string is parted into three parts           |\n",
    "| replace()     | Returns a string where a specified value is replaced                  |\n",
    "| rfind()       | Searches the string for a specified value and returns the last pos.   |\n",
    "| rindex()      | Searches the string for a specified value and returns the last pos.   |\n",
    "| rjust()       | Returns a right justified version of the string                       |\n",
    "| rpartition()  | Returns a tuple where the string is parted into three parts           |\n",
    "| rsplit()      | Splits the string at the specified separator, returns a list         |\n",
    "| rstrip()      | Returns a right trim version of the string                            |\n",
    "| split()       | Splits the string at the specified separator, returns a list         |\n",
    "| splitlines()  | Splits the string at line breaks and returns a list                   |\n",
    "| startswith()  | Returns true if the string starts with the specified value            |\n",
    "| strip()       | Returns a trimmed version of the string                               |\n",
    "| swapcase()    | Swaps cases, lower case becomes upper case and vice versa             |\n",
    "| title()       | Converts the first character of each word to upper case               |\n",
    "| translate()   | Returns a translated string                                           |\n",
    "| upper()       | Converts a string into upper case                                     |\n",
    "| zfill()       | Fills the string with a specified number of 0 values at the beginning|\n"
   ]
  },
  {
   "cell_type": "code",
   "execution_count": 28,
   "id": "47d1cf1e",
   "metadata": {},
   "outputs": [
    {
     "data": {
      "text/plain": [
       "('v', 'is my')"
      ]
     },
     "execution_count": 28,
     "metadata": {},
     "output_type": "execute_result"
    }
   ],
   "source": [
    "# Accessing parts of a string\n",
    "\n",
    "text[0], text[6:11]"
   ]
  },
  {
   "cell_type": "code",
   "execution_count": 25,
   "id": "3a43f2c8",
   "metadata": {},
   "outputs": [
    {
     "data": {
      "text/plain": [
       "5"
      ]
     },
     "execution_count": 25,
     "metadata": {},
     "output_type": "execute_result"
    }
   ],
   "source": [
    "# Figure out the length of a string: len()\n",
    "len('Vasco')"
   ]
  },
  {
   "cell_type": "code",
   "execution_count": 27,
   "id": "6a4bee07",
   "metadata": {
    "collapsed": true,
    "jupyter": {
     "outputs_hidden": true
    }
   },
   "outputs": [
    {
     "ename": "IndentationError",
     "evalue": "unexpected indent (1361686227.py, line 2)",
     "output_type": "error",
     "traceback": [
      "\u001b[1;36m  Cell \u001b[1;32mIn[27], line 2\u001b[1;36m\u001b[0m\n\u001b[1;33m    0   1   2   3   4\u001b[0m\n\u001b[1;37m    ^\u001b[0m\n\u001b[1;31mIndentationError\u001b[0m\u001b[1;31m:\u001b[0m unexpected indent\n"
     ]
    }
   ],
   "source": [
    "-5  -4  -3  -2  -1\n",
    " 0   1   2   3   4\n",
    "'v   a   s   c   o'"
   ]
  },
  {
   "cell_type": "code",
   "execution_count": 26,
   "id": "ca2a979e",
   "metadata": {
    "scrolled": true
   },
   "outputs": [
    {
     "data": {
      "text/plain": [
       "('as', 'as')"
      ]
     },
     "execution_count": 26,
     "metadata": {},
     "output_type": "execute_result"
    }
   ],
   "source": [
    "'vasco'[-4:-2], 'vasco'[1:3]"
   ]
  },
  {
   "cell_type": "code",
   "execution_count": 32,
   "id": "9e2f3236",
   "metadata": {
    "scrolled": true
   },
   "outputs": [
    {
     "data": {
      "text/plain": [
       "'fluminense is my favorite soccer team'"
      ]
     },
     "execution_count": 32,
     "metadata": {},
     "output_type": "execute_result"
    }
   ],
   "source": [
    "text.replace('vasco','fluminense')"
   ]
  },
  {
   "cell_type": "code",
   "execution_count": 33,
   "id": "b995dc22",
   "metadata": {},
   "outputs": [
    {
     "data": {
      "text/plain": [
       "'vasco is my favorite soccer team'"
      ]
     },
     "execution_count": 33,
     "metadata": {},
     "output_type": "execute_result"
    }
   ],
   "source": [
    "text"
   ]
  },
  {
   "cell_type": "markdown",
   "id": "61583a89",
   "metadata": {},
   "source": [
    "<div style=\"background-color: lightgreen; padding: 10px;\">\n",
    "    <h2> While Loops\n",
    "</div>"
   ]
  },
  {
   "cell_type": "code",
   "execution_count": 60,
   "id": "9488b1d3",
   "metadata": {},
   "outputs": [
    {
     "name": "stdout",
     "output_type": "stream",
     "text": [
      "0\n",
      "1\n",
      "2\n"
     ]
    }
   ],
   "source": [
    "# With the while loop we can execute a set of statements as long as a condition is true.\n",
    "i=0\n",
    "while i<3:\n",
    "    print(i)\n",
    "    i += 1"
   ]
  },
  {
   "cell_type": "code",
   "execution_count": 47,
   "id": "64e9a991",
   "metadata": {},
   "outputs": [
    {
     "name": "stdout",
     "output_type": "stream",
     "text": [
      "Enter your password (8 digits): 1234578\n",
      "ERROR: The password needs to have 8 digits!\n",
      "You have 2 attempts left.\n",
      "Enter the password (8 digits): 12345678\n",
      "Valid password!\n"
     ]
    }
   ],
   "source": [
    "# Checking if the password has 8 digits. Otherwise, ask for the password again.\n",
    "\n",
    "password = input('Enter your password (8 digits): ')\n",
    "attempts = 3\n",
    "\n",
    "while len(password) != 8 or not password.isnumeric():\n",
    "    attempts -= 1\n",
    "    print('ERROR: The password needs to have 8 digits!')\n",
    "    print(f'You have {attempts} attempts left.')\n",
    "    password = input('Enter the password (8 digits): ')\n",
    "    \n",
    "    if attempts == 0:\n",
    "        print('Exceeded the number of attempts!')\n",
    "        break\n",
    "else:\n",
    "    print('Valid password!')"
   ]
  },
  {
   "cell_type": "code",
   "execution_count": 52,
   "id": "86e79591",
   "metadata": {},
   "outputs": [
    {
     "name": "stdout",
     "output_type": "stream",
     "text": [
      "0\n",
      "1\n",
      "2\n",
      "Here I stand.\n",
      "The program continues here...\n"
     ]
    }
   ],
   "source": [
    "counter = 0\n",
    "\n",
    "while counter < 5:\n",
    "    print(counter)\n",
    "    counter = counter + 1\n",
    "\n",
    "    if counter == 3:\n",
    "        print('Here I stand.')\n",
    "        break\n",
    "\n",
    "print('The program continues here...')"
   ]
  },
  {
   "cell_type": "code",
   "execution_count": 59,
   "id": "55e54ca5",
   "metadata": {},
   "outputs": [
    {
     "name": "stdout",
     "output_type": "stream",
     "text": [
      "1\n",
      "2\n",
      "3\n",
      "4\n",
      "5\n",
      "Counter is no longer less than 6\n"
     ]
    }
   ],
   "source": [
    "# The else Statement\n",
    "\n",
    "counter = 1\n",
    "while counter < 6:\n",
    "    print(counter)\n",
    "    counter += 1\n",
    "else:\n",
    "    print(\"Counter is no longer less than 6\")"
   ]
  },
  {
   "cell_type": "markdown",
   "id": "0d5bd065",
   "metadata": {},
   "source": [
    "<div style=\"background-color: lightgreen; padding: 10px;\">\n",
    "    <h2> Exercices\n",
    "    </div>"
   ]
  },
  {
   "cell_type": "markdown",
   "id": "fb783ede",
   "metadata": {},
   "source": [
    "---\n",
    "#### <font color=\"blue\">Exercice 1</font>\n",
    "\n",
    "Write a program that requests an integer and prints on the screen all numbers from 1 up to the entered number, separated by spaces.\n",
    "\n",
    "_Example:_\n",
    "- Entered number: 5\n",
    "- Expected output: 1 2 3 4 5"
   ]
  },
  {
   "cell_type": "code",
   "execution_count": 57,
   "id": "4a2aad09",
   "metadata": {
    "scrolled": true
   },
   "outputs": [
    {
     "name": "stdout",
     "output_type": "stream",
     "text": [
      "Enter any integer number: 9\n",
      "1 2 3 4 5 6 7 8 9\n"
     ]
    }
   ],
   "source": [
    "number = int(input('Enter any integer number: '))\n",
    "i = 1\n",
    "response = \"\"\n",
    "\n",
    "while i < number:\n",
    "    response = f\"{response}{str(i)}\"\n",
    "    i = i + 1\n",
    "\n",
    "answer = f\"{response}{str(number)}\"\n",
    "print(\" \".join(answer))"
   ]
  },
  {
   "cell_type": "markdown",
   "id": "f4d22504",
   "metadata": {},
   "source": [
    "---\n",
    "#### <font color=\"blue\">Exercice 2</font>\n",
    "\n",
    "Create a program that shows the factorial of an entered number.\n",
    "\n",
    "_Example_  \n",
    "Entered number: 5  \n",
    "Expected output: 120"
   ]
  },
  {
   "cell_type": "code",
   "execution_count": 64,
   "id": "f5aed1ab",
   "metadata": {
    "scrolled": true
   },
   "outputs": [
    {
     "name": "stdout",
     "output_type": "stream",
     "text": [
      "Enter any integer number: 6\n",
      "720\n"
     ]
    }
   ],
   "source": [
    "number = int(input('Enter any integer number: '))\n",
    "i = 0\n",
    "factorial = 1\n",
    "\n",
    "while i < number:\n",
    "    factorial = factorial*(number-i)\n",
    "    i= i+1\n",
    "print(factorial)"
   ]
  },
  {
   "cell_type": "markdown",
   "id": "c907deb2",
   "metadata": {},
   "source": [
    "---\n",
    "#### <font color=\"blue\">Exercice 3</font>\n",
    "\n",
    "Create a program that prints the 9 times table on the screen (from 1 to 10). <br> Display the equation, for example, 9 * 1 = 9, with each value on a different line."
   ]
  },
  {
   "cell_type": "code",
   "execution_count": 68,
   "id": "5aa3bb23",
   "metadata": {},
   "outputs": [
    {
     "name": "stdout",
     "output_type": "stream",
     "text": [
      "9 * 1 = 9\n",
      "9 * 2 = 18\n",
      "9 * 3 = 27\n",
      "9 * 4 = 36\n",
      "9 * 5 = 45\n",
      "9 * 6 = 54\n",
      "9 * 7 = 63\n",
      "9 * 8 = 72\n",
      "9 * 9 = 81\n",
      "9 * 10 = 90\n"
     ]
    }
   ],
   "source": [
    "i = 1\n",
    "while i <= 10:\n",
    "    result = 9*(i)\n",
    "    print (f'9 * {i} = {result}')\n",
    "    i= i+1"
   ]
  },
  {
   "cell_type": "markdown",
   "id": "23588c66",
   "metadata": {},
   "source": [
    "---\n",
    "#### <font color=\"blue\">Exercice 4</font>\n",
    "\n",
    "Create a program that receives a string and verifies if it follows the structure of a CPF (Brazilian ID number format): 'XXX.XXX.XXX-XX'."
   ]
  },
  {
   "cell_type": "code",
   "execution_count": 69,
   "id": "c724bff5",
   "metadata": {},
   "outputs": [
    {
     "name": "stdout",
     "output_type": "stream",
     "text": [
      "Enter your CPF document number: 132.456.789-10\n",
      "The document has a CPF structure\n"
     ]
    }
   ],
   "source": [
    "document = input(\"Enter your CPF document number: \")\n",
    "\n",
    "slice1 = document[0:3].isnumeric()\n",
    "slice2 = document[4:7].isnumeric()\n",
    "slice3 = document[8:11].isnumeric()\n",
    "slice4 = document[12:14].isnumeric()\n",
    "\n",
    "if slice1 and slice2 and slice3 and slice4 and document[3] == \".\" and document[7] == \".\" and document[11] == \"-\":\n",
    "    print(\"The document has a CPF structure\")\n",
    "else:\n",
    "    print(\"The document does not have a CPF structure\")"
   ]
  }
 ],
 "metadata": {
  "kernelspec": {
   "display_name": "Python 3 (ipykernel)",
   "language": "python",
   "name": "python3"
  },
  "language_info": {
   "codemirror_mode": {
    "name": "ipython",
    "version": 3
   },
   "file_extension": ".py",
   "mimetype": "text/x-python",
   "name": "python",
   "nbconvert_exporter": "python",
   "pygments_lexer": "ipython3",
   "version": "3.11.5"
  }
 },
 "nbformat": 4,
 "nbformat_minor": 5
}
