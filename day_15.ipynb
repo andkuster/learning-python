{
 "cells": [
  {
   "cell_type": "markdown",
   "id": "f5f9cb93-72f3-419f-a827-d12b4562a5e7",
   "metadata": {},
   "source": [
    "<div style=\"background-color: lightgray; padding: 18px;\">\n",
    "    <h1> Learning Python | Day 15\n",
    "    \n",
    "</div>"
   ]
  },
  {
   "cell_type": "markdown",
   "id": "38ed6c50-5fbb-44df-a3df-2f5feeb7c1eb",
   "metadata": {},
   "source": [
    "### Features:\n",
    "NumPy\n",
    "- Any, all and multiple conditions\n",
    "- Built-in Methods of array creation\n",
    "- Math functions\n",
    "- Linear Algebra "
   ]
  },
  {
   "cell_type": "markdown",
   "id": "c68a009e-822c-4493-917f-4833cb125015",
   "metadata": {},
   "source": [
    "<div style=\"background-color: lightgreen; padding: 10px;\">\n",
    "    <h2> Any, all and multiple conditions\n",
    "</div>"
   ]
  },
  {
   "cell_type": "markdown",
   "id": "968a1581-80b6-4e99-b8c6-f4b45f2dbe9a",
   "metadata": {},
   "source": [
    "The ``numpy.any()`` function tests whether any array elements along the mentioned axis evaluate to True.\n",
    "\n",
    "__Notes:__ \r\n",
    "Not a Number (NaN), positive infinity and negative infinity evaluate to True because these are not equal to zero.\n",
    "\n",
    "Sources:\n",
    "- https://www.geeksforgeeks.org/numpy-any-in-pythos/"
   ]
  },
  {
   "cell_type": "code",
   "execution_count": 1,
   "id": "fdc58939-b675-4289-adfb-522cfb386a5c",
   "metadata": {},
   "outputs": [
    {
     "data": {
      "text/plain": [
       "True"
      ]
     },
     "execution_count": 1,
     "metadata": {},
     "output_type": "execute_result"
    }
   ],
   "source": [
    "import numpy as np\n",
    "   \n",
    "np.any([[True, False], [True, True]])"
   ]
  },
  {
   "cell_type": "code",
   "execution_count": 2,
   "id": "dde2fc42-01bb-4581-9006-f732dc1c56e1",
   "metadata": {},
   "outputs": [
    {
     "data": {
      "text/plain": [
       "array([ True, False])"
      ]
     },
     "execution_count": 2,
     "metadata": {},
     "output_type": "execute_result"
    }
   ],
   "source": [
    "np.any([[True, False], [False, False]], axis=0)"
   ]
  },
  {
   "cell_type": "code",
   "execution_count": 3,
   "id": "1ea1cd5a-f88d-4308-b37f-6760a215a48d",
   "metadata": {},
   "outputs": [
    {
     "data": {
      "text/plain": [
       "True"
      ]
     },
     "execution_count": 3,
     "metadata": {},
     "output_type": "execute_result"
    }
   ],
   "source": [
    "np.any([-1, 0, 5])"
   ]
  },
  {
   "cell_type": "code",
   "execution_count": 4,
   "id": "70a94eed-c163-47ca-bca0-e462f0b2b6af",
   "metadata": {},
   "outputs": [
    {
     "data": {
      "text/plain": [
       "True"
      ]
     },
     "execution_count": 4,
     "metadata": {},
     "output_type": "execute_result"
    }
   ],
   "source": [
    "np.any(np.nan)"
   ]
  },
  {
   "cell_type": "markdown",
   "id": "3828416d-a5ae-43c8-86d6-e27fbb9a7aa8",
   "metadata": {},
   "source": [
    "---\n",
    "The ``numpy.all()`` function tests whether all array elements along the mentioned axis evaluate to True.\n",
    "\n",
    "Sources:\n",
    "- https://www.geeksforgeeks.org/numpy-all-in-python/"
   ]
  },
  {
   "cell_type": "code",
   "execution_count": 6,
   "id": "e38ffe80-3d99-4961-8b9b-dfca919ec15c",
   "metadata": {},
   "outputs": [
    {
     "data": {
      "text/plain": [
       "array([[1, 2],\n",
       "       [4, 5],\n",
       "       [7, 8]])"
      ]
     },
     "execution_count": 6,
     "metadata": {},
     "output_type": "execute_result"
    }
   ],
   "source": [
    "new_mat = np.array([1, 2, 4, 5, 7, 8]).reshape(3, 2)\n",
    "new_mat"
   ]
  },
  {
   "cell_type": "code",
   "execution_count": 7,
   "id": "6cba8ee8-1a0f-43de-9680-6db598a62910",
   "metadata": {},
   "outputs": [
    {
     "data": {
      "text/plain": [
       "array([ True,  True, False])"
      ]
     },
     "execution_count": 7,
     "metadata": {},
     "output_type": "execute_result"
    }
   ],
   "source": [
    "(new_mat < 8).all(axis=1)"
   ]
  },
  {
   "cell_type": "code",
   "execution_count": 8,
   "id": "1907a0e7-2585-4073-b4d2-73e02f88ab92",
   "metadata": {},
   "outputs": [
    {
     "data": {
      "text/plain": [
       "array([False,  True])"
      ]
     },
     "execution_count": 8,
     "metadata": {},
     "output_type": "execute_result"
    }
   ],
   "source": [
    "(new_mat == 5).any(axis=0)"
   ]
  },
  {
   "cell_type": "markdown",
   "id": "f7916609-ba71-4360-ae9c-6a62167bb026",
   "metadata": {},
   "source": [
    "<div style=\"background-color: lightgreen; padding: 10px;\">\n",
    "    <h2> Built-in Methods of array creation\n",
    "</div>"
   ]
  },
  {
   "cell_type": "markdown",
   "id": "ae6a52af-1367-4bea-8dd0-afa81bc1811c",
   "metadata": {},
   "source": [
    "NumPy offers several functions to create arrays with initial placeholder content. These minimize the necessity of growing arrays, an expensive operation. \n",
    "\n",
    "For example: ``np.zeros``,``np.empty`` etc. \n",
    "\n",
    "``numpy.empty(shape, dtype = float, order = ‘C’)`` : Return a new array of given shape and type, with random values.\n",
    "\n",
    "Sources:\n",
    "- https://www.geeksforgeeks.org/numpy-create-array-filled-with-all-ones/"
   ]
  },
  {
   "cell_type": "code",
   "execution_count": 5,
   "id": "d031c5af-670c-46c0-83fb-8274dd410fb1",
   "metadata": {},
   "outputs": [
    {
     "data": {
      "text/plain": [
       "array([[0., 0., 0.],\n",
       "       [0., 0., 0.]])"
      ]
     },
     "execution_count": 5,
     "metadata": {},
     "output_type": "execute_result"
    }
   ],
   "source": [
    "np.zeros((2, 3))"
   ]
  },
  {
   "cell_type": "code",
   "execution_count": 9,
   "id": "f7efc922-c5e2-4de1-8713-99f77f477ae7",
   "metadata": {},
   "outputs": [
    {
     "data": {
      "text/plain": [
       "array([[1., 1., 1.],\n",
       "       [1., 1., 1.]])"
      ]
     },
     "execution_count": 9,
     "metadata": {},
     "output_type": "execute_result"
    }
   ],
   "source": [
    "np.ones((2, 3))"
   ]
  },
  {
   "cell_type": "code",
   "execution_count": 10,
   "id": "e4b62cb6-be23-4f8a-8a75-9834073c7227",
   "metadata": {},
   "outputs": [
    {
     "data": {
      "text/plain": [
       "array([[99, 99, 99],\n",
       "       [99, 99, 99]])"
      ]
     },
     "execution_count": 10,
     "metadata": {},
     "output_type": "execute_result"
    }
   ],
   "source": [
    "np.full((2, 3), 99)"
   ]
  },
  {
   "cell_type": "code",
   "execution_count": 12,
   "id": "3bda8731-e91f-4708-8d02-77f5188219a1",
   "metadata": {},
   "outputs": [
    {
     "data": {
      "text/plain": [
       "array([[999, 999, 999, 999, 999, 999, 999],\n",
       "       [999, 999, 999, 999, 999, 999, 999]])"
      ]
     },
     "execution_count": 12,
     "metadata": {},
     "output_type": "execute_result"
    }
   ],
   "source": [
    "np_mat = np.array([\n",
    "  [1, 2,  3,  4,  5,  6,  7],\n",
    "  [8, 9, 10, 11, 12, 13, 14]\n",
    "])\n",
    "np_mat\n",
    "np.full_like(np_mat, 999)"
   ]
  },
  {
   "cell_type": "code",
   "execution_count": 13,
   "id": "b6298d82-311d-45da-adae-b632acef021d",
   "metadata": {},
   "outputs": [
    {
     "data": {
      "text/plain": [
       "array([ 0,  1,  2,  3,  4,  5,  6,  7,  8,  9, 10])"
      ]
     },
     "execution_count": 13,
     "metadata": {},
     "output_type": "execute_result"
    }
   ],
   "source": [
    "np.arange(0, 11)"
   ]
  },
  {
   "cell_type": "code",
   "execution_count": 14,
   "id": "17234d1d-3464-4844-b393-388e4862eb29",
   "metadata": {},
   "outputs": [
    {
     "data": {
      "text/plain": [
       "array([ 5,  6,  7,  8,  9, 10])"
      ]
     },
     "execution_count": 14,
     "metadata": {},
     "output_type": "execute_result"
    }
   ],
   "source": [
    "np.arange(5, 11)"
   ]
  },
  {
   "cell_type": "code",
   "execution_count": 16,
   "id": "3ba630d5-5d16-48bc-a3cc-75c65a0e7774",
   "metadata": {},
   "outputs": [
    {
     "data": {
      "text/plain": [
       "array([0. , 0.1, 0.2, 0.3, 0.4, 0.5, 0.6, 0.7, 0.8, 0.9, 1. , 1.1, 1.2,\n",
       "       1.3, 1.4, 1.5, 1.6, 1.7, 1.8, 1.9, 2. , 2.1, 2.2, 2.3, 2.4, 2.5,\n",
       "       2.6, 2.7, 2.8, 2.9, 3. , 3.1, 3.2, 3.3, 3.4, 3.5, 3.6, 3.7, 3.8,\n",
       "       3.9, 4. , 4.1, 4.2, 4.3, 4.4, 4.5, 4.6, 4.7, 4.8, 4.9])"
      ]
     },
     "execution_count": 16,
     "metadata": {},
     "output_type": "execute_result"
    }
   ],
   "source": [
    "np.arange(0, 5, 0.1)"
   ]
  },
  {
   "cell_type": "code",
   "execution_count": 17,
   "id": "76c4e40b-d9a1-4e5e-8bcc-db0bdeaa9958",
   "metadata": {},
   "outputs": [
    {
     "data": {
      "text/plain": [
       "array([3.        , 3.13793103, 3.27586207, 3.4137931 , 3.55172414,\n",
       "       3.68965517, 3.82758621, 3.96551724, 4.10344828, 4.24137931,\n",
       "       4.37931034, 4.51724138, 4.65517241, 4.79310345, 4.93103448,\n",
       "       5.06896552, 5.20689655, 5.34482759, 5.48275862, 5.62068966,\n",
       "       5.75862069, 5.89655172, 6.03448276, 6.17241379, 6.31034483,\n",
       "       6.44827586, 6.5862069 , 6.72413793, 6.86206897, 7.        ])"
      ]
     },
     "execution_count": 17,
     "metadata": {},
     "output_type": "execute_result"
    }
   ],
   "source": [
    "np.linspace(3, 7, num=30)"
   ]
  },
  {
   "cell_type": "code",
   "execution_count": 18,
   "id": "0e504eee-886c-4f35-a499-7c124f278cf1",
   "metadata": {},
   "outputs": [
    {
     "data": {
      "text/plain": [
       "array([[0.6595741 , 0.36498451, 0.21410187],\n",
       "       [0.50096484, 0.2070111 , 0.08129771],\n",
       "       [0.89531095, 0.48250513, 0.75125867],\n",
       "       [0.63702326, 0.73879399, 0.06607734]])"
      ]
     },
     "execution_count": 18,
     "metadata": {},
     "output_type": "execute_result"
    }
   ],
   "source": [
    "np.random.random_sample((4,3))"
   ]
  },
  {
   "cell_type": "code",
   "execution_count": 19,
   "id": "bc17f471-a476-4a34-94e7-d75ea77219b5",
   "metadata": {},
   "outputs": [
    {
     "data": {
      "text/plain": [
       "array([[0.72210029, 0.94587353, 0.26297334],\n",
       "       [0.98924873, 0.11419014, 0.1540332 ],\n",
       "       [0.82388831, 0.75452789, 0.65580718],\n",
       "       [0.32442433, 0.28936333, 0.22090742]])"
      ]
     },
     "execution_count": 19,
     "metadata": {},
     "output_type": "execute_result"
    }
   ],
   "source": [
    "np.random.rand(4,3) # alias of np.random.random_sample()"
   ]
  },
  {
   "cell_type": "code",
   "execution_count": 20,
   "id": "806b19e8-67ed-4ecc-8472-99f2e2d5a0a1",
   "metadata": {},
   "outputs": [
    {
     "data": {
      "text/plain": [
       "array([[91, 31, 14],\n",
       "       [33, 96, 54],\n",
       "       [41, 10,  3],\n",
       "       [62, 18, 93]])"
      ]
     },
     "execution_count": 20,
     "metadata": {},
     "output_type": "execute_result"
    }
   ],
   "source": [
    "np.random.randint(100, size=(4,3))"
   ]
  },
  {
   "cell_type": "code",
   "execution_count": 21,
   "id": "f11f9eee-6fc4-436c-83dc-68eb38f462e2",
   "metadata": {},
   "outputs": [
    {
     "data": {
      "text/plain": [
       "array([[92, 97, 98],\n",
       "       [93, 91, 94],\n",
       "       [91, 92, 97],\n",
       "       [96, 98, 90]])"
      ]
     },
     "execution_count": 21,
     "metadata": {},
     "output_type": "execute_result"
    }
   ],
   "source": [
    "np.random.randint(low = 90, high = 100, size=(4,3))"
   ]
  },
  {
   "cell_type": "markdown",
   "id": "e7356a29-cb80-4148-adba-dc5c879f23dc",
   "metadata": {},
   "source": [
    "<div style=\"background-color: lightgreen; padding: 10px;\">\n",
    "    <h2> Math functions\n",
    "</div>"
   ]
  },
  {
   "attachments": {
    "33b742b4-49a7-478f-b7e7-69b7d2a787dd.png": {
     "image/png": "[encoded data removed]"
    }
   },
   "cell_type": "markdown",
   "id": "b88d77e4-975f-419b-8b7b-1160d596b260",
   "metadata": {},
   "source": [
    "A question is: if our ``ndarrays`` have different shapes, does NumPy can perform math operations? Or just return an error?\n",
    "\n",
    "It depends on the case. \n",
    "\n",
    "NumPy can perform the operation if the difference between the shapes follows some **rules** that we will see below. In these cases, it does what we call ``Broadcasting``.\n",
    "\n",
    "The term **broadcasting** refers to the ability of NumPy to treat arrays with different dimensions during arithmetic operations. Broadcasting is not limited to two arrays; it can be applied over multiple arrays as well.\n",
    "\n",
    "![image.png](attachment:33b742b4-49a7-478f-b7e7-69b7d2a787dd.png)\n",
    "\n",
    "- https://www.geeksforgeeks.org/numpy-array-broadcasting/"
   ]
  },
  {
   "cell_type": "code",
   "execution_count": 22,
   "id": "31d34900-3777-4c2d-8497-42514d67c12e",
   "metadata": {},
   "outputs": [
    {
     "name": "stdout",
     "output_type": "stream",
     "text": [
      "[450 350   0  30]\n"
     ]
    }
   ],
   "source": [
    "# Example with compatible dimensions, storing the result in array ‘c’ and printing it:\n",
    "\n",
    "import numpy as np \n",
    "  \n",
    "a = np.array([5, 7, 3, 1]) \n",
    "b = np.array([90, 50, 0, 30]) \n",
    "  \n",
    "# array are compatible because of same Dimension \n",
    "c = a * b \n",
    "print(c) "
   ]
  },
  {
   "cell_type": "code",
   "execution_count": 23,
   "id": "fb2d6436-e403-411a-8239-cb9289fca633",
   "metadata": {},
   "outputs": [
    {
     "data": {
      "text/plain": [
       "array([[ 1,  2,  3],\n",
       "       [11, 12, 13],\n",
       "       [21, 22, 23],\n",
       "       [31, 32, 33]])"
      ]
     },
     "execution_count": 23,
     "metadata": {},
     "output_type": "execute_result"
    }
   ],
   "source": [
    "# Example of broadcasting:\n",
    "\n",
    "matrix = np.array([\n",
    "  [0, 0, 0],\n",
    "  [10, 10, 10],\n",
    "  [20, 20, 20],\n",
    "  [30, 30, 30]\n",
    "])\n",
    "\n",
    "matrix + np.array([1, 2, 3])"
   ]
  },
  {
   "cell_type": "markdown",
   "id": "d63e5b6b-9378-4590-91bd-d02540654086",
   "metadata": {},
   "source": [
    "![broadcasting02](https://s3-sa-east-1.amazonaws.com/lcpi/ab17651c-1154-4ea1-a716-09e203f49060.png \"broadcasting array\")"
   ]
  },
  {
   "cell_type": "code",
   "execution_count": 27,
   "id": "76d3d565-a720-4139-9928-926602e16132",
   "metadata": {},
   "outputs": [
    {
     "ename": "ValueError",
     "evalue": "operands could not be broadcast together with shapes (3,4) (2,) ",
     "output_type": "error",
     "traceback": [
      "\u001b[1;31m---------------------------------------------------------------------------\u001b[0m",
      "\u001b[1;31mValueError\u001b[0m                                Traceback (most recent call last)",
      "Cell \u001b[1;32mIn[27], line 8\u001b[0m\n\u001b[0;32m      1\u001b[0m a \u001b[38;5;241m=\u001b[39m np\u001b[38;5;241m.\u001b[39marray([\n\u001b[0;32m      2\u001b[0m   [\u001b[38;5;241m1\u001b[39m, \u001b[38;5;241m2\u001b[39m, \u001b[38;5;241m3\u001b[39m, \u001b[38;5;241m4\u001b[39m],\n\u001b[0;32m      3\u001b[0m   [\u001b[38;5;241m3\u001b[39m, \u001b[38;5;241m4\u001b[39m, \u001b[38;5;241m5\u001b[39m, \u001b[38;5;241m6\u001b[39m],\n\u001b[0;32m      4\u001b[0m   [\u001b[38;5;241m7\u001b[39m, \u001b[38;5;241m8\u001b[39m, \u001b[38;5;241m9\u001b[39m, \u001b[38;5;241m10\u001b[39m]\n\u001b[0;32m      5\u001b[0m ])\n\u001b[0;32m      7\u001b[0m b \u001b[38;5;241m=\u001b[39m np\u001b[38;5;241m.\u001b[39marray([\u001b[38;5;241m2\u001b[39m, \u001b[38;5;241m2\u001b[39m])\n\u001b[1;32m----> 8\u001b[0m \u001b[43ma\u001b[49m\u001b[43m \u001b[49m\u001b[38;5;241;43m*\u001b[39;49m\u001b[43m \u001b[49m\u001b[43mb\u001b[49m\n",
      "\u001b[1;31mValueError\u001b[0m: operands could not be broadcast together with shapes (3,4) (2,) "
     ]
    }
   ],
   "source": [
    "a = np.array([\n",
    "  [1, 2, 3, 4],\n",
    "  [3, 4, 5, 6],\n",
    "  [7, 8, 9, 10]\n",
    "])\n",
    "\n",
    "b = np.array([2, 2])\n",
    "a * b"
   ]
  },
  {
   "cell_type": "code",
   "execution_count": 26,
   "id": "c9b8e785-403f-4412-b1f7-3ed8671af13d",
   "metadata": {},
   "outputs": [
    {
     "data": {
      "text/plain": [
       "array([[ 10,  40,  90, 160],\n",
       "       [ 30,  80, 150, 240],\n",
       "       [ 70, 160, 270, 400]])"
      ]
     },
     "execution_count": 26,
     "metadata": {},
     "output_type": "execute_result"
    }
   ],
   "source": [
    "b = np.array([10, 20, 30, 40])\n",
    "a * b"
   ]
  },
  {
   "cell_type": "markdown",
   "id": "ef020879-0180-44eb-a00e-21313bada879",
   "metadata": {},
   "source": [
    "---\n",
    "NumPy contains a large number of various mathematical operations. \n",
    "\n",
    "NumPy provides standard trigonometric functions, functions for arithmetic operations, handling complex numbers, etc. \n",
    "\n",
    "| Function  | Description                                                 |\n",
    "|-----------|-------------------------------------------------------------|\n",
    "| tan()     | Compute tangent element-wise.                               |\n",
    "| arcsin()  | Inverse sine, element-wise.                                  |\n",
    "| arccos()  | Trigonometric inverse cosine, element-wise.                 |\n",
    "| arctan()  | Trigonometric inverse tangent, element-wise.                 |\n",
    "| arctan2() | Element-wise arc tangent of x1/x2 choosing the quadrant correctly. |\n",
    "| degrees() | Convert angles from radians to degrees.                      |\n",
    "| rad2deg() | Convert angles from radians to degrees.                      |\n",
    "| deg2rad   | Convert angles from degrees to radians.                      |\n",
    "| radians() | Convert angles from degrees to radians.                      |\n",
    "| hypot()   | Given the “legs” of a right triangle, return its hypotenuse. |\n",
    "| unwrap()  | Unwrap by changing deltas between values to 2*pi complement. |\n",
    "\n",
    "Sources: \n",
    "- https://www.geeksforgeeks.org/numpy-mathematical-function/"
   ]
  },
  {
   "cell_type": "code",
   "execution_count": 28,
   "id": "e7e44ed9-e99e-4c39-b0a6-24f1e5658fcf",
   "metadata": {},
   "outputs": [
    {
     "data": {
      "text/plain": [
       "3.141592653589793"
      ]
     },
     "execution_count": 28,
     "metadata": {},
     "output_type": "execute_result"
    }
   ],
   "source": [
    "np.pi"
   ]
  },
  {
   "cell_type": "code",
   "execution_count": 29,
   "id": "3556a369-2ba6-4046-b84a-f66cd4e45f8a",
   "metadata": {},
   "outputs": [
    {
     "data": {
      "text/plain": [
       "array([ 0.0000000e+00,  1.0000000e+00,  1.2246468e-16, -1.0000000e+00,\n",
       "       -2.4492936e-16])"
      ]
     },
     "execution_count": 29,
     "metadata": {},
     "output_type": "execute_result"
    }
   ],
   "source": [
    "x = np.array([0, np.pi / 2 , np.pi, 3 * np.pi / 2, 2 * np.pi])\n",
    "np.sin(x)"
   ]
  },
  {
   "cell_type": "code",
   "execution_count": 30,
   "id": "fb2dd0de-cf7b-485f-b423-35c8b0d2017b",
   "metadata": {},
   "outputs": [
    {
     "data": {
      "text/plain": [
       "array([ 2.71828183,  7.3890561 , 20.08553692, 54.59815003])"
      ]
     },
     "execution_count": 30,
     "metadata": {},
     "output_type": "execute_result"
    }
   ],
   "source": [
    "x = np.array([1, 2, 3, 4])\n",
    "np.exp(x)"
   ]
  },
  {
   "cell_type": "code",
   "execution_count": 31,
   "id": "c3eaab9a-a657-4c36-a771-2c90029429d1",
   "metadata": {},
   "outputs": [
    {
     "data": {
      "text/plain": [
       "2.718281828459045"
      ]
     },
     "execution_count": 31,
     "metadata": {},
     "output_type": "execute_result"
    }
   ],
   "source": [
    "np.e"
   ]
  },
  {
   "cell_type": "markdown",
   "id": "4ef5fccb-bff1-445e-852f-f86ca700bf2e",
   "metadata": {},
   "source": [
    "---\n",
    "Another math functions:\n",
    "\n",
    "| Function  | Description                                                 |\r\n",
    "| -------------- | --------------------------------------------------------- |\r\n",
    "| rint()         | Round to nearest integer towards zero.                    |\r\n",
    "| fix()          | Round to nearest integer towards zero.                    |\r\n",
    "| floor()        | Return the floor of the input, element-wise.              |\r\n",
    "| ceil()         | Return the ceiling of the input, element-wise.            |\r\n",
    "| trunc()        | Return the truncated value of the input, element-wise.    |\r\n",
    "| add()          | Add arguments element-wise.                               |\r\n",
    "| positive()     | Numerical positive, element-wise.                          |\r\n",
    "| negative()     | Numerical negative, element-wise.                          |\r\n",
    "| multiply()     | Multiply arguments element-wise.                          |\r\n",
    "| power()        | First array elements raised to powers from the second array, element-wise. |\r\n",
    "| subtract()     | Subtract arguments, element-wise.                         |\r\n",
    "| true_divide()  | Returns a true division of the inputs, element-wise.       |\r\n",
    "| floor_divide() | Return the largest integer smaller or equal to the division of the inputs. |\r\n",
    "| float_power()  | First array elements raised to powers from the second array, element-wise. |\r\n",
    "| mod()          | Return the element-wise remainder of division.            |\r\n",
    "| remainder()    | Return element-wise remainder of division.                |\r\n",
    "| divmod()       | Return element-wise quotient and remainder simultaneously.|\r\n"
   ]
  },
  {
   "cell_type": "markdown",
   "id": "44edc798-ffec-4560-94dd-4ece10e9faa4",
   "metadata": {},
   "source": [
    "---\n",
    "\n",
    "Finally, the last essential concept to know about mathematical operations in NumPy is the concept of infinity and NaN (not a number).\n",
    "\n",
    "NumPy has two constants, `np.inf` and `np.NaN`, which represent \"infinity\" and an error, respectively.\n",
    "\n",
    "\"Infinity\" is a floating-point value that is greater than any other number. If we put a negative sign, it becomes \"minus infinity,\" and becomes smaller than any other number."
   ]
  },
  {
   "cell_type": "code",
   "execution_count": 32,
   "id": "044ec986-8bb9-4e8f-a5c4-e37a79123764",
   "metadata": {},
   "outputs": [
    {
     "data": {
      "text/plain": [
       "inf"
      ]
     },
     "execution_count": 32,
     "metadata": {},
     "output_type": "execute_result"
    }
   ],
   "source": [
    "np.inf"
   ]
  },
  {
   "cell_type": "code",
   "execution_count": 33,
   "id": "6d6b4d2b-b6e9-48c1-a2ea-c6530816d091",
   "metadata": {},
   "outputs": [
    {
     "data": {
      "text/plain": [
       "True"
      ]
     },
     "execution_count": 33,
     "metadata": {},
     "output_type": "execute_result"
    }
   ],
   "source": [
    "np.inf > 999999999999999999999999"
   ]
  },
  {
   "cell_type": "code",
   "execution_count": 34,
   "id": "389bdcfe-f8f4-4504-9595-91dda0a504d7",
   "metadata": {},
   "outputs": [
    {
     "data": {
      "text/plain": [
       "nan"
      ]
     },
     "execution_count": 34,
     "metadata": {},
     "output_type": "execute_result"
    }
   ],
   "source": [
    "np.inf - np.inf"
   ]
  },
  {
   "cell_type": "code",
   "execution_count": 35,
   "id": "2404db4d-00da-4a79-8149-6a0f3d4fa738",
   "metadata": {},
   "outputs": [
    {
     "name": "stderr",
     "output_type": "stream",
     "text": [
      "C:\\Users\\Andre\\AppData\\Local\\Temp\\ipykernel_11748\\2758096263.py:1: RuntimeWarning: divide by zero encountered in divide\n",
      "  np.array([1]) / np.array([0])\n"
     ]
    },
    {
     "data": {
      "text/plain": [
       "array([inf])"
      ]
     },
     "execution_count": 35,
     "metadata": {},
     "output_type": "execute_result"
    }
   ],
   "source": [
    "np.array([1]) / np.array([0])"
   ]
  },
  {
   "cell_type": "code",
   "execution_count": 36,
   "id": "664ec2a9-4011-4f83-8792-b05d27169107",
   "metadata": {},
   "outputs": [],
   "source": [
    "a = np.array([np.nan,2,3,4,5])"
   ]
  },
  {
   "cell_type": "code",
   "execution_count": 37,
   "id": "6c2fb361-86ec-4a15-983c-1b5aa6a3dbd7",
   "metadata": {},
   "outputs": [
    {
     "data": {
      "text/plain": [
       "dtype('float64')"
      ]
     },
     "execution_count": 37,
     "metadata": {},
     "output_type": "execute_result"
    }
   ],
   "source": [
    "a.dtype"
   ]
  },
  {
   "cell_type": "code",
   "execution_count": 38,
   "id": "db27875a-7dff-43c0-acb9-222404c45996",
   "metadata": {},
   "outputs": [
    {
     "name": "stderr",
     "output_type": "stream",
     "text": [
      "C:\\Users\\Andre\\AppData\\Local\\Temp\\ipykernel_11748\\3686957759.py:1: RuntimeWarning: invalid value encountered in scalar divide\n",
      "  np.float64(0) / np.float64(0)\n"
     ]
    },
    {
     "data": {
      "text/plain": [
       "nan"
      ]
     },
     "execution_count": 38,
     "metadata": {},
     "output_type": "execute_result"
    }
   ],
   "source": [
    "np.float64(0) / np.float64(0)"
   ]
  },
  {
   "cell_type": "markdown",
   "id": "1f6ce3ef-610e-4aac-85d1-fea0e86a0c90",
   "metadata": {},
   "source": [
    "<div style=\"background-color: lightgreen; padding: 10px;\">\n",
    "    <h2> Linear Algebra\n",
    "</div>"
   ]
  },
  {
   "cell_type": "markdown",
   "id": "eeac32f9-3edd-4012-9747-2f8a97bb4b60",
   "metadata": {},
   "source": [
    "- https://www.geeksforgeeks.org/numpy-linear-algebra/"
   ]
  },
  {
   "cell_type": "code",
   "execution_count": null,
   "id": "d8883a08-f4df-47b6-9746-97c2625331b8",
   "metadata": {},
   "outputs": [],
   "source": []
  },
  {
   "cell_type": "code",
   "execution_count": null,
   "id": "35bfec50-7274-4499-88fc-8df4e2153bdb",
   "metadata": {},
   "outputs": [],
   "source": []
  }
 ],
 "metadata": {
  "kernelspec": {
   "display_name": "Python 3 (ipykernel)",
   "language": "python",
   "name": "python3"
  },
  "language_info": {
   "codemirror_mode": {
    "name": "ipython",
    "version": 3
   },
   "file_extension": ".py",
   "mimetype": "text/x-python",
   "name": "python",
   "nbconvert_exporter": "python",
   "pygments_lexer": "ipython3",
   "version": "3.11.5"
  }
 },
 "nbformat": 4,
 "nbformat_minor": 5
}
