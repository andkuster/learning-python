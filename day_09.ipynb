{
 "cells": [
  {
   "cell_type": "markdown",
   "id": "f5f9cb93-72f3-419f-a827-d12b4562a5e7",
   "metadata": {},
   "source": [
    "<div style=\"background-color: lightgray; padding: 18px;\">\n",
    "    <h1> Learning Python | Day 9\n",
    "</div>"
   ]
  },
  {
   "cell_type": "markdown",
   "id": "38ed6c50-5fbb-44df-a3df-2f5feeb7c1eb",
   "metadata": {},
   "source": [
    "### Features:\n",
    "\n",
    "- Python File Handling\n",
    "- .txt\n",
    "- .json\n",
    "- .parquet\n",
    "\n",
    "### Next classes:\n",
    "- Exceptions\n",
    "- Generators\n",
    "- Recursive Functions\n",
    "- Intro Object Oriented Programming"
   ]
  },
  {
   "cell_type": "markdown",
   "id": "601a5fd8-5779-43c2-976c-76a847ff4b66",
   "metadata": {},
   "source": [
    "<div style=\"background-color: lightgreen; padding: 10px;\">\n",
    "    <h2> File Handling\n",
    "</div>"
   ]
  },
  {
   "cell_type": "markdown",
   "id": "e561ba10-c716-4a26-90b2-80255e8fdb57",
   "metadata": {},
   "source": [
    "Sources:\n",
    "- https://www.w3schools.com/python/python_file_handling.asp\n",
    "- https://www.geeksforgeeks.org/file-handling-python/\n",
    "- https://docs.python.org/3/tutorial/inputoutput.html#reading-and-writing-files"
   ]
  },
  {
   "cell_type": "markdown",
   "id": "66dfc0da-25da-4137-be62-14d0a2e15ed6",
   "metadata": {},
   "source": [
    "The key function for working with files in Python is the ``open()`` function.\n",
    "\n",
    "The open() function takes two parameters; filename, and mode.\n",
    "\n",
    "```python\n",
    "open(file_name, mode)\n",
    "``` \n",
    "\n",
    "There are four different methods (modes) for opening a file:"
   ]
  },
  {
   "cell_type": "markdown",
   "id": "f5e8e4ff-8a62-4fc0-b6dc-c41db1d458ab",
   "metadata": {},
   "source": [
    "| Mode | Description                                                   |\r\n",
    "|------|---------------------------------------------------------------|\r\n",
    "| \"r\"  | Read - Default value. Opens a file for reading, error if the file does not exist           |\r\n",
    "| \"w\"  | Write - Opens a file for writing, creates the file if it does not exist                \n",
    "| \"a\"  | Append - Opens a file for appending, creates the file if it does not exist                 |\n",
    "| \"r+\"  | To read and write data into the file. The previous data in the file will be overridden.          |\n",
    "| \"w+\"  | To write and read data. It will override existing data.          |\n",
    "| \"a+\"  | To append and read data from the file. It won’t override existing data.          |   |\r\n",
    "| \"x\"  | Create - Creates the specified file, returns an error if the file exists                |\r\n"
   ]
  },
  {
   "cell_type": "markdown",
   "id": "47da4b75-2ee2-40f1-a077-03874ac4205c",
   "metadata": {},
   "source": [
    "In addition you can specify if the file should be handled as binary or text mode:\n",
    "| Mode | Description                                                   |\n",
    "|------|---------------------------------------------------------------|\n",
    "| \"r\"  | Text - Default value. Text mode         |\n",
    "| \"a\"  | Binary - Binary mode (e.g. images)                 |"
   ]
  },
  {
   "cell_type": "code",
   "execution_count": null,
   "id": "85418890-a571-48f1-8b7c-75a3b011cb7f",
   "metadata": {},
   "outputs": [],
   "source": [
    "# Syntax:\n",
    "# To open a file for reading it is enough to specify the name of the file:\n",
    "\n",
    "f = open(\"testfile.txt\")\n",
    "\n",
    "# The code above is the same as:\n",
    "\n",
    "f = open(\"testfile.txt\", \"rt\")\n",
    "\n",
    "# Because \"r\" for read, and \"t\" for text are the default values, you do not need to specify them."
   ]
  },
  {
   "cell_type": "markdown",
   "id": "ed30a6a5-3b27-4d44-a23f-03e2b5ec701e",
   "metadata": {},
   "source": [
    "To illustrate the reading functionality, let's first create a file with the <font color='blue'>%%writefile</font> command. This command writes everything in the notebook cell to a specified file. In the example below, the command `%%writefile` data.txt will write the entire content of the cell to the file named `data.txt`.\r\n",
    "\r\n",
    "Check your working directory (where this notebook is) that th` 'data.t`t' file will be created after executing the cell below."
   ]
  },
  {
   "cell_type": "code",
   "execution_count": 14,
   "id": "7868722e-c5d3-4e17-9eb7-d8f2beb4d7a1",
   "metadata": {},
   "outputs": [
    {
     "name": "stdout",
     "output_type": "stream",
     "text": [
      "Overwriting data.txt\n"
     ]
    }
   ],
   "source": [
    "%%writefile data.txt \n",
    "hello world\n",
    "today is raining\n",
    "winter is comming"
   ]
  },
  {
   "cell_type": "code",
   "execution_count": 15,
   "id": "a457db9e-19bf-4f4a-9304-b4a72be65e99",
   "metadata": {},
   "outputs": [
    {
     "name": "stdout",
     "output_type": "stream",
     "text": [
      "<_io.TextIOWrapper name='data.txt' mode='r' encoding='cp1252'>\n"
     ]
    }
   ],
   "source": [
    "f = open('data.txt','r')\n",
    "print(f)"
   ]
  },
  {
   "cell_type": "markdown",
   "id": "29930ddc-b20e-45d0-beaf-bab9409f4d93",
   "metadata": {},
   "source": [
    "<div style=\"background-color: lightgreen; padding: 10px;\">\n",
    "    <h2> Reading files:\n",
    "</div>"
   ]
  },
  {
   "cell_type": "markdown",
   "id": "6239d85e-2fda-4667-84d8-d259c19f47c3",
   "metadata": {},
   "source": [
    "| Method     | Description                                              |\n",
    "|------------|----------------------------------------------------------|\n",
    "| read()     | Returns the file content                               |\n",
    "| readable() | Returns whether the file stream can be read or not       |\n",
    "| readline() | Returns one line from the file                            |\n",
    "| readlines()| Returns a list of lines from the file                    |\n",
    "| for line in f:| Read each line of the file and stores in the variable line   |"
   ]
  },
  {
   "cell_type": "code",
   "execution_count": null,
   "id": "1ddba8e3-0024-49c4-898e-c982152d7b36",
   "metadata": {},
   "outputs": [],
   "source": []
  },
  {
   "cell_type": "code",
   "execution_count": null,
   "id": "c3149afa-6aa5-4b92-96cc-e370e5d8d496",
   "metadata": {},
   "outputs": [],
   "source": []
  },
  {
   "cell_type": "markdown",
   "id": "a1f5a7e8-5590-46e6-9155-618f92a88e3f",
   "metadata": {},
   "source": [
    "<div style=\"background-color: lightgreen; padding: 10px;\">\n",
    "    <h2> Writing files:\n",
    "</div>"
   ]
  },
  {
   "cell_type": "markdown",
   "id": "b57a4114-b400-48e2-b822-88b32badad67",
   "metadata": {},
   "source": [
    "| Method     | Description                                              |\n",
    "|------------|----------------------------------------------------------|\n",
    "| writable() | Returns whether the file can be written to or not        |\n",
    "| write()    | Writes the specified string to the file                  |\n",
    "| writelines()| Writes a list of strings to the file                     |"
   ]
  },
  {
   "cell_type": "code",
   "execution_count": null,
   "id": "0f9916bf-d389-44dd-a1d1-f04eb17d60b3",
   "metadata": {},
   "outputs": [],
   "source": []
  },
  {
   "cell_type": "code",
   "execution_count": null,
   "id": "4b065ff6-8fae-4fea-a5b2-9fa65d6e3f11",
   "metadata": {},
   "outputs": [],
   "source": []
  },
  {
   "cell_type": "markdown",
   "id": "0326c8e0-ee65-4957-8785-b3e964aebef8",
   "metadata": {},
   "source": [
    "<div style=\"background-color: lightgreen; padding: 10px;\">\n",
    "    <h2> All File Methods\n",
    "</div>"
   ]
  },
  {
   "cell_type": "markdown",
   "id": "b7aaa656-6d64-48c4-90a5-961985b57beb",
   "metadata": {},
   "source": [
    "Python has a set of methods available for the file object:"
   ]
  },
  {
   "cell_type": "markdown",
   "id": "cdb4d261-5faa-4cca-94e1-db84a9131852",
   "metadata": {},
   "source": [
    "| Method     | Description                                              |\r\n",
    "|------------|----------------------------------------------------------|\r\n",
    "| close()    | Closes the file                                          |\r\n",
    "| detach()   | Returns the separated raw stream from the buffer         |\r\n",
    "| fileno()   | Returns a number that represents the stream, from the operating system's perspective |\r\n",
    "| flush()    | Flushes the internal buffer                              |\r\n",
    "| isatty()   | Returns whether the file stream is interactive or not    |\r\n",
    "| read()     | Returns the file ntent                                 |\r\n",
    "| readable() | Returns whether the file stream can be read or not       |\r\n",
    "| readline() | Returns one line from the file                            |\r\n",
    "| readlines()| Returns a list of lines from the file                    |\r\n",
    "| seek()     | Change the file position                                 |\r\n",
    "| seekable() | Returns whether the file allows us to change the file position |\r\n",
    "| tell()     | Returns the current file position                        |\r\n",
    "| truncate() | Resizes the file to a specified size                     |\r\n",
    "| writable() | Returns whether the file can be written to or not        |\r\n",
    "| write()    | Writes the specified string to the file                  |\r\n",
    "| writelines()| Writes a list of strings to the file                     |\r\n"
   ]
  },
  {
   "cell_type": "code",
   "execution_count": null,
   "id": "744a1672-c4ea-45a7-a6dc-f5365f46de8e",
   "metadata": {},
   "outputs": [],
   "source": []
  },
  {
   "cell_type": "code",
   "execution_count": null,
   "id": "02ee2a6c-07a7-47c6-ba65-6e23ed9fa496",
   "metadata": {},
   "outputs": [],
   "source": []
  },
  {
   "cell_type": "markdown",
   "id": "62cb7b5d-7c6d-4a77-a164-d2853250c57e",
   "metadata": {},
   "source": [
    "<div style=\"background-color: lightgreen; padding: 10px;\">\n",
    "    <h2> Exercices\n",
    "</div>"
   ]
  },
  {
   "cell_type": "code",
   "execution_count": 16,
   "id": "91286784-3e93-4bb7-95b9-bcaf0c219ab6",
   "metadata": {},
   "outputs": [],
   "source": [
    "#5"
   ]
  },
  {
   "cell_type": "code",
   "execution_count": 17,
   "id": "d15389ea-d69c-4b8b-b6e8-4144013b9c9b",
   "metadata": {},
   "outputs": [],
   "source": [
    "#6"
   ]
  },
  {
   "cell_type": "code",
   "execution_count": null,
   "id": "24e22149-7784-4328-9492-d6de2848f1fa",
   "metadata": {},
   "outputs": [],
   "source": [
    "#7"
   ]
  },
  {
   "cell_type": "code",
   "execution_count": null,
   "id": "3cdac554-d313-4259-9a1f-8c45c7083285",
   "metadata": {},
   "outputs": [],
   "source": [
    "#8"
   ]
  }
 ],
 "metadata": {
  "kernelspec": {
   "display_name": "Python 3 (ipykernel)",
   "language": "python",
   "name": "python3"
  },
  "language_info": {
   "codemirror_mode": {
    "name": "ipython",
    "version": 3
   },
   "file_extension": ".py",
   "mimetype": "text/x-python",
   "name": "python",
   "nbconvert_exporter": "python",
   "pygments_lexer": "ipython3",
   "version": "3.11.5"
  }
 },
 "nbformat": 4,
 "nbformat_minor": 5
}
