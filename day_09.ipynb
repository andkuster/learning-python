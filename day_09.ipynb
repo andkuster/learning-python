{
 "cells": [
  {
   "cell_type": "markdown",
   "id": "f5f9cb93-72f3-419f-a827-d12b4562a5e7",
   "metadata": {},
   "source": [
    "<div style=\"background-color: lightgray; padding: 18px;\">\n",
    "    <h1> Learning Python | Day 9\n",
    "</div>"
   ]
  },
  {
   "cell_type": "markdown",
   "id": "38ed6c50-5fbb-44df-a3df-2f5feeb7c1eb",
   "metadata": {},
   "source": [
    "### Features:\n",
    "\n",
    "- Python File Handling\n",
    "- File formats:\n",
    "    1. .txt\n",
    "    2. .csv\n",
    "    3. .json\n",
    "    7. .parquet"
   ]
  },
  {
   "cell_type": "markdown",
   "id": "601a5fd8-5779-43c2-976c-76a847ff4b66",
   "metadata": {},
   "source": [
    "<div style=\"background-color: lightgreen; padding: 10px;\">\n",
    "    <h2> File Handling\n",
    "</div>"
   ]
  },
  {
   "cell_type": "markdown",
   "id": "e561ba10-c716-4a26-90b2-80255e8fdb57",
   "metadata": {},
   "source": [
    "Python has several functions for creating, reading, updating, and deleting files.\n",
    "\n",
    "Sources:\n",
    "- https://www.w3schools.com/python/python_file_handling.asp\n",
    "- https://www.w3schools.com/python/python_file_open.asp\n",
    "- https://www.w3schools.com/python/python_file_write.asp\n",
    "- https://www.geeksforgeeks.org/file-handling-python/\n",
    "- https://docs.python.org/3/tutorial/inputoutput.html#reading-and-writing-files"
   ]
  },
  {
   "cell_type": "markdown",
   "id": "66dfc0da-25da-4137-be62-14d0a2e15ed6",
   "metadata": {},
   "source": [
    "The key function for working with files in Python is the ``open()`` function.\n",
    "\n",
    "The open() function takes two parameters; filename, and mode.\n",
    "\n",
    "```python\n",
    "open(file_name, mode)\n",
    "``` \n",
    "\n",
    "There are four different methods (modes) for opening a file:"
   ]
  },
  {
   "cell_type": "markdown",
   "id": "f5e8e4ff-8a62-4fc0-b6dc-c41db1d458ab",
   "metadata": {},
   "source": [
    "| Mode | Description                                                   |\r\n",
    "|------|---------------------------------------------------------------|\r\n",
    "| \"r\"  | Read - Default value. Opens a file for reading, error if the file does not exist           |\r\n",
    "| \"w\"  | Write - Opens a file for writing, creates the file if it does not exist                \n",
    "| \"a\"  | Append - Opens a file for appending, creates the file if it does not exist                 |\n",
    "| \"r+\"  | To read and write data into the file. The previous data in the file will be overridden.          |\n",
    "| \"w+\"  | To write and read data. It will override existing data.          |\n",
    "| \"a+\"  | To append and read data from the file. It won’t override existing data.          |   |\r\n",
    "| \"x\"  | Create - Creates the specified file, returns an error if the file exists                |\r\n"
   ]
  },
  {
   "cell_type": "markdown",
   "id": "47da4b75-2ee2-40f1-a077-03874ac4205c",
   "metadata": {},
   "source": [
    "In addition you can specify if the file should be handled as binary or text mode:\n",
    "| Mode | Description                                                   |\n",
    "|------|---------------------------------------------------------------|\n",
    "| \"r\"  | Text - Default value. Text mode         |\n",
    "| \"a\"  | Binary - Binary mode (e.g. images)                 |"
   ]
  },
  {
   "cell_type": "code",
   "execution_count": 3,
   "id": "85418890-a571-48f1-8b7c-75a3b011cb7f",
   "metadata": {},
   "outputs": [
    {
     "name": "stdout",
     "output_type": "stream",
     "text": [
      "<_io.TextIOWrapper name='data.txt' mode='r' encoding='cp1252'>\n",
      "<_io.TextIOWrapper name='data.txt' mode='rt' encoding='cp1252'>\n"
     ]
    }
   ],
   "source": [
    "# Syntax:\n",
    "# To open a file for reading it is enough to specify the name of the file:\n",
    "\n",
    "f = open(\"data.txt\")\n",
    "print(f)\n",
    "\n",
    "# The code above is the same as:\n",
    "\n",
    "g = open(\"data.txt\", \"rt\")\n",
    "print(g)\n",
    "\n",
    "# Because \"r\" for read, and \"t\" for text are the default values, you do not need to specify them."
   ]
  },
  {
   "cell_type": "markdown",
   "id": "ed30a6a5-3b27-4d44-a23f-03e2b5ec701e",
   "metadata": {},
   "source": [
    "To illustrate the reading functionality, let's first create a file with the <font color='blue'>%%writefile</font> command. This command writes everything in the notebook cell to a specified file. In the example below, the command `%%writefile` data.txt will write the entire content of the cell to the file named `data.txt`.\r\n",
    "\r\n",
    "Check your working directory (where this notebook is) that th` 'data.t`t' file will be created after executing the cell below."
   ]
  },
  {
   "cell_type": "code",
   "execution_count": 31,
   "id": "7868722e-c5d3-4e17-9eb7-d8f2beb4d7a1",
   "metadata": {},
   "outputs": [
    {
     "name": "stdout",
     "output_type": "stream",
     "text": [
      "Overwriting data.txt\n"
     ]
    }
   ],
   "source": [
    "%%writefile data.txt \n",
    "hello world\n",
    "today is raining\n",
    "winter is comming"
   ]
  },
  {
   "cell_type": "code",
   "execution_count": 5,
   "id": "a457db9e-19bf-4f4a-9304-b4a72be65e99",
   "metadata": {},
   "outputs": [
    {
     "name": "stdout",
     "output_type": "stream",
     "text": [
      "<_io.TextIOWrapper name='data.txt' mode='r' encoding='cp1252'>\n"
     ]
    }
   ],
   "source": [
    "f = open('data.txt','r')\n",
    "print(f)"
   ]
  },
  {
   "cell_type": "markdown",
   "id": "29930ddc-b20e-45d0-beaf-bab9409f4d93",
   "metadata": {},
   "source": [
    "<div style=\"background-color: lightgreen; padding: 10px;\">\n",
    "    <h2> Reading files:\n",
    "</div>"
   ]
  },
  {
   "cell_type": "markdown",
   "id": "6239d85e-2fda-4667-84d8-d259c19f47c3",
   "metadata": {},
   "source": [
    "The open() function returns a file object, which has a read() method for reading the content of the file:\n",
    "\n",
    "| Method     | Description                                              |\n",
    "|------------|----------------------------------------------------------|\n",
    "| read()     | Returns the file content                               |\n",
    "| readable() | Returns whether the file stream can be read or not       |\n",
    "| readline() | Returns one line from the file                            |\n",
    "| readlines()| Returns a list of lines from the file                    |\n",
    "| for line in f:| Read each line of the file and stores in the variable line   |"
   ]
  },
  {
   "cell_type": "code",
   "execution_count": 6,
   "id": "1ddba8e3-0024-49c4-898e-c982152d7b36",
   "metadata": {},
   "outputs": [
    {
     "name": "stdout",
     "output_type": "stream",
     "text": [
      "hello world\n",
      "today is raining\n",
      "winter is comming\n",
      "\n"
     ]
    }
   ],
   "source": [
    "f = open('data.txt','r')\n",
    "print(f.read())"
   ]
  },
  {
   "cell_type": "code",
   "execution_count": 10,
   "id": "aab2b4e3-c17e-4665-9feb-8e3a14bc144a",
   "metadata": {},
   "outputs": [
    {
     "name": "stdout",
     "output_type": "stream",
     "text": [
      "True\n"
     ]
    }
   ],
   "source": [
    "f = open('data.txt','r')\n",
    "print(f.readable())"
   ]
  },
  {
   "cell_type": "code",
   "execution_count": 13,
   "id": "e29e044c-2bb7-463b-b051-637a90958ee0",
   "metadata": {},
   "outputs": [
    {
     "name": "stdout",
     "output_type": "stream",
     "text": [
      "hello world\n",
      "\n",
      "['today is raining\\n', 'winter is comming\\n']\n"
     ]
    }
   ],
   "source": [
    "f = open('data.txt','r')\n",
    "print(f.readline())\n",
    "print(f.readlines())"
   ]
  },
  {
   "cell_type": "code",
   "execution_count": 9,
   "id": "c3149afa-6aa5-4b92-96cc-e370e5d8d496",
   "metadata": {},
   "outputs": [
    {
     "name": "stdout",
     "output_type": "stream",
     "text": [
      "hello world\n",
      "today is raining\n",
      "winter is comming\n",
      "\n"
     ]
    }
   ],
   "source": [
    "# If the file is located in a different location, you will have to specify the file path, like this:\n",
    "\n",
    "f = open(\"C:\\\\Users\\Andre\\Downloads\\PYTHON_JUPYTER\\learning-python\\data.txt\", \"r\")\n",
    "print(f.read())"
   ]
  },
  {
   "cell_type": "markdown",
   "id": "a1f5a7e8-5590-46e6-9155-618f92a88e3f",
   "metadata": {},
   "source": [
    "<div style=\"background-color: lightgreen; padding: 10px;\">\n",
    "    <h2> Writing files:\n",
    "</div>"
   ]
  },
  {
   "cell_type": "markdown",
   "id": "b57a4114-b400-48e2-b822-88b32badad67",
   "metadata": {},
   "source": [
    "| Method     | Description                                              |\n",
    "|------------|----------------------------------------------------------|\n",
    "| writable() | Returns whether the file can be written to or not        |\n",
    "| write()    | Writes the specified string to the file                  |\n",
    "| writelines()| Writes a list of strings to the file                     |"
   ]
  },
  {
   "cell_type": "code",
   "execution_count": 15,
   "id": "0f9916bf-d389-44dd-a1d1-f04eb17d60b3",
   "metadata": {},
   "outputs": [
    {
     "name": "stdout",
     "output_type": "stream",
     "text": [
      "False\n",
      "True\n"
     ]
    }
   ],
   "source": [
    "f = open('data.txt','r')\n",
    "print(f.writable())\n",
    "\n",
    "f = open('data.txt','w')\n",
    "print(f.writable())"
   ]
  },
  {
   "cell_type": "code",
   "execution_count": 32,
   "id": "4b065ff6-8fae-4fea-a5b2-9fa65d6e3f11",
   "metadata": {},
   "outputs": [
    {
     "name": "stdout",
     "output_type": "stream",
     "text": [
      "hello world\n",
      "today is raining\n",
      "winter is comming\n",
      "Now the file has more content!\n"
     ]
    }
   ],
   "source": [
    "f = open(\"data.txt\", \"a+\")\n",
    "f.write(\"Now the file has more content!\")\n",
    "f.close()\n",
    "\n",
    "#open and read the file after the appending:\n",
    "f = open(\"data.txt\", \"r\")\n",
    "print(f.read())\n",
    "f.close()"
   ]
  },
  {
   "cell_type": "code",
   "execution_count": 36,
   "id": "b4202bea-c3d6-46c7-99d6-942fe93c7c63",
   "metadata": {},
   "outputs": [
    {
     "name": "stdout",
     "output_type": "stream",
     "text": [
      "hello world\n",
      "today is raining\n",
      "winter is comming\n",
      "Now the file has more content!\n",
      "Now the file has more content!\n",
      "Now the file has more content!\n",
      "Now the file has more content!\n",
      "\n"
     ]
    }
   ],
   "source": [
    "# Another way of using file methods:\n",
    "\n",
    "with open('data.txt','r') as f:\n",
    "    print(f.read())\n",
    "\n",
    "with open('data.txt','a+') as f:\n",
    "    f.write(\"\\nNow the file has more content!\")\n",
    "    print(f.read())"
   ]
  },
  {
   "cell_type": "markdown",
   "id": "0326c8e0-ee65-4957-8785-b3e964aebef8",
   "metadata": {},
   "source": [
    "<div style=\"background-color: lightgreen; padding: 10px;\">\n",
    "    <h2> All File Methods\n",
    "</div>"
   ]
  },
  {
   "cell_type": "markdown",
   "id": "b7aaa656-6d64-48c4-90a5-961985b57beb",
   "metadata": {},
   "source": [
    "Python has a set of methods available for the file object:"
   ]
  },
  {
   "cell_type": "markdown",
   "id": "cdb4d261-5faa-4cca-94e1-db84a9131852",
   "metadata": {},
   "source": [
    "| Method     | Description                                              |\r\n",
    "|------------|----------------------------------------------------------|\r\n",
    "| close()    | Closes the file                                          |\r\n",
    "| detach()   | Returns the separated raw stream from the buffer         |\r\n",
    "| fileno()   | Returns a number that represents the stream, from the operating system's perspective |\r\n",
    "| flush()    | Flushes the internal buffer                              |\r\n",
    "| isatty()   | Returns whether the file stream is interactive or not    |\r\n",
    "| read()     | Returns the file ntent                                 |\r\n",
    "| readable() | Returns whether the file stream can be read or not       |\r\n",
    "| readline() | Returns one line from the file                            |\r\n",
    "| readlines()| Returns a list of lines from the file                    |\r\n",
    "| seek()     | Change the file position                                 |\r\n",
    "| seekable() | Returns whether the file allows us to change the file position |\r\n",
    "| tell()     | Returns the current file position                        |\r\n",
    "| truncate() | Resizes the file to a specified size                     |\r\n",
    "| writable() | Returns whether the file can be written to or not        |\r\n",
    "| write()    | Writes the specified string to the file                  |\r\n",
    "| writelines()| Writes a list of strings to the file                     |\r\n"
   ]
  },
  {
   "cell_type": "markdown",
   "id": "62cb7b5d-7c6d-4a77-a164-d2853250c57e",
   "metadata": {},
   "source": [
    "<div style=\"background-color: lightgreen; padding: 10px;\">\n",
    "    <h2> File formats: csv\n",
    "</div>"
   ]
  },
  {
   "cell_type": "code",
   "execution_count": 68,
   "id": "064ed31b-8ae6-4bc3-9a61-848c64d81515",
   "metadata": {},
   "outputs": [],
   "source": [
    "import csv\n",
    "\n",
    "table = [[\"Alumni\", \"Grade 1\", \"Grade 2\", \"Frequency\"],\n",
    "         [\"Luke\", 7, 9, 15],\n",
    "         [\"Luke\", 4, 7, 10],\n",
    "         [\"Luke\", 9, 9, 16]]"
   ]
  },
  {
   "cell_type": "code",
   "execution_count": 39,
   "id": "60f49e61-8062-4893-9dc5-73dd728d1225",
   "metadata": {},
   "outputs": [],
   "source": [
    "name_file = open(\"alumni_ada.csv\", \"w\")"
   ]
  },
  {
   "cell_type": "code",
   "execution_count": 40,
   "id": "116afe0f-3e4e-4a20-9ec0-f369fc993a49",
   "metadata": {},
   "outputs": [
    {
     "name": "stdout",
     "output_type": "stream",
     "text": [
      "<_io.TextIOWrapper name='alumni_ada.csv' mode='w' encoding='cp1252'>\n"
     ]
    }
   ],
   "source": [
    "print(name_file)"
   ]
  },
  {
   "cell_type": "code",
   "execution_count": 42,
   "id": "444a9d7d-6745-46f5-b6c0-4180598f0749",
   "metadata": {},
   "outputs": [],
   "source": [
    "writing_csv = csv.writer(name_file, delimiter=\";\", lineterminator=\"\\n\")"
   ]
  },
  {
   "cell_type": "code",
   "execution_count": 43,
   "id": "76c90f4b-9171-4793-a0ce-278a70e5c381",
   "metadata": {},
   "outputs": [],
   "source": [
    "writing_csv.writerows(table)"
   ]
  },
  {
   "cell_type": "code",
   "execution_count": 45,
   "id": "24d35ae6-42ff-4a4f-985d-7d16fa86caf2",
   "metadata": {},
   "outputs": [],
   "source": [
    "name_file.close()"
   ]
  },
  {
   "cell_type": "code",
   "execution_count": 52,
   "id": "59c3f6cf-95ef-4afc-ba11-cddb0fe5424d",
   "metadata": {},
   "outputs": [],
   "source": [
    "open_file = open(\"alumni_ada.csv\", \"r\")"
   ]
  },
  {
   "cell_type": "code",
   "execution_count": 53,
   "id": "1e57d6fe-751f-44d0-9be8-19d57cff509e",
   "metadata": {},
   "outputs": [],
   "source": [
    "reading_csv = csv.reader(open_file, delimiter=\";\", lineterminator=\"\\n\")"
   ]
  },
  {
   "cell_type": "code",
   "execution_count": 54,
   "id": "25b6c020-c8ac-474f-80c7-250acc53b906",
   "metadata": {},
   "outputs": [
    {
     "name": "stdout",
     "output_type": "stream",
     "text": [
      "['Alumni', 'Grade 1', 'Grade 2', 'Frequency']\n",
      "['Luke', '7', '9', '15']\n",
      "['Luke', '4', '7', '10']\n",
      "['Luke', '9', '9', '16']\n"
     ]
    }
   ],
   "source": [
    "for line in reading_csv:\n",
    "    print(line)"
   ]
  },
  {
   "cell_type": "code",
   "execution_count": 55,
   "id": "36575bd9-5834-4cc8-8845-10aff9c209c0",
   "metadata": {},
   "outputs": [],
   "source": [
    "open_file.close()"
   ]
  },
  {
   "cell_type": "markdown",
   "id": "c9cf19fb-b0e0-4ea3-8484-4be21d401192",
   "metadata": {},
   "source": [
    "<div style=\"background-color: lightgreen; padding: 10px;\">\n",
    "    <h2> File formats: json\n",
    "</div>"
   ]
  },
  {
   "cell_type": "code",
   "execution_count": 60,
   "id": "2679c011-e18b-4ce6-aa33-3c1d442aa554",
   "metadata": {},
   "outputs": [],
   "source": [
    "import json\n",
    "\n",
    "player = '{\"name\": \"Andre\", \"points\": 10}'"
   ]
  },
  {
   "cell_type": "code",
   "execution_count": 63,
   "id": "d7e55264-6000-4cfa-96ab-6ddb2791a639",
   "metadata": {},
   "outputs": [
    {
     "name": "stdout",
     "output_type": "stream",
     "text": [
      "<class 'dict'>\n"
     ]
    }
   ],
   "source": [
    "# Function json.loads\n",
    "\n",
    "new_dict = json.loads(player)\n",
    "print(type(new_dict))"
   ]
  },
  {
   "cell_type": "code",
   "execution_count": 65,
   "id": "3833a97a-93bd-4fe9-906d-2517ea575f6e",
   "metadata": {},
   "outputs": [
    {
     "name": "stdout",
     "output_type": "stream",
     "text": [
      "Andre\n",
      "10\n"
     ]
    }
   ],
   "source": [
    "print(new_dict[\"name\"])\n",
    "print(new_dict[\"points\"])"
   ]
  },
  {
   "cell_type": "code",
   "execution_count": 66,
   "id": "4813ab76-bee5-4fc0-a682-a0c81b7579d0",
   "metadata": {},
   "outputs": [
    {
     "name": "stdout",
     "output_type": "stream",
     "text": [
      "{'name': 'Pedro', 'points': 10}\n"
     ]
    }
   ],
   "source": [
    "# Function json.dump\n",
    "\n",
    "player2 = dict()\n",
    "player2[\"name\"] = \"Pedro\"\n",
    "player2[\"points\"] = 10\n",
    "\n",
    "print(player2)"
   ]
  },
  {
   "cell_type": "code",
   "execution_count": 67,
   "id": "5cb4b9fc-ee6e-4e57-b319-40a81e3ab6f6",
   "metadata": {},
   "outputs": [
    {
     "name": "stdout",
     "output_type": "stream",
     "text": [
      "<class 'str'>\n"
     ]
    }
   ],
   "source": [
    "string_json = json.dumps(player2)\n",
    "print(type(string_json))"
   ]
  },
  {
   "cell_type": "markdown",
   "id": "0e28af99-3193-40f0-a2ce-23e8218eca9a",
   "metadata": {},
   "source": [
    "<div style=\"background-color: lightgreen; padding: 10px;\">\n",
    "    <h2> File formats: parquet\n",
    "</div>"
   ]
  },
  {
   "cell_type": "markdown",
   "id": "aa7627eb-8abd-4ade-a4c3-2953462a9f2b",
   "metadata": {},
   "source": [
    "Source:\n",
    "- https://parquet.apache.org/docs/"
   ]
  },
  {
   "cell_type": "code",
   "execution_count": null,
   "id": "33a3a55a-7fdd-487e-9ed5-41e39ae03548",
   "metadata": {},
   "outputs": [],
   "source": []
  },
  {
   "cell_type": "code",
   "execution_count": null,
   "id": "49d0a709-e8ba-4336-b38d-7748a98daa34",
   "metadata": {},
   "outputs": [],
   "source": []
  },
  {
   "cell_type": "code",
   "execution_count": null,
   "id": "6b05e404-61b9-484e-b710-abc2f8bffc99",
   "metadata": {},
   "outputs": [],
   "source": []
  },
  {
   "cell_type": "markdown",
   "id": "ba64632f-b643-4a6b-a5ea-842ea082d14a",
   "metadata": {},
   "source": [
    "<div style=\"background-color: lightgreen; padding: 10px;\">\n",
    "    <h2> Exercices\n",
    "</div>"
   ]
  },
  {
   "cell_type": "markdown",
   "id": "9bd59162-dbe0-483f-8c86-2ca79b5e4e92",
   "metadata": {},
   "source": [
    "---\n",
    "\n",
    "#### <font color=\"blue\">Exercice 5</font>\n",
    "\n",
    "Write the list `palavras` to a file named 'palavras.txt' in such a way that each line of the file contains an element from the list `palavras` followed by the number of characters, i.e., the lines of the file should be in the following format:\n",
    "```sys\n",
    "adeus 5\n",
    "adoravel 8\n",
    "amor 4\n",
    ":\n",
    ":\n",
    "```\n",
    "Use the <font color='blue'>write</font> method to write the lines to the file."
   ]
  },
  {
   "cell_type": "code",
   "execution_count": 11,
   "id": "3d85723f-3f8d-4475-9c36-aacd7a848780",
   "metadata": {},
   "outputs": [],
   "source": [
    "palavras = ['adeus','adoravel','amor','caminhos','chuva','coragem','cuidar','equilibrio',\n",
    "            'esperanca','felicidade','gentilezas','liberdade','melancolia','paz','respeito',\n",
    "            'riso','saudade','palimpsesto','perfeito','reciproco','recomeçar',\n",
    "            'resiliente','sentir','silencio','imprescindivel','sublime','tertulias']\n",
    "\n",
    "with open('palavras.txt','w') as f:\n",
    "    for i in palavras:\n",
    "        f.write(f'{i} {len(i)}\\n')\n",
    "f.close()"
   ]
  },
  {
   "cell_type": "markdown",
   "id": "df4eb16d-210a-4250-b47c-943daab6e904",
   "metadata": {},
   "source": [
    "---\n",
    "\n",
    "#### <font color=\"blue\">Exercice 6</font>\r\n",
    "\r\n",
    "Repeat the previous exercise; however, use the <font color='blue'>writelines</font> method to write the file.\r\n",
    "\r\n",
    "__Tip__: Prepare a list where each element corresponds to a line in the file."
   ]
  },
  {
   "cell_type": "code",
   "execution_count": 15,
   "id": "6f6118ac-06a2-47d9-aa85-ff08708e0865",
   "metadata": {},
   "outputs": [],
   "source": [
    "palavras = ['adeus','adoravel','amor','caminhos','chuva','coragem','cuidar','equilibrio',\n",
    "            'esperanca','felicidade','gentilezas','liberdade','melancolia','paz','respeito',\n",
    "            'riso','saudade','palimpsesto','perfeito','reciproco','recomeçar',\n",
    "            'resiliente','sentir','silencio','imprescindivel','sublime','tertulias']\n",
    "\n",
    "palavras_len = [f'{i} {len(i)}\\n' for i in palavras]"
   ]
  },
  {
   "cell_type": "code",
   "execution_count": 17,
   "id": "ad381e0c-6b09-4603-8213-206328ca5f7b",
   "metadata": {},
   "outputs": [
    {
     "name": "stdout",
     "output_type": "stream",
     "text": [
      "['adeus 5\\n', 'adoravel 8\\n', 'amor 4\\n', 'caminhos 8\\n', 'chuva 5\\n', 'coragem 7\\n', 'cuidar 6\\n', 'equilibrio 10\\n', 'esperanca 9\\n', 'felicidade 10\\n', 'gentilezas 10\\n', 'liberdade 9\\n', 'melancolia 10\\n', 'paz 3\\n', 'respeito 8\\n', 'riso 4\\n', 'saudade 7\\n', 'palimpsesto 11\\n', 'perfeito 8\\n', 'reciproco 9\\n', 'recomeçar 9\\n', 'resiliente 10\\n', 'sentir 6\\n', 'silencio 8\\n', 'imprescindivel 14\\n', 'sublime 7\\n', 'tertulias 9\\n']\n"
     ]
    }
   ],
   "source": [
    "print(palavras_len)\n",
    "\n",
    "with open('palavras_len.txt','w') as f:\n",
    "    f.writelines(palavras_len)\n",
    "f.close()"
   ]
  }
 ],
 "metadata": {
  "kernelspec": {
   "display_name": "Python 3 (ipykernel)",
   "language": "python",
   "name": "python3"
  },
  "language_info": {
   "codemirror_mode": {
    "name": "ipython",
    "version": 3
   },
   "file_extension": ".py",
   "mimetype": "text/x-python",
   "name": "python",
   "nbconvert_exporter": "python",
   "pygments_lexer": "ipython3",
   "version": "3.11.5"
  }
 },
 "nbformat": 4,
 "nbformat_minor": 5
}
