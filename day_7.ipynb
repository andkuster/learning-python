{
 "cells": [
  {
   "cell_type": "markdown",
   "id": "b756b5f7-3c9f-45d6-b26c-a500bf007097",
   "metadata": {},
   "source": [
    "<div style=\"background-color: lightgray; padding: 18px;\">\n",
    "    <h1> Learning Python | Day 7\n",
    "</div>"
   ]
  },
  {
   "cell_type": "markdown",
   "id": "245e96a8-ed13-4db2-86ac-ac8dafc00960",
   "metadata": {},
   "source": [
    "### Features:\n",
    "\n",
    "- Lambda Functions\n",
    "- Exercices of List and Dict Comprehensions\n",
    "- Exercices of Lambda"
   ]
  },
  {
   "cell_type": "markdown",
   "id": "35e469ce-57ed-49c2-a254-35bbb57ac0e5",
   "metadata": {},
   "source": [
    "<div style=\"background-color: lightgreen; padding: 10px;\">\n",
    "    <h2> Lambda Functions\n",
    "</div>"
   ]
  },
  {
   "cell_type": "markdown",
   "id": "6cb4a67e-b76f-4fc9-90f6-81885e82be7e",
   "metadata": {},
   "source": [
    "A lambda function is a small anonymous function.\r\n",
    "\r\n",
    "A lambda function can take any number of arguments, but can only have one expression."
   ]
  },
  {
   "cell_type": "code",
   "execution_count": 2,
   "id": "2d9c77d3-f11c-4f99-9581-b40d1d763a79",
   "metadata": {},
   "outputs": [
    {
     "data": {
      "text/plain": [
       "<function __main__.<lambda>(arguments)>"
      ]
     },
     "execution_count": 2,
     "metadata": {},
     "output_type": "execute_result"
    }
   ],
   "source": [
    "# Syntax:\n",
    "\n",
    "lambda arguments : expression\n",
    "\n",
    "#The expression is executed and the result is returned:"
   ]
  },
  {
   "cell_type": "code",
   "execution_count": 7,
   "id": "c72af233-201d-42c8-a62c-68f6ab4d85d4",
   "metadata": {},
   "outputs": [
    {
     "name": "stdout",
     "output_type": "stream",
     "text": [
      "36\n",
      "64\n"
     ]
    }
   ],
   "source": [
    "# Example:\n",
    "\n",
    "# Using functions:\n",
    "def square(x):\n",
    "    return x**2\n",
    "\n",
    "print(square(6))\n",
    "\n",
    "# Using lambda functions:\n",
    "\n",
    "fsquare = lambda x: x**2\n",
    "print(fsquare(8))"
   ]
  },
  {
   "cell_type": "code",
   "execution_count": 8,
   "id": "ac645566-c57a-4910-a188-8dd2a3988008",
   "metadata": {},
   "outputs": [
    {
     "name": "stdout",
     "output_type": "stream",
     "text": [
      "30\n"
     ]
    }
   ],
   "source": [
    "# Lambda functions can take any number of arguments:\n",
    "\n",
    "x = lambda a, b : a * b\n",
    "print(x(5, 6))"
   ]
  },
  {
   "cell_type": "code",
   "execution_count": 1,
   "id": "5cfdeccb-d628-4dc1-aefa-0eec4730ec01",
   "metadata": {},
   "outputs": [
    {
     "name": "stdout",
     "output_type": "stream",
     "text": [
      "3 odd\n",
      "10 even\n",
      "['odd', 'odd', 'even', 'even', 'even', 'odd', 'even', 'odd']\n"
     ]
    }
   ],
   "source": [
    "# Using list comprehensions:\n",
    "\n",
    "f = lambda x: 'even' if (x%2 == 0) else 'odd'\n",
    "\n",
    "print(3, f(3))\n",
    "print(10, f(10))\n",
    "\n",
    "numbers = [1, 1, 2, 2, 10, 11, 12, 13]\n",
    "\n",
    "odd_or_even = [f(i) for i in numbers]\n",
    "print(odd_or_even)"
   ]
  },
  {
   "cell_type": "code",
   "execution_count": 13,
   "id": "d18aee98-bab8-4401-802d-f0db01393edf",
   "metadata": {},
   "outputs": [
    {
     "name": "stdout",
     "output_type": "stream",
     "text": [
      "20\n"
     ]
    }
   ],
   "source": [
    "# Using them as an anonymous function inside another function:\n",
    "\n",
    "def myfunc(n):\n",
    "  return lambda a : a * n\n",
    "\n",
    "mydoubler = myfunc(2)\n",
    "\n",
    "print(mydoubler(10))"
   ]
  },
  {
   "cell_type": "code",
   "execution_count": 17,
   "id": "16048f74-a64b-41ca-a9ee-35b553954ab2",
   "metadata": {},
   "outputs": [
    {
     "name": "stdout",
     "output_type": "stream",
     "text": [
      "Betty Holberton\n",
      "Alan Turing\n",
      "Dennis Ritchie\n",
      "Grace Hopper\n",
      "['Alan Turing', 'Grace Hopper', 'Dennis Ritchie', 'Betty Holberton']\n",
      "Turing\n",
      "['Betty Holberton', 'Grace Hopper', 'Dennis Ritchie', 'Alan Turing']\n"
     ]
    }
   ],
   "source": [
    "# Using lamba as part of an argument:\n",
    "\n",
    "data_scientists = ['Betty Holberton', 'Alan Turing', 'Dennis Ritchie', 'Grace Hopper']\n",
    "_ = [print(i) for i in data_scientists]\n",
    "\n",
    "# Using sort and len as an argument:\n",
    "data_scientists.sort(key=len)\n",
    "print(data_scientists)\n",
    "\n",
    "# Splitting the full_name and get the last name:\n",
    "print(data_scientists[0].split()[-1])\n",
    "\n",
    "# Final lambda function:\n",
    "\n",
    "data_scientists.sort(key = lambda nome: nome.split()[-1].lower())\n",
    "print(data_scientists)"
   ]
  },
  {
   "cell_type": "code",
   "execution_count": 9,
   "id": "ecb65493-3aad-465f-a6d4-9a9d1cde1aad",
   "metadata": {},
   "outputs": [
    {
     "name": "stdout",
     "output_type": "stream",
     "text": [
      "Help on built-in function sort:\n",
      "\n",
      "sort(*, key=None, reverse=False) method of builtins.list instance\n",
      "    Sort the list in ascending order and return None.\n",
      "    \n",
      "    The sort is in-place (i.e. the list itself is modified) and stable (i.e. the\n",
      "    order of two equal elements is maintained).\n",
      "    \n",
      "    If a key function is given, apply it once to each list item and sort them,\n",
      "    ascending or descending, according to their function values.\n",
      "    \n",
      "    The reverse flag can be set to sort in descending order.\n",
      "\n"
     ]
    }
   ],
   "source": [
    "help(data_scientists.sort)"
   ]
  },
  {
   "cell_type": "markdown",
   "id": "702a19e9-a31b-46fb-bba2-c97703cb57e2",
   "metadata": {},
   "source": [
    "<div style=\"background-color: lightgreen; padding: 10px;\">\n",
    "    <h2> Exercices:\n",
    "</div>"
   ]
  },
  {
   "cell_type": "markdown",
   "id": "2a437df2-62c7-4efa-b3aa-849aa0106cbe",
   "metadata": {},
   "source": [
    "---\n",
    "\n",
    "#### <font color=\"blue\">Exercice 1</font>\n",
    "\n",
    "Write a lambda expression that receives a string containing two words related to a person's name and surname. These are separated by one or more white spaces. The expression should return the name in the format: \"SURNAME, N.\"\n",
    "\n",
    "Example:\n",
    "```\n",
    "name = 'Dennis   ritchie'\n",
    "```\n",
    "\n",
    "Return:\n",
    "```\n",
    "RITCHIE, D.\n",
    "```\n",
    "\n",
    "Next, write a comprehension that iterates through a list containing names and generates a new list with names in the format \"SURNAME, N.\"\n",
    "\n",
    "Example:\n",
    "```\n",
    "names = ['Dennis   ritchie', 'ALAN  Turing', 'betty Holberton']\n",
    "```\n",
    "\n",
    "Return:\n",
    "```\n",
    "['RITCHIE, D.', 'TURING, A.', 'HOLBERTON, B.']\n",
    "```\n"
   ]
  },
  {
   "cell_type": "code",
   "execution_count": 19,
   "id": "e439f589-b0e0-4af9-a069-5c7fe8e7f008",
   "metadata": {},
   "outputs": [
    {
     "name": "stdout",
     "output_type": "stream",
     "text": [
      "KUSTER. A\n"
     ]
    }
   ],
   "source": [
    "# Answer:\n",
    "\n",
    "author_name = lambda s: s.split()[1].upper() + \". \" + s.split()[0][0].upper()\n",
    "\n",
    "print(author_name(\"Andre Kuster\"))"
   ]
  },
  {
   "cell_type": "code",
   "execution_count": 20,
   "id": "be2faeb5-4f69-4432-a8a9-c603ec83b149",
   "metadata": {},
   "outputs": [
    {
     "name": "stdout",
     "output_type": "stream",
     "text": [
      "['RITCHIE. D', 'TURING. A', 'HOLBERTON. B']\n"
     ]
    }
   ],
   "source": [
    "authors = ['Dennis   ritchie', 'ALAN  Turing', 'betty Holberton']\n",
    "\n",
    "print([author_name(element) for element in authors])"
   ]
  },
  {
   "cell_type": "markdown",
   "id": "8c50ee28-3720-4709-b1bb-fd6b8b685eb6",
   "metadata": {},
   "source": [
    "---\n",
    "\n",
    "#### <font color=\"blue\">Exercice 2</font>\n",
    "\n",
    "Consider the list `numbers` below, which contains integers between 0 and 5. Write a lambda function called occurrences that takes the list numbers as a parameter and returns a dictionary where the keys are numbers from 0 to 5, and the associated values correspond to the number of times the key appears in the list. For example, the code below:\n",
    "\n",
    "```python\n",
    "numeros = [2, 1, 1, 2, 0, 2, 0, 1, 4, 1]\n",
    "print(ocorrencias(numeros))\n",
    "```\n",
    "should return:\n",
    "```python\n",
    "{0: 2, 1: 4, 2: 3, 3: 0, 4: 1, 5: 0}\n",
    "```"
   ]
  },
  {
   "cell_type": "code",
   "execution_count": 1,
   "id": "ad2b8fcf-1eab-4d54-a2d4-b776aa6aa6d8",
   "metadata": {},
   "outputs": [
    {
     "name": "stdout",
     "output_type": "stream",
     "text": [
      "{0: 7, 1: 3, 2: 2, 3: 2, 4: 4}\n"
     ]
    }
   ],
   "source": [
    "# Answer using a def function:\n",
    "\n",
    "numeros = [1, 5, 1, 4, 3, 2, 4, 0, 0, 0, 3, 0, 2, 1, 0, 0, 4, 0, 5, 4]\n",
    "\n",
    "def ocorrencias(numeros):\n",
    "    return {n : numeros.count(n) for n in range(0,5)}\n",
    "    \n",
    "print(ocorrencias(numeros))"
   ]
  },
  {
   "cell_type": "code",
   "execution_count": 6,
   "id": "e87e832b-420b-4804-b213-37be8441b1a0",
   "metadata": {},
   "outputs": [],
   "source": [
    "# Answer using lambda function:\n",
    "\n"
   ]
  },
  {
   "cell_type": "markdown",
   "id": "503b6569-f30a-42ef-b0f3-4b91aaca92e5",
   "metadata": {},
   "source": [
    "---\n",
    "\n",
    "#### <font color=\"blue\">Exercice 3</font>\n",
    "\n",
    "Write a function intersection that takes two lists as parameters and returns another list containing only the elements that appear in both lists, without repetition of elements. For example, the code below:\n",
    "```python\n",
    "s1 = ['a', 'f', 'o', 'i', 'n', 'f', 'g', 'a', 'o', 'i']\n",
    "s2 = ['l', 'k', 'j', 'f', 'a', 'j', 'i']\n",
    "print(intersec(s1,s2))\n",
    "```\n",
    "should result in\n",
    "```python\n",
    "['a', 'f', 'i']\n",
    "```\n",
    "__Tip:__ Use a dictionary to find unique elements in each list. You can also convert the list to a set variable using the set command available in Python. Sets do not have repeated elements."
   ]
  },
  {
   "cell_type": "code",
   "execution_count": 3,
   "id": "6d4e46d0-f5ba-42b6-ba4c-b502b64f7493",
   "metadata": {},
   "outputs": [
    {
     "name": "stdout",
     "output_type": "stream",
     "text": [
      "['a', 'f', 'i']\n"
     ]
    }
   ],
   "source": [
    "s1 = ['a', 'f', 'o', 'i', 'n', 'f', 'g', 'a', 'o', 'i']\n",
    "s2 = ['l', 'k', 'j', 'f', 'a', 'j', 'i']\n",
    "\n",
    "def intersec(s1,s2):\n",
    "   return sorted(list(set([i for i in s1 if i in s2])))\n",
    "print(intersec(s1,s2))"
   ]
  },
  {
   "cell_type": "code",
   "execution_count": null,
   "id": "858e5eef-ba68-481e-9985-ff0802a2d7f9",
   "metadata": {},
   "outputs": [],
   "source": []
  },
  {
   "cell_type": "markdown",
   "id": "3e66f9b2-2cfa-475f-9090-ec05024919b9",
   "metadata": {},
   "source": [
    "---\n",
    "\n",
    "#### <font color=\"blue\">Exercice 4</font>\n",
    "\n",
    "Use the <font color='blue'>lambda</font>  function combined with the sorted method to place all multiples of 3 on the left side of a list, with the remaining numbers on the right. For example, the list:\n",
    "```python\n",
    "[17, 46, 21, 16, 44, 1, 6, 5, 27, 24]\n",
    "```\n",
    "should be organized as:\n",
    "```python\n",
    "[21, 6, 27, 24, 17, 46, 16, 44, 1, 5]\n",
    "```\n",
    "where 21, 6, 27, 24 are on the left because they are multiples of 3, while 17, 46, 16, 44, 1, 5 are on the right because they are not multiples of 3.\n",
    "\n",
    "As a test for your code, use the list:\n",
    "```python\n",
    "[2, 17, 12, 35, 39, 35, 4, 44, 12, 20, 7, 1, 21, 45, 43, 26, 6, 13, 48, 42]\n",
    "```\n",
    "\n",
    "which should be organized as follows:\n",
    "\n",
    "```python\n",
    "[12, 39, 12, 21, 45, 6, 48, 42, 2, 17, 35, 35, 4, 44, 20, 7, 1, 43, 26, 13]\n",
    "```"
   ]
  },
  {
   "cell_type": "code",
   "execution_count": 5,
   "id": "be2f1d52-a903-4a58-8dff-a69ef081d679",
   "metadata": {},
   "outputs": [],
   "source": [
    "# Answer: \n",
    "\n"
   ]
  }
 ],
 "metadata": {
  "kernelspec": {
   "display_name": "Python 3 (ipykernel)",
   "language": "python",
   "name": "python3"
  },
  "language_info": {
   "codemirror_mode": {
    "name": "ipython",
    "version": 3
   },
   "file_extension": ".py",
   "mimetype": "text/x-python",
   "name": "python",
   "nbconvert_exporter": "python",
   "pygments_lexer": "ipython3",
   "version": "3.11.5"
  }
 },
 "nbformat": 4,
 "nbformat_minor": 5
}
