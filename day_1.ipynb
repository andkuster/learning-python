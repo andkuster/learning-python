{
 "cells": [
  {
   "cell_type": "markdown",
   "id": "d40bd453",
   "metadata": {},
   "source": [
    "<div style=\"background-color: lightgray; padding: 18px;\">\n",
    "    <h1> Learning Python | Day 1 \n",
    "</div>"
   ]
  },
  {
   "cell_type": "markdown",
   "id": "7c943d1a",
   "metadata": {},
   "source": [
    "<div style=\"background-color: lightgreen; padding: 10px;\">\n",
    "    <h2> Arithmetic Operators\n",
    "</div>"
   ]
  },
  {
   "cell_type": "markdown",
   "id": "29a6b160",
   "metadata": {},
   "source": [
    "\n",
    "|     Operator    |     Name                 |     Example                                                                      |\n",
    "|-----------------|--------------------------|--------------------------------------------------------------------------------|\n",
    "|     +           |     Addition             |     x + y                             |\n",
    "|     -           |     Subtraction          |     x - y                             |\n",
    "|     *           |     Multiplication       |     x * y                             |\n",
    "|     /           |     Division             |     x / y                             |\n",
    "|     //          |     Floor division       |     x // y                            |\n",
    "|     %           |     Modulus              |     x % y                             |\n",
    "|     **          |     Exponentiation       |     x ** y                            |"
   ]
  },
  {
   "cell_type": "code",
   "execution_count": 11,
   "id": "6b124b5b",
   "metadata": {},
   "outputs": [
    {
     "data": {
      "text/plain": [
       "7"
      ]
     },
     "execution_count": 11,
     "metadata": {},
     "output_type": "execute_result"
    }
   ],
   "source": [
    "#Addition\n",
    "3 + 4"
   ]
  },
  {
   "cell_type": "code",
   "execution_count": 13,
   "id": "29ccf81c",
   "metadata": {},
   "outputs": [
    {
     "data": {
      "text/plain": [
       "-1"
      ]
     },
     "execution_count": 13,
     "metadata": {},
     "output_type": "execute_result"
    }
   ],
   "source": [
    "#Subtraction\n",
    "3 - 4"
   ]
  },
  {
   "cell_type": "code",
   "execution_count": 14,
   "id": "03eb8841",
   "metadata": {},
   "outputs": [
    {
     "data": {
      "text/plain": [
       "12"
      ]
     },
     "execution_count": 14,
     "metadata": {},
     "output_type": "execute_result"
    }
   ],
   "source": [
    "#Multiplication\n",
    "3 * 4"
   ]
  },
  {
   "cell_type": "code",
   "execution_count": 15,
   "id": "28330061",
   "metadata": {},
   "outputs": [
    {
     "data": {
      "text/plain": [
       "0.75"
      ]
     },
     "execution_count": 15,
     "metadata": {},
     "output_type": "execute_result"
    }
   ],
   "source": [
    "#Division\n",
    "3 / 4"
   ]
  },
  {
   "cell_type": "code",
   "execution_count": 1,
   "id": "a9f094ec",
   "metadata": {},
   "outputs": [
    {
     "data": {
      "text/plain": [
       "0"
      ]
     },
     "execution_count": 1,
     "metadata": {},
     "output_type": "execute_result"
    }
   ],
   "source": [
    "#Floor division\n",
    "3 // 4"
   ]
  },
  {
   "cell_type": "code",
   "execution_count": 17,
   "id": "48f14ace",
   "metadata": {},
   "outputs": [
    {
     "data": {
      "text/plain": [
       "3"
      ]
     },
     "execution_count": 17,
     "metadata": {},
     "output_type": "execute_result"
    }
   ],
   "source": [
    "#Modulus\n",
    "3 % 4"
   ]
  },
  {
   "cell_type": "code",
   "execution_count": 18,
   "id": "d95636d6",
   "metadata": {},
   "outputs": [
    {
     "data": {
      "text/plain": [
       "81"
      ]
     },
     "execution_count": 18,
     "metadata": {},
     "output_type": "execute_result"
    }
   ],
   "source": [
    "#Exponentiation\t\n",
    "3 ** 4"
   ]
  },
  {
   "cell_type": "code",
   "execution_count": 1,
   "id": "6c65fac0",
   "metadata": {},
   "outputs": [
    {
     "data": {
      "text/plain": [
       "4.0"
      ]
     },
     "execution_count": 1,
     "metadata": {},
     "output_type": "execute_result"
    }
   ],
   "source": [
    "#Square root using the operator **\"\n",
    "16 ** (1/2)"
   ]
  },
  {
   "cell_type": "markdown",
   "id": "db78a63c",
   "metadata": {},
   "source": [
    "<div style=\"background-color: lightgreen; padding: 10px;\">\n",
    "    <h2> Variables\n",
    "</div>"
   ]
  },
  {
   "cell_type": "code",
   "execution_count": 3,
   "id": "ade71c36",
   "metadata": {},
   "outputs": [
    {
     "data": {
      "text/plain": [
       "(77, 23)"
      ]
     },
     "execution_count": 3,
     "metadata": {},
     "output_type": "execute_result"
    }
   ],
   "source": [
    "# Variable assignment -->  =\n",
    "a = 23 \n",
    "b = 23\n",
    "a = 77 # modifying\n",
    "\n",
    "a, b"
   ]
  },
  {
   "cell_type": "code",
   "execution_count": 4,
   "id": "29514320",
   "metadata": {
    "scrolled": false
   },
   "outputs": [
    {
     "ename": "NameError",
     "evalue": "name 'w' is not defined",
     "output_type": "error",
     "traceback": [
      "\u001b[1;31m---------------------------------------------------------------------------\u001b[0m",
      "\u001b[1;31mNameError\u001b[0m                                 Traceback (most recent call last)",
      "Cell \u001b[1;32mIn[4], line 2\u001b[0m\n\u001b[0;32m      1\u001b[0m \u001b[38;5;66;03m#Quando a variável não foi definida --> erro\u001b[39;00m\n\u001b[1;32m----> 2\u001b[0m w\n",
      "\u001b[1;31mNameError\u001b[0m: name 'w' is not defined"
     ]
    }
   ],
   "source": [
    "#When a variable is not defined --> error\n",
    "w"
   ]
  },
  {
   "cell_type": "code",
   "execution_count": 15,
   "id": "e40266f5",
   "metadata": {},
   "outputs": [
    {
     "data": {
      "text/plain": [
       "int"
      ]
     },
     "execution_count": 15,
     "metadata": {},
     "output_type": "execute_result"
    }
   ],
   "source": [
    "#Checking variable type --> type()\n",
    "numero = 123\n",
    "\n",
    "type(numero)\n"
   ]
  },
  {
   "cell_type": "markdown",
   "id": "e9a13898",
   "metadata": {},
   "source": [
    "<div style=\"background-color: lightgreen; padding: 10px;\">\n",
    "    <h2> Types\n",
    "</div>"
   ]
  },
  {
   "cell_type": "markdown",
   "id": "8ad6ae50",
   "metadata": {
    "collapsed": true
   },
   "source": [
    "|     Name    |     Type                                                                                    |\n",
    "|-----------------|----------------------------------------------------------------------------------------------------------|\n",
    "|    Text Type                |     str                              |\n",
    "|     Numeric Types           |     int, float, complex              |\n",
    "|     Sequence Types          |     list, tuple, range               |\n",
    "|     Mapping Type            |     dict                             | \n",
    "|     Set Types               |     set, frozenset                   |\n",
    "|     Boolean Type            |     bool                             |   \n",
    "|     Binary Types            |     bytes, bytearray, memoryview     |   \n",
    "|     None Type               |     NoneType                         |    "
   ]
  },
  {
   "cell_type": "code",
   "execution_count": 18,
   "id": "a1c71c7e",
   "metadata": {},
   "outputs": [],
   "source": [
    "integer = 12\n",
    "real = 3.14\n",
    "text = 'Hello there'\n",
    "sentinel = True"
   ]
  },
  {
   "cell_type": "code",
   "execution_count": 6,
   "id": "9c16e46a",
   "metadata": {},
   "outputs": [
    {
     "data": {
      "text/plain": [
       "(int, float, str, bool)"
      ]
     },
     "execution_count": 6,
     "metadata": {},
     "output_type": "execute_result"
    }
   ],
   "source": [
    "type(integer), type(real), type(text), type(sentinel)"
   ]
  },
  {
   "cell_type": "code",
   "execution_count": 9,
   "id": "f6509e5c",
   "metadata": {},
   "outputs": [
    {
     "ename": "TypeError",
     "evalue": "type() takes 1 or 3 arguments",
     "output_type": "error",
     "traceback": [
      "\u001b[1;31m---------------------------------------------------------------------------\u001b[0m",
      "\u001b[1;31mTypeError\u001b[0m                                 Traceback (most recent call last)",
      "Cell \u001b[1;32mIn[9], line 2\u001b[0m\n\u001b[0;32m      1\u001b[0m \u001b[38;5;66;03m#type accepts only one or three args\u001b[39;00m\n\u001b[1;32m----> 2\u001b[0m \u001b[38;5;28mtype\u001b[39m(integer, real)\n",
      "\u001b[1;31mTypeError\u001b[0m: type() takes 1 or 3 arguments"
     ]
    }
   ],
   "source": [
    "#type() accepts only one or three args\n",
    "type(integer, real)"
   ]
  },
  {
   "cell_type": "code",
   "execution_count": 11,
   "id": "a550e0c0",
   "metadata": {},
   "outputs": [
    {
     "data": {
      "text/plain": [
       "int"
      ]
     },
     "execution_count": 11,
     "metadata": {},
     "output_type": "execute_result"
    }
   ],
   "source": [
    "#Changing a variable type\n",
    "factor = 99\n",
    "type(factor)"
   ]
  },
  {
   "cell_type": "code",
   "execution_count": 12,
   "id": "9a498905",
   "metadata": {
    "scrolled": true
   },
   "outputs": [
    {
     "data": {
      "text/plain": [
       "str"
      ]
     },
     "execution_count": 12,
     "metadata": {},
     "output_type": "execute_result"
    }
   ],
   "source": [
    "factor = '99'\n",
    "type(factor)"
   ]
  },
  {
   "cell_type": "markdown",
   "id": "7923793e",
   "metadata": {},
   "source": [
    "<div style=\"background-color: lightgreen; padding: 10px;\">\n",
    "    <h2> Type Coercion\n",
    "</div>"
   ]
  },
  {
   "cell_type": "code",
   "execution_count": 19,
   "id": "6c3fd138",
   "metadata": {},
   "outputs": [
    {
     "data": {
      "text/plain": [
       "(99, int)"
      ]
     },
     "execution_count": 19,
     "metadata": {},
     "output_type": "execute_result"
    }
   ],
   "source": [
    "#Also known as casting --> transforming one type in another\n",
    "num = '99'\n",
    "num2 = int(num)\n",
    "\n",
    "num2, type(num2)\n"
   ]
  },
  {
   "cell_type": "markdown",
   "id": "6330bba9",
   "metadata": {},
   "source": [
    "<div style=\"background-color: lightgreen; padding: 10px;\">\n",
    "    <h2> Data Inputs\n",
    "</div>"
   ]
  },
  {
   "cell_type": "code",
   "execution_count": 57,
   "id": "e7cf6a6b",
   "metadata": {},
   "outputs": [
    {
     "name": "stdout",
     "output_type": "stream",
     "text": [
      "Type your name: Andre\n"
     ]
    }
   ],
   "source": [
    "name = input('Type your name: ')"
   ]
  },
  {
   "cell_type": "code",
   "execution_count": 58,
   "id": "70f3eafd",
   "metadata": {},
   "outputs": [
    {
     "name": "stdout",
     "output_type": "stream",
     "text": [
      "Type your age: 30\n"
     ]
    },
    {
     "data": {
      "text/plain": [
       "str"
      ]
     },
     "execution_count": 58,
     "metadata": {},
     "output_type": "execute_result"
    }
   ],
   "source": [
    "age = input('Type your age: ')\n",
    "type(age)"
   ]
  },
  {
   "cell_type": "markdown",
   "id": "993af8a5",
   "metadata": {},
   "source": [
    "<div style=\"background-color: lightgreen; padding: 10px;\">\n",
    "    <h2> Strings\n",
    "</div>"
   ]
  },
  {
   "cell_type": "code",
   "execution_count": 59,
   "id": "17dad06f",
   "metadata": {},
   "outputs": [
    {
     "data": {
      "text/plain": [
       "'Andre has 30 years old.'"
      ]
     },
     "execution_count": 59,
     "metadata": {},
     "output_type": "execute_result"
    }
   ],
   "source": [
    "#Concatenating strings: +\n",
    "phrase = name + ' has ' + age + ' years old.'\n",
    "\n",
    "phrase"
   ]
  },
  {
   "cell_type": "code",
   "execution_count": 60,
   "id": "2a3a8468",
   "metadata": {},
   "outputs": [
    {
     "name": "stdout",
     "output_type": "stream",
     "text": [
      "Andre has 30 years old.\n"
     ]
    }
   ],
   "source": [
    "#print()\n",
    "print( name + ' has ' + age + ' years old.')"
   ]
  },
  {
   "cell_type": "code",
   "execution_count": 40,
   "id": "5e6c058d",
   "metadata": {},
   "outputs": [
    {
     "name": "stdout",
     "output_type": "stream",
     "text": [
      "Andre has 30 years old.\n"
     ]
    }
   ],
   "source": [
    "#Another way\n",
    "print(name, 'has', age,  'years old.')"
   ]
  },
  {
   "cell_type": "code",
   "execution_count": 41,
   "id": "a2384f80",
   "metadata": {},
   "outputs": [
    {
     "name": "stdout",
     "output_type": "stream",
     "text": [
      "Andre has 30 years old.\n"
     ]
    }
   ],
   "source": [
    "#C-style\n",
    "print('%s has %s years old.'%(name,age))"
   ]
  },
  {
   "cell_type": "code",
   "execution_count": 42,
   "id": "be3bd132",
   "metadata": {},
   "outputs": [
    {
     "name": "stdout",
     "output_type": "stream",
     "text": [
      "Andre has 30 years old.\n"
     ]
    }
   ],
   "source": [
    "#.format()\n",
    "print('{} has {} years old.'.format(name,age))"
   ]
  },
  {
   "cell_type": "code",
   "execution_count": 43,
   "id": "f7775c1c",
   "metadata": {},
   "outputs": [
    {
     "name": "stdout",
     "output_type": "stream",
     "text": [
      "Andre has 30 years old.\n"
     ]
    }
   ],
   "source": [
    "#f-string\n",
    "print(f'{name} has {age} years old.')"
   ]
  },
  {
   "cell_type": "code",
   "execution_count": 44,
   "id": "f7dbd1cb",
   "metadata": {
    "scrolled": true
   },
   "outputs": [
    {
     "ename": "TypeError",
     "evalue": "can only concatenate str (not \"int\") to str",
     "output_type": "error",
     "traceback": [
      "\u001b[1;31m---------------------------------------------------------------------------\u001b[0m",
      "\u001b[1;31mTypeError\u001b[0m                                 Traceback (most recent call last)",
      "Cell \u001b[1;32mIn[44], line 2\u001b[0m\n\u001b[0;32m      1\u001b[0m \u001b[38;5;66;03m#Not possible using + with text and numerics\u001b[39;00m\n\u001b[1;32m----> 2\u001b[0m \u001b[38;5;124m'\u001b[39m\u001b[38;5;124mAndre has\u001b[39m\u001b[38;5;124m'\u001b[39m \u001b[38;5;241m+\u001b[39m \u001b[38;5;241m23\u001b[39m \u001b[38;5;241m+\u001b[39m \u001b[38;5;124m'\u001b[39m\u001b[38;5;124myears old\u001b[39m\u001b[38;5;124m'\u001b[39m\n",
      "\u001b[1;31mTypeError\u001b[0m: can only concatenate str (not \"int\") to str"
     ]
    }
   ],
   "source": [
    "#Not possible using + with text and numerics\n",
    "'Andre has' + 23 + 'years old'"
   ]
  },
  {
   "cell_type": "markdown",
   "id": "c035cd5a",
   "metadata": {},
   "source": [
    "<div style=\"background-color: lightgreen; padding: 10px;\">\n",
    "    <h2> Comparison Operators\n",
    "</div>"
   ]
  },
  {
   "cell_type": "markdown",
   "id": "b5203b60",
   "metadata": {},
   "source": [
    "|     Name    |     Operator                                                                                    |\n",
    "|-----------------|----------------------------------------------------------------------------------------------------------|\n",
    "|     Equal                     |     ==              |\n",
    "|     Not equal                 |     !=              |\n",
    "|     Greater than              |     >               |\n",
    "|     Less than                 |     <               | \n",
    "|     Greater than or equal to  |     >=              |\n",
    "|     Less than or equal to     |     <=              |   "
   ]
  },
  {
   "cell_type": "code",
   "execution_count": 75,
   "id": "a8879c0a",
   "metadata": {},
   "outputs": [],
   "source": [
    "x, y, w = 3, 2, 3\n"
   ]
  },
  {
   "cell_type": "code",
   "execution_count": 78,
   "id": "17c0becf",
   "metadata": {},
   "outputs": [
    {
     "data": {
      "text/plain": [
       "(False, True)"
      ]
     },
     "execution_count": 78,
     "metadata": {},
     "output_type": "execute_result"
    }
   ],
   "source": [
    "x == y, x == w"
   ]
  },
  {
   "cell_type": "code",
   "execution_count": 79,
   "id": "4e53dc1a",
   "metadata": {},
   "outputs": [
    {
     "data": {
      "text/plain": [
       "(True, False)"
      ]
     },
     "execution_count": 79,
     "metadata": {},
     "output_type": "execute_result"
    }
   ],
   "source": [
    "x != y, x != w"
   ]
  },
  {
   "cell_type": "code",
   "execution_count": 80,
   "id": "a6229802",
   "metadata": {},
   "outputs": [
    {
     "data": {
      "text/plain": [
       "(True, False)"
      ]
     },
     "execution_count": 80,
     "metadata": {},
     "output_type": "execute_result"
    }
   ],
   "source": [
    "x > y, x > w"
   ]
  },
  {
   "cell_type": "code",
   "execution_count": 81,
   "id": "818e0b0b",
   "metadata": {},
   "outputs": [
    {
     "data": {
      "text/plain": [
       "(True, True)"
      ]
     },
     "execution_count": 81,
     "metadata": {},
     "output_type": "execute_result"
    }
   ],
   "source": [
    "x >= y, x >= w"
   ]
  },
  {
   "cell_type": "code",
   "execution_count": 82,
   "id": "b6618e31",
   "metadata": {},
   "outputs": [
    {
     "data": {
      "text/plain": [
       "(False, False)"
      ]
     },
     "execution_count": 82,
     "metadata": {},
     "output_type": "execute_result"
    }
   ],
   "source": [
    "x < y, x < w"
   ]
  },
  {
   "cell_type": "code",
   "execution_count": 83,
   "id": "f10a3fe0",
   "metadata": {},
   "outputs": [
    {
     "data": {
      "text/plain": [
       "(False, True)"
      ]
     },
     "execution_count": 83,
     "metadata": {},
     "output_type": "execute_result"
    }
   ],
   "source": [
    "x <= y, x <= w"
   ]
  },
  {
   "cell_type": "code",
   "execution_count": 119,
   "id": "25b8e055",
   "metadata": {},
   "outputs": [
    {
     "data": {
      "text/plain": [
       "False"
      ]
     },
     "execution_count": 119,
     "metadata": {},
     "output_type": "execute_result"
    }
   ],
   "source": [
    "x < y < w"
   ]
  },
  {
   "cell_type": "code",
   "execution_count": 87,
   "id": "f87a533f",
   "metadata": {},
   "outputs": [
    {
     "data": {
      "text/plain": [
       "True"
      ]
     },
     "execution_count": 87,
     "metadata": {},
     "output_type": "execute_result"
    }
   ],
   "source": [
    "#Comparing strings\n",
    "\n",
    "\"casa\" == \"casa\""
   ]
  },
  {
   "cell_type": "code",
   "execution_count": 88,
   "id": "58dbd879",
   "metadata": {},
   "outputs": [
    {
     "data": {
      "text/plain": [
       "False"
      ]
     },
     "execution_count": 88,
     "metadata": {},
     "output_type": "execute_result"
    }
   ],
   "source": [
    "\"casa\" != \"casa\""
   ]
  },
  {
   "cell_type": "code",
   "execution_count": 91,
   "id": "179dc7d4",
   "metadata": {},
   "outputs": [
    {
     "data": {
      "text/plain": [
       "False"
      ]
     },
     "execution_count": 91,
     "metadata": {},
     "output_type": "execute_result"
    }
   ],
   "source": [
    "\n",
    "\"A\" > \"a\""
   ]
  },
  {
   "cell_type": "code",
   "execution_count": 98,
   "id": "c815604c",
   "metadata": {},
   "outputs": [
    {
     "data": {
      "text/plain": [
       "(65, 97, 64)"
      ]
     },
     "execution_count": 98,
     "metadata": {},
     "output_type": "execute_result"
    }
   ],
   "source": [
    "#Ascii table\n",
    "ord('A'), ord('a'), ord('@')"
   ]
  },
  {
   "cell_type": "code",
   "execution_count": 99,
   "id": "11e85315",
   "metadata": {},
   "outputs": [
    {
     "data": {
      "text/plain": [
       "True"
      ]
     },
     "execution_count": 99,
     "metadata": {},
     "output_type": "execute_result"
    }
   ],
   "source": [
    "#Comparison between int and float\n",
    "20.0 ==  20"
   ]
  },
  {
   "cell_type": "code",
   "execution_count": 108,
   "id": "fee28f41",
   "metadata": {},
   "outputs": [
    {
     "data": {
      "text/plain": [
       "True"
      ]
     },
     "execution_count": 108,
     "metadata": {},
     "output_type": "execute_result"
    }
   ],
   "source": [
    "(-3 < -1) < 0"
   ]
  },
  {
   "cell_type": "code",
   "execution_count": 110,
   "id": "2a811fd2",
   "metadata": {},
   "outputs": [
    {
     "data": {
      "text/plain": [
       "True"
      ]
     },
     "execution_count": 110,
     "metadata": {},
     "output_type": "execute_result"
    }
   ],
   "source": [
    "True == 1"
   ]
  },
  {
   "cell_type": "code",
   "execution_count": 50,
   "id": "acd0e702",
   "metadata": {},
   "outputs": [
    {
     "name": "stdout",
     "output_type": "stream",
     "text": [
      "Type your age: 30\n"
     ]
    },
    {
     "data": {
      "text/plain": [
       "False"
      ]
     },
     "execution_count": 50,
     "metadata": {},
     "output_type": "execute_result"
    }
   ],
   "source": [
    "#Check if your age is between 10 and 20\n",
    "age =  int(input('Type your age: '))\n",
    "(age >= 10) and (age <= 20)"
   ]
  },
  {
   "cell_type": "code",
   "execution_count": 51,
   "id": "b52d8598",
   "metadata": {},
   "outputs": [
    {
     "data": {
      "text/plain": [
       "False"
      ]
     },
     "execution_count": 51,
     "metadata": {},
     "output_type": "execute_result"
    }
   ],
   "source": [
    "10 <= age <= 20"
   ]
  },
  {
   "cell_type": "code",
   "execution_count": 52,
   "id": "7269d24f",
   "metadata": {},
   "outputs": [
    {
     "data": {
      "text/plain": [
       "False"
      ]
     },
     "execution_count": 52,
     "metadata": {},
     "output_type": "execute_result"
    }
   ],
   "source": [
    "None or False"
   ]
  },
  {
   "cell_type": "code",
   "execution_count": 53,
   "id": "ad62bc48",
   "metadata": {},
   "outputs": [
    {
     "data": {
      "text/plain": [
       "True"
      ]
     },
     "execution_count": 53,
     "metadata": {},
     "output_type": "execute_result"
    }
   ],
   "source": [
    "not (None)"
   ]
  },
  {
   "cell_type": "code",
   "execution_count": 54,
   "id": "0aad2711",
   "metadata": {},
   "outputs": [
    {
     "data": {
      "text/plain": [
       "False"
      ]
     },
     "execution_count": 54,
     "metadata": {},
     "output_type": "execute_result"
    }
   ],
   "source": [
    "not True or (False and True) or False"
   ]
  }
 ],
 "metadata": {
  "kernelspec": {
   "display_name": "Python 3 (ipykernel)",
   "language": "python",
   "name": "python3"
  },
  "language_info": {
   "codemirror_mode": {
    "name": "ipython",
    "version": 3
   },
   "file_extension": ".py",
   "mimetype": "text/x-python",
   "name": "python",
   "nbconvert_exporter": "python",
   "pygments_lexer": "ipython3",
   "version": "3.11.5"
  }
 },
 "nbformat": 4,
 "nbformat_minor": 5
}
