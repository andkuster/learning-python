{
 "cells": [
  {
   "cell_type": "markdown",
   "id": "d40bd453",
   "metadata": {},
   "source": [
    "<div style=\"background-color: lightgray; padding: 18px;\">\n",
    "    <h1> Learning Python | Day 5\n",
    "</div>"
   ]
  },
  {
   "cell_type": "markdown",
   "id": "38ce92e4",
   "metadata": {},
   "source": [
    "### Features:\n",
    "\n",
    "- Tuples\n",
    "- Dictionaries\n",
    "- List Comprehensions"
   ]
  },
  {
   "cell_type": "markdown",
   "id": "e83aee39",
   "metadata": {},
   "source": [
    "<div style=\"background-color: lightgreen; padding: 10px;\">\n",
    "    <h2> Tuples\n",
    "</div>"
   ]
  },
  {
   "cell_type": "code",
   "execution_count": 1,
   "id": "a6c29534",
   "metadata": {
    "scrolled": true
   },
   "outputs": [
    {
     "name": "stdout",
     "output_type": "stream",
     "text": [
      "('apple', 'banana', 'cherry', ('grape', 'watermelon'))\n"
     ]
    }
   ],
   "source": [
    "# A tuple consists of a number of values separated by commas, for instance\n",
    "\n",
    "first_tuple = (\"apple\", \"banana\", \"cherry\", (\"grape\", \"watermelon\"))\n",
    "print(first_tuple)"
   ]
  },
  {
   "cell_type": "code",
   "execution_count": 2,
   "id": "a26982b8",
   "metadata": {},
   "outputs": [
    {
     "name": "stdout",
     "output_type": "stream",
     "text": [
      "apple\n",
      "watermelon\n"
     ]
    }
   ],
   "source": [
    "# Accessing items in a tuple ~index[i]\n",
    "\n",
    "print(first_tuple[0])\n",
    "print(first_tuple[3][1])"
   ]
  },
  {
   "cell_type": "code",
   "execution_count": 8,
   "id": "2dca7233",
   "metadata": {},
   "outputs": [
    {
     "name": "stdout",
     "output_type": "stream",
     "text": [
      "Yes, 'apple' is in the fruits tuple\n",
      "True\n",
      "False\n"
     ]
    }
   ],
   "source": [
    "# To determine if a specified item is present in a tuple use the 'in' keyword:\n",
    "\n",
    "another_tuple = (\"apple\", \"banana\", \"cherry\")\n",
    "if \"apple\" in another_tuple:\n",
    "    print(\"Yes, 'apple' is in the fruits tuple\")\n",
    "    \n",
    "# It verifies that the substring \"apple\" exists in another_tuple and returns TRUE or FALSE\n",
    "print(\"apple\" in another_tuple)\n",
    "print(\"watermelon\" in another_tuple)"
   ]
  },
  {
   "cell_type": "code",
   "execution_count": 14,
   "id": "ec1c8829",
   "metadata": {},
   "outputs": [
    {
     "name": "stdout",
     "output_type": "stream",
     "text": [
      "<class 'tuple'>\n",
      "<class 'str'>\n"
     ]
    }
   ],
   "source": [
    "# A tuple is a collection which is ordered and unchangeable:\n",
    "# - It means that the items have a defined order, and that order will not change.\n",
    "# - And we cannot change, add or remove items after the tuple has been created.\n",
    "\n",
    "# One item tuple ~remember the comma\n",
    "thistuple = (\"apple\",)\n",
    "print(type(thistuple))\n",
    "\n",
    "#NOT a tuple\n",
    "thistuple = (\"apple\")\n",
    "print(type(thistuple))"
   ]
  },
  {
   "cell_type": "code",
   "execution_count": 18,
   "id": "dfd3a5c3",
   "metadata": {},
   "outputs": [
    {
     "name": "stdout",
     "output_type": "stream",
     "text": [
      "('apple', 'banana', 'cherry', 'orange')\n"
     ]
    }
   ],
   "source": [
    "# Tricks to add or remove items from a tuple:\n",
    "\n",
    "# Add:\n",
    "thistuple = (\"apple\", \"banana\", \"cherry\")\n",
    "y = list(thistuple)\n",
    "y.append(\"orange\")\n",
    "thistuple = tuple(y)\n",
    "print(thistuple)"
   ]
  },
  {
   "cell_type": "code",
   "execution_count": 20,
   "id": "695f0700",
   "metadata": {},
   "outputs": [
    {
     "name": "stdout",
     "output_type": "stream",
     "text": [
      "('banana', 'cherry')\n"
     ]
    }
   ],
   "source": [
    "# Remove:\n",
    "thistuple = (\"apple\", \"banana\", \"cherry\")\n",
    "y = list(thistuple)\n",
    "y.remove(\"apple\")\n",
    "thistuple = tuple(y)\n",
    "print(thistuple)"
   ]
  },
  {
   "cell_type": "code",
   "execution_count": 21,
   "id": "b47fe284",
   "metadata": {},
   "outputs": [
    {
     "name": "stdout",
     "output_type": "stream",
     "text": [
      "('a', 'b', 'c', 1, 2, 3)\n"
     ]
    }
   ],
   "source": [
    "# To join two or more tuples you can use the + operator:\n",
    "\n",
    "tuple1 = (\"a\", \"b\" , \"c\")\n",
    "tuple2 = (1, 2, 3)\n",
    "\n",
    "tuple3 = tuple1 + tuple2\n",
    "print(tuple3)"
   ]
  },
  {
   "cell_type": "markdown",
   "id": "d535c57c",
   "metadata": {},
   "source": [
    "Python has two built-in methods that you can use on tuples: \n",
    "| Method | Description                                                                                  |\n",
    "|--------|----------------------------------------------------------------------------------------------|\n",
    "| count()| Returns the number of times a specified value occurs in a tuple                             |\n",
    "| index()| Searches the tuple for a specified value and returns the position of where it was found    |"
   ]
  },
  {
   "cell_type": "markdown",
   "id": "08e4466e",
   "metadata": {},
   "source": [
    "<div style=\"background-color: lightgreen; padding: 10px;\">\n",
    "    <h2> Dictionaries\n",
    "</div>"
   ]
  },
  {
   "cell_type": "code",
   "execution_count": 13,
   "id": "e9441baa",
   "metadata": {},
   "outputs": [
    {
     "name": "stdout",
     "output_type": "stream",
     "text": [
      "{'brand': 'Ford'}\n"
     ]
    },
    {
     "data": {
      "text/plain": [
       "dict"
      ]
     },
     "execution_count": 13,
     "metadata": {},
     "output_type": "execute_result"
    }
   ],
   "source": [
    "# Dictionaries are a built-in Python data structure for mapping keys to values.\n",
    "\n",
    "# It always store data values in key:value pairs ~ {'brand': 'Ford'}\n",
    "\n",
    "firstdict = {\n",
    "  \"brand\": \"Ford\"\n",
    "}\n",
    "print(firstdict)\n",
    "type(firstdict)"
   ]
  },
  {
   "cell_type": "code",
   "execution_count": 10,
   "id": "2f1345fc",
   "metadata": {},
   "outputs": [
    {
     "name": "stdout",
     "output_type": "stream",
     "text": [
      "{'brand': 'Ford', 'model': 'Mustang', 'year': 1964}\n"
     ]
    }
   ],
   "source": [
    "# It always store data values in key:value pairs.\n",
    "\n",
    "thisdict = {\n",
    "  \"brand\": \"Ford\",\n",
    "  \"model\": \"Mustang\",\n",
    "  \"year\": 1964\n",
    "}\n",
    "print(thisdict)"
   ]
  },
  {
   "cell_type": "code",
   "execution_count": 30,
   "id": "2639d711",
   "metadata": {},
   "outputs": [
    {
     "name": "stdout",
     "output_type": "stream",
     "text": [
      "{'brand': 'Ford', 'model': 'Mustang', 'year': 2020}\n"
     ]
    }
   ],
   "source": [
    "# A dictionary is a collection which is ordered*, changeable and do not allow duplicates.\n",
    "# So duplicate values will overwrite existing values:\n",
    "\n",
    "thisdict = {\n",
    "  \"brand\": \"Ford\",\n",
    "  \"model\": \"Mustang\",\n",
    "  \"year\": 1964,\n",
    "  \"year\": 2020\n",
    "}\n",
    "print(thisdict)"
   ]
  },
  {
   "cell_type": "code",
   "execution_count": 34,
   "id": "2620f8ce",
   "metadata": {},
   "outputs": [
    {
     "name": "stdout",
     "output_type": "stream",
     "text": [
      "Mustang\n",
      "Mustang\n"
     ]
    }
   ],
   "source": [
    "# Accessing items:\n",
    "\n",
    "x = thisdict[\"model\"]\n",
    "print(x)\n",
    "\n",
    "# Or:\n",
    "\n",
    "thisdict.get(\"model\")\n",
    "print(x)"
   ]
  },
  {
   "cell_type": "code",
   "execution_count": 25,
   "id": "a04006c7",
   "metadata": {},
   "outputs": [
    {
     "name": "stdout",
     "output_type": "stream",
     "text": [
      "3\n"
     ]
    }
   ],
   "source": [
    "print(len(thisdict))"
   ]
  },
  {
   "cell_type": "code",
   "execution_count": 26,
   "id": "025548b7",
   "metadata": {},
   "outputs": [
    {
     "name": "stdout",
     "output_type": "stream",
     "text": [
      "<class 'dict'>\n"
     ]
    }
   ],
   "source": [
    "print(type(thisdict))"
   ]
  },
  {
   "cell_type": "code",
   "execution_count": 28,
   "id": "0f69f8b6",
   "metadata": {},
   "outputs": [
    {
     "name": "stdout",
     "output_type": "stream",
     "text": [
      "{'name': 'John', 'age': 36, 'country': 'Norway'}\n"
     ]
    }
   ],
   "source": [
    "# How to construct a dictionary? Using dict()\n",
    "\n",
    "thisdict = dict(name = \"John\", age = 36, country = \"Norway\")\n",
    "print(thisdict)"
   ]
  },
  {
   "cell_type": "code",
   "execution_count": 35,
   "id": "a2dde988",
   "metadata": {},
   "outputs": [
    {
     "name": "stdout",
     "output_type": "stream",
     "text": [
      "dict_keys(['brand', 'model', 'year'])\n",
      "dict_keys(['brand', 'model', 'year', 'color'])\n"
     ]
    }
   ],
   "source": [
    "# Printing and Changing keys:\n",
    "\n",
    "car = {\n",
    "\"brand\": \"Ford\",\n",
    "\"model\": \"Mustang\",\n",
    "\"year\": 1964\n",
    "}\n",
    "\n",
    "x = car.keys()\n",
    "\n",
    "print(x) #before the change\n",
    "\n",
    "car[\"color\"] = \"white\"\n",
    "\n",
    "print(x) #after the change"
   ]
  },
  {
   "cell_type": "code",
   "execution_count": 15,
   "id": "26ea1233",
   "metadata": {
    "scrolled": true
   },
   "outputs": [
    {
     "name": "stdout",
     "output_type": "stream",
     "text": [
      "dict_values(['Ford', 'Mustang', 1964])\n",
      "dict_values(['Ford', 'Mustang', 2020])\n"
     ]
    }
   ],
   "source": [
    "# Accessing and changing values:\n",
    "\n",
    "car = {\n",
    "\"brand\": \"Ford\",\n",
    "\"model\": \"Mustang\",\n",
    "\"year\": 1964\n",
    "}\n",
    "\n",
    "x = car.values()\n",
    "\n",
    "print(x) #before the change\n",
    "\n",
    "car[\"year\"] = 2020\n",
    "\n",
    "print(x) #after the change"
   ]
  },
  {
   "cell_type": "code",
   "execution_count": 16,
   "id": "b97e589a",
   "metadata": {},
   "outputs": [
    {
     "name": "stdout",
     "output_type": "stream",
     "text": [
      "True\n"
     ]
    }
   ],
   "source": [
    "# The 'in' operator tells us whether something is a key in the dictionary\n",
    "\n",
    "print('brand' in car)"
   ]
  },
  {
   "cell_type": "markdown",
   "id": "e694a912",
   "metadata": {},
   "source": [
    "Python has a set of built-in methods that you can use on dictionaries:\n",
    "| Method      | Description                                                                      |\n",
    "|-------------|----------------------------------------------------------------------------------|\n",
    "| clear()     | Removes all the elements from the dictionary                                      |\n",
    "| copy()      | Returns a copy of the dictionary                                                  |\n",
    "| fromkeys()  | Returns a dictionary with the specified keys and value                            |\n",
    "| get()       | Returns the value of the specified key                                            |\n",
    "| items()     | Returns a list containing a tuple for each key-value pair                         |\n",
    "| keys()      | Returns a list containing the dictionary's keys                                   |\n",
    "| pop()       | Removes the element with the specified key                                        |\n",
    "| popitem()   | Removes the last inserted key-value pair                                          |\n",
    "| setdefault()| Returns the value of the specified key. If the key does not exist: insert the key, with the specified value |\n",
    "| update()    | Updates the dictionary with the specified key-value pairs                         |\n",
    "| values()    | Returns a list of all the values in the dictionary                                |\n"
   ]
  },
  {
   "cell_type": "markdown",
   "id": "7c943d1a",
   "metadata": {},
   "source": [
    "<div style=\"background-color: lightgreen; padding: 10px;\">\n",
    "    <h2> List Comprehensions\n",
    "</div>"
   ]
  },
  {
   "cell_type": "code",
   "execution_count": 1,
   "id": "744cf141",
   "metadata": {},
   "outputs": [
    {
     "data": {
      "text/plain": [
       "[0, 1, 4, 9, 16, 25, 36, 49, 64, 81]"
      ]
     },
     "execution_count": 1,
     "metadata": {},
     "output_type": "execute_result"
    }
   ],
   "source": [
    "# List comprehensions provide a concise way to create lists.\n",
    "\n",
    "squares = [n**2 for n in range(10)]\n",
    "squares"
   ]
  },
  {
   "cell_type": "code",
   "execution_count": 2,
   "id": "82e745ec",
   "metadata": {},
   "outputs": [
    {
     "data": {
      "text/plain": [
       "['Venus', 'Earth', 'Mars']"
      ]
     },
     "execution_count": 2,
     "metadata": {},
     "output_type": "execute_result"
    }
   ],
   "source": [
    "# A list comprehension consists of brackets containing an expression followed by a for clause,\n",
    "# then zero or more for or if clauses.\n",
    "\n",
    "planets = ['Mercury', 'Venus', 'Earth', 'Mars', 'Jupiter', 'Saturn', 'Uranus', 'Neptune']\n",
    "\n",
    "short_planets = [planet for planet in planets if len(planet) < 6]\n",
    "short_planets"
   ]
  },
  {
   "cell_type": "markdown",
   "id": "d2995897",
   "metadata": {},
   "source": [
    "<div style=\"background-color: lightgreen; padding: 10px;\">\n",
    "    <h2> Exercices\n",
    "</div>"
   ]
  },
  {
   "cell_type": "code",
   "execution_count": null,
   "id": "d6f254d9",
   "metadata": {},
   "outputs": [],
   "source": []
  }
 ],
 "metadata": {
  "kernelspec": {
   "display_name": "Python 3 (ipykernel)",
   "language": "python",
   "name": "python3"
  },
  "language_info": {
   "codemirror_mode": {
    "name": "ipython",
    "version": 3
   },
   "file_extension": ".py",
   "mimetype": "text/x-python",
   "name": "python",
   "nbconvert_exporter": "python",
   "pygments_lexer": "ipython3",
   "version": "3.11.5"
  }
 },
 "nbformat": 4,
 "nbformat_minor": 5
}
