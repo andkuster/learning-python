{
 "cells": [
  {
   "cell_type": "markdown",
   "id": "d40bd453",
   "metadata": {},
   "source": [
    "<div style=\"background-color: lightgray; padding: 18px;\">\n",
    "    <h1> Learning Python | Day 2\n",
    "</div>"
   ]
  },
  {
   "cell_type": "markdown",
   "id": "d46dfd57",
   "metadata": {},
   "source": [
    "### Features:\n",
    "\n",
    "- Logical Operators\n",
    "- Python Conditions and If statements\n",
    "- if\n",
    "- else\n",
    "- elif"
   ]
  },
  {
   "cell_type": "markdown",
   "id": "7c943d1a",
   "metadata": {},
   "source": [
    "<div style=\"background-color: lightgreen; padding: 10px;\">\n",
    "    <h2> Logical Operators\n",
    "</div>"
   ]
  },
  {
   "cell_type": "code",
   "execution_count": 4,
   "id": "0dd67fe7",
   "metadata": {},
   "outputs": [],
   "source": [
    "#Booleans\n",
    "\n",
    "test = True\n",
    "test = False"
   ]
  },
  {
   "cell_type": "markdown",
   "id": "bf5885da",
   "metadata": {},
   "source": [
    "\n",
    "|     Operator    |                            Definition                           |     Example       |\n",
    "|:---------------:|:--------------------------------------------------------------:|:---------------:|\n",
    "|        and      |     Retorna   Returns True if both statements are true         |         x < 5 and  x < 10       |\n",
    "|        or       |       Returns True if one of the statements is true            |        x < 5 or x < 4       |\n",
    "|        not      |          Reverse the result, returns False if the result is true  |        not(x < 5 and x < 10)      |\n",
    "\n",
    "\n",
    "\n",
    "\n",
    "| *A*   | *B*   | *A and B* | *A or B* | *not A* |\n",
    "|-------|-------|-----------|----------|---------|\n",
    "| False | False | False     | False    | True    |\n",
    "| False | True  | False     | True     | True    |\n",
    "| True  | False | False     | True     | False   |\n",
    "| True  | True  | True      | True     | False   |"
   ]
  },
  {
   "cell_type": "code",
   "execution_count": 3,
   "id": "27cb858d",
   "metadata": {},
   "outputs": [
    {
     "data": {
      "text/plain": [
       "(True, False)"
      ]
     },
     "execution_count": 3,
     "metadata": {},
     "output_type": "execute_result"
    }
   ],
   "source": [
    "#and, or, not\n",
    "\n",
    "not False, not True"
   ]
  },
  {
   "cell_type": "markdown",
   "id": "ad64f6ee",
   "metadata": {},
   "source": [
    "#### Falsy Values Includes:\n",
    "\n",
    "1) Sequences and Collections:\n",
    "\n",
    "Empty lists []\n",
    "Empty tuples ()\n",
    "Empty dictionaries {}\n",
    "Empty sets set()\n",
    "Empty strings ” “\n",
    "Empty ranges range(0)\n",
    "\n",
    "2) Numbers: Zero of any numeric type.\n",
    "\n",
    "Integer: 0\n",
    "Float: 0.0\n",
    "Complex: 0j\n",
    "\n",
    "3) Constants:\n",
    "\n",
    "None\n",
    "False"
   ]
  },
  {
   "cell_type": "markdown",
   "id": "bdb63097",
   "metadata": {},
   "source": [
    "#### Truthy Values Includes:\n",
    "\n",
    "- Non-empty sequences or collections (lists, tuples, strings, dictionaries, sets).\n",
    "- Numeric values that are not zero.\n",
    "- Constant: True"
   ]
  },
  {
   "cell_type": "code",
   "execution_count": 3,
   "id": "dbe946cc",
   "metadata": {
    "scrolled": true
   },
   "outputs": [
    {
     "data": {
      "text/plain": [
       "True"
      ]
     },
     "execution_count": 3,
     "metadata": {},
     "output_type": "execute_result"
    }
   ],
   "source": [
    " (False,False) and True"
   ]
  },
  {
   "cell_type": "code",
   "execution_count": 5,
   "id": "2e80af18",
   "metadata": {
    "collapsed": true
   },
   "outputs": [
    {
     "ename": "SyntaxError",
     "evalue": "invalid syntax (535701727.py, line 2)",
     "output_type": "error",
     "traceback": [
      "\u001b[1;36m  Cell \u001b[1;32mIn[5], line 2\u001b[1;36m\u001b[0m\n\u001b[1;33m    not\u001b[0m\n\u001b[1;37m       ^\u001b[0m\n\u001b[1;31mSyntaxError\u001b[0m\u001b[1;31m:\u001b[0m invalid syntax\n"
     ]
    }
   ],
   "source": [
    "#Precedency:\n",
    "not\n",
    "and\n",
    "or"
   ]
  },
  {
   "cell_type": "code",
   "execution_count": 4,
   "id": "5f595c71",
   "metadata": {
    "scrolled": true
   },
   "outputs": [
    {
     "data": {
      "text/plain": [
       "False"
      ]
     },
     "execution_count": 4,
     "metadata": {},
     "output_type": "execute_result"
    }
   ],
   "source": [
    "(not True) or (False and True) or False "
   ]
  },
  {
   "cell_type": "markdown",
   "id": "a30785a8",
   "metadata": {},
   "source": [
    "<div style=\"background-color: lightgreen; padding: 10px;\">\n",
    "    <h2> Python Conditions\n",
    "</div>"
   ]
  },
  {
   "cell_type": "code",
   "execution_count": 9,
   "id": "f5f7dfa8",
   "metadata": {},
   "outputs": [
    {
     "name": "stdout",
     "output_type": "stream",
     "text": [
      "Type your age: 24\n",
      "24 years old.\n"
     ]
    }
   ],
   "source": [
    "# if \n",
    "\n",
    "age = int(input('Enter your age: '))\n",
    "\n",
    "if age: \n",
    "    print(age,'years old.')\n"
   ]
  },
  {
   "cell_type": "code",
   "execution_count": 10,
   "id": "7fd104ae",
   "metadata": {},
   "outputs": [
    {
     "name": "stdout",
     "output_type": "stream",
     "text": [
      "Type your age: 24\n",
      "24 years old.\n"
     ]
    }
   ],
   "source": [
    "age = int(input('Enter your age: '))\n",
    "\n",
    "if age > 10:\n",
    "    print(age, 'years old.')"
   ]
  },
  {
   "cell_type": "code",
   "execution_count": 16,
   "id": "c86a2d4b",
   "metadata": {
    "scrolled": true
   },
   "outputs": [
    {
     "name": "stdout",
     "output_type": "stream",
     "text": [
      "Enter your name: Andre\n",
      "Enter your age: 30\n",
      "Andre is of legal age.\n"
     ]
    }
   ],
   "source": [
    "#else\n",
    "\n",
    "name = input('Enter your name: ')\n",
    "age = int(input('Enter your age: '))\n",
    "\n",
    "if age >= 18:\n",
    "    print(f'{name} is of legal age.')\n",
    "else:\n",
    "    print(f\"{name} is not of legal age.\")\n",
    "    "
   ]
  },
  {
   "cell_type": "code",
   "execution_count": 20,
   "id": "4bf85a6d",
   "metadata": {
    "scrolled": true
   },
   "outputs": [
    {
     "name": "stdout",
     "output_type": "stream",
     "text": [
      "Enter your age: 30\n",
      "Legal age in both contries.\n"
     ]
    }
   ],
   "source": [
    "# Create a program that asks the user for their age and tells if the user\n",
    "# is of legal age in Brazil (>=18), in the USA (>=21), or in neither of the two.\n",
    "\n",
    "majorBR = 18\n",
    "majorUSA = 21\n",
    "\n",
    "age = int(input('Enter your age: '))\n",
    "\n",
    "if age >= majorBR and age >= majorUSA:\n",
    "    print('Legal age in both contries.')\n",
    "else:\n",
    "    if age >= majorBR:\n",
    "        print('User is of legal age in Brazil')\n",
    "    else:\n",
    "        print('Neither of the two countries.')\n"
   ]
  },
  {
   "cell_type": "code",
   "execution_count": 24,
   "id": "b20ad942",
   "metadata": {},
   "outputs": [
    {
     "name": "stdout",
     "output_type": "stream",
     "text": [
      "Enter your age: 01\n",
      "Underage.\n"
     ]
    }
   ],
   "source": [
    "# Create a program that asks the user for their age and tells if the user\n",
    "# is of legal age in Brazil (>=18), in the USA (>=21), or in neither of the two.\n",
    "# An age greater than 120 years is an invalid age.\n",
    "\n",
    "majorBR = 18\n",
    "majorUSA = 21\n",
    "\n",
    "age = int(input('Enter your age: '))\n",
    "\n",
    "if age > 120 or age < 0:\n",
    "    print('Invalid age.')\n",
    "elif age >= majorUSA:\n",
    "    print('Of legal age in both countries.')\n",
    "elif age >= majorBR:\n",
    "    print('Of legal age only in Brazil.')\n",
    "else:\n",
    "    print('Underage.')\n"
   ]
  },
  {
   "cell_type": "code",
   "execution_count": 28,
   "id": "b5d659d8",
   "metadata": {},
   "outputs": [
    {
     "name": "stdout",
     "output_type": "stream",
     "text": [
      "a is greater than b\n"
     ]
    }
   ],
   "source": [
    "# Short Hand If\n",
    "# If you have only one statement to execute, you can put it on the same line as the if statement.\n",
    "\n",
    "a = 1\n",
    "b = 0 \n",
    "\n",
    "if a > b: print(\"a is greater than b\")"
   ]
  },
  {
   "cell_type": "code",
   "execution_count": 30,
   "id": "f40ec213",
   "metadata": {},
   "outputs": [
    {
     "name": "stdout",
     "output_type": "stream",
     "text": [
      "B\n"
     ]
    }
   ],
   "source": [
    "# Short Hand If ... Else\n",
    "# If you have only one statement to execute, one for if, and one for else, you can put it all on the same line:\n",
    "\n",
    "a = 2\n",
    "b = 330\n",
    "print(\"A\") if a > b else print(\"B\")"
   ]
  },
  {
   "cell_type": "markdown",
   "id": "f0cb9477",
   "metadata": {},
   "source": [
    "<div style=\"background-color: lightgreen; padding: 10px;\">\n",
    "    <h2> String Doubts\n",
    "</div>"
   ]
  },
  {
   "cell_type": "code",
   "execution_count": 31,
   "id": "14ec8979",
   "metadata": {},
   "outputs": [],
   "source": [
    "# Double quotes vs single quotes\n",
    "text = 'Vasco \"fell\" to the second division'\n",
    "text2 = \"Vasco 'fell' to the second division\""
   ]
  },
  {
   "cell_type": "code",
   "execution_count": 32,
   "id": "1e3c3e72",
   "metadata": {
    "scrolled": true
   },
   "outputs": [
    {
     "data": {
      "text/plain": [
       "('Vasco \"fell\" to the second division', \"Vasco 'fell' to the second division\")"
      ]
     },
     "execution_count": 32,
     "metadata": {},
     "output_type": "execute_result"
    }
   ],
   "source": [
    "text, text2"
   ]
  },
  {
   "cell_type": "code",
   "execution_count": 33,
   "id": "0ec28123",
   "metadata": {
    "scrolled": true
   },
   "outputs": [
    {
     "name": "stdout",
     "output_type": "stream",
     "text": [
      "Vasco \"fell\" to the second division\n",
      "Vasco 'fell' to the second division\n"
     ]
    }
   ],
   "source": [
    "print(text)\n",
    "print(text2)"
   ]
  },
  {
   "cell_type": "markdown",
   "id": "6a24fe4b",
   "metadata": {},
   "source": [
    "**Suggestions of exercices:**\n",
    "* https://www.w3resource.com/python-exercises/python-basic-exercises.php\n",
    "* https://www.hackerrank.com/\n",
    "* https://www.beecrowd.com.br/judge/pt/login"
   ]
  }
 ],
 "metadata": {
  "kernelspec": {
   "display_name": "Python 3 (ipykernel)",
   "language": "python",
   "name": "python3"
  },
  "language_info": {
   "codemirror_mode": {
    "name": "ipython",
    "version": 3
   },
   "file_extension": ".py",
   "mimetype": "text/x-python",
   "name": "python",
   "nbconvert_exporter": "python",
   "pygments_lexer": "ipython3",
   "version": "3.11.5"
  }
 },
 "nbformat": 4,
 "nbformat_minor": 5
}
