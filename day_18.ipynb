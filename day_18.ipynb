{
 "cells": [
  {
   "cell_type": "markdown",
   "id": "f5f9cb93-72f3-419f-a827-d12b4562a5e7",
   "metadata": {},
   "source": [
    "<div style=\"background-color: lightgray; padding: 18px;\">\n",
    "    <h1> Learning Python | Day 18\n",
    "    \n",
    "</div>"
   ]
  },
  {
   "cell_type": "markdown",
   "id": "1793d71f-8b3b-4530-bbcd-3c7ce9aca987",
   "metadata": {},
   "source": [
    "### Features:\n",
    "Pandas\n",
    "- Transformation in DataFrames (apply);\n",
    "- ETL and missing values;\n",
    "- Data exploration (EDA);\n",
    "- Exercices;"
   ]
  },
  {
   "cell_type": "markdown",
   "id": "c68a009e-822c-4493-917f-4833cb125015",
   "metadata": {},
   "source": [
    "<div style=\"background-color: lightgreen; padding: 10px;\">\n",
    "    <h2> Transformation in DataFrames\n",
    "</div>"
   ]
  },
  {
   "cell_type": "markdown",
   "id": "dcebd2c0-eba7-48aa-b067-b61b300b9d01",
   "metadata": {},
   "source": [
    "A very useful and widely used feature, whether for transforming dataframes or creating ``derived columns`` in dataframes, is the `apply` function. We can use the `apply` function in conjunction with what we call a lambda function. This can include a function defined elsewhere in our code or not."
   ]
  },
  {
   "cell_type": "code",
   "execution_count": 2,
   "id": "3f6cf923-7f03-4977-9e30-08ffc1cbd95f",
   "metadata": {},
   "outputs": [
    {
     "data": {
      "text/html": [
       "<div>\n",
       "<style scoped>\n",
       "    .dataframe tbody tr th:only-of-type {\n",
       "        vertical-align: middle;\n",
       "    }\n",
       "\n",
       "    .dataframe tbody tr th {\n",
       "        vertical-align: top;\n",
       "    }\n",
       "\n",
       "    .dataframe thead th {\n",
       "        text-align: right;\n",
       "    }\n",
       "</style>\n",
       "<table border=\"1\" class=\"dataframe\">\n",
       "  <thead>\n",
       "    <tr style=\"text-align: right;\">\n",
       "      <th></th>\n",
       "      <th>altura</th>\n",
       "      <th>peso</th>\n",
       "    </tr>\n",
       "  </thead>\n",
       "  <tbody>\n",
       "    <tr>\n",
       "      <th>0</th>\n",
       "      <td>1.69</td>\n",
       "      <td>77.2</td>\n",
       "    </tr>\n",
       "    <tr>\n",
       "      <th>1</th>\n",
       "      <td>1.50</td>\n",
       "      <td>68.0</td>\n",
       "    </tr>\n",
       "    <tr>\n",
       "      <th>2</th>\n",
       "      <td>1.58</td>\n",
       "      <td>65.0</td>\n",
       "    </tr>\n",
       "    <tr>\n",
       "      <th>3</th>\n",
       "      <td>1.69</td>\n",
       "      <td>85.0</td>\n",
       "    </tr>\n",
       "    <tr>\n",
       "      <th>4</th>\n",
       "      <td>1.74</td>\n",
       "      <td>78.6</td>\n",
       "    </tr>\n",
       "    <tr>\n",
       "      <th>5</th>\n",
       "      <td>1.73</td>\n",
       "      <td>69.2</td>\n",
       "    </tr>\n",
       "  </tbody>\n",
       "</table>\n",
       "</div>"
      ],
      "text/plain": [
       "   altura  peso\n",
       "0    1.69  77.2\n",
       "1    1.50  68.0\n",
       "2    1.58  65.0\n",
       "3    1.69  85.0\n",
       "4    1.74  78.6\n",
       "5    1.73  69.2"
      ]
     },
     "execution_count": 2,
     "metadata": {},
     "output_type": "execute_result"
    }
   ],
   "source": [
    "import pandas as pd\n",
    "\n",
    "data = {\n",
    "    'altura': [1.69, 1.50, 1.58, 1.69, 1.74, 1.73],\n",
    "    'peso': [77.2, 68.0, 65.0, 85.0, 78.6, 69.2]\n",
    "}\n",
    "\n",
    "df = pd.DataFrame(data)\n",
    "df"
   ]
  },
  {
   "cell_type": "code",
   "execution_count": 3,
   "id": "2cf33f8f-a82f-42a4-bd97-0fd33da931c5",
   "metadata": {},
   "outputs": [
    {
     "data": {
      "text/html": [
       "<div>\n",
       "<style scoped>\n",
       "    .dataframe tbody tr th:only-of-type {\n",
       "        vertical-align: middle;\n",
       "    }\n",
       "\n",
       "    .dataframe tbody tr th {\n",
       "        vertical-align: top;\n",
       "    }\n",
       "\n",
       "    .dataframe thead th {\n",
       "        text-align: right;\n",
       "    }\n",
       "</style>\n",
       "<table border=\"1\" class=\"dataframe\">\n",
       "  <thead>\n",
       "    <tr style=\"text-align: right;\">\n",
       "      <th></th>\n",
       "      <th>altura</th>\n",
       "      <th>peso</th>\n",
       "      <th>altura_ao_quadrado</th>\n",
       "      <th>imc</th>\n",
       "    </tr>\n",
       "  </thead>\n",
       "  <tbody>\n",
       "    <tr>\n",
       "      <th>0</th>\n",
       "      <td>1.69</td>\n",
       "      <td>77.2</td>\n",
       "      <td>2.8561</td>\n",
       "      <td>27.029866</td>\n",
       "    </tr>\n",
       "    <tr>\n",
       "      <th>1</th>\n",
       "      <td>1.50</td>\n",
       "      <td>68.0</td>\n",
       "      <td>2.2500</td>\n",
       "      <td>30.222222</td>\n",
       "    </tr>\n",
       "    <tr>\n",
       "      <th>2</th>\n",
       "      <td>1.58</td>\n",
       "      <td>65.0</td>\n",
       "      <td>2.4964</td>\n",
       "      <td>26.037494</td>\n",
       "    </tr>\n",
       "    <tr>\n",
       "      <th>3</th>\n",
       "      <td>1.69</td>\n",
       "      <td>85.0</td>\n",
       "      <td>2.8561</td>\n",
       "      <td>29.760863</td>\n",
       "    </tr>\n",
       "    <tr>\n",
       "      <th>4</th>\n",
       "      <td>1.74</td>\n",
       "      <td>78.6</td>\n",
       "      <td>3.0276</td>\n",
       "      <td>25.961157</td>\n",
       "    </tr>\n",
       "    <tr>\n",
       "      <th>5</th>\n",
       "      <td>1.73</td>\n",
       "      <td>69.2</td>\n",
       "      <td>2.9929</td>\n",
       "      <td>23.121387</td>\n",
       "    </tr>\n",
       "  </tbody>\n",
       "</table>\n",
       "</div>"
      ],
      "text/plain": [
       "   altura  peso  altura_ao_quadrado        imc\n",
       "0    1.69  77.2              2.8561  27.029866\n",
       "1    1.50  68.0              2.2500  30.222222\n",
       "2    1.58  65.0              2.4964  26.037494\n",
       "3    1.69  85.0              2.8561  29.760863\n",
       "4    1.74  78.6              3.0276  25.961157\n",
       "5    1.73  69.2              2.9929  23.121387"
      ]
     },
     "execution_count": 3,
     "metadata": {},
     "output_type": "execute_result"
    }
   ],
   "source": [
    "# One possibility:\n",
    "\n",
    "df['altura_ao_quadrado'] = df['altura']**2\n",
    "df['imc'] = df['peso'] / df['altura_ao_quadrado']\n",
    "df"
   ]
  },
  {
   "cell_type": "code",
   "execution_count": 7,
   "id": "d9e85aaa-012b-4bd5-90fa-7aea32a6be88",
   "metadata": {},
   "outputs": [
    {
     "data": {
      "text/html": [
       "<div>\n",
       "<style scoped>\n",
       "    .dataframe tbody tr th:only-of-type {\n",
       "        vertical-align: middle;\n",
       "    }\n",
       "\n",
       "    .dataframe tbody tr th {\n",
       "        vertical-align: top;\n",
       "    }\n",
       "\n",
       "    .dataframe thead th {\n",
       "        text-align: right;\n",
       "    }\n",
       "</style>\n",
       "<table border=\"1\" class=\"dataframe\">\n",
       "  <thead>\n",
       "    <tr style=\"text-align: right;\">\n",
       "      <th></th>\n",
       "      <th>altura</th>\n",
       "      <th>peso</th>\n",
       "      <th>altura_ao_quadrado</th>\n",
       "      <th>imc</th>\n",
       "      <th>imc2</th>\n",
       "      <th>imc3</th>\n",
       "    </tr>\n",
       "  </thead>\n",
       "  <tbody>\n",
       "    <tr>\n",
       "      <th>0</th>\n",
       "      <td>1.69</td>\n",
       "      <td>77.2</td>\n",
       "      <td>2.8561</td>\n",
       "      <td>27.029866</td>\n",
       "      <td>27.029866</td>\n",
       "      <td>27.029866</td>\n",
       "    </tr>\n",
       "    <tr>\n",
       "      <th>1</th>\n",
       "      <td>1.50</td>\n",
       "      <td>68.0</td>\n",
       "      <td>2.2500</td>\n",
       "      <td>30.222222</td>\n",
       "      <td>30.222222</td>\n",
       "      <td>30.222222</td>\n",
       "    </tr>\n",
       "    <tr>\n",
       "      <th>2</th>\n",
       "      <td>1.58</td>\n",
       "      <td>65.0</td>\n",
       "      <td>2.4964</td>\n",
       "      <td>26.037494</td>\n",
       "      <td>26.037494</td>\n",
       "      <td>26.037494</td>\n",
       "    </tr>\n",
       "    <tr>\n",
       "      <th>3</th>\n",
       "      <td>1.69</td>\n",
       "      <td>85.0</td>\n",
       "      <td>2.8561</td>\n",
       "      <td>29.760863</td>\n",
       "      <td>29.760863</td>\n",
       "      <td>29.760863</td>\n",
       "    </tr>\n",
       "    <tr>\n",
       "      <th>4</th>\n",
       "      <td>1.74</td>\n",
       "      <td>78.6</td>\n",
       "      <td>3.0276</td>\n",
       "      <td>25.961157</td>\n",
       "      <td>25.961157</td>\n",
       "      <td>25.961157</td>\n",
       "    </tr>\n",
       "    <tr>\n",
       "      <th>5</th>\n",
       "      <td>1.73</td>\n",
       "      <td>69.2</td>\n",
       "      <td>2.9929</td>\n",
       "      <td>23.121387</td>\n",
       "      <td>23.121387</td>\n",
       "      <td>23.121387</td>\n",
       "    </tr>\n",
       "  </tbody>\n",
       "</table>\n",
       "</div>"
      ],
      "text/plain": [
       "   altura  peso  altura_ao_quadrado        imc       imc2       imc3\n",
       "0    1.69  77.2              2.8561  27.029866  27.029866  27.029866\n",
       "1    1.50  68.0              2.2500  30.222222  30.222222  30.222222\n",
       "2    1.58  65.0              2.4964  26.037494  26.037494  26.037494\n",
       "3    1.69  85.0              2.8561  29.760863  29.760863  29.760863\n",
       "4    1.74  78.6              3.0276  25.961157  25.961157  25.961157\n",
       "5    1.73  69.2              2.9929  23.121387  23.121387  23.121387"
      ]
     },
     "execution_count": 7,
     "metadata": {},
     "output_type": "execute_result"
    }
   ],
   "source": [
    "# Another possibility using apply(): ~ it means, for each row, apply ...\n",
    "\n",
    "df['imc2'] = df.apply(lambda row: row['peso'] / (row['altura'] ** 2), axis=1) \n",
    "df"
   ]
  },
  {
   "cell_type": "code",
   "execution_count": 6,
   "id": "2fe4586a-c37a-4b58-ba4b-d8bd3886dd81",
   "metadata": {},
   "outputs": [
    {
     "data": {
      "text/html": [
       "<div>\n",
       "<style scoped>\n",
       "    .dataframe tbody tr th:only-of-type {\n",
       "        vertical-align: middle;\n",
       "    }\n",
       "\n",
       "    .dataframe tbody tr th {\n",
       "        vertical-align: top;\n",
       "    }\n",
       "\n",
       "    .dataframe thead th {\n",
       "        text-align: right;\n",
       "    }\n",
       "</style>\n",
       "<table border=\"1\" class=\"dataframe\">\n",
       "  <thead>\n",
       "    <tr style=\"text-align: right;\">\n",
       "      <th></th>\n",
       "      <th>altura</th>\n",
       "      <th>peso</th>\n",
       "      <th>altura_ao_quadrado</th>\n",
       "      <th>imc</th>\n",
       "      <th>imc2</th>\n",
       "      <th>imc3</th>\n",
       "    </tr>\n",
       "  </thead>\n",
       "  <tbody>\n",
       "    <tr>\n",
       "      <th>0</th>\n",
       "      <td>1.69</td>\n",
       "      <td>77.2</td>\n",
       "      <td>2.8561</td>\n",
       "      <td>27.029866</td>\n",
       "      <td>27.029866</td>\n",
       "      <td>27.029866</td>\n",
       "    </tr>\n",
       "    <tr>\n",
       "      <th>1</th>\n",
       "      <td>1.50</td>\n",
       "      <td>68.0</td>\n",
       "      <td>2.2500</td>\n",
       "      <td>30.222222</td>\n",
       "      <td>30.222222</td>\n",
       "      <td>30.222222</td>\n",
       "    </tr>\n",
       "    <tr>\n",
       "      <th>2</th>\n",
       "      <td>1.58</td>\n",
       "      <td>65.0</td>\n",
       "      <td>2.4964</td>\n",
       "      <td>26.037494</td>\n",
       "      <td>26.037494</td>\n",
       "      <td>26.037494</td>\n",
       "    </tr>\n",
       "    <tr>\n",
       "      <th>3</th>\n",
       "      <td>1.69</td>\n",
       "      <td>85.0</td>\n",
       "      <td>2.8561</td>\n",
       "      <td>29.760863</td>\n",
       "      <td>29.760863</td>\n",
       "      <td>29.760863</td>\n",
       "    </tr>\n",
       "    <tr>\n",
       "      <th>4</th>\n",
       "      <td>1.74</td>\n",
       "      <td>78.6</td>\n",
       "      <td>3.0276</td>\n",
       "      <td>25.961157</td>\n",
       "      <td>25.961157</td>\n",
       "      <td>25.961157</td>\n",
       "    </tr>\n",
       "    <tr>\n",
       "      <th>5</th>\n",
       "      <td>1.73</td>\n",
       "      <td>69.2</td>\n",
       "      <td>2.9929</td>\n",
       "      <td>23.121387</td>\n",
       "      <td>23.121387</td>\n",
       "      <td>23.121387</td>\n",
       "    </tr>\n",
       "  </tbody>\n",
       "</table>\n",
       "</div>"
      ],
      "text/plain": [
       "   altura  peso  altura_ao_quadrado        imc       imc2       imc3\n",
       "0    1.69  77.2              2.8561  27.029866  27.029866  27.029866\n",
       "1    1.50  68.0              2.2500  30.222222  30.222222  30.222222\n",
       "2    1.58  65.0              2.4964  26.037494  26.037494  26.037494\n",
       "3    1.69  85.0              2.8561  29.760863  29.760863  29.760863\n",
       "4    1.74  78.6              3.0276  25.961157  25.961157  25.961157\n",
       "5    1.73  69.2              2.9929  23.121387  23.121387  23.121387"
      ]
     },
     "execution_count": 6,
     "metadata": {},
     "output_type": "execute_result"
    }
   ],
   "source": [
    "# Another possibility using functions:\n",
    "\n",
    "def calc_imc(row):\n",
    "    return row['peso'] / (row['altura'] ** 2)\n",
    "\n",
    "# Aplicar a função usando apply\n",
    "df['imc3'] = df.apply(lambda row: calc_imc(row), axis=1)\n",
    "df"
   ]
  },
  {
   "cell_type": "markdown",
   "id": "d7dae3fc-a2f2-4068-8712-e478d0f6914a",
   "metadata": {},
   "source": [
    "---\n",
    "**Note:**\n",
    "\n",
    "The `axis` parameter in the Pandas `apply()` function is used to specify the direction along which the function will be applied. \n",
    "\n",
    "When `axis=1`, the function will be applied along the columns (i.e., for each row), while when `axis=0`, the function will be applied along the rows (i.e., for each column)."
   ]
  },
  {
   "cell_type": "markdown",
   "id": "3c04be58-a86e-4ac4-aa61-cab26230333d",
   "metadata": {},
   "source": [
    "<div style=\"background-color: lightgreen; padding: 10px;\">\n",
    "    <h2> ETL and missing values\n",
    "</div>"
   ]
  },
  {
   "cell_type": "markdown",
   "id": "0598c127-00b5-425f-bc6f-ec56d60ac390",
   "metadata": {},
   "source": [
    "It is very common in a ``dataset``, whether it comes from a database or a ``CSV`` file, to have ``null`` values (i.e., invalid or empty values).\n",
    "\n",
    "For analysis or modeling purposes, it is crucial to identify the occurrence of these values and make a decision, whether to **remove** the null values or replace them. We will see below how to do both.\n",
    "\n",
    "- Identifying Null Elements by Column: Identifying the number of null values per column is very important, as it helps us determine the most appropriate action."
   ]
  },
  {
   "cell_type": "code",
   "execution_count": 10,
   "id": "b5cc7ae7-50a0-44c2-a40c-c3b1d26decbd",
   "metadata": {},
   "outputs": [
    {
     "data": {
      "text/html": [
       "<div>\n",
       "<style scoped>\n",
       "    .dataframe tbody tr th:only-of-type {\n",
       "        vertical-align: middle;\n",
       "    }\n",
       "\n",
       "    .dataframe tbody tr th {\n",
       "        vertical-align: top;\n",
       "    }\n",
       "\n",
       "    .dataframe thead th {\n",
       "        text-align: right;\n",
       "    }\n",
       "</style>\n",
       "<table border=\"1\" class=\"dataframe\">\n",
       "  <thead>\n",
       "    <tr style=\"text-align: right;\">\n",
       "      <th></th>\n",
       "      <th>altura</th>\n",
       "      <th>peso</th>\n",
       "      <th>nomes</th>\n",
       "    </tr>\n",
       "  </thead>\n",
       "  <tbody>\n",
       "    <tr>\n",
       "      <th>b</th>\n",
       "      <td>a</td>\n",
       "      <td>77.2</td>\n",
       "      <td>Fulano</td>\n",
       "    </tr>\n",
       "    <tr>\n",
       "      <th>a</th>\n",
       "      <td>b</td>\n",
       "      <td>NaN</td>\n",
       "      <td>Sicrana</td>\n",
       "    </tr>\n",
       "    <tr>\n",
       "      <th>c</th>\n",
       "      <td>c</td>\n",
       "      <td>85.0</td>\n",
       "      <td>Beltrana</td>\n",
       "    </tr>\n",
       "    <tr>\n",
       "      <th>f</th>\n",
       "      <td>None</td>\n",
       "      <td>78.6</td>\n",
       "      <td>João</td>\n",
       "    </tr>\n",
       "  </tbody>\n",
       "</table>\n",
       "</div>"
      ],
      "text/plain": [
       "  altura  peso     nomes\n",
       "b      a  77.2    Fulano\n",
       "a      b   NaN   Sicrana\n",
       "c      c  85.0  Beltrana\n",
       "f   None  78.6      João"
      ]
     },
     "execution_count": 10,
     "metadata": {},
     "output_type": "execute_result"
    }
   ],
   "source": [
    "import pandas as pd\n",
    "import numpy as np\n",
    "\n",
    "data = {\n",
    "    'altura': ['a', 'b', 'c', None],\n",
    "    'peso': [77.2, np.nan, 85.0, 78.6],\n",
    "    'nomes': ['Fulano', 'Sicrana', 'Beltrana', 'João']\n",
    "}\n",
    "index = ['b', 'a', 'c', 'f']\n",
    "\n",
    "df = pd.DataFrame(data, index=index)\n",
    "df"
   ]
  },
  {
   "cell_type": "code",
   "execution_count": 11,
   "id": "90f6ab7e-ccb9-476d-8a67-fad503fa9d81",
   "metadata": {},
   "outputs": [
    {
     "data": {
      "text/plain": [
       "altura    1\n",
       "peso      1\n",
       "nomes     0\n",
       "dtype: int64"
      ]
     },
     "execution_count": 11,
     "metadata": {},
     "output_type": "execute_result"
    }
   ],
   "source": [
    "df.isna().sum()"
   ]
  },
  {
   "cell_type": "code",
   "execution_count": 12,
   "id": "ccc03c34-5135-40c4-a11f-65245e668dd1",
   "metadata": {},
   "outputs": [
    {
     "data": {
      "text/plain": [
       "altura    1\n",
       "peso      1\n",
       "nomes     0\n",
       "dtype: int64"
      ]
     },
     "execution_count": 12,
     "metadata": {},
     "output_type": "execute_result"
    }
   ],
   "source": [
    "df.isnull().sum()"
   ]
  },
  {
   "cell_type": "code",
   "execution_count": 14,
   "id": "cfe5919f-db88-4ec9-8891-014d2f048a7b",
   "metadata": {},
   "outputs": [
    {
     "data": {
      "text/html": [
       "<div>\n",
       "<style scoped>\n",
       "    .dataframe tbody tr th:only-of-type {\n",
       "        vertical-align: middle;\n",
       "    }\n",
       "\n",
       "    .dataframe tbody tr th {\n",
       "        vertical-align: top;\n",
       "    }\n",
       "\n",
       "    .dataframe thead th {\n",
       "        text-align: right;\n",
       "    }\n",
       "</style>\n",
       "<table border=\"1\" class=\"dataframe\">\n",
       "  <thead>\n",
       "    <tr style=\"text-align: right;\">\n",
       "      <th></th>\n",
       "      <th>altura</th>\n",
       "      <th>peso</th>\n",
       "      <th>nomes</th>\n",
       "    </tr>\n",
       "  </thead>\n",
       "  <tbody>\n",
       "    <tr>\n",
       "      <th>b</th>\n",
       "      <td>a</td>\n",
       "      <td>77.2</td>\n",
       "      <td>Fulano</td>\n",
       "    </tr>\n",
       "    <tr>\n",
       "      <th>c</th>\n",
       "      <td>c</td>\n",
       "      <td>85.0</td>\n",
       "      <td>Beltrana</td>\n",
       "    </tr>\n",
       "  </tbody>\n",
       "</table>\n",
       "</div>"
      ],
      "text/plain": [
       "  altura  peso     nomes\n",
       "b      a  77.2    Fulano\n",
       "c      c  85.0  Beltrana"
      ]
     },
     "execution_count": 14,
     "metadata": {},
     "output_type": "execute_result"
    }
   ],
   "source": [
    "df.dropna()"
   ]
  },
  {
   "cell_type": "markdown",
   "id": "f0e489d2-ea2c-453d-8ec4-ff30c5c5dc2e",
   "metadata": {},
   "source": [
    "---\n",
    "\n",
    "In other words, it **removed** all rows containing any null values.\n",
    "\n",
    "- Replacing Null Values: As we often do not want to reduce the size of our dataset, one approach is to replace these values (either with the mean, mode, etc.).\n",
    "\n",
    "To do this, we can use the ``fillna`` method, where the passed parameter will be the replacement value. In this example, we will replace the values with -1, but it could be any other value."
   ]
  },
  {
   "cell_type": "code",
   "execution_count": 15,
   "id": "8e553df0-f8d4-414f-aa47-0b302666963a",
   "metadata": {},
   "outputs": [
    {
     "data": {
      "text/html": [
       "<div>\n",
       "<style scoped>\n",
       "    .dataframe tbody tr th:only-of-type {\n",
       "        vertical-align: middle;\n",
       "    }\n",
       "\n",
       "    .dataframe tbody tr th {\n",
       "        vertical-align: top;\n",
       "    }\n",
       "\n",
       "    .dataframe thead th {\n",
       "        text-align: right;\n",
       "    }\n",
       "</style>\n",
       "<table border=\"1\" class=\"dataframe\">\n",
       "  <thead>\n",
       "    <tr style=\"text-align: right;\">\n",
       "      <th></th>\n",
       "      <th>altura</th>\n",
       "      <th>peso</th>\n",
       "      <th>nomes</th>\n",
       "    </tr>\n",
       "  </thead>\n",
       "  <tbody>\n",
       "    <tr>\n",
       "      <th>b</th>\n",
       "      <td>a</td>\n",
       "      <td>77.2</td>\n",
       "      <td>Fulano</td>\n",
       "    </tr>\n",
       "    <tr>\n",
       "      <th>a</th>\n",
       "      <td>b</td>\n",
       "      <td>NaN</td>\n",
       "      <td>Sicrana</td>\n",
       "    </tr>\n",
       "    <tr>\n",
       "      <th>c</th>\n",
       "      <td>c</td>\n",
       "      <td>85.0</td>\n",
       "      <td>Beltrana</td>\n",
       "    </tr>\n",
       "    <tr>\n",
       "      <th>f</th>\n",
       "      <td>None</td>\n",
       "      <td>78.6</td>\n",
       "      <td>João</td>\n",
       "    </tr>\n",
       "  </tbody>\n",
       "</table>\n",
       "</div>"
      ],
      "text/plain": [
       "  altura  peso     nomes\n",
       "b      a  77.2    Fulano\n",
       "a      b   NaN   Sicrana\n",
       "c      c  85.0  Beltrana\n",
       "f   None  78.6      João"
      ]
     },
     "execution_count": 15,
     "metadata": {},
     "output_type": "execute_result"
    }
   ],
   "source": [
    "df"
   ]
  },
  {
   "cell_type": "code",
   "execution_count": 16,
   "id": "ae122841-8a34-467f-8d01-5904fecd78a4",
   "metadata": {},
   "outputs": [
    {
     "data": {
      "text/html": [
       "<div>\n",
       "<style scoped>\n",
       "    .dataframe tbody tr th:only-of-type {\n",
       "        vertical-align: middle;\n",
       "    }\n",
       "\n",
       "    .dataframe tbody tr th {\n",
       "        vertical-align: top;\n",
       "    }\n",
       "\n",
       "    .dataframe thead th {\n",
       "        text-align: right;\n",
       "    }\n",
       "</style>\n",
       "<table border=\"1\" class=\"dataframe\">\n",
       "  <thead>\n",
       "    <tr style=\"text-align: right;\">\n",
       "      <th></th>\n",
       "      <th>altura</th>\n",
       "      <th>peso</th>\n",
       "      <th>nomes</th>\n",
       "    </tr>\n",
       "  </thead>\n",
       "  <tbody>\n",
       "    <tr>\n",
       "      <th>b</th>\n",
       "      <td>a</td>\n",
       "      <td>77.2</td>\n",
       "      <td>Fulano</td>\n",
       "    </tr>\n",
       "    <tr>\n",
       "      <th>a</th>\n",
       "      <td>b</td>\n",
       "      <td>-1.0</td>\n",
       "      <td>Sicrana</td>\n",
       "    </tr>\n",
       "    <tr>\n",
       "      <th>c</th>\n",
       "      <td>c</td>\n",
       "      <td>85.0</td>\n",
       "      <td>Beltrana</td>\n",
       "    </tr>\n",
       "    <tr>\n",
       "      <th>f</th>\n",
       "      <td>-1</td>\n",
       "      <td>78.6</td>\n",
       "      <td>João</td>\n",
       "    </tr>\n",
       "  </tbody>\n",
       "</table>\n",
       "</div>"
      ],
      "text/plain": [
       "  altura  peso     nomes\n",
       "b      a  77.2    Fulano\n",
       "a      b  -1.0   Sicrana\n",
       "c      c  85.0  Beltrana\n",
       "f     -1  78.6      João"
      ]
     },
     "execution_count": 16,
     "metadata": {},
     "output_type": "execute_result"
    }
   ],
   "source": [
    "df = df.fillna(-1)\n",
    "df"
   ]
  },
  {
   "cell_type": "code",
   "execution_count": 19,
   "id": "7d56a96c-5aeb-4ee5-b07e-48da489f6be4",
   "metadata": {},
   "outputs": [
    {
     "data": {
      "text/html": [
       "<div>\n",
       "<style scoped>\n",
       "    .dataframe tbody tr th:only-of-type {\n",
       "        vertical-align: middle;\n",
       "    }\n",
       "\n",
       "    .dataframe tbody tr th {\n",
       "        vertical-align: top;\n",
       "    }\n",
       "\n",
       "    .dataframe thead th {\n",
       "        text-align: right;\n",
       "    }\n",
       "</style>\n",
       "<table border=\"1\" class=\"dataframe\">\n",
       "  <thead>\n",
       "    <tr style=\"text-align: right;\">\n",
       "      <th></th>\n",
       "      <th>altura</th>\n",
       "      <th>peso</th>\n",
       "      <th>nomes</th>\n",
       "    </tr>\n",
       "  </thead>\n",
       "  <tbody>\n",
       "    <tr>\n",
       "      <th>b</th>\n",
       "      <td>a</td>\n",
       "      <td>77.2</td>\n",
       "      <td>Fulano</td>\n",
       "    </tr>\n",
       "    <tr>\n",
       "      <th>a</th>\n",
       "      <td>b</td>\n",
       "      <td>60.0</td>\n",
       "      <td>Sicrana</td>\n",
       "    </tr>\n",
       "    <tr>\n",
       "      <th>c</th>\n",
       "      <td>c</td>\n",
       "      <td>85.0</td>\n",
       "      <td>Beltrana</td>\n",
       "    </tr>\n",
       "    <tr>\n",
       "      <th>f</th>\n",
       "      <td>60</td>\n",
       "      <td>78.6</td>\n",
       "      <td>João</td>\n",
       "    </tr>\n",
       "  </tbody>\n",
       "</table>\n",
       "</div>"
      ],
      "text/plain": [
       "  altura  peso     nomes\n",
       "b      a  77.2    Fulano\n",
       "a      b  60.0   Sicrana\n",
       "c      c  85.0  Beltrana\n",
       "f     60  78.6      João"
      ]
     },
     "execution_count": 19,
     "metadata": {},
     "output_type": "execute_result"
    }
   ],
   "source": [
    "# another way:\n",
    "\n",
    "df.replace(-1, 60)"
   ]
  },
  {
   "cell_type": "markdown",
   "id": "4e838fb0-9711-4856-8ef8-b2a5f7d118b5",
   "metadata": {},
   "source": [
    "---\n",
    "The ``fillna()`` method replaces the NULL values with a specified value.\n",
    "\n",
    "The ``fillna()`` method returns a new DataFrame object unless the inplace parameter is set to True, in that case the fillna() method does the replacing in the original DataFrame instead."
   ]
  },
  {
   "cell_type": "markdown",
   "id": "97550f94-9af2-4c44-814e-42f7b4d13859",
   "metadata": {},
   "source": [
    "*Syntax:*\n",
    "``` python\n",
    "dataframe.fillna(value, method, axis, inplace, limit, downcast)"
   ]
  },
  {
   "cell_type": "code",
   "execution_count": 82,
   "id": "299c1280-264c-4479-ad8c-f8f427247784",
   "metadata": {},
   "outputs": [
    {
     "data": {
      "text/html": [
       "<div>\n",
       "<style scoped>\n",
       "    .dataframe tbody tr th:only-of-type {\n",
       "        vertical-align: middle;\n",
       "    }\n",
       "\n",
       "    .dataframe tbody tr th {\n",
       "        vertical-align: top;\n",
       "    }\n",
       "\n",
       "    .dataframe thead th {\n",
       "        text-align: right;\n",
       "    }\n",
       "</style>\n",
       "<table border=\"1\" class=\"dataframe\">\n",
       "  <thead>\n",
       "    <tr style=\"text-align: right;\">\n",
       "      <th></th>\n",
       "      <th>altura</th>\n",
       "      <th>peso</th>\n",
       "      <th>nomes</th>\n",
       "    </tr>\n",
       "  </thead>\n",
       "  <tbody>\n",
       "    <tr>\n",
       "      <th>b</th>\n",
       "      <td>171.0</td>\n",
       "      <td>77.2</td>\n",
       "      <td>Fulano</td>\n",
       "    </tr>\n",
       "    <tr>\n",
       "      <th>a</th>\n",
       "      <td>200.0</td>\n",
       "      <td>NaN</td>\n",
       "      <td>Sicrana</td>\n",
       "    </tr>\n",
       "    <tr>\n",
       "      <th>c</th>\n",
       "      <td>160.0</td>\n",
       "      <td>85.0</td>\n",
       "      <td>Beltrana</td>\n",
       "    </tr>\n",
       "    <tr>\n",
       "      <th>f</th>\n",
       "      <td>NaN</td>\n",
       "      <td>78.6</td>\n",
       "      <td>João</td>\n",
       "    </tr>\n",
       "  </tbody>\n",
       "</table>\n",
       "</div>"
      ],
      "text/plain": [
       "   altura  peso     nomes\n",
       "b   171.0  77.2    Fulano\n",
       "a   200.0   NaN   Sicrana\n",
       "c   160.0  85.0  Beltrana\n",
       "f     NaN  78.6      João"
      ]
     },
     "execution_count": 82,
     "metadata": {},
     "output_type": "execute_result"
    }
   ],
   "source": [
    "import pandas as pd\n",
    "import numpy as np\n",
    "\n",
    "data = {\n",
    "    'altura': [171, 200, 160, None],\n",
    "    'peso': [77.2, np.nan, 85.0, 78.6],\n",
    "    'nomes': ['Fulano', 'Sicrana', 'Beltrana', 'João']\n",
    "}\n",
    "index = ['b', 'a', 'c', 'f']\n",
    "\n",
    "df = pd.DataFrame(data, index=index)\n",
    "df"
   ]
  },
  {
   "cell_type": "code",
   "execution_count": 84,
   "id": "535cc655-3952-48bc-9efa-8d33f8b82f67",
   "metadata": {},
   "outputs": [
    {
     "name": "stderr",
     "output_type": "stream",
     "text": [
      "C:\\Users\\Andre\\AppData\\Local\\Temp\\ipykernel_11412\\983163164.py:1: FutureWarning: The default value of numeric_only in DataFrame.mean is deprecated. In a future version, it will default to False. In addition, specifying 'numeric_only=None' is deprecated. Select only valid columns or specify the value of numeric_only to silence this warning.\n",
      "  df = df.fillna(df.mean())\n"
     ]
    },
    {
     "data": {
      "text/html": [
       "<div>\n",
       "<style scoped>\n",
       "    .dataframe tbody tr th:only-of-type {\n",
       "        vertical-align: middle;\n",
       "    }\n",
       "\n",
       "    .dataframe tbody tr th {\n",
       "        vertical-align: top;\n",
       "    }\n",
       "\n",
       "    .dataframe thead th {\n",
       "        text-align: right;\n",
       "    }\n",
       "</style>\n",
       "<table border=\"1\" class=\"dataframe\">\n",
       "  <thead>\n",
       "    <tr style=\"text-align: right;\">\n",
       "      <th></th>\n",
       "      <th>altura</th>\n",
       "      <th>peso</th>\n",
       "      <th>nomes</th>\n",
       "    </tr>\n",
       "  </thead>\n",
       "  <tbody>\n",
       "    <tr>\n",
       "      <th>b</th>\n",
       "      <td>171.0</td>\n",
       "      <td>77.200000</td>\n",
       "      <td>Fulano</td>\n",
       "    </tr>\n",
       "    <tr>\n",
       "      <th>a</th>\n",
       "      <td>200.0</td>\n",
       "      <td>80.266667</td>\n",
       "      <td>Sicrana</td>\n",
       "    </tr>\n",
       "    <tr>\n",
       "      <th>c</th>\n",
       "      <td>160.0</td>\n",
       "      <td>85.000000</td>\n",
       "      <td>Beltrana</td>\n",
       "    </tr>\n",
       "    <tr>\n",
       "      <th>f</th>\n",
       "      <td>177.0</td>\n",
       "      <td>78.600000</td>\n",
       "      <td>João</td>\n",
       "    </tr>\n",
       "  </tbody>\n",
       "</table>\n",
       "</div>"
      ],
      "text/plain": [
       "   altura       peso     nomes\n",
       "b   171.0  77.200000    Fulano\n",
       "a   200.0  80.266667   Sicrana\n",
       "c   160.0  85.000000  Beltrana\n",
       "f   177.0  78.600000      João"
      ]
     },
     "execution_count": 84,
     "metadata": {},
     "output_type": "execute_result"
    }
   ],
   "source": [
    "df = df.fillna(df.mean())\n",
    "df"
   ]
  },
  {
   "cell_type": "markdown",
   "id": "f9efff2d-6eef-46d1-9869-9c2a5e09d80c",
   "metadata": {},
   "source": [
    "<div style=\"background-color: lightgreen; padding: 10px;\">\n",
    "    <h2>  Data exploration (EDA)\n",
    "</div>"
   ]
  },
  {
   "cell_type": "markdown",
   "id": "b8d5feee-6485-4e79-a20a-aa056e90399f",
   "metadata": {},
   "source": [
    "Python is a great language for doing ``data analysis``, primarily because of the fantastic ecosystem of data-centric Python packages. Pandas is one of those packages and makes importing and analyzing data much easier. \n",
    "\n",
    "We can leverage Pandas to assist in ``data exploration``. There are various methods to help us summarize data and calculate some descriptive statistics.\n",
    "\n",
    "As an example, we can calculate the ``mean`` of each column in a dataframe.\n",
    "\n",
    "Sources:\n",
    "- https://www.geeksforgeeks.org/python-pandas-dataframe-describe-method/\n",
    "- https://www.geeksforgeeks.org/adding-new-column-to-existing-dataframe-in-pandas/\n",
    "- https://www.geeksforgeeks.org/pandas-groupby/\n",
    "- https://www.geeksforgeeks.org/pandas-built-in-data-visualization-ml/"
   ]
  },
  {
   "cell_type": "code",
   "execution_count": 85,
   "id": "8c6f6a79-085f-4ed6-a0da-40d8c463a395",
   "metadata": {},
   "outputs": [
    {
     "data": {
      "text/html": [
       "<div>\n",
       "<style scoped>\n",
       "    .dataframe tbody tr th:only-of-type {\n",
       "        vertical-align: middle;\n",
       "    }\n",
       "\n",
       "    .dataframe tbody tr th {\n",
       "        vertical-align: top;\n",
       "    }\n",
       "\n",
       "    .dataframe thead th {\n",
       "        text-align: right;\n",
       "    }\n",
       "</style>\n",
       "<table border=\"1\" class=\"dataframe\">\n",
       "  <thead>\n",
       "    <tr style=\"text-align: right;\">\n",
       "      <th></th>\n",
       "      <th>altura</th>\n",
       "      <th>peso</th>\n",
       "    </tr>\n",
       "  </thead>\n",
       "  <tbody>\n",
       "    <tr>\n",
       "      <th>0</th>\n",
       "      <td>1.69</td>\n",
       "      <td>77.2</td>\n",
       "    </tr>\n",
       "    <tr>\n",
       "      <th>1</th>\n",
       "      <td>1.50</td>\n",
       "      <td>68.0</td>\n",
       "    </tr>\n",
       "    <tr>\n",
       "      <th>2</th>\n",
       "      <td>1.58</td>\n",
       "      <td>65.0</td>\n",
       "    </tr>\n",
       "    <tr>\n",
       "      <th>3</th>\n",
       "      <td>1.69</td>\n",
       "      <td>85.0</td>\n",
       "    </tr>\n",
       "    <tr>\n",
       "      <th>4</th>\n",
       "      <td>1.74</td>\n",
       "      <td>78.6</td>\n",
       "    </tr>\n",
       "    <tr>\n",
       "      <th>5</th>\n",
       "      <td>1.73</td>\n",
       "      <td>69.2</td>\n",
       "    </tr>\n",
       "  </tbody>\n",
       "</table>\n",
       "</div>"
      ],
      "text/plain": [
       "   altura  peso\n",
       "0    1.69  77.2\n",
       "1    1.50  68.0\n",
       "2    1.58  65.0\n",
       "3    1.69  85.0\n",
       "4    1.74  78.6\n",
       "5    1.73  69.2"
      ]
     },
     "execution_count": 85,
     "metadata": {},
     "output_type": "execute_result"
    }
   ],
   "source": [
    "data = {\n",
    "    'altura': [1.69, 1.50, 1.58, 1.69, 1.74, 1.73],\n",
    "    'peso': [77.2, 68.0, 65.0, 85.0, 78.6, 69.2]\n",
    "}\n",
    "df = pd.DataFrame(data)\n",
    "df"
   ]
  },
  {
   "cell_type": "code",
   "execution_count": 86,
   "id": "3935b0f9-f378-42d2-9de5-f00cfc5e554b",
   "metadata": {},
   "outputs": [
    {
     "data": {
      "text/plain": [
       "altura     1.655000\n",
       "peso      73.833333\n",
       "dtype: float64"
      ]
     },
     "execution_count": 86,
     "metadata": {},
     "output_type": "execute_result"
    }
   ],
   "source": [
    "df.mean()"
   ]
  },
  {
   "cell_type": "code",
   "execution_count": 87,
   "id": "e215f698-a2aa-4abc-ab46-7fff826e989f",
   "metadata": {},
   "outputs": [
    {
     "data": {
      "text/plain": [
       "altura     1.5\n",
       "peso      65.0\n",
       "dtype: float64"
      ]
     },
     "execution_count": 87,
     "metadata": {},
     "output_type": "execute_result"
    }
   ],
   "source": [
    "df.min()"
   ]
  },
  {
   "cell_type": "code",
   "execution_count": 88,
   "id": "34880d06-afe4-4c5c-b7da-13db82b4b548",
   "metadata": {},
   "outputs": [
    {
     "data": {
      "text/plain": [
       "altura     1.74\n",
       "peso      85.00\n",
       "dtype: float64"
      ]
     },
     "execution_count": 88,
     "metadata": {},
     "output_type": "execute_result"
    }
   ],
   "source": [
    "df.max()"
   ]
  },
  {
   "cell_type": "markdown",
   "id": "1203fd84-66ab-4e7a-9f37-b320fc54453f",
   "metadata": {},
   "source": [
    "---\n",
    "Pandas ``describe()`` is used to view some basic statistical details like percentile, mean, std, etc. of a data frame or a series of numeric values. When this method is applied to a series of strings, it returns a different output which is shown in the examples below:\n",
    "```\n",
    "count: Total Number of Non-Empty values\r\n",
    "mean: Mean of the column values\r\n",
    "std: Standard Deviation of the column values\r\n",
    "min: Minimum value from the column\r\n",
    "25%: 25 percentile\r\n",
    "50%: 50 percentile\r\n",
    "75%: 75 percentile\r\n",
    "max: Maximum value from the column"
   ]
  },
  {
   "cell_type": "code",
   "execution_count": 89,
   "id": "751aef09-2069-4112-b64e-17506cb4e3b8",
   "metadata": {},
   "outputs": [
    {
     "data": {
      "text/html": [
       "<div>\n",
       "<style scoped>\n",
       "    .dataframe tbody tr th:only-of-type {\n",
       "        vertical-align: middle;\n",
       "    }\n",
       "\n",
       "    .dataframe tbody tr th {\n",
       "        vertical-align: top;\n",
       "    }\n",
       "\n",
       "    .dataframe thead th {\n",
       "        text-align: right;\n",
       "    }\n",
       "</style>\n",
       "<table border=\"1\" class=\"dataframe\">\n",
       "  <thead>\n",
       "    <tr style=\"text-align: right;\">\n",
       "      <th></th>\n",
       "      <th>altura</th>\n",
       "      <th>peso</th>\n",
       "    </tr>\n",
       "  </thead>\n",
       "  <tbody>\n",
       "    <tr>\n",
       "      <th>count</th>\n",
       "      <td>6.000000</td>\n",
       "      <td>6.000000</td>\n",
       "    </tr>\n",
       "    <tr>\n",
       "      <th>mean</th>\n",
       "      <td>1.655000</td>\n",
       "      <td>73.833333</td>\n",
       "    </tr>\n",
       "    <tr>\n",
       "      <th>std</th>\n",
       "      <td>0.094816</td>\n",
       "      <td>7.645565</td>\n",
       "    </tr>\n",
       "    <tr>\n",
       "      <th>min</th>\n",
       "      <td>1.500000</td>\n",
       "      <td>65.000000</td>\n",
       "    </tr>\n",
       "    <tr>\n",
       "      <th>25%</th>\n",
       "      <td>1.607500</td>\n",
       "      <td>68.300000</td>\n",
       "    </tr>\n",
       "    <tr>\n",
       "      <th>50%</th>\n",
       "      <td>1.690000</td>\n",
       "      <td>73.200000</td>\n",
       "    </tr>\n",
       "    <tr>\n",
       "      <th>75%</th>\n",
       "      <td>1.720000</td>\n",
       "      <td>78.250000</td>\n",
       "    </tr>\n",
       "    <tr>\n",
       "      <th>max</th>\n",
       "      <td>1.740000</td>\n",
       "      <td>85.000000</td>\n",
       "    </tr>\n",
       "  </tbody>\n",
       "</table>\n",
       "</div>"
      ],
      "text/plain": [
       "         altura       peso\n",
       "count  6.000000   6.000000\n",
       "mean   1.655000  73.833333\n",
       "std    0.094816   7.645565\n",
       "min    1.500000  65.000000\n",
       "25%    1.607500  68.300000\n",
       "50%    1.690000  73.200000\n",
       "75%    1.720000  78.250000\n",
       "max    1.740000  85.000000"
      ]
     },
     "execution_count": 89,
     "metadata": {},
     "output_type": "execute_result"
    }
   ],
   "source": [
    "df.describe()"
   ]
  },
  {
   "cell_type": "markdown",
   "id": "a033ff77-ac18-494b-be52-f7e45f870133",
   "metadata": {},
   "source": [
    "---\n",
    "\n",
    "When conducting analyses on a dataset, it is very useful to know some behaviors separated by **groups**. \n",
    "\n",
    "For this, we use the `groupby` function associated with some aggregation function.\n",
    "\n",
    "``Groupby`` is a pretty simple concept. We can create a grouping of categories and apply a function to the categories. It’s a simple concept but it’s an extremely valuable technique that’s widely used in data science. In real data science projects, you’ll be dealing with large amounts of data and trying things over and over, so for efficiency, we use Groupby concept."
   ]
  },
  {
   "cell_type": "code",
   "execution_count": 90,
   "id": "df319de7-e31b-450d-a642-058224b693da",
   "metadata": {},
   "outputs": [
    {
     "data": {
      "text/html": [
       "<div>\n",
       "<style scoped>\n",
       "    .dataframe tbody tr th:only-of-type {\n",
       "        vertical-align: middle;\n",
       "    }\n",
       "\n",
       "    .dataframe tbody tr th {\n",
       "        vertical-align: top;\n",
       "    }\n",
       "\n",
       "    .dataframe thead th {\n",
       "        text-align: right;\n",
       "    }\n",
       "</style>\n",
       "<table border=\"1\" class=\"dataframe\">\n",
       "  <thead>\n",
       "    <tr style=\"text-align: right;\">\n",
       "      <th></th>\n",
       "      <th>categoria</th>\n",
       "      <th>valor_venda</th>\n",
       "    </tr>\n",
       "  </thead>\n",
       "  <tbody>\n",
       "    <tr>\n",
       "      <th>0</th>\n",
       "      <td>eletrônicos</td>\n",
       "      <td>1000</td>\n",
       "    </tr>\n",
       "    <tr>\n",
       "      <th>1</th>\n",
       "      <td>eletrônicos</td>\n",
       "      <td>1500</td>\n",
       "    </tr>\n",
       "    <tr>\n",
       "      <th>2</th>\n",
       "      <td>vestuário</td>\n",
       "      <td>800</td>\n",
       "    </tr>\n",
       "    <tr>\n",
       "      <th>3</th>\n",
       "      <td>vestuário</td>\n",
       "      <td>1200</td>\n",
       "    </tr>\n",
       "    <tr>\n",
       "      <th>4</th>\n",
       "      <td>acessórios</td>\n",
       "      <td>500</td>\n",
       "    </tr>\n",
       "  </tbody>\n",
       "</table>\n",
       "</div>"
      ],
      "text/plain": [
       "     categoria  valor_venda\n",
       "0  eletrônicos         1000\n",
       "1  eletrônicos         1500\n",
       "2    vestuário          800\n",
       "3    vestuário         1200\n",
       "4   acessórios          500"
      ]
     },
     "execution_count": 90,
     "metadata": {},
     "output_type": "execute_result"
    }
   ],
   "source": [
    "data = {\n",
    "    'categoria': ['eletrônicos', 'eletrônicos', 'vestuário', 'vestuário', 'acessórios'],\n",
    "    'valor_venda': [1000, 1500, 800, 1200, 500]\n",
    "}\n",
    "df_vendas = pd.DataFrame(data)\n",
    "df_vendas"
   ]
  },
  {
   "cell_type": "code",
   "execution_count": 92,
   "id": "ec29d314-6bba-41aa-84c1-e1051f1a5e4a",
   "metadata": {},
   "outputs": [
    {
     "data": {
      "text/html": [
       "<div>\n",
       "<style scoped>\n",
       "    .dataframe tbody tr th:only-of-type {\n",
       "        vertical-align: middle;\n",
       "    }\n",
       "\n",
       "    .dataframe tbody tr th {\n",
       "        vertical-align: top;\n",
       "    }\n",
       "\n",
       "    .dataframe thead th {\n",
       "        text-align: right;\n",
       "    }\n",
       "</style>\n",
       "<table border=\"1\" class=\"dataframe\">\n",
       "  <thead>\n",
       "    <tr style=\"text-align: right;\">\n",
       "      <th></th>\n",
       "      <th>valor_venda</th>\n",
       "    </tr>\n",
       "    <tr>\n",
       "      <th>categoria</th>\n",
       "      <th></th>\n",
       "    </tr>\n",
       "  </thead>\n",
       "  <tbody>\n",
       "    <tr>\n",
       "      <th>acessórios</th>\n",
       "      <td>500</td>\n",
       "    </tr>\n",
       "    <tr>\n",
       "      <th>eletrônicos</th>\n",
       "      <td>2500</td>\n",
       "    </tr>\n",
       "    <tr>\n",
       "      <th>vestuário</th>\n",
       "      <td>2000</td>\n",
       "    </tr>\n",
       "  </tbody>\n",
       "</table>\n",
       "</div>"
      ],
      "text/plain": [
       "             valor_venda\n",
       "categoria               \n",
       "acessórios           500\n",
       "eletrônicos         2500\n",
       "vestuário           2000"
      ]
     },
     "execution_count": 92,
     "metadata": {},
     "output_type": "execute_result"
    }
   ],
   "source": [
    "df_vendas.groupby('categoria').sum()"
   ]
  },
  {
   "cell_type": "code",
   "execution_count": 93,
   "id": "13185a05-86b7-4315-847d-dccaf348887d",
   "metadata": {},
   "outputs": [
    {
     "data": {
      "text/html": [
       "<div>\n",
       "<style scoped>\n",
       "    .dataframe tbody tr th:only-of-type {\n",
       "        vertical-align: middle;\n",
       "    }\n",
       "\n",
       "    .dataframe tbody tr th {\n",
       "        vertical-align: top;\n",
       "    }\n",
       "\n",
       "    .dataframe thead th {\n",
       "        text-align: right;\n",
       "    }\n",
       "</style>\n",
       "<table border=\"1\" class=\"dataframe\">\n",
       "  <thead>\n",
       "    <tr style=\"text-align: right;\">\n",
       "      <th></th>\n",
       "      <th>valor_venda</th>\n",
       "    </tr>\n",
       "    <tr>\n",
       "      <th>categoria</th>\n",
       "      <th></th>\n",
       "    </tr>\n",
       "  </thead>\n",
       "  <tbody>\n",
       "    <tr>\n",
       "      <th>acessórios</th>\n",
       "      <td>500.0</td>\n",
       "    </tr>\n",
       "    <tr>\n",
       "      <th>eletrônicos</th>\n",
       "      <td>1250.0</td>\n",
       "    </tr>\n",
       "    <tr>\n",
       "      <th>vestuário</th>\n",
       "      <td>1000.0</td>\n",
       "    </tr>\n",
       "  </tbody>\n",
       "</table>\n",
       "</div>"
      ],
      "text/plain": [
       "             valor_venda\n",
       "categoria               \n",
       "acessórios         500.0\n",
       "eletrônicos       1250.0\n",
       "vestuário         1000.0"
      ]
     },
     "execution_count": 93,
     "metadata": {},
     "output_type": "execute_result"
    }
   ],
   "source": [
    "df_vendas.groupby('categoria').mean()"
   ]
  },
  {
   "cell_type": "markdown",
   "id": "317a441c-e259-4b18-93ea-4837484c4541",
   "metadata": {},
   "source": [
    "---"
   ]
  },
  {
   "cell_type": "code",
   "execution_count": 94,
   "id": "f3e0b101-8492-4bd0-b0e5-9e19d4a40df6",
   "metadata": {},
   "outputs": [
    {
     "data": {
      "text/html": [
       "<div>\n",
       "<style scoped>\n",
       "    .dataframe tbody tr th:only-of-type {\n",
       "        vertical-align: middle;\n",
       "    }\n",
       "\n",
       "    .dataframe tbody tr th {\n",
       "        vertical-align: top;\n",
       "    }\n",
       "\n",
       "    .dataframe thead th {\n",
       "        text-align: right;\n",
       "    }\n",
       "</style>\n",
       "<table border=\"1\" class=\"dataframe\">\n",
       "  <thead>\n",
       "    <tr style=\"text-align: right;\">\n",
       "      <th></th>\n",
       "      <th>altura</th>\n",
       "      <th>peso</th>\n",
       "      <th>genero</th>\n",
       "      <th>carioca</th>\n",
       "    </tr>\n",
       "  </thead>\n",
       "  <tbody>\n",
       "    <tr>\n",
       "      <th>0</th>\n",
       "      <td>1.69</td>\n",
       "      <td>77.2</td>\n",
       "      <td>0.0</td>\n",
       "      <td>1</td>\n",
       "    </tr>\n",
       "    <tr>\n",
       "      <th>1</th>\n",
       "      <td>1.50</td>\n",
       "      <td>68.0</td>\n",
       "      <td>0.0</td>\n",
       "      <td>0</td>\n",
       "    </tr>\n",
       "    <tr>\n",
       "      <th>2</th>\n",
       "      <td>1.58</td>\n",
       "      <td>65.0</td>\n",
       "      <td>0.0</td>\n",
       "      <td>1</td>\n",
       "    </tr>\n",
       "    <tr>\n",
       "      <th>3</th>\n",
       "      <td>1.69</td>\n",
       "      <td>85.0</td>\n",
       "      <td>1.0</td>\n",
       "      <td>0</td>\n",
       "    </tr>\n",
       "    <tr>\n",
       "      <th>4</th>\n",
       "      <td>1.74</td>\n",
       "      <td>78.6</td>\n",
       "      <td>1.0</td>\n",
       "      <td>1</td>\n",
       "    </tr>\n",
       "    <tr>\n",
       "      <th>5</th>\n",
       "      <td>1.73</td>\n",
       "      <td>69.2</td>\n",
       "      <td>1.0</td>\n",
       "      <td>0</td>\n",
       "    </tr>\n",
       "  </tbody>\n",
       "</table>\n",
       "</div>"
      ],
      "text/plain": [
       "   altura  peso  genero  carioca\n",
       "0    1.69  77.2     0.0        1\n",
       "1    1.50  68.0     0.0        0\n",
       "2    1.58  65.0     0.0        1\n",
       "3    1.69  85.0     1.0        0\n",
       "4    1.74  78.6     1.0        1\n",
       "5    1.73  69.2     1.0        0"
      ]
     },
     "execution_count": 94,
     "metadata": {},
     "output_type": "execute_result"
    }
   ],
   "source": [
    "# Another example:\n",
    "\n",
    "data = {\n",
    "    'altura': [1.69, 1.50, 1.58, 1.69, 1.74, 1.73],\n",
    "    'peso': [77.2, 68.0, 65.0, 85.0, 78.6, 69.2],\n",
    "    'genero': [0.0, 0.0, 0.0, 1.0, 1.0, 1.0],\n",
    "    'carioca': [1, 0, 1, 0, 1, 0]\n",
    "}\n",
    "\n",
    "df = pd.DataFrame(data)\n",
    "df"
   ]
  },
  {
   "cell_type": "code",
   "execution_count": 95,
   "id": "b81565b9-c8c1-4ce2-a90e-8d5721fe913b",
   "metadata": {},
   "outputs": [
    {
     "data": {
      "text/html": [
       "<div>\n",
       "<style scoped>\n",
       "    .dataframe tbody tr th:only-of-type {\n",
       "        vertical-align: middle;\n",
       "    }\n",
       "\n",
       "    .dataframe tbody tr th {\n",
       "        vertical-align: top;\n",
       "    }\n",
       "\n",
       "    .dataframe thead th {\n",
       "        text-align: right;\n",
       "    }\n",
       "</style>\n",
       "<table border=\"1\" class=\"dataframe\">\n",
       "  <thead>\n",
       "    <tr style=\"text-align: right;\">\n",
       "      <th></th>\n",
       "      <th>altura</th>\n",
       "      <th>peso</th>\n",
       "      <th>genero</th>\n",
       "      <th>carioca</th>\n",
       "    </tr>\n",
       "  </thead>\n",
       "  <tbody>\n",
       "    <tr>\n",
       "      <th>count</th>\n",
       "      <td>6.000000</td>\n",
       "      <td>6.000000</td>\n",
       "      <td>6.000000</td>\n",
       "      <td>6.000000</td>\n",
       "    </tr>\n",
       "    <tr>\n",
       "      <th>mean</th>\n",
       "      <td>1.655000</td>\n",
       "      <td>73.833333</td>\n",
       "      <td>0.500000</td>\n",
       "      <td>0.500000</td>\n",
       "    </tr>\n",
       "    <tr>\n",
       "      <th>std</th>\n",
       "      <td>0.094816</td>\n",
       "      <td>7.645565</td>\n",
       "      <td>0.547723</td>\n",
       "      <td>0.547723</td>\n",
       "    </tr>\n",
       "    <tr>\n",
       "      <th>min</th>\n",
       "      <td>1.500000</td>\n",
       "      <td>65.000000</td>\n",
       "      <td>0.000000</td>\n",
       "      <td>0.000000</td>\n",
       "    </tr>\n",
       "    <tr>\n",
       "      <th>25%</th>\n",
       "      <td>1.607500</td>\n",
       "      <td>68.300000</td>\n",
       "      <td>0.000000</td>\n",
       "      <td>0.000000</td>\n",
       "    </tr>\n",
       "    <tr>\n",
       "      <th>50%</th>\n",
       "      <td>1.690000</td>\n",
       "      <td>73.200000</td>\n",
       "      <td>0.500000</td>\n",
       "      <td>0.500000</td>\n",
       "    </tr>\n",
       "    <tr>\n",
       "      <th>75%</th>\n",
       "      <td>1.720000</td>\n",
       "      <td>78.250000</td>\n",
       "      <td>1.000000</td>\n",
       "      <td>1.000000</td>\n",
       "    </tr>\n",
       "    <tr>\n",
       "      <th>max</th>\n",
       "      <td>1.740000</td>\n",
       "      <td>85.000000</td>\n",
       "      <td>1.000000</td>\n",
       "      <td>1.000000</td>\n",
       "    </tr>\n",
       "  </tbody>\n",
       "</table>\n",
       "</div>"
      ],
      "text/plain": [
       "         altura       peso    genero   carioca\n",
       "count  6.000000   6.000000  6.000000  6.000000\n",
       "mean   1.655000  73.833333  0.500000  0.500000\n",
       "std    0.094816   7.645565  0.547723  0.547723\n",
       "min    1.500000  65.000000  0.000000  0.000000\n",
       "25%    1.607500  68.300000  0.000000  0.000000\n",
       "50%    1.690000  73.200000  0.500000  0.500000\n",
       "75%    1.720000  78.250000  1.000000  1.000000\n",
       "max    1.740000  85.000000  1.000000  1.000000"
      ]
     },
     "execution_count": 95,
     "metadata": {},
     "output_type": "execute_result"
    }
   ],
   "source": [
    "df.describe()"
   ]
  },
  {
   "cell_type": "code",
   "execution_count": 96,
   "id": "fddff9b8-2f98-4691-b071-c00624bf74ef",
   "metadata": {},
   "outputs": [
    {
     "data": {
      "text/html": [
       "<div>\n",
       "<style scoped>\n",
       "    .dataframe tbody tr th:only-of-type {\n",
       "        vertical-align: middle;\n",
       "    }\n",
       "\n",
       "    .dataframe tbody tr th {\n",
       "        vertical-align: top;\n",
       "    }\n",
       "\n",
       "    .dataframe thead th {\n",
       "        text-align: right;\n",
       "    }\n",
       "</style>\n",
       "<table border=\"1\" class=\"dataframe\">\n",
       "  <thead>\n",
       "    <tr style=\"text-align: right;\">\n",
       "      <th></th>\n",
       "      <th>altura</th>\n",
       "      <th>peso</th>\n",
       "    </tr>\n",
       "    <tr>\n",
       "      <th>genero</th>\n",
       "      <th></th>\n",
       "      <th></th>\n",
       "    </tr>\n",
       "  </thead>\n",
       "  <tbody>\n",
       "    <tr>\n",
       "      <th>0.0</th>\n",
       "      <td>1.59</td>\n",
       "      <td>70.066667</td>\n",
       "    </tr>\n",
       "    <tr>\n",
       "      <th>1.0</th>\n",
       "      <td>1.72</td>\n",
       "      <td>77.600000</td>\n",
       "    </tr>\n",
       "  </tbody>\n",
       "</table>\n",
       "</div>"
      ],
      "text/plain": [
       "        altura       peso\n",
       "genero                   \n",
       "0.0       1.59  70.066667\n",
       "1.0       1.72  77.600000"
      ]
     },
     "execution_count": 96,
     "metadata": {},
     "output_type": "execute_result"
    }
   ],
   "source": [
    "df[['genero', 'altura', 'peso']].groupby('genero').mean()"
   ]
  },
  {
   "cell_type": "code",
   "execution_count": 97,
   "id": "07de1f32-96c0-4939-b95b-68608ff6e3ea",
   "metadata": {},
   "outputs": [
    {
     "data": {
      "text/html": [
       "<div>\n",
       "<style scoped>\n",
       "    .dataframe tbody tr th:only-of-type {\n",
       "        vertical-align: middle;\n",
       "    }\n",
       "\n",
       "    .dataframe tbody tr th {\n",
       "        vertical-align: top;\n",
       "    }\n",
       "\n",
       "    .dataframe thead th {\n",
       "        text-align: right;\n",
       "    }\n",
       "</style>\n",
       "<table border=\"1\" class=\"dataframe\">\n",
       "  <thead>\n",
       "    <tr style=\"text-align: right;\">\n",
       "      <th></th>\n",
       "      <th>altura</th>\n",
       "      <th>peso</th>\n",
       "    </tr>\n",
       "    <tr>\n",
       "      <th>carioca</th>\n",
       "      <th></th>\n",
       "      <th></th>\n",
       "    </tr>\n",
       "  </thead>\n",
       "  <tbody>\n",
       "    <tr>\n",
       "      <th>0</th>\n",
       "      <td>1.64</td>\n",
       "      <td>74.066667</td>\n",
       "    </tr>\n",
       "    <tr>\n",
       "      <th>1</th>\n",
       "      <td>1.67</td>\n",
       "      <td>73.600000</td>\n",
       "    </tr>\n",
       "  </tbody>\n",
       "</table>\n",
       "</div>"
      ],
      "text/plain": [
       "         altura       peso\n",
       "carioca                   \n",
       "0          1.64  74.066667\n",
       "1          1.67  73.600000"
      ]
     },
     "execution_count": 97,
     "metadata": {},
     "output_type": "execute_result"
    }
   ],
   "source": [
    "df[['carioca', 'altura', 'peso']].groupby('carioca').mean()"
   ]
  },
  {
   "cell_type": "code",
   "execution_count": 98,
   "id": "760953de-05d0-4a1c-8f17-bfaee884d305",
   "metadata": {},
   "outputs": [
    {
     "data": {
      "text/html": [
       "<div>\n",
       "<style scoped>\n",
       "    .dataframe tbody tr th:only-of-type {\n",
       "        vertical-align: middle;\n",
       "    }\n",
       "\n",
       "    .dataframe tbody tr th {\n",
       "        vertical-align: top;\n",
       "    }\n",
       "\n",
       "    .dataframe thead th {\n",
       "        text-align: right;\n",
       "    }\n",
       "</style>\n",
       "<table border=\"1\" class=\"dataframe\">\n",
       "  <thead>\n",
       "    <tr style=\"text-align: right;\">\n",
       "      <th></th>\n",
       "      <th></th>\n",
       "      <th>altura</th>\n",
       "      <th>peso</th>\n",
       "    </tr>\n",
       "    <tr>\n",
       "      <th>genero</th>\n",
       "      <th>carioca</th>\n",
       "      <th></th>\n",
       "      <th></th>\n",
       "    </tr>\n",
       "  </thead>\n",
       "  <tbody>\n",
       "    <tr>\n",
       "      <th rowspan=\"2\" valign=\"top\">0.0</th>\n",
       "      <th>0</th>\n",
       "      <td>1.500</td>\n",
       "      <td>68.0</td>\n",
       "    </tr>\n",
       "    <tr>\n",
       "      <th>1</th>\n",
       "      <td>1.635</td>\n",
       "      <td>71.1</td>\n",
       "    </tr>\n",
       "    <tr>\n",
       "      <th rowspan=\"2\" valign=\"top\">1.0</th>\n",
       "      <th>0</th>\n",
       "      <td>1.710</td>\n",
       "      <td>77.1</td>\n",
       "    </tr>\n",
       "    <tr>\n",
       "      <th>1</th>\n",
       "      <td>1.740</td>\n",
       "      <td>78.6</td>\n",
       "    </tr>\n",
       "  </tbody>\n",
       "</table>\n",
       "</div>"
      ],
      "text/plain": [
       "                altura  peso\n",
       "genero carioca              \n",
       "0.0    0         1.500  68.0\n",
       "       1         1.635  71.1\n",
       "1.0    0         1.710  77.1\n",
       "       1         1.740  78.6"
      ]
     },
     "execution_count": 98,
     "metadata": {},
     "output_type": "execute_result"
    }
   ],
   "source": [
    "df.groupby(['genero', 'carioca']).mean()"
   ]
  },
  {
   "cell_type": "code",
   "execution_count": 99,
   "id": "3123afca-da21-4c9d-a91d-213c33d82df5",
   "metadata": {},
   "outputs": [
    {
     "data": {
      "text/html": [
       "<div>\n",
       "<style scoped>\n",
       "    .dataframe tbody tr th:only-of-type {\n",
       "        vertical-align: middle;\n",
       "    }\n",
       "\n",
       "    .dataframe tbody tr th {\n",
       "        vertical-align: top;\n",
       "    }\n",
       "\n",
       "    .dataframe thead th {\n",
       "        text-align: right;\n",
       "    }\n",
       "</style>\n",
       "<table border=\"1\" class=\"dataframe\">\n",
       "  <thead>\n",
       "    <tr style=\"text-align: right;\">\n",
       "      <th>carioca</th>\n",
       "      <th>0</th>\n",
       "      <th>1</th>\n",
       "    </tr>\n",
       "    <tr>\n",
       "      <th>genero</th>\n",
       "      <th></th>\n",
       "      <th></th>\n",
       "    </tr>\n",
       "  </thead>\n",
       "  <tbody>\n",
       "    <tr>\n",
       "      <th>0.0</th>\n",
       "      <td>68.0</td>\n",
       "      <td>71.1</td>\n",
       "    </tr>\n",
       "    <tr>\n",
       "      <th>1.0</th>\n",
       "      <td>77.1</td>\n",
       "      <td>78.6</td>\n",
       "    </tr>\n",
       "  </tbody>\n",
       "</table>\n",
       "</div>"
      ],
      "text/plain": [
       "carioca     0     1\n",
       "genero             \n",
       "0.0      68.0  71.1\n",
       "1.0      77.1  78.6"
      ]
     },
     "execution_count": 99,
     "metadata": {},
     "output_type": "execute_result"
    }
   ],
   "source": [
    "df.pivot_table(index = 'genero', columns = 'carioca', values = 'peso', aggfunc = np.mean)"
   ]
  },
  {
   "cell_type": "code",
   "execution_count": 100,
   "id": "896d0f97-f1ee-4efb-9df6-f3646bc5bae7",
   "metadata": {},
   "outputs": [
    {
     "data": {
      "text/html": [
       "<div>\n",
       "<style scoped>\n",
       "    .dataframe tbody tr th:only-of-type {\n",
       "        vertical-align: middle;\n",
       "    }\n",
       "\n",
       "    .dataframe tbody tr th {\n",
       "        vertical-align: top;\n",
       "    }\n",
       "\n",
       "    .dataframe thead th {\n",
       "        text-align: right;\n",
       "    }\n",
       "</style>\n",
       "<table border=\"1\" class=\"dataframe\">\n",
       "  <thead>\n",
       "    <tr style=\"text-align: right;\">\n",
       "      <th>carioca</th>\n",
       "      <th>0</th>\n",
       "      <th>1</th>\n",
       "    </tr>\n",
       "    <tr>\n",
       "      <th>genero</th>\n",
       "      <th></th>\n",
       "      <th></th>\n",
       "    </tr>\n",
       "  </thead>\n",
       "  <tbody>\n",
       "    <tr>\n",
       "      <th>0.0</th>\n",
       "      <td>1.50</td>\n",
       "      <td>1.635</td>\n",
       "    </tr>\n",
       "    <tr>\n",
       "      <th>1.0</th>\n",
       "      <td>1.71</td>\n",
       "      <td>1.740</td>\n",
       "    </tr>\n",
       "  </tbody>\n",
       "</table>\n",
       "</div>"
      ],
      "text/plain": [
       "carioca     0      1\n",
       "genero              \n",
       "0.0      1.50  1.635\n",
       "1.0      1.71  1.740"
      ]
     },
     "execution_count": 100,
     "metadata": {},
     "output_type": "execute_result"
    }
   ],
   "source": [
    "df.pivot_table(index = 'genero', columns = 'carioca', values = 'altura', aggfunc = np.mean)"
   ]
  },
  {
   "cell_type": "markdown",
   "id": "ecf6fd40-0df2-4c33-a325-868eddd004e2",
   "metadata": {},
   "source": [
    "<div style=\"background-color: lightgreen; padding: 10px;\">\n",
    "    <h2>  Exercices:\n",
    "</div>"
   ]
  },
  {
   "cell_type": "markdown",
   "id": "b5ff7e96-78da-4986-a820-e6ad103c8cd6",
   "metadata": {},
   "source": [
    "---\n",
    "\n",
    "#### <font color=\"blue\">Exercice 1</font>\n",
    "\n",
    "A supermarket wants to analyze the sales performance of products in different regions. They have the following sales record that contains information about the product, the quantity sold, and the region where it was sold. Create a DataFrame with this data and filter it to show only the sales made in the 'Southeast' region.\n",
    "\n",
    "Product: shirt <br>\n",
    "100 sales for the Southeast region.\n",
    "\n",
    "Product: pants<br>\n",
    "150 sales for the Northeast region.\n",
    "\n",
    "Product: sneakers<br>\n",
    "80 sales for the Southeast region.\n",
    "\n",
    "Product: cap<br>\n",
    "120 sales for the North region.\n",
    "\n",
    "Product: backpack<br>\n",
    "90 sales for the Southeast region."
   ]
  },
  {
   "cell_type": "code",
   "execution_count": null,
   "id": "6f4f4ca7-011a-42c1-b946-84fe19ca1095",
   "metadata": {},
   "outputs": [],
   "source": []
  },
  {
   "cell_type": "markdown",
   "id": "39e50688-f080-4e88-83fb-b612f2a09985",
   "metadata": {},
   "source": [
    "---\n",
    "\n",
    "#### <font color=\"blue\">Exercice 2</font>\n",
    "\n",
    "An e-commerce company is interested in understanding the buying behavior of customers. They have the following transaction record that contains information about the purchase amount and the payment method used. Create a DataFrame with this data and calculate basic statistics such as mean, median, minimum, and maximum for each column."
   ]
  },
  {
   "cell_type": "code",
   "execution_count": 101,
   "id": "e8a7ff84-0e9a-49fe-a3e0-165c8b3a7070",
   "metadata": {},
   "outputs": [],
   "source": [
    "dados = {\n",
    "    'valor_compra': [100.0, 150.5, 80.3, 120.8, 90.2],\n",
    "    'metodo_pagamento': ['Cartão', 'Boleto', 'Cartão', 'Cartão', 'Boleto']\n",
    "}"
   ]
  },
  {
   "cell_type": "code",
   "execution_count": null,
   "id": "478b06d2-d913-4857-9610-b874bc0ef454",
   "metadata": {},
   "outputs": [],
   "source": []
  },
  {
   "cell_type": "markdown",
   "id": "b2513b3c-a2de-4b11-b42e-9f842c3f59c1",
   "metadata": {},
   "source": [
    "---\n",
    "\n",
    "#### <font color=\"blue\">Exercice 3</font>\n",
    "\n",
    "A research institute collected data on the academic performance of students in different subjects. They have a record of student grades that contains information about the student's name, the subject, the obtained grade, and the difficulty level of the subject. Create a DataFrame with this data and group it by subject to calculate the average grades obtained by students. Then, create a new column indicating whether the student's grade is above or below the subject's average (try using the apply function)."
   ]
  },
  {
   "cell_type": "code",
   "execution_count": 102,
   "id": "3dd0179b-71d8-4270-ab67-7bc8be6877bd",
   "metadata": {},
   "outputs": [],
   "source": [
    "dados = {\n",
    "    'aluno': ['Ana', 'João', 'Maria', 'Pedro', 'Carla'],\n",
    "    'disciplina': ['Matemática', 'Português', 'Matemática', 'Português', 'Ciências'],\n",
    "    'nota': [8, 7, 6, 9, 8],\n",
    "    'dificuldade': ['Alta', 'Baixa', 'Alta', 'Baixa', 'Média']\n",
    "}"
   ]
  },
  {
   "cell_type": "code",
   "execution_count": null,
   "id": "ab33a4d9-958a-412b-9159-c4f7587f99e4",
   "metadata": {},
   "outputs": [],
   "source": []
  }
 ],
 "metadata": {
  "kernelspec": {
   "display_name": "Python 3 (ipykernel)",
   "language": "python",
   "name": "python3"
  },
  "language_info": {
   "codemirror_mode": {
    "name": "ipython",
    "version": 3
   },
   "file_extension": ".py",
   "mimetype": "text/x-python",
   "name": "python",
   "nbconvert_exporter": "python",
   "pygments_lexer": "ipython3",
   "version": "3.11.5"
  }
 },
 "nbformat": 4,
 "nbformat_minor": 5
}
